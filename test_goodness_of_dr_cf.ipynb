{
 "cells": [
  {
   "cell_type": "code",
   "execution_count": 1,
   "id": "83702d9d",
   "metadata": {},
   "outputs": [],
   "source": [
    "num_sample = 300\n",
    "num_burn = 20\n",
    "sample_size = 800\n",
    "n_cpu = 10\n",
    "\n",
    "min_degree = 1\n",
    "max_degree = 1"
   ]
  },
  {
   "cell_type": "code",
   "execution_count": 2,
   "id": "3db3f7c7",
   "metadata": {},
   "outputs": [
    {
     "name": "stdout",
     "output_type": "stream",
     "text": [
      "1 9\n"
     ]
    },
    {
     "name": "stderr",
     "output_type": "stream",
     "text": [
      "100%|██████████| 320/320 [00:00<00:00, 405.41it/s]\n"
     ]
    },
    {
     "data": {
      "text/plain": [
       "(0.6279311431977952,\n",
       " 0.35402500000000003,\n",
       " 0.4556375,\n",
       " 0.33663945218091595,\n",
       " 0.380307566673866)"
      ]
     },
     "execution_count": 2,
     "metadata": {},
     "output_type": "execute_result"
    }
   ],
   "source": [
    "from dgp import sample_network_chain, get_graph, sample_Y1, sample_Y2, agcEffect\n",
    "import numpy as np\n",
    "\n",
    "# 1. Simulate or load data\n",
    "adj1 = get_graph(sample_size, min_degree, max_degree, seed=1)\n",
    "print(adj1.sum(axis=1).min(), adj1.sum(axis=1).max())\n",
    "adj1 = np.zeros_like(adj1)\n",
    "\n",
    "tau = np.array([-1.0, 0.50, -0.50])       # shape (3,)\n",
    "rho = np.array([[0,0.1,0.2],\n",
    "                [0.1,0,0.1],\n",
    "                [0.2,0.1,0]])      # shape (3, 3), with 0s on the diagonal\n",
    "nu = np.array([0.1,0,0,0.1,0,0,0.1,0,0]).reshape(3,3)       # shape (3, 3)\n",
    "gamma = np.array([-1,2,0.1,-2,0.1,2,0.1,0.1])    # shape (8,)   \n",
    "beta = np.array([-1,2,0.1,2,0.1,-2,0.1,2,0.1,0.1])\n",
    "\n",
    "Y_chain, A_chain, L_chain = sample_network_chain(adj1, tau, rho, nu, gamma, beta, R=num_sample,\n",
    "    burnin_R=num_burn, seed=0, sample_Y_func=sample_Y1, Atype=('gen', 0.7))\n",
    "\n",
    "Y_chain = Y_chain[::3]\n",
    "A_chain = A_chain[::3]\n",
    "L_chain = L_chain[::3]\n",
    "\n",
    "dir, dir2, dir3, dir4 = [], [], [], []\n",
    "for i in range(Y_chain.shape[0]):\n",
    "    Y = Y_chain[i]\n",
    "    A = A_chain[i]\n",
    "    L = L_chain[i]\n",
    "    dir.append(np.mean(np.mean(Y[A==1]) - Y[A==0]))\n",
    "    dir2.append(np.mean(A))\n",
    "    dir3.append(np.mean(A[L[:,0]==1]) - np.mean(A[L[:,0]==0]))\n",
    "    dir4.append(np.mean(Y[L[:,0]==1]) - np.mean(Y[L[:,0]==0]))\n",
    "\n",
    "np.mean(dir), np.mean(dir2), np.mean(Y_chain), np.mean(dir3), np.mean(dir4)"
   ]
  },
  {
   "cell_type": "code",
   "execution_count": 4,
   "id": "051e85dd",
   "metadata": {},
   "outputs": [
    {
     "name": "stdout",
     "output_type": "stream",
     "text": [
      "0.304925 0.1507125\n",
      "0.24367050000000007 0.108981375 0.21164115625000002 0.127862015625\n"
     ]
    }
   ],
   "source": [
    "from drnet import expit\n",
    "from sklearn.linear_model import LogisticRegression\n",
    "\n",
    "def get_prob(L, Y, A):\n",
    "    x_a = [L[:, 0], np.zeros(L.shape[0]), \n",
    "           L[:, 1], np.zeros(L.shape[0]), \n",
    "           L[:, 2], np.zeros(L.shape[0]), \n",
    "           np.zeros(L.shape[0])]\n",
    "    \n",
    "    # train lostic regression\n",
    "    model = LogisticRegression(penalty=None, solver='lbfgs', max_iter=10000)\n",
    "    model.fit(np.array(x_a).T, A)\n",
    "    \n",
    "    gamma = np.zeros(8)\n",
    "    gamma[0] = model.intercept_[0]\n",
    "    gamma[1:] = model.coef_[0]\n",
    "\n",
    "    #gamma = np.array([-1,2,0.1,-2,0.1,2,0.1,0.1]) \n",
    "\n",
    "    linpred = (\n",
    "            gamma[0]\n",
    "            + gamma[1] * L[:, 0] + gamma[2] * 0\n",
    "            + gamma[3] * L[:, 1] + gamma[4] * 0\n",
    "            + gamma[5] * L[:, 2] + gamma[6] * 0\n",
    "            + gamma[7] * 0\n",
    "        )\n",
    "    \n",
    "    probs = expit(linpred)\n",
    "\n",
    "    w = (A==1) / probs\n",
    "    w_norm = w/np.sum(w)*len(w) if np.sum(w) > 0 else 0\n",
    "    w_norm = (A==1) # / probs\n",
    "    gamma_1 = (Y * w_norm).mean()\n",
    "    gamma_1_var = (Y * w_norm).var()\n",
    "\n",
    "    w = (1-A) / (1-probs)\n",
    "    w_norm = w/np.sum(w)*len(w) if np.sum(w) > 0 else 0\n",
    "    w_norm = (1-A) # / (1-probs)\n",
    "    gamma_0 = (Y * w_norm).mean()\n",
    "    gamma_0_var = (Y * w_norm).var()\n",
    "\n",
    "    return gamma_1, gamma_0, gamma_1_var, gamma_0_var\n",
    "\n",
    "gamma_1_est, gamma_0_est = [], []\n",
    "gamma_1_var, gamma_0_var = [], []\n",
    "for i in range(Y_chain.shape[0]):\n",
    "    gamma_1, gamma_0, gamma_1_var_, gamma0_var_ = get_prob(L_chain[i], Y_chain[i], A_chain[i])\n",
    "    gamma_1_est.append(gamma_1)\n",
    "    gamma_0_est.append(gamma_0)\n",
    "    gamma_1_var.append(gamma_1_var_)\n",
    "    gamma_0_var.append(gamma0_var_)\n",
    "\n",
    "\n",
    "\n",
    "print(np.mean(gamma_1_est), np.mean(gamma_0_est))\n",
    "print(np.var(gamma_1_est)*sample_size, np.var(gamma_0_est)*sample_size, np.mean(gamma_1_var), np.mean(gamma_0_var))\n",
    "#get_prob(L_chain[2], Y_chain[2], A_chain[2])"
   ]
  },
  {
   "cell_type": "code",
   "execution_count": null,
   "id": "d65a29b0",
   "metadata": {},
   "outputs": [],
   "source": []
  }
 ],
 "metadata": {
  "kernelspec": {
   "display_name": "ljz",
   "language": "python",
   "name": "python3"
  },
  "language_info": {
   "codemirror_mode": {
    "name": "ipython",
    "version": 3
   },
   "file_extension": ".py",
   "mimetype": "text/x-python",
   "name": "python",
   "nbconvert_exporter": "python",
   "pygments_lexer": "ipython3",
   "version": "3.10.14"
  }
 },
 "nbformat": 4,
 "nbformat_minor": 5
}
