{
 "cells": [
  {
   "cell_type": "code",
   "execution_count": 1,
   "id": "305043a6",
   "metadata": {},
   "outputs": [
    {
     "name": "stdout",
     "output_type": "stream",
     "text": [
      "(2000,) (2000,) (2000, 3) 0.3815 0.383 0.4535\n"
     ]
    }
   ],
   "source": [
    "from dgp import *\n",
    "from estimation import *\n",
    "\n",
    "# 1. Simulate or load data\n",
    "adj = get_graph(2000, 1, 1, seed=2)\n",
    "\n",
    "tau = np.array([-1.0, 0.50, -0.50])       # shape (3,)\n",
    "rho = np.array([[0,0.1,0.2],\n",
    "                [0.1,0,0.1],\n",
    "                [0.2,0.1,0]])      # shape (3, 3), with 0s on the diagonal\n",
    "nu = np.array([0.1,0,0,0.1,0,0,0.1,0,0]).reshape(3,3)       # shape (3, 3)\n",
    "gamma = np.array([-1.00,0.50,0.10,0.20,0.05,0.25,-0.08,0.30])     # shape (8,)\n",
    "beta = np.array([-0.30,-0.60,-0.20,-0.20,-0.05,-0.10,-0.01,0.40,0.01,0.20])     # shape (10,)\n",
    "\n",
    "Y, A, L = sample_network(adj, tau, rho, nu, gamma, beta, num_iter=100000)\n",
    "print(Y.shape, A.shape, L.shape, Y.mean(), A.mean(), L.mean())"
   ]
  },
  {
   "cell_type": "code",
   "execution_count": 2,
   "id": "48211faa",
   "metadata": {},
   "outputs": [
    {
     "data": {
      "text/plain": [
       "{'average': 0.32214999999999994,\n",
       " 'direct_effect': -0.13916666666666666,\n",
       " 'spillover_effect': -0.03300000000000003,\n",
       " 'psi_gamma': 0.32214999999999994,\n",
       " 'psi_1_gamma': 0.2801166666666666,\n",
       " 'psi_0_gamma': 0.4192833333333333,\n",
       " 'psi_zero': 0.4522833333333333}"
      ]
     },
     "execution_count": 2,
     "metadata": {},
     "output_type": "execute_result"
    }
   ],
   "source": [
    "from agcEffect import *\n",
    "\n",
    "agc_effect(\n",
    "    adj,\n",
    "    tau, rho, nu, beta,\n",
    "    treatment_allocation=0.7,\n",
    "    R=30,\n",
    "    burnin_R=10,\n",
    "    seed=0\n",
    ")"
   ]
  },
  {
   "cell_type": "code",
   "execution_count": 11,
   "id": "8ad61f63",
   "metadata": {},
   "outputs": [
    {
     "name": "stdout",
     "output_type": "stream",
     "text": [
      "beta_hat - beta for psi_zero: -0.027759634528917866\n",
      "beta_hat - beta for psi_0_gamma: -0.0048975758027971095\n",
      "psi_zero: 0.42321666666666663\n"
     ]
    },
    {
     "data": {
      "text/plain": [
       "{'average': 0.33695,\n",
       " 'direct_effect': -0.12121666666666658,\n",
       " 'spillover_effect': -0.0031333333333333213,\n",
       " 'psi_gamma': 0.33695,\n",
       " 'psi_1_gamma': 0.2988666666666667,\n",
       " 'psi_0_gamma': 0.4200833333333333,\n",
       " 'psi_zero': 0.42321666666666663}"
      ]
     },
     "execution_count": 11,
     "metadata": {},
     "output_type": "execute_result"
    }
   ],
   "source": [
    "from autognet2 import *\n",
    "\n",
    "def evaluate_autognet_via_agc_effect_debug(adj_matrix, Y, A, L, treatment_allocation=0.5, R=10, burnin=5, seed=0):\n",
    "    \"\"\"\n",
    "    Fit autognet models and evaluate causal effects using agc_effect.\n",
    "    \"\"\"\n",
    "    models = fit_autog_models(Y, A, L, adj_matrix)\n",
    "    tau, rho, nu, beta_hat = extract_parameters_from_autog_models(models, adj_matrix)\n",
    "    \n",
    "    # print(\"tau:\", tau)\n",
    "    # print(\"rho:\", rho)\n",
    "    # print(\"nu:\", nu)\n",
    "    # print(\"beta:\", beta_hat)\n",
    "    \n",
    "    beta_true = np.array([-0.30,-0.60,-0.20,-0.20,-0.05,-0.10,-0.01,0.40,0.01,0.20])\n",
    "    diff =  beta_hat - beta_true\n",
    "    print(\"beta_hat - beta for psi_zero:\", np.mean(list(diff[:1])+list(diff[3:])))\n",
    "    print(\"beta_hat - beta for psi_0_gamma:\", np.mean(list(diff[:1])+list(diff[2:])))\n",
    "    \n",
    "    ret = agc_effect(\n",
    "        adj_matrix=adj_matrix,\n",
    "        tau=tau,\n",
    "        rho=rho,\n",
    "        nu=nu,\n",
    "        beta=beta_hat,\n",
    "        treatment_allocation=treatment_allocation,\n",
    "        R=R,\n",
    "        burnin_R=burnin,\n",
    "        seed=seed\n",
    "    )\n",
    "    \n",
    "    print(\"psi_zero:\", ret['psi_zero'])\n",
    "\n",
    "    return ret\n",
    "\n",
    "evaluate_autognet_via_agc_effect_debug(adj, Y, A, L, treatment_allocation=0.7, R=30, burnin=10, seed=2)"
   ]
  },
  {
   "cell_type": "code",
   "execution_count": 12,
   "id": "ce28b569",
   "metadata": {},
   "outputs": [
    {
     "name": "stderr",
     "output_type": "stream",
     "text": [
      "100%|██████████| 30/30 [00:11<00:00,  2.68it/s]\n"
     ]
    }
   ],
   "source": [
    "from dgp import *\n",
    "from estimation import *\n",
    "\n",
    "# 1. Simulate or load data\n",
    "adj = get_graph(2000, 1, 2, seed=1)\n",
    "\n",
    "tau = np.array([-1.0, 0.50, -0.50])       # shape (3,)\n",
    "rho = np.array([[0,0.1,0.2],\n",
    "                [0.1,0,0.1],\n",
    "                [0.2,0.1,0]])      # shape (3, 3), with 0s on the diagonal\n",
    "nu = np.array([0.1,0,0,0.1,0,0,0.1,0,0]).reshape(3,3)       # shape (3, 3)\n",
    "gamma = np.array([-1.00,0.50,0.10,0.20,0.05,0.25,-0.08,0.30])     # shape (8,)\n",
    "beta = np.array([-0.30,-0.60,-0.20,-0.20,-0.05,-0.10,-0.01,0.40,0.01,0.20])     # shape (10,)\n",
    "\n",
    "Y_chain, A_chain, L_chain = sample_network_chain(adj, tau, rho, nu, gamma, beta, R=20,\n",
    "    burnin_R=10, seed=0)"
   ]
  },
  {
   "cell_type": "code",
   "execution_count": null,
   "id": "6224266b",
   "metadata": {},
   "outputs": [
    {
     "name": "stderr",
     "output_type": "stream",
     "text": [
      "0it [00:00, ?it/s]"
     ]
    },
    {
     "name": "stdout",
     "output_type": "stream",
     "text": [
      "beta_hat - beta for psi_zero: 0.009367163662125852\n",
      "beta_hat - beta for psi_0_gamma: 0.004246717130985263\n"
     ]
    },
    {
     "name": "stderr",
     "output_type": "stream",
     "text": [
      "1it [00:42, 42.96s/it]"
     ]
    },
    {
     "name": "stdout",
     "output_type": "stream",
     "text": [
      "psi_zero: 0.4842000000000001\n",
      "beta_hat - beta for psi_zero: -0.014169341996112113\n",
      "beta_hat - beta for psi_0_gamma: -6.339383969779233e-05\n"
     ]
    },
    {
     "name": "stderr",
     "output_type": "stream",
     "text": [
      "2it [01:22, 41.23s/it]"
     ]
    },
    {
     "name": "stdout",
     "output_type": "stream",
     "text": [
      "psi_zero: 0.4428249999999999\n",
      "beta_hat - beta for psi_zero: 0.02305721075820286\n",
      "beta_hat - beta for psi_0_gamma: 0.028180646379428614\n"
     ]
    },
    {
     "name": "stderr",
     "output_type": "stream",
     "text": [
      "3it [02:02, 40.32s/it]"
     ]
    },
    {
     "name": "stdout",
     "output_type": "stream",
     "text": [
      "psi_zero: 0.49107500000000004\n",
      "beta_hat - beta for psi_zero: -0.015558069793358394\n",
      "beta_hat - beta for psi_0_gamma: -0.0011275692320206537\n"
     ]
    },
    {
     "name": "stderr",
     "output_type": "stream",
     "text": [
      "4it [02:42, 40.49s/it]"
     ]
    },
    {
     "name": "stdout",
     "output_type": "stream",
     "text": [
      "psi_zero: 0.459875\n",
      "beta_hat - beta for psi_zero: 0.0030547374997123462\n",
      "beta_hat - beta for psi_0_gamma: 0.019531090194786\n"
     ]
    },
    {
     "name": "stderr",
     "output_type": "stream",
     "text": [
      "5it [03:28, 42.18s/it]"
     ]
    },
    {
     "name": "stdout",
     "output_type": "stream",
     "text": [
      "psi_zero: 0.4559500000000001\n",
      "beta_hat - beta for psi_zero: 0.019707687319155044\n",
      "beta_hat - beta for psi_0_gamma: 0.03090690609757533\n"
     ]
    },
    {
     "name": "stderr",
     "output_type": "stream",
     "text": [
      "6it [04:09, 41.77s/it]"
     ]
    },
    {
     "name": "stdout",
     "output_type": "stream",
     "text": [
      "psi_zero: 0.4447749999999999\n",
      "beta_hat - beta for psi_zero: -0.02766259718734706\n",
      "beta_hat - beta for psi_0_gamma: -0.015369857247103472\n"
     ]
    },
    {
     "name": "stderr",
     "output_type": "stream",
     "text": [
      "7it [05:02, 45.54s/it]"
     ]
    },
    {
     "name": "stdout",
     "output_type": "stream",
     "text": [
      "psi_zero: 0.44785000000000014\n",
      "beta_hat - beta for psi_zero: 0.002435494168191603\n",
      "beta_hat - beta for psi_0_gamma: 0.011951393109230888\n"
     ]
    },
    {
     "name": "stderr",
     "output_type": "stream",
     "text": [
      "8it [06:02, 50.22s/it]"
     ]
    },
    {
     "name": "stdout",
     "output_type": "stream",
     "text": [
      "psi_zero: 0.47305\n",
      "beta_hat - beta for psi_zero: -0.027060287431432607\n",
      "beta_hat - beta for psi_0_gamma: -0.0077421327775587\n"
     ]
    },
    {
     "name": "stderr",
     "output_type": "stream",
     "text": [
      "9it [07:08, 54.96s/it]"
     ]
    },
    {
     "name": "stdout",
     "output_type": "stream",
     "text": [
      "psi_zero: 0.44645\n",
      "beta_hat - beta for psi_zero: -0.003380397243289703\n",
      "beta_hat - beta for psi_0_gamma: 0.013365790728393544\n"
     ]
    },
    {
     "name": "stderr",
     "output_type": "stream",
     "text": [
      "10it [08:12, 58.02s/it]"
     ]
    },
    {
     "name": "stdout",
     "output_type": "stream",
     "text": [
      "psi_zero: 0.4477749999999999\n",
      "beta_hat - beta for psi_zero: 0.01793247378975875\n",
      "beta_hat - beta for psi_0_gamma: 0.014479725854664552\n"
     ]
    },
    {
     "name": "stderr",
     "output_type": "stream",
     "text": [
      "11it [09:03, 55.60s/it]"
     ]
    },
    {
     "name": "stdout",
     "output_type": "stream",
     "text": [
      "psi_zero: 0.48145\n",
      "beta_hat - beta for psi_zero: 0.00018726992385955602\n",
      "beta_hat - beta for psi_0_gamma: 0.019515603587622735\n"
     ]
    },
    {
     "name": "stderr",
     "output_type": "stream",
     "text": [
      "12it [09:48, 52.59s/it]"
     ]
    },
    {
     "name": "stdout",
     "output_type": "stream",
     "text": [
      "psi_zero: 0.46945000000000003\n",
      "beta_hat - beta for psi_zero: -0.0029511189905465692\n",
      "beta_hat - beta for psi_0_gamma: 0.005567199920183102\n"
     ]
    },
    {
     "name": "stderr",
     "output_type": "stream",
     "text": [
      "13it [10:40, 52.22s/it]"
     ]
    },
    {
     "name": "stdout",
     "output_type": "stream",
     "text": [
      "psi_zero: 0.44442499999999996\n",
      "beta_hat - beta for psi_zero: -0.02454662824126426\n",
      "beta_hat - beta for psi_0_gamma: -0.01933977523432937\n"
     ]
    },
    {
     "name": "stderr",
     "output_type": "stream",
     "text": [
      "14it [11:09, 45.24s/it]"
     ]
    },
    {
     "name": "stdout",
     "output_type": "stream",
     "text": [
      "psi_zero: 0.4518249999999999\n",
      "beta_hat - beta for psi_zero: 0.0044702080469624025\n",
      "beta_hat - beta for psi_0_gamma: 0.017328222428028124\n"
     ]
    },
    {
     "name": "stderr",
     "output_type": "stream",
     "text": [
      "15it [11:34, 39.37s/it]"
     ]
    },
    {
     "name": "stdout",
     "output_type": "stream",
     "text": [
      "psi_zero: 0.460975\n",
      "beta_hat - beta for psi_zero: -0.037371972174581006\n",
      "beta_hat - beta for psi_0_gamma: -0.023225865786144505\n"
     ]
    },
    {
     "name": "stderr",
     "output_type": "stream",
     "text": [
      "16it [12:01, 35.44s/it]"
     ]
    },
    {
     "name": "stdout",
     "output_type": "stream",
     "text": [
      "psi_zero: 0.44057500000000005\n",
      "beta_hat - beta for psi_zero: -0.004522312376318394\n",
      "beta_hat - beta for psi_0_gamma: -0.00024565659453648945\n"
     ]
    },
    {
     "name": "stderr",
     "output_type": "stream",
     "text": [
      "17it [12:29, 33.14s/it]"
     ]
    },
    {
     "name": "stdout",
     "output_type": "stream",
     "text": [
      "psi_zero: 0.46535000000000004\n",
      "beta_hat - beta for psi_zero: -0.0041290371973626595\n",
      "beta_hat - beta for psi_0_gamma: -0.001561259987297298\n"
     ]
    },
    {
     "name": "stderr",
     "output_type": "stream",
     "text": [
      "18it [12:57, 31.68s/it]"
     ]
    },
    {
     "name": "stdout",
     "output_type": "stream",
     "text": [
      "psi_zero: 0.46240000000000003\n",
      "beta_hat - beta for psi_zero: 0.0037397840688457376\n",
      "beta_hat - beta for psi_0_gamma: 0.0053376264582816685\n"
     ]
    },
    {
     "name": "stderr",
     "output_type": "stream",
     "text": [
      "19it [13:34, 33.20s/it]"
     ]
    },
    {
     "name": "stdout",
     "output_type": "stream",
     "text": [
      "psi_zero: 0.46335000000000004\n",
      "beta_hat - beta for psi_zero: -0.012245982841408157\n",
      "beta_hat - beta for psi_0_gamma: -0.012131894635677785\n"
     ]
    }
   ],
   "source": [
    "from autognet2 import *\n",
    "\n",
    "ret = {\n",
    "    'average': [],\n",
    "    'direct_effect': [],\n",
    "    'spillover_effect': [],\n",
    "    'psi_0_gamma': [],\n",
    "    'psi_zero': []\n",
    "}\n",
    "for Y, A, L in tqdm(zip(Y_chain, A_chain, L_chain)):\n",
    "    ret_i = evaluate_autognet_via_agc_effect_debug(adj, Y, A, L, treatment_allocation=0.7, R=20, burnin=10, seed=1)\n",
    "    ret['average'].append(ret_i['average'])\n",
    "    ret['direct_effect'].append(ret_i['direct_effect'])\n",
    "    ret['spillover_effect'].append(ret_i['spillover_effect'])\n",
    "    ret['psi_0_gamma'].append(ret_i['psi_0_gamma'])\n",
    "    ret['psi_zero'].append(ret_i['psi_zero'])\n",
    "    \n",
    "print('Average effect:', np.mean(ret['average']))\n",
    "print('Direct effect:', np.mean(ret['direct_effect']))\n",
    "print('Spillover effect:', np.mean(ret['spillover_effect']))\n",
    "print('Psi_0_gamma:', np.mean(ret['psi_0_gamma']))\n",
    "print('Psi_zero:', np.mean(ret['psi_zero']))"
   ]
  }
 ],
 "metadata": {
  "kernelspec": {
   "display_name": "base",
   "language": "python",
   "name": "python3"
  },
  "language_info": {
   "codemirror_mode": {
    "name": "ipython",
    "version": 3
   },
   "file_extension": ".py",
   "mimetype": "text/x-python",
   "name": "python",
   "nbconvert_exporter": "python",
   "pygments_lexer": "ipython3",
   "version": "3.8.8"
  }
 },
 "nbformat": 4,
 "nbformat_minor": 5
}
