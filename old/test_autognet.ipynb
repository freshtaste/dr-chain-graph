{
 "cells": [
  {
   "cell_type": "code",
   "execution_count": 1,
   "id": "7060a2c1",
   "metadata": {},
   "outputs": [
    {
     "name": "stderr",
     "output_type": "stream",
     "text": [
      "100%|██████████| 30/30 [00:06<00:00,  4.70it/s]\n"
     ]
    }
   ],
   "source": [
    "from dgp import *\n",
    "from estimation import *\n",
    "\n",
    "# 1. Simulate or load data\n",
    "adj = get_graph(2000, 1, 2, seed=1)\n",
    "\n",
    "tau = np.array([-1.0, 0.50, -0.50])       # shape (3,)\n",
    "rho = np.array([[0,0.1,0.2],\n",
    "                [0.1,0,0.1],\n",
    "                [0.2,0.1,0]])      # shape (3, 3), with 0s on the diagonal\n",
    "nu = np.array([0.1,0,0,0.1,0,0,0.1,0,0]).reshape(3,3)       # shape (3, 3)\n",
    "gamma = np.array([-1.00,0.50,0.10,0.20,0.05,0.25,-0.08,0.30])     # shape (8,)\n",
    "beta = np.array([-0.30,-0.60,-0.20,-0.20,-0.05,-0.10,-0.01,0.40,0.01,0.20])     # shape (10,)\n",
    "\n",
    "Y_chain, A_chain, L_chain = sample_network_chain(adj, tau, rho, nu, gamma, beta, R=20,\n",
    "    burnin_R=10, seed=0)"
   ]
  },
  {
   "cell_type": "code",
   "execution_count": 2,
   "id": "a417b86e",
   "metadata": {},
   "outputs": [
    {
     "data": {
      "text/plain": [
       "{'average': 0.31014999999999987,\n",
       " 'direct_effect': -0.13672499999999993,\n",
       " 'spillover_effect': -0.054025000000000045,\n",
       " 'psi_gamma': 0.31014999999999987,\n",
       " 'psi_1_gamma': 0.270075,\n",
       " 'psi_0_gamma': 0.40679999999999994,\n",
       " 'psi_zero': 0.460825}"
      ]
     },
     "execution_count": 2,
     "metadata": {},
     "output_type": "execute_result"
    }
   ],
   "source": [
    "from agcEffect import *\n",
    "\n",
    "agc_effect(\n",
    "    adj,\n",
    "    tau, rho, nu, beta,\n",
    "    treatment_allocation=0.7,\n",
    "    R=20,\n",
    "    burnin_R=10,\n",
    "    seed=0\n",
    ")"
   ]
  },
  {
   "cell_type": "code",
   "execution_count": 3,
   "id": "1c050740",
   "metadata": {},
   "outputs": [
    {
     "name": "stderr",
     "output_type": "stream",
     "text": [
      "1it [01:39, 99.02s/it]"
     ]
    },
    {
     "name": "stdout",
     "output_type": "stream",
     "text": [
      "[0.4618755154958654]\n"
     ]
    },
    {
     "name": "stderr",
     "output_type": "stream",
     "text": [
      "2it [03:19, 99.69s/it]"
     ]
    },
    {
     "name": "stdout",
     "output_type": "stream",
     "text": [
      "[0.43919043649913875]\n"
     ]
    },
    {
     "name": "stderr",
     "output_type": "stream",
     "text": [
      "3it [05:00, 100.57s/it]"
     ]
    },
    {
     "name": "stdout",
     "output_type": "stream",
     "text": [
      "[0.458189137309932]\n"
     ]
    },
    {
     "name": "stderr",
     "output_type": "stream",
     "text": [
      "4it [06:40, 100.24s/it]"
     ]
    },
    {
     "name": "stdout",
     "output_type": "stream",
     "text": [
      "[0.46060804483544143]\n"
     ]
    },
    {
     "name": "stderr",
     "output_type": "stream",
     "text": [
      "5it [08:18, 99.56s/it] "
     ]
    },
    {
     "name": "stdout",
     "output_type": "stream",
     "text": [
      "[0.4309816251569407]\n"
     ]
    },
    {
     "name": "stderr",
     "output_type": "stream",
     "text": [
      "6it [10:12, 104.19s/it]"
     ]
    },
    {
     "name": "stdout",
     "output_type": "stream",
     "text": [
      "[0.4320842736330651]\n"
     ]
    },
    {
     "name": "stderr",
     "output_type": "stream",
     "text": [
      "7it [11:49, 102.02s/it]"
     ]
    },
    {
     "name": "stdout",
     "output_type": "stream",
     "text": [
      "[0.42275339801684664]\n"
     ]
    },
    {
     "name": "stderr",
     "output_type": "stream",
     "text": [
      "8it [13:27, 100.75s/it]"
     ]
    },
    {
     "name": "stdout",
     "output_type": "stream",
     "text": [
      "[0.4365632463018065]\n"
     ]
    },
    {
     "name": "stderr",
     "output_type": "stream",
     "text": [
      "9it [15:13, 102.33s/it]"
     ]
    },
    {
     "name": "stdout",
     "output_type": "stream",
     "text": [
      "[0.43457030688524995]\n"
     ]
    },
    {
     "name": "stderr",
     "output_type": "stream",
     "text": [
      "10it [16:57, 102.97s/it]"
     ]
    },
    {
     "name": "stdout",
     "output_type": "stream",
     "text": [
      "[0.42549690253176714]\n"
     ]
    },
    {
     "name": "stderr",
     "output_type": "stream",
     "text": [
      "11it [18:56, 107.63s/it]"
     ]
    },
    {
     "name": "stdout",
     "output_type": "stream",
     "text": [
      "[0.45092784872426545]\n"
     ]
    },
    {
     "name": "stderr",
     "output_type": "stream",
     "text": [
      "12it [20:44, 107.78s/it]"
     ]
    },
    {
     "name": "stdout",
     "output_type": "stream",
     "text": [
      "[0.45621982166463193]\n"
     ]
    },
    {
     "name": "stderr",
     "output_type": "stream",
     "text": [
      "13it [22:38, 109.63s/it]"
     ]
    },
    {
     "name": "stdout",
     "output_type": "stream",
     "text": [
      "[0.4098835324444946]\n"
     ]
    },
    {
     "name": "stderr",
     "output_type": "stream",
     "text": [
      "14it [24:36, 112.31s/it]"
     ]
    },
    {
     "name": "stdout",
     "output_type": "stream",
     "text": [
      "[0.4399102386087498]\n"
     ]
    },
    {
     "name": "stderr",
     "output_type": "stream",
     "text": [
      "15it [26:48, 118.12s/it]"
     ]
    },
    {
     "name": "stdout",
     "output_type": "stream",
     "text": [
      "[0.42500597425452513]\n"
     ]
    },
    {
     "name": "stderr",
     "output_type": "stream",
     "text": [
      "16it [29:02, 123.13s/it]"
     ]
    },
    {
     "name": "stdout",
     "output_type": "stream",
     "text": [
      "[0.4290349046616338]\n"
     ]
    },
    {
     "name": "stderr",
     "output_type": "stream",
     "text": [
      "17it [31:30, 130.59s/it]"
     ]
    },
    {
     "name": "stdout",
     "output_type": "stream",
     "text": [
      "[0.47959095835518145]\n"
     ]
    },
    {
     "name": "stderr",
     "output_type": "stream",
     "text": [
      "18it [33:57, 135.43s/it]"
     ]
    },
    {
     "name": "stdout",
     "output_type": "stream",
     "text": [
      "[0.45985180122928904]\n"
     ]
    },
    {
     "name": "stderr",
     "output_type": "stream",
     "text": [
      "19it [37:18, 155.08s/it]"
     ]
    },
    {
     "name": "stdout",
     "output_type": "stream",
     "text": [
      "[0.45815532191679076]\n"
     ]
    },
    {
     "name": "stderr",
     "output_type": "stream",
     "text": [
      "20it [40:20, 121.05s/it]"
     ]
    },
    {
     "name": "stdout",
     "output_type": "stream",
     "text": [
      "[0.4636455078056823]\n",
      "Average effect: 0.31985661462711434\n",
      "Direct effect: -0.12977183855147084\n",
      "Spillover effect: -0.03415350528899572\n",
      "Psi_0_gamma: 0.40957343452756917\n",
      "Psi_zero: 0.44372693981656486\n"
     ]
    },
    {
     "name": "stderr",
     "output_type": "stream",
     "text": [
      "\n"
     ]
    }
   ],
   "source": [
    "from drnet_new import doubly_robust\n",
    "\n",
    "ret = {\n",
    "    'average': [],\n",
    "    'direct_effect': [],\n",
    "    'spillover_effect': [],\n",
    "    'psi_0_gamma': [],\n",
    "    'psi_zero': []\n",
    "}\n",
    "\n",
    "for Y, A, L in tqdm(zip(Y_chain, A_chain, L_chain)):\n",
    "    ret_i = doubly_robust(A, L, Y, adj, treatment_allocation=0.7, num_rep=1000)\n",
    "    ret['average'].append(ret_i['average'])\n",
    "    ret['direct_effect'].append(ret_i['direct_effect'])\n",
    "    ret['spillover_effect'].append(ret_i['spillover_effect'])\n",
    "    ret['psi_0_gamma'].append(ret_i['psi_0_gamma'])\n",
    "    ret['psi_zero'].append(ret_i['psi_zero'])\n",
    "    \n",
    "print('Average effect:', np.mean(ret['average']))\n",
    "print('Direct effect:', np.mean(ret['direct_effect']))\n",
    "print('Spillover effect:', np.mean(ret['spillover_effect']))\n",
    "print('Psi_0_gamma:', np.mean(ret['psi_0_gamma']))\n",
    "print('Psi_zero:', np.mean(ret['psi_zero']))"
   ]
  },
  {
   "cell_type": "code",
   "execution_count": 3,
   "id": "9309025e",
   "metadata": {},
   "outputs": [
    {
     "name": "stderr",
     "output_type": "stream",
     "text": [
      "20it [21:14, 63.73s/it]"
     ]
    },
    {
     "name": "stdout",
     "output_type": "stream",
     "text": [
      "Average effect: 0.31758250000000005\n",
      "Direct effect: -0.14854916666666665\n",
      "Spillover effect: -0.02998833333333334\n",
      "Psi_0_gamma: 0.4224724999999999\n",
      "Psi_zero: 0.4524608333333333\n"
     ]
    },
    {
     "name": "stderr",
     "output_type": "stream",
     "text": [
      "\n"
     ]
    }
   ],
   "source": [
    "\n",
    "from autognet import *\n",
    "\n",
    "ret = {\n",
    "    'average': [],\n",
    "    'direct_effect': [],\n",
    "    'spillover_effect': [],\n",
    "    'psi_0_gamma': [],\n",
    "    'psi_zero': []\n",
    "}\n",
    "\n",
    "for Y, A, L in tqdm(zip(Y_chain, A_chain, L_chain)):\n",
    "    ret_i = evaluate_autog_effect(adj, Y, A, L, treatment_allocation=0.7, R=20, burnin=10, seed=1)\n",
    "    ret['average'].append(ret_i['average'])\n",
    "    ret['direct_effect'].append(ret_i['direct_effect'])\n",
    "    ret['spillover_effect'].append(ret_i['spillover_effect'])\n",
    "    ret['psi_0_gamma'].append(ret_i['psi_0_gamma'])\n",
    "    ret['psi_zero'].append(ret_i['psi_zero'])\n",
    "    \n",
    "print('Average effect:', np.mean(ret['average']))\n",
    "print('Direct effect:', np.mean(ret['direct_effect']))\n",
    "print('Spillover effect:', np.mean(ret['spillover_effect']))\n",
    "print('Psi_0_gamma:', np.mean(ret['psi_0_gamma']))\n",
    "print('Psi_zero:', np.mean(ret['psi_zero']))"
   ]
  },
  {
   "cell_type": "code",
   "execution_count": 4,
   "id": "c6f9c058",
   "metadata": {},
   "outputs": [
    {
     "name": "stderr",
     "output_type": "stream",
     "text": [
      "0it [00:00, ?it/s]"
     ]
    },
    {
     "name": "stdout",
     "output_type": "stream",
     "text": [
      "tau: [-1.13645939  0.1499439  -0.48768631]\n",
      "rho: [[0.         0.20580144 0.24871142]\n",
      " [0.20580144 0.         0.24871142]\n",
      " [0.20580144 0.24871142 0.        ]]\n",
      "nu: [[-0.03550432  0.10759982  0.08512062]\n",
      " [-0.03550432  0.10759982  0.08512062]\n",
      " [-0.03550432  0.10759982  0.08512062]]\n",
      "beta: [-2.52707434e-01 -5.95056734e-01 -2.36716855e-01 -1.66189721e-01\n",
      " -9.68971856e-05 -1.95701585e-01 -4.84795630e-02  4.09998676e-01\n",
      "  9.46219918e-02  1.83491841e-01]\n"
     ]
    },
    {
     "name": "stderr",
     "output_type": "stream",
     "text": [
      "1it [00:29, 29.32s/it]"
     ]
    },
    {
     "name": "stdout",
     "output_type": "stream",
     "text": [
      "tau: [-1.1107394   0.3986641  -0.60325825]\n",
      "rho: [[0.         0.21174625 0.13475569]\n",
      " [0.21174625 0.         0.13475569]\n",
      " [0.21174625 0.13475569 0.        ]]\n",
      "nu: [[ 0.21475473  0.07905419 -0.07523203]\n",
      " [ 0.21475473  0.07905419 -0.07523203]\n",
      " [ 0.21475473  0.07905419 -0.07523203]]\n",
      "beta: [-0.43742518 -0.61006846 -0.08721581 -0.14607116  0.03676814 -0.14114223\n",
      "  0.12712199  0.30808405 -0.09612312  0.18543277]\n"
     ]
    },
    {
     "name": "stderr",
     "output_type": "stream",
     "text": [
      "2it [00:59, 29.92s/it]"
     ]
    },
    {
     "name": "stdout",
     "output_type": "stream",
     "text": [
      "tau: [-1.19087523  0.42923689 -0.35932433]\n",
      "rho: [[0.         0.21982874 0.25809083]\n",
      " [0.21982874 0.         0.25809083]\n",
      " [0.21982874 0.25809083 0.        ]]\n",
      "nu: [[ 0.24186182 -0.03115828  0.00673989]\n",
      " [ 0.24186182 -0.03115828  0.00673989]\n",
      " [ 0.24186182 -0.03115828  0.00673989]]\n",
      "beta: [-0.39694346 -0.75838893 -0.13083187 -0.12337715 -0.04705401 -0.12883297\n",
      " -0.01903322  0.47859201 -0.08165724  0.45276373]\n"
     ]
    },
    {
     "name": "stderr",
     "output_type": "stream",
     "text": [
      "3it [01:31, 30.83s/it]"
     ]
    },
    {
     "name": "stdout",
     "output_type": "stream",
     "text": [
      "tau: [-1.30234353  0.42823798 -0.64364129]\n",
      "rho: [[0.         0.2649574  0.24390038]\n",
      " [0.2649574  0.         0.24390038]\n",
      " [0.2649574  0.24390038 0.        ]]\n",
      "nu: [[0.11376156 0.07244307 0.11405401]\n",
      " [0.11376156 0.07244307 0.11405401]\n",
      " [0.11376156 0.07244307 0.11405401]]\n",
      "beta: [-0.25095591 -0.60080691 -0.08568356 -0.2996021   0.02618656 -0.09186618\n",
      " -0.00529843  0.36554864 -0.05841775  0.13994062]\n"
     ]
    },
    {
     "name": "stderr",
     "output_type": "stream",
     "text": [
      "4it [02:03, 31.14s/it]"
     ]
    },
    {
     "name": "stdout",
     "output_type": "stream",
     "text": [
      "tau: [-1.07018271  0.56326221 -0.51220511]\n",
      "rho: [[0.         0.17770284 0.07686277]\n",
      " [0.17770284 0.         0.07686277]\n",
      " [0.17770284 0.07686277 0.        ]]\n",
      "nu: [[ 0.12486042 -0.08322742  0.18415915]\n",
      " [ 0.12486042 -0.08322742  0.18415915]\n",
      " [ 0.12486042 -0.08322742  0.18415915]]\n",
      "beta: [-0.30492229 -0.75979253 -0.04865809 -0.06463628  0.01511392 -0.06926065\n",
      " -0.02815578  0.37002546 -0.24626386  0.30253738]\n"
     ]
    },
    {
     "name": "stderr",
     "output_type": "stream",
     "text": [
      "5it [02:35, 31.46s/it]"
     ]
    },
    {
     "name": "stdout",
     "output_type": "stream",
     "text": [
      "tau: [-1.06088264  0.52928765 -0.52214167]\n",
      "rho: [[ 0.         -0.03538131  0.35592422]\n",
      " [-0.03538131  0.          0.35592422]\n",
      " [-0.03538131  0.35592422  0.        ]]\n",
      "nu: [[0.09565202 0.02449212 0.13919957]\n",
      " [0.09565202 0.02449212 0.13919957]\n",
      " [0.09565202 0.02449212 0.13919957]]\n",
      "beta: [-0.53631832 -0.6068915  -0.07949934 -0.0253281   0.10739123 -0.15967322\n",
      "  0.01332308  0.50599016 -0.02584726  0.22812393]\n"
     ]
    },
    {
     "name": "stderr",
     "output_type": "stream",
     "text": [
      "6it [03:08, 32.07s/it]"
     ]
    },
    {
     "name": "stdout",
     "output_type": "stream",
     "text": [
      "tau: [-1.21942207  0.43669627 -0.58177796]\n",
      "rho: [[0.         0.28832554 0.19833903]\n",
      " [0.28832554 0.         0.19833903]\n",
      " [0.28832554 0.19833903 0.        ]]\n",
      "nu: [[-0.04043966  0.17746232  0.02441378]\n",
      " [-0.04043966  0.17746232  0.02441378]\n",
      " [-0.04043966  0.17746232  0.02441378]]\n",
      "beta: [-0.37300091 -0.51760243 -0.11702794 -0.36985321 -0.15721345 -0.2642032\n",
      "  0.06365345  0.43468216  0.07053759  0.3240968 ]\n"
     ]
    },
    {
     "name": "stderr",
     "output_type": "stream",
     "text": [
      "7it [03:37, 30.94s/it]"
     ]
    },
    {
     "name": "stdout",
     "output_type": "stream",
     "text": [
      "tau: [-1.19959485  0.48345696 -0.62855872]\n",
      "rho: [[0.         0.09115661 0.19863748]\n",
      " [0.09115661 0.         0.19863748]\n",
      " [0.09115661 0.19863748 0.        ]]\n",
      "nu: [[0.25955786 0.13535405 0.07834804]\n",
      " [0.25955786 0.13535405 0.07834804]\n",
      " [0.25955786 0.13535405 0.07834804]]\n",
      "beta: [-0.39242699 -0.73374556 -0.11192142 -0.13084104 -0.00464397 -0.01744155\n",
      "  0.11565662  0.33089134  0.01230251  0.05598703]\n"
     ]
    },
    {
     "name": "stderr",
     "output_type": "stream",
     "text": [
      "8it [04:03, 29.40s/it]"
     ]
    },
    {
     "name": "stdout",
     "output_type": "stream",
     "text": [
      "tau: [-1.11499394  0.6677853  -0.57932037]\n",
      "rho: [[0.         0.15308703 0.36600474]\n",
      " [0.15308703 0.         0.36600474]\n",
      " [0.15308703 0.36600474 0.        ]]\n",
      "nu: [[ 0.08564105  0.03021129 -0.08442344]\n",
      " [ 0.08564105  0.03021129 -0.08442344]\n",
      " [ 0.08564105  0.03021129 -0.08442344]]\n",
      "beta: [-0.2490221  -0.65432513 -0.0531969  -0.16977977 -0.07070793 -0.05763595\n",
      "  0.08626934  0.30530004 -0.1541591   0.04325317]\n"
     ]
    },
    {
     "name": "stderr",
     "output_type": "stream",
     "text": [
      "9it [04:29, 28.55s/it]"
     ]
    },
    {
     "name": "stdout",
     "output_type": "stream",
     "text": [
      "tau: [-1.21797274  0.76073255 -0.45246306]\n",
      "rho: [[0.         0.16503271 0.30383323]\n",
      " [0.16503271 0.         0.30383323]\n",
      " [0.16503271 0.30383323 0.        ]]\n",
      "nu: [[ 0.10929908  0.15313368 -0.01432515]\n",
      " [ 0.10929908  0.15313368 -0.01432515]\n",
      " [ 0.10929908  0.15313368 -0.01432515]]\n",
      "beta: [-0.36571515 -0.50366481 -0.05266471 -0.16784111 -0.00325956 -0.05100735\n",
      " -0.09956367  0.35483518 -0.06244168  0.31795016]\n"
     ]
    },
    {
     "name": "stderr",
     "output_type": "stream",
     "text": [
      "10it [04:57, 28.14s/it]"
     ]
    },
    {
     "name": "stdout",
     "output_type": "stream",
     "text": [
      "tau: [-1.22962485  0.51195683 -0.46927344]\n",
      "rho: [[0.         0.18249347 0.12218885]\n",
      " [0.18249347 0.         0.12218885]\n",
      " [0.18249347 0.12218885 0.        ]]\n",
      "nu: [[0.1928403  0.14146448 0.04284628]\n",
      " [0.1928403  0.14146448 0.04284628]\n",
      " [0.1928403  0.14146448 0.04284628]]\n",
      "beta: [-0.6020581  -0.65987491 -0.21314226 -0.11588384 -0.03346324 -0.06876368\n",
      "  0.14228359  0.44363755  0.10702527  0.22068224]\n"
     ]
    },
    {
     "name": "stderr",
     "output_type": "stream",
     "text": [
      "11it [05:23, 27.65s/it]"
     ]
    },
    {
     "name": "stdout",
     "output_type": "stream",
     "text": [
      "tau: [-1.14983961  0.64624021 -0.46239335]\n",
      "rho: [[0.         0.10065074 0.22827845]\n",
      " [0.10065074 0.         0.22827845]\n",
      " [0.10065074 0.22827845 0.        ]]\n",
      "nu: [[0.03753017 0.10136674 0.06333236]\n",
      " [0.03753017 0.10136674 0.06333236]\n",
      " [0.03753017 0.10136674 0.06333236]]\n",
      "beta: [-0.28455057 -0.72188125 -0.02585773 -0.21423259  0.04322356 -0.19902043\n",
      " -0.0306401   0.35917055 -0.00883962  0.28638737]\n"
     ]
    },
    {
     "name": "stderr",
     "output_type": "stream",
     "text": [
      "12it [05:49, 27.13s/it]"
     ]
    },
    {
     "name": "stdout",
     "output_type": "stream",
     "text": [
      "tau: [-0.94320673  0.67490119 -0.40225897]\n",
      "rho: [[ 0.         -0.01369126  0.04538192]\n",
      " [-0.01369126  0.          0.04538192]\n",
      " [-0.01369126  0.04538192  0.        ]]\n",
      "nu: [[ 0.35240769 -0.02924513 -0.05205608]\n",
      " [ 0.35240769 -0.02924513 -0.05205608]\n",
      " [ 0.35240769 -0.02924513 -0.05205608]]\n",
      "beta: [-0.58454566 -0.65608794 -0.12628625 -0.17967343  0.0283345   0.13764439\n",
      "  0.01954053  0.2815205   0.04396945  0.17960077]\n"
     ]
    },
    {
     "name": "stderr",
     "output_type": "stream",
     "text": [
      "13it [06:15, 26.85s/it]"
     ]
    },
    {
     "name": "stdout",
     "output_type": "stream",
     "text": [
      "tau: [-1.03547924  0.34381136 -0.58799938]\n",
      "rho: [[0.         0.17421324 0.09355521]\n",
      " [0.17421324 0.         0.09355521]\n",
      " [0.17421324 0.09355521 0.        ]]\n",
      "nu: [[ 0.08353977  0.00776406 -0.00035522]\n",
      " [ 0.08353977  0.00776406 -0.00035522]\n",
      " [ 0.08353977  0.00776406 -0.00035522]]\n",
      "beta: [-0.21164449 -0.53201882 -0.17768495 -0.24787727 -0.11869607 -0.20320631\n",
      " -0.01396835  0.29767939  0.01156325  0.23977682]\n"
     ]
    },
    {
     "name": "stderr",
     "output_type": "stream",
     "text": [
      "14it [06:42, 26.71s/it]"
     ]
    },
    {
     "name": "stdout",
     "output_type": "stream",
     "text": [
      "tau: [-1.21252532  0.50148955 -0.50549557]\n",
      "rho: [[0.         0.21029764 0.20970204]\n",
      " [0.21029764 0.         0.20970204]\n",
      " [0.21029764 0.20970204 0.        ]]\n",
      "nu: [[ 0.27850556 -0.02817092  0.07056196]\n",
      " [ 0.27850556 -0.02817092  0.07056196]\n",
      " [ 0.27850556 -0.02817092  0.07056196]]\n",
      "beta: [-0.38617955 -0.63252422 -0.07980766 -0.2486597   0.01291555 -0.11208174\n",
      " -0.06097076  0.46385761  0.00275447  0.31412578]\n"
     ]
    },
    {
     "name": "stderr",
     "output_type": "stream",
     "text": [
      "15it [07:09, 26.84s/it]"
     ]
    },
    {
     "name": "stdout",
     "output_type": "stream",
     "text": [
      "tau: [-0.90601851  0.44135673 -0.5707252 ]\n",
      "rho: [[0.         0.07066443 0.04493574]\n",
      " [0.07066443 0.         0.04493574]\n",
      " [0.07066443 0.04493574 0.        ]]\n",
      "nu: [[0.05921849 0.02739236 0.03325264]\n",
      " [0.05921849 0.02739236 0.03325264]\n",
      " [0.05921849 0.02739236 0.03325264]]\n",
      "beta: [-0.24158602 -0.68505814 -0.11005701 -0.30937814 -0.06594937 -0.0231207\n",
      " -0.02929673  0.18772508 -0.08186217  0.21449226]\n"
     ]
    },
    {
     "name": "stderr",
     "output_type": "stream",
     "text": [
      "16it [07:36, 26.88s/it]"
     ]
    },
    {
     "name": "stdout",
     "output_type": "stream",
     "text": [
      "tau: [-1.02348969  0.5152109  -0.66576471]\n",
      "rho: [[0.         0.10008246 0.16815049]\n",
      " [0.10008246 0.         0.16815049]\n",
      " [0.10008246 0.16815049 0.        ]]\n",
      "nu: [[0.12375255 0.00932176 0.05330458]\n",
      " [0.12375255 0.00932176 0.05330458]\n",
      " [0.12375255 0.00932176 0.05330458]]\n",
      "beta: [-0.28543899 -0.5015903  -0.16603241 -0.25314143  0.08835557 -0.06469248\n",
      " -0.02486472  0.28737098 -0.09356952  0.25980208]\n"
     ]
    },
    {
     "name": "stderr",
     "output_type": "stream",
     "text": [
      "17it [08:02, 26.70s/it]"
     ]
    },
    {
     "name": "stdout",
     "output_type": "stream",
     "text": [
      "tau: [-1.23185563  0.40905621 -0.51176622]\n",
      "rho: [[0.         0.08324957 0.15463982]\n",
      " [0.08324957 0.         0.15463982]\n",
      " [0.08324957 0.15463982 0.        ]]\n",
      "nu: [[0.06684603 0.08635784 0.17681133]\n",
      " [0.06684603 0.08635784 0.17681133]\n",
      " [0.06684603 0.08635784 0.17681133]]\n",
      "beta: [-0.26927719 -0.66619481 -0.18101904 -0.06673883 -0.08154285 -0.05696136\n",
      "  0.03417705  0.33450549 -0.10229278  0.12509818]\n"
     ]
    },
    {
     "name": "stderr",
     "output_type": "stream",
     "text": [
      "18it [08:29, 26.71s/it]"
     ]
    },
    {
     "name": "stdout",
     "output_type": "stream",
     "text": [
      "tau: [-1.19517486  0.47771422 -0.59222865]\n",
      "rho: [[0.         0.01308826 0.25619686]\n",
      " [0.01308826 0.         0.25619686]\n",
      " [0.01308826 0.25619686 0.        ]]\n",
      "nu: [[0.20273193 0.11359214 0.06406044]\n",
      " [0.20273193 0.11359214 0.06406044]\n",
      " [0.20273193 0.11359214 0.06406044]]\n",
      "beta: [-0.51579402 -0.55072113 -0.18187963 -0.18923376 -0.04553936 -0.03925427\n",
      "  0.05892806  0.40585178  0.03493164  0.27002821]\n"
     ]
    },
    {
     "name": "stderr",
     "output_type": "stream",
     "text": [
      "19it [08:56, 26.86s/it]"
     ]
    },
    {
     "name": "stdout",
     "output_type": "stream",
     "text": [
      "tau: [-1.2303566   0.52104389 -0.69517491]\n",
      "rho: [[0.         0.13086814 0.43503132]\n",
      " [0.13086814 0.         0.43503132]\n",
      " [0.13086814 0.43503132 0.        ]]\n",
      "nu: [[0.05082769 0.14024861 0.01786352]\n",
      " [0.05082769 0.14024861 0.01786352]\n",
      " [0.05082769 0.14024861 0.01786352]]\n",
      "beta: [-0.21105369 -0.48647114 -0.21121919 -0.18767702  0.00431629 -0.14375521\n",
      " -0.07608749  0.24348686  0.03797799  0.1848244 ]\n"
     ]
    },
    {
     "name": "stderr",
     "output_type": "stream",
     "text": [
      "20it [09:23, 28.17s/it]"
     ]
    },
    {
     "name": "stdout",
     "output_type": "stream",
     "text": [
      "Average effect: 0.3201225\n",
      "Direct effect: -0.14929499999999996\n",
      "Spillover effect: -0.03713875000000002\n",
      "Psi_0_gamma: 0.4223162499999999\n",
      "Psi_zero: 0.459455\n"
     ]
    },
    {
     "name": "stderr",
     "output_type": "stream",
     "text": [
      "\n"
     ]
    }
   ],
   "source": [
    "from autognet2 import *\n",
    "\n",
    "ret = {\n",
    "    'average': [],\n",
    "    'direct_effect': [],\n",
    "    'spillover_effect': [],\n",
    "    'psi_0_gamma': [],\n",
    "    'psi_zero': []\n",
    "}\n",
    "for Y, A, L in tqdm(zip(Y_chain, A_chain, L_chain)):\n",
    "    ret_i = evaluate_autognet_via_agc_effect(adj, Y, A, L, treatment_allocation=0.7, R=20, burnin=10, seed=1)\n",
    "    ret['average'].append(ret_i['average'])\n",
    "    ret['direct_effect'].append(ret_i['direct_effect'])\n",
    "    ret['spillover_effect'].append(ret_i['spillover_effect'])\n",
    "    ret['psi_0_gamma'].append(ret_i['psi_0_gamma'])\n",
    "    ret['psi_zero'].append(ret_i['psi_zero'])\n",
    "    \n",
    "print('Average effect:', np.mean(ret['average']))\n",
    "print('Direct effect:', np.mean(ret['direct_effect']))\n",
    "print('Spillover effect:', np.mean(ret['spillover_effect']))\n",
    "print('Psi_0_gamma:', np.mean(ret['psi_0_gamma']))\n",
    "print('Psi_zero:', np.mean(ret['psi_zero']))"
   ]
  },
  {
   "cell_type": "code",
   "execution_count": null,
   "id": "f913e76f",
   "metadata": {},
   "outputs": [],
   "source": []
  },
  {
   "cell_type": "code",
   "execution_count": 5,
   "id": "09c9bce3",
   "metadata": {},
   "outputs": [
    {
     "name": "stderr",
     "output_type": "stream",
     "text": [
      "100%|██████████| 30/30 [00:06<00:00,  4.83it/s]\n"
     ]
    }
   ],
   "source": [
    "from dgp import *\n",
    "from estimation import *\n",
    "\n",
    "# 1. Simulate or load data\n",
    "adj = get_graph(2000, 8, 10, seed=1)\n",
    "\n",
    "tau = np.array([-1.0, 0.50, -0.50])       # shape (3,)\n",
    "rho = np.array([[0,0.1,0.2],\n",
    "                [0.1,0,0.1],\n",
    "                [0.2,0.1,0]])      # shape (3, 3), with 0s on the diagonal\n",
    "nu = np.array([0.1,0,0,0.1,0,0,0.1,0,0]).reshape(3,3)       # shape (3, 3)\n",
    "gamma = np.array([-1.00,0.50,0.10,0.20,0.05,0.25,-0.08,0.30])     # shape (8,)\n",
    "beta = np.array([-0.30,-0.60,-0.20,-0.20,-0.05,-0.10,-0.01,0.40,0.01,0.20])     # shape (10,)\n",
    "\n",
    "Y_chain, A_chain, L_chain = sample_network_chain(adj, tau, rho, nu, gamma, beta, R=20,\n",
    "    burnin_R=10, seed=0)"
   ]
  },
  {
   "cell_type": "code",
   "execution_count": 6,
   "id": "4dffce2d",
   "metadata": {},
   "outputs": [
    {
     "data": {
      "text/plain": [
       "{'average': 0.14565,\n",
       " 'direct_effect': -0.10649999999999994,\n",
       " 'spillover_effect': -0.45730000000000004,\n",
       " 'psi_gamma': 0.14565,\n",
       " 'psi_1_gamma': 0.1165,\n",
       " 'psi_0_gamma': 0.22299999999999995,\n",
       " 'psi_zero': 0.6803}"
      ]
     },
     "execution_count": 6,
     "metadata": {},
     "output_type": "execute_result"
    }
   ],
   "source": [
    "from agcEffect import *\n",
    "\n",
    "agc_effect(\n",
    "    adj,\n",
    "    tau, rho, nu, beta,\n",
    "    treatment_allocation=0.7,\n",
    "    R=20,\n",
    "    burnin_R=10,\n",
    "    seed=0\n",
    ")"
   ]
  },
  {
   "cell_type": "code",
   "execution_count": 7,
   "id": "d60a0727",
   "metadata": {},
   "outputs": [
    {
     "name": "stderr",
     "output_type": "stream",
     "text": [
      "20it [22:04, 66.21s/it]"
     ]
    },
    {
     "name": "stdout",
     "output_type": "stream",
     "text": [
      "Average effect: 0.134595\n",
      "Direct effect: -0.11127416666666667\n",
      "Spillover effect: -0.305315\n",
      "Psi_0_gamma: 0.2177616666666667\n",
      "Psi_zero: 0.5230766666666666\n"
     ]
    },
    {
     "name": "stderr",
     "output_type": "stream",
     "text": [
      "\n"
     ]
    }
   ],
   "source": [
    "\n",
    "from autognet import *\n",
    "\n",
    "ret = {\n",
    "    'average': [],\n",
    "    'direct_effect': [],\n",
    "    'spillover_effect': [],\n",
    "    'psi_0_gamma': [],\n",
    "    'psi_zero': []\n",
    "}\n",
    "\n",
    "for Y, A, L in tqdm(zip(Y_chain, A_chain, L_chain)):\n",
    "    ret_i = evaluate_autog_effect(adj, Y, A, L, treatment_allocation=0.7, R=20, burnin=10, seed=1)\n",
    "    ret['average'].append(ret_i['average'])\n",
    "    ret['direct_effect'].append(ret_i['direct_effect'])\n",
    "    ret['spillover_effect'].append(ret_i['spillover_effect'])\n",
    "    ret['psi_0_gamma'].append(ret_i['psi_0_gamma'])\n",
    "    ret['psi_zero'].append(ret_i['psi_zero'])\n",
    "    \n",
    "print('Average effect:', np.mean(ret['average']))\n",
    "print('Direct effect:', np.mean(ret['direct_effect']))\n",
    "print('Spillover effect:', np.mean(ret['spillover_effect']))\n",
    "print('Psi_0_gamma:', np.mean(ret['psi_0_gamma']))\n",
    "print('Psi_zero:', np.mean(ret['psi_zero']))"
   ]
  },
  {
   "cell_type": "code",
   "execution_count": 8,
   "id": "16b5b426",
   "metadata": {},
   "outputs": [
    {
     "name": "stderr",
     "output_type": "stream",
     "text": [
      "0it [00:00, ?it/s]"
     ]
    },
    {
     "name": "stdout",
     "output_type": "stream",
     "text": [
      "tau: [-0.87527741  0.13626941 -0.39778239]\n",
      "rho: [[0.         0.24114617 0.14185871]\n",
      " [0.24114617 0.         0.14185871]\n",
      " [0.24114617 0.14185871 0.        ]]\n",
      "nu: [[ 0.04038593 -0.01618387  0.02939917]\n",
      " [ 0.04038593 -0.01618387  0.02939917]\n",
      " [ 0.04038593 -0.01618387  0.02939917]]\n",
      "beta: [-1.71910925 -0.67286188 -0.02308216 -0.36835282  0.02785888 -0.12095023\n",
      " -0.07773765  0.57536678  0.01307376  0.35426729]\n"
     ]
    },
    {
     "name": "stderr",
     "output_type": "stream",
     "text": [
      "1it [00:26, 26.44s/it]"
     ]
    },
    {
     "name": "stdout",
     "output_type": "stream",
     "text": [
      "tau: [-1.64220904  0.55302803 -0.36476552]\n",
      "rho: [[0.         0.08981069 0.1470832 ]\n",
      " [0.08981069 0.         0.1470832 ]\n",
      " [0.08981069 0.1470832  0.        ]]\n",
      "nu: [[0.05889033 0.09774563 0.04146942]\n",
      " [0.05889033 0.09774563 0.04146942]\n",
      " [0.05889033 0.09774563 0.04146942]]\n",
      "beta: [-5.99034275e-01 -3.72955969e-01 -1.10653481e-01 -1.49175504e-01\n",
      " -8.76284264e-02 -3.21102531e-01 -1.75480386e-02  3.23189964e-01\n",
      " -5.71968243e-05  2.08602056e-02]\n"
     ]
    },
    {
     "name": "stderr",
     "output_type": "stream",
     "text": [
      "2it [00:53, 26.71s/it]"
     ]
    },
    {
     "name": "stdout",
     "output_type": "stream",
     "text": [
      "tau: [-1.25735261  0.23132899  0.11264975]\n",
      "rho: [[0.         0.35880332 0.16607714]\n",
      " [0.35880332 0.         0.16607714]\n",
      " [0.35880332 0.16607714 0.        ]]\n",
      "nu: [[0.0560608  0.02477309 0.02046692]\n",
      " [0.0560608  0.02477309 0.02046692]\n",
      " [0.0560608  0.02477309 0.02046692]]\n",
      "beta: [-1.02981473 -0.44704446 -0.07408203 -0.11462471 -0.10001697  0.05471303\n",
      " -0.04621014  0.38572675 -0.01589938  0.19547422]\n"
     ]
    },
    {
     "name": "stderr",
     "output_type": "stream",
     "text": [
      "3it [01:20, 26.97s/it]"
     ]
    },
    {
     "name": "stdout",
     "output_type": "stream",
     "text": [
      "tau: [-1.64951265  0.51781208 -0.47212305]\n",
      "rho: [[0.         0.09584055 0.26554996]\n",
      " [0.09584055 0.         0.26554996]\n",
      " [0.09584055 0.26554996 0.        ]]\n",
      "nu: [[0.14946721 0.04510481 0.03111539]\n",
      " [0.14946721 0.04510481 0.03111539]\n",
      " [0.14946721 0.04510481 0.03111539]]\n",
      "beta: [-0.63391041 -0.68677441 -0.13657266 -0.17437906 -0.09470155 -0.27296192\n",
      " -0.00461882  0.4341434   0.05045679  0.24012534]\n"
     ]
    },
    {
     "name": "stderr",
     "output_type": "stream",
     "text": [
      "4it [01:48, 27.45s/it]"
     ]
    },
    {
     "name": "stdout",
     "output_type": "stream",
     "text": [
      "tau: [-1.37263151  0.24562352 -0.4935257 ]\n",
      "rho: [[0.         0.17263485 0.13304841]\n",
      " [0.17263485 0.         0.13304841]\n",
      " [0.17263485 0.13304841 0.        ]]\n",
      "nu: [[0.06281444 0.02857656 0.06481666]\n",
      " [0.06281444 0.02857656 0.06481666]\n",
      " [0.06281444 0.02857656 0.06481666]]\n",
      "beta: [-1.01993666 -0.29618888 -0.2168353  -0.07476998 -0.06611935  0.11520342\n",
      "  0.04772737  0.59563246  0.01074862  0.08523352]\n"
     ]
    },
    {
     "name": "stderr",
     "output_type": "stream",
     "text": [
      "5it [02:15, 27.31s/it]"
     ]
    },
    {
     "name": "stdout",
     "output_type": "stream",
     "text": [
      "tau: [-1.14010138  0.08373483 -0.8722828 ]\n",
      "rho: [[0.         0.05793386 0.17197929]\n",
      " [0.05793386 0.         0.17197929]\n",
      " [0.05793386 0.17197929 0.        ]]\n",
      "nu: [[0.111654   0.00706074 0.02563347]\n",
      " [0.111654   0.00706074 0.02563347]\n",
      " [0.111654   0.00706074 0.02563347]]\n",
      "beta: [-0.67887289 -0.93732083 -0.22168546 -0.13623797  0.06414581 -0.14863793\n",
      "  0.07322195  0.23718542  0.05032449 -0.01744926]\n"
     ]
    },
    {
     "name": "stderr",
     "output_type": "stream",
     "text": [
      "6it [02:45, 28.18s/it]"
     ]
    },
    {
     "name": "stdout",
     "output_type": "stream",
     "text": [
      "tau: [-1.39973079  0.15536401 -0.38026209]\n",
      "rho: [[0.         0.17016049 0.24262201]\n",
      " [0.17016049 0.         0.24262201]\n",
      " [0.17016049 0.24262201 0.        ]]\n",
      "nu: [[0.09322016 0.05674872 0.0001591 ]\n",
      " [0.09322016 0.05674872 0.0001591 ]\n",
      " [0.09322016 0.05674872 0.0001591 ]]\n",
      "beta: [-1.34802773 -0.42875045 -0.12007666 -0.55978627 -0.00749622 -0.57889807\n",
      "  0.0764238   0.46214152 -0.05078245  0.38408143]\n"
     ]
    },
    {
     "name": "stderr",
     "output_type": "stream",
     "text": [
      "7it [03:14, 28.28s/it]"
     ]
    },
    {
     "name": "stdout",
     "output_type": "stream",
     "text": [
      "tau: [-1.4805815   0.71621414 -0.23389673]\n",
      "rho: [[0.         0.1252735  0.32127472]\n",
      " [0.1252735  0.         0.32127472]\n",
      " [0.1252735  0.32127472 0.        ]]\n",
      "nu: [[0.14460326 0.02811528 0.02769112]\n",
      " [0.14460326 0.02811528 0.02769112]\n",
      " [0.14460326 0.02811528 0.02769112]]\n",
      "beta: [-0.70691947 -0.6976253  -0.11429963  0.14060608 -0.06180522 -0.53872354\n",
      " -0.05250211  0.35179066  0.06081407  0.19585993]\n"
     ]
    },
    {
     "name": "stderr",
     "output_type": "stream",
     "text": [
      "8it [03:44, 28.99s/it]"
     ]
    },
    {
     "name": "stdout",
     "output_type": "stream",
     "text": [
      "tau: [-1.92102499  0.94562735 -0.58621403]\n",
      "rho: [[0.         0.09871737 0.38895217]\n",
      " [0.09871737 0.         0.38895217]\n",
      " [0.09871737 0.38895217 0.        ]]\n",
      "nu: [[0.14383592 0.07202608 0.03915321]\n",
      " [0.14383592 0.07202608 0.03915321]\n",
      " [0.14383592 0.07202608 0.03915321]]\n",
      "beta: [-0.46343741 -0.34322328 -0.19441775 -0.22994123  0.02021461 -0.03258745\n",
      " -0.07529373  0.30740614  0.02133022  0.31001892]\n"
     ]
    },
    {
     "name": "stderr",
     "output_type": "stream",
     "text": [
      "9it [04:11, 28.18s/it]"
     ]
    },
    {
     "name": "stdout",
     "output_type": "stream",
     "text": [
      "tau: [-1.41828108  0.28050644 -0.27977851]\n",
      "rho: [[0.         0.24785431 0.18247695]\n",
      " [0.24785431 0.         0.18247695]\n",
      " [0.24785431 0.18247695 0.        ]]\n",
      "nu: [[ 0.10982174  0.06746431 -0.02652202]\n",
      " [ 0.10982174  0.06746431 -0.02652202]\n",
      " [ 0.10982174  0.06746431 -0.02652202]]\n",
      "beta: [-0.52444596 -0.60857892 -0.29815639 -0.38241936  0.00823444  0.03251852\n",
      "  0.13417531  0.25335225  0.03864397  0.05192091]\n"
     ]
    },
    {
     "name": "stderr",
     "output_type": "stream",
     "text": [
      "10it [04:39, 28.09s/it]"
     ]
    },
    {
     "name": "stdout",
     "output_type": "stream",
     "text": [
      "tau: [-1.27904862  0.58125295 -0.69831693]\n",
      "rho: [[0.         0.26083647 0.24676335]\n",
      " [0.26083647 0.         0.24676335]\n",
      " [0.26083647 0.24676335 0.        ]]\n",
      "nu: [[ 0.03201411 -0.02091194  0.11051852]\n",
      " [ 0.03201411 -0.02091194  0.11051852]\n",
      " [ 0.03201411 -0.02091194  0.11051852]]\n",
      "beta: [-0.12199792 -0.58027386 -0.21086334 -0.26574573 -0.06697863  0.00603999\n",
      " -0.00085331  0.3858689  -0.01903507  0.11939895]\n"
     ]
    },
    {
     "name": "stderr",
     "output_type": "stream",
     "text": [
      "11it [05:10, 29.13s/it]"
     ]
    },
    {
     "name": "stdout",
     "output_type": "stream",
     "text": [
      "tau: [-0.93308313  1.39840854  0.24698296]\n",
      "rho: [[0.         0.09758394 0.19572481]\n",
      " [0.09758394 0.         0.19572481]\n",
      " [0.09758394 0.19572481 0.        ]]\n",
      "nu: [[0.06898203 0.00443225 0.00250629]\n",
      " [0.06898203 0.00443225 0.00250629]\n",
      " [0.06898203 0.00443225 0.00250629]]\n",
      "beta: [-0.88442098 -0.91651905 -0.17466653 -0.14075576  0.00744377 -0.07500259\n",
      "  0.0028113   0.261774    0.10376318  0.19953321]\n"
     ]
    },
    {
     "name": "stderr",
     "output_type": "stream",
     "text": [
      "12it [05:55, 34.03s/it]"
     ]
    },
    {
     "name": "stdout",
     "output_type": "stream",
     "text": [
      "tau: [-1.39298261  0.62541655 -0.23061765]\n",
      "rho: [[0.         0.14660238 0.25747226]\n",
      " [0.14660238 0.         0.25747226]\n",
      " [0.14660238 0.25747226 0.        ]]\n",
      "nu: [[0.03034414 0.06244176 0.02465272]\n",
      " [0.03034414 0.06244176 0.02465272]\n",
      " [0.03034414 0.06244176 0.02465272]]\n",
      "beta: [-9.99766902e-01 -6.62726415e-01 -1.92743389e-01 -2.47347774e-01\n",
      "  4.38226150e-04 -9.55349005e-02  4.74052575e-02  4.76461151e-01\n",
      "  5.27377781e-02  5.08795624e-02]\n"
     ]
    },
    {
     "name": "stderr",
     "output_type": "stream",
     "text": [
      "13it [06:30, 34.32s/it]"
     ]
    },
    {
     "name": "stdout",
     "output_type": "stream",
     "text": [
      "tau: [-1.66624994  0.54833239 -0.13717627]\n",
      "rho: [[0.         0.05260114 0.20822269]\n",
      " [0.05260114 0.         0.20822269]\n",
      " [0.05260114 0.20822269 0.        ]]\n",
      "nu: [[0.14080634 0.06272403 0.0229384 ]\n",
      " [0.14080634 0.06272403 0.0229384 ]\n",
      " [0.14080634 0.06272403 0.0229384 ]]\n",
      "beta: [ 0.10432673 -1.11325974 -0.17286075 -0.24010731  0.05272291 -0.01285181\n",
      " -0.10122202  0.61635867 -0.02929623 -0.00259515]\n"
     ]
    },
    {
     "name": "stderr",
     "output_type": "stream",
     "text": [
      "14it [06:58, 32.44s/it]"
     ]
    },
    {
     "name": "stdout",
     "output_type": "stream",
     "text": [
      "tau: [-1.16069685  0.44368344 -0.25318834]\n",
      "rho: [[0.         0.08179757 0.15806135]\n",
      " [0.08179757 0.         0.15806135]\n",
      " [0.08179757 0.15806135 0.        ]]\n",
      "nu: [[0.11006063 0.00458326 0.02886272]\n",
      " [0.11006063 0.00458326 0.02886272]\n",
      " [0.11006063 0.00458326 0.02886272]]\n",
      "beta: [-1.64388079 -0.79109795 -0.07738168 -0.05732672  0.02252992  0.14985856\n",
      " -0.04232132  0.22707168  0.08613597  0.21788295]\n"
     ]
    },
    {
     "name": "stderr",
     "output_type": "stream",
     "text": [
      "15it [07:26, 30.92s/it]"
     ]
    },
    {
     "name": "stdout",
     "output_type": "stream",
     "text": [
      "tau: [-1.16753979  0.57493512 -0.56635359]\n",
      "rho: [[0.         0.09775066 0.3399568 ]\n",
      " [0.09775066 0.         0.3399568 ]\n",
      " [0.09775066 0.3399568  0.        ]]\n",
      "nu: [[0.00676528 0.01953723 0.06844592]\n",
      " [0.00676528 0.01953723 0.06844592]\n",
      " [0.00676528 0.01953723 0.06844592]]\n",
      "beta: [-0.4015527  -0.76616256 -0.14738194 -0.1546566  -0.01353123  0.01448871\n",
      " -0.04769163  0.70333762 -0.06693891  0.17176216]\n"
     ]
    },
    {
     "name": "stderr",
     "output_type": "stream",
     "text": [
      "16it [08:08, 34.21s/it]"
     ]
    },
    {
     "name": "stdout",
     "output_type": "stream",
     "text": [
      "tau: [-0.78983242  0.31837803 -0.23841679]\n",
      "rho: [[0.         0.17087634 0.28773653]\n",
      " [0.17087634 0.         0.28773653]\n",
      " [0.17087634 0.28773653 0.        ]]\n",
      "nu: [[ 0.04075454 -0.03995905  0.04710637]\n",
      " [ 0.04075454 -0.03995905  0.04710637]\n",
      " [ 0.04075454 -0.03995905  0.04710637]]\n",
      "beta: [-0.34282725 -0.58615155 -0.12492126 -0.27626052 -0.10632452 -0.10592944\n",
      " -0.06366518  0.44707102  0.03388332  0.22493061]\n"
     ]
    },
    {
     "name": "stderr",
     "output_type": "stream",
     "text": [
      "17it [08:52, 37.35s/it]"
     ]
    },
    {
     "name": "stdout",
     "output_type": "stream",
     "text": [
      "tau: [-0.75603571  0.7460466  -0.97110094]\n",
      "rho: [[0.         0.05084735 0.2581122 ]\n",
      " [0.05084735 0.         0.2581122 ]\n",
      " [0.05084735 0.2581122  0.        ]]\n",
      "nu: [[ 0.07825742 -0.0234571  -0.01587465]\n",
      " [ 0.07825742 -0.0234571  -0.01587465]\n",
      " [ 0.07825742 -0.0234571  -0.01587465]]\n",
      "beta: [-1.54918649 -0.98148478  0.01420728 -0.02885814 -0.04106502  0.23070582\n",
      " -0.04091927  0.41143467 -0.04316902  0.19170825]\n"
     ]
    },
    {
     "name": "stderr",
     "output_type": "stream",
     "text": [
      "18it [09:32, 38.19s/it]"
     ]
    },
    {
     "name": "stdout",
     "output_type": "stream",
     "text": [
      "tau: [-1.39108076  0.9054155  -0.3212202 ]\n",
      "rho: [[0.         0.11749791 0.21435826]\n",
      " [0.11749791 0.         0.21435826]\n",
      " [0.11749791 0.21435826 0.        ]]\n",
      "nu: [[0.11928996 0.01464712 0.04379251]\n",
      " [0.11928996 0.01464712 0.04379251]\n",
      " [0.11928996 0.01464712 0.04379251]]\n",
      "beta: [-0.07011632 -0.67614031 -0.22765947 -0.19550315 -0.03241603  0.34521927\n",
      " -0.09445323  0.34777399  0.03055813  0.33182298]\n"
     ]
    },
    {
     "name": "stderr",
     "output_type": "stream",
     "text": [
      "19it [10:06, 36.70s/it]"
     ]
    },
    {
     "name": "stdout",
     "output_type": "stream",
     "text": [
      "tau: [-1.24568896  0.56517146 -0.4213584 ]\n",
      "rho: [[0.         0.11820225 0.23751782]\n",
      " [0.11820225 0.         0.23751782]\n",
      " [0.11820225 0.23751782 0.        ]]\n",
      "nu: [[ 0.15624419 -0.01031722  0.01915192]\n",
      " [ 0.15624419 -0.01031722  0.01915192]\n",
      " [ 0.15624419 -0.01031722  0.01915192]]\n",
      "beta: [-0.1428414  -0.75583755 -0.21465294 -0.23448078  0.00136948  0.06081438\n",
      "  0.00223419  0.38379044 -0.06318158  0.23362598]\n"
     ]
    },
    {
     "name": "stderr",
     "output_type": "stream",
     "text": [
      "20it [10:32, 31.62s/it]"
     ]
    },
    {
     "name": "stdout",
     "output_type": "stream",
     "text": [
      "Average effect: 0.1400975\n",
      "Direct effect: -0.11814875\n",
      "Spillover effect: -0.3076212499999999\n",
      "Psi_0_gamma: 0.22807999999999998\n",
      "Psi_zero: 0.53570125\n"
     ]
    },
    {
     "name": "stderr",
     "output_type": "stream",
     "text": [
      "\n"
     ]
    }
   ],
   "source": [
    "from autognet2 import *\n",
    "\n",
    "ret = {\n",
    "    'average': [],\n",
    "    'direct_effect': [],\n",
    "    'spillover_effect': [],\n",
    "    'psi_0_gamma': [],\n",
    "    'psi_zero': []\n",
    "}\n",
    "for Y, A, L in tqdm(zip(Y_chain, A_chain, L_chain)):\n",
    "    ret_i = evaluate_autognet_via_agc_effect(adj, Y, A, L, treatment_allocation=0.7, R=20, burnin=10, seed=1)\n",
    "    ret['average'].append(ret_i['average'])\n",
    "    ret['direct_effect'].append(ret_i['direct_effect'])\n",
    "    ret['spillover_effect'].append(ret_i['spillover_effect'])\n",
    "    ret['psi_0_gamma'].append(ret_i['psi_0_gamma'])\n",
    "    ret['psi_zero'].append(ret_i['psi_zero'])\n",
    "    \n",
    "print('Average effect:', np.mean(ret['average']))\n",
    "print('Direct effect:', np.mean(ret['direct_effect']))\n",
    "print('Spillover effect:', np.mean(ret['spillover_effect']))\n",
    "print('Psi_0_gamma:', np.mean(ret['psi_0_gamma']))\n",
    "print('Psi_zero:', np.mean(ret['psi_zero']))"
   ]
  },
  {
   "cell_type": "code",
   "execution_count": null,
   "id": "4a6f5b4b",
   "metadata": {},
   "outputs": [],
   "source": []
  }
 ],
 "metadata": {
  "kernelspec": {
   "display_name": "base",
   "language": "python",
   "name": "python3"
  },
  "language_info": {
   "codemirror_mode": {
    "name": "ipython",
    "version": 3
   },
   "file_extension": ".py",
   "mimetype": "text/x-python",
   "name": "python",
   "nbconvert_exporter": "python",
   "pygments_lexer": "ipython3",
   "version": "3.8.8"
  }
 },
 "nbformat": 4,
 "nbformat_minor": 5
}
