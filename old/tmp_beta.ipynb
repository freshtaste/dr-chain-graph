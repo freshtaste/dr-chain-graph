{
 "cells": [
  {
   "cell_type": "code",
   "execution_count": 1,
   "id": "9ddc2a91",
   "metadata": {},
   "outputs": [
    {
     "data": {
      "text/plain": [
       "array([[0, 1, 0, ..., 0, 0, 0],\n",
       "       [1, 0, 1, ..., 0, 0, 0],\n",
       "       [0, 1, 0, ..., 0, 0, 0],\n",
       "       ...,\n",
       "       [0, 0, 0, ..., 0, 0, 1],\n",
       "       [0, 0, 0, ..., 0, 0, 0],\n",
       "       [0, 0, 0, ..., 1, 0, 0]])"
      ]
     },
     "execution_count": 1,
     "metadata": {},
     "output_type": "execute_result"
    }
   ],
   "source": [
    "import networkx as nx\n",
    "import numpy as np\n",
    "\n",
    "def get_ba_with_degree_cap(N, m=2, max_degree=10, seed=0):\n",
    "    \"\"\"\n",
    "    Modified Barabási-Albert model with maximum degree constraint.\n",
    "    \"\"\"\n",
    "    np.random.seed(seed)\n",
    "    G = nx.empty_graph(m)  # Start with m isolated nodes\n",
    "    targets = list(range(m))\n",
    "    repeated_nodes = list(targets)\n",
    "\n",
    "    for new_node in range(m, N):\n",
    "        # Filter eligible targets (nodes with degree < max_degree)\n",
    "        eligible = [node for node in repeated_nodes if G.degree[node] < max_degree]\n",
    "        eligible = list(set(eligible))  # Remove duplicates\n",
    "\n",
    "        # If not enough eligible nodes, connect to random nodes\n",
    "        if len(eligible) < m:\n",
    "            targets = np.random.choice(list(G.nodes), size=m, replace=False)\n",
    "        else:\n",
    "            probs = np.array([G.degree[node] for node in eligible], dtype=float)\n",
    "            probs = probs/probs.sum() if probs.sum() > 0 else np.ones(len(eligible))/len(eligible)\n",
    "            targets = np.random.choice(eligible, size=m, replace=False, p=probs)\n",
    "\n",
    "        for target in targets:\n",
    "            G.add_edge(new_node, target)\n",
    "\n",
    "        # Update repeated_nodes list\n",
    "        repeated_nodes.extend(targets)\n",
    "        repeated_nodes.extend([new_node] * m)\n",
    "\n",
    "    return nx.to_numpy_array(G, dtype=int)\n",
    "\n",
    "adj = get_ba_with_degree_cap(800, m=1, max_degree=2, seed=0)\n",
    "adj"
   ]
  },
  {
   "cell_type": "code",
   "execution_count": 2,
   "id": "6ca29a52",
   "metadata": {},
   "outputs": [
    {
     "name": "stdout",
     "output_type": "stream",
     "text": [
      "Number of nodes: 800\n",
      "Number of edges: 799\n",
      "Average degree: 1.9975\n",
      "Max degree: 2\n",
      "Min degree: 1\n"
     ]
    }
   ],
   "source": [
    "neighbor_list = []\n",
    "for i in range(adj.shape[0]):\n",
    "    neighbors = np.where(adj[i] == 1)[0]\n",
    "    neighbor_list.append(neighbors.tolist())\n",
    "print(\"Number of nodes:\", len(neighbor_list))\n",
    "print(\"Number of edges:\", sum(len(neighbors) for neighbors in neighbor_list) // 2)\n",
    "print(\"Average degree:\", sum(len(neighbors) for neighbors in neighbor_list) / len(neighbor_list))\n",
    "print(\"Max degree:\", max(len(neighbors) for neighbors in neighbor_list))\n",
    "print(\"Min degree:\", min(len(neighbors) for neighbors in neighbor_list))"
   ]
  },
  {
   "cell_type": "code",
   "execution_count": 33,
   "id": "f4603822-2e91-43d0-9797-5c48185fc8ae",
   "metadata": {},
   "outputs": [
    {
     "name": "stderr",
     "output_type": "stream",
     "text": [
      "100%|██████████| 40/40 [00:01<00:00, 30.30it/s]\n"
     ]
    }
   ],
   "source": [
    "from dgp_old import *\n",
    "\n",
    "# 1. Simulate or load data\n",
    "sample_size = 800\n",
    "m = 2\n",
    "max_degree = 4\n",
    "adj = adj = get_ba_with_degree_cap(sample_size, m=m, max_degree=max_degree, seed=0)\n",
    "\n",
    "tau = np.array([-1.0, 0.50, -0.50])       # shape (3,)\n",
    "rho = np.array([[0,0.1,0.2],\n",
    "                [0.1,0,0.1],\n",
    "                [0.2,0.1,0]])      # shape (3, 3), with 0s on the diagonal\n",
    "nu = np.array([0.1,0,0,0.1,0,0,0.1,0,0]).reshape(3,3)       # shape (3, 3)\n",
    "gamma = np.array([-1.00,0.50,0.10,0.20,0.05,0.25,-0.08,0.30])     # shape (8,)\n",
    "beta = np.array([-0.30,-0.60,-0.20,-0.20,-0.05,-0.10,-0.01,0.40,0.01,0.20])     # shape (10,)\n",
    "\n",
    "Y_chain, A_chain, L_chain = sample_network_chain(adj, tau, rho, nu, gamma, beta, R=30,\n",
    "    burnin_R=10, seed=1)\n",
    "\n",
    "Y_chain = Y_chain[::3]\n",
    "A_chain = A_chain[::3]\n",
    "L_chain = L_chain[::3]"
   ]
  },
  {
   "cell_type": "code",
   "execution_count": 34,
   "id": "5c137ed0",
   "metadata": {},
   "outputs": [
    {
     "data": {
      "text/plain": [
       "{'average': 0.260475,\n",
       " 'direct_effect': -0.14177499999999996,\n",
       " 'spillover_effect': -0.16287500000000016,\n",
       " 'psi_1_gamma': 0.216075,\n",
       " 'psi_0_gamma': 0.35784999999999995,\n",
       " 'psi_zero': 0.5207250000000001}"
      ]
     },
     "execution_count": 34,
     "metadata": {},
     "output_type": "execute_result"
    }
   ],
   "source": [
    "from agcEffect import *\n",
    "\n",
    "agc_effect(\n",
    "    adj,\n",
    "    tau, rho, nu, beta,\n",
    "    treatment_allocation=0.7,\n",
    "    R=50,\n",
    "    burnin_R=10,\n",
    "    seed=0\n",
    ")"
   ]
  },
  {
   "cell_type": "code",
   "execution_count": 35,
   "id": "c4163040",
   "metadata": {},
   "outputs": [
    {
     "name": "stdout",
     "output_type": "stream",
     "text": [
      "[[0 1 1 ... 1 1 1]\n",
      " [0 1 0 ... 1 1 0]\n",
      " [1 1 1 ... 1 0 1]\n",
      " ...\n",
      " [1 1 1 ... 1 1 1]\n",
      " [1 1 1 ... 1 1 0]\n",
      " [1 0 1 ... 1 0 1]]\n",
      "numerator_vec: [[0.32155661 0.69920761 1.42978176 ... 0.6878902  1.77069895 1.42978176]\n",
      " [0.42327377 0.51331777 0.37008277 ... 0.79376064 0.3979092  0.37008277]\n",
      " [1.14102088 1.26158435 1.14225205 ... 2.44992418 0.7813701  1.14225205]\n",
      " ...\n",
      " [1.00898246 1.93865039 1.93865039 ... 1.00898246 1.00898246 1.93865039]\n",
      " [1.28043312 1.62069028 2.46021339 ... 1.28043312 0.84349818 0.95556888]\n",
      " [3.38599474 2.75587556 3.38599474 ... 3.38599474 2.75587556 1.03378755]]\n"
     ]
    },
    {
     "data": {
      "text/plain": [
       "{'average': 0.27934586185323396,\n",
       " 'direct_effect': -0.12690004843536176,\n",
       " 'spillover_effect': -0.2160878206657013,\n",
       " 'psi_1_gamma': 0.2419761704442089,\n",
       " 'psi_0_gamma': 0.36887621887957067,\n",
       " 'psi_zero': 0.584964039545272}"
      ]
     },
     "execution_count": 35,
     "metadata": {},
     "output_type": "execute_result"
    }
   ],
   "source": [
    "from drnet import doubly_robust\n",
    "from run_pll import cols_raw\n",
    "\n",
    "ret_i = doubly_robust(A_chain[-2], L_chain[-2], Y_chain[-2], adj, return_raw=False)\n",
    "ret_i"
   ]
  },
  {
   "cell_type": "code",
   "execution_count": 36,
   "id": "e749e909",
   "metadata": {},
   "outputs": [
    {
     "data": {
      "text/plain": [
       "{'average': 0.24973979903611543,\n",
       " 'direct_effect': -0.06422253186035845,\n",
       " 'spillover_effect': -0.3629879873083496,\n",
       " 'psi_1_gamma': 0.23166111366673256,\n",
       " 'psi_0_gamma': 0.295883645527091,\n",
       " 'psi_zero': 0.6588716328354406}"
      ]
     },
     "execution_count": 36,
     "metadata": {},
     "output_type": "execute_result"
    }
   ],
   "source": [
    "from drnet_em import doubly_robust_em\n",
    "\n",
    "ret_i_em = doubly_robust_em(A_chain[-3], L_chain[-3], Y_chain[-3], adj, return_raw=False)\n",
    "ret_i_em"
   ]
  },
  {
   "cell_type": "code",
   "execution_count": null,
   "id": "4443e465-27d1-49a9-9f84-c68492a18d0b",
   "metadata": {},
   "outputs": [],
   "source": []
  },
  {
   "cell_type": "code",
   "execution_count": null,
   "id": "6b00cc42",
   "metadata": {},
   "outputs": [
    {
     "name": "stderr",
     "output_type": "stream",
     "text": [
      "100%|██████████| 40/40 [00:01<00:00, 27.37it/s]\n"
     ]
    }
   ],
   "source": [
    "num_sample = 30\n",
    "num_burn = 10\n",
    "sample_size = 800\n",
    "\n",
    "from dgp_old import *\n",
    "\n",
    "# 1. Simulate or load data\n",
    "min_degree = 5\n",
    "max_degree = 7\n",
    "adj = get_graph(sample_size, min_degree, max_degree, seed=1)\n",
    "\n",
    "tau = np.array([-1.0, 0.50, -0.50])       # shape (3,)\n",
    "rho = np.array([[0,0.1,0.2],\n",
    "                [0.1,0,0.1],\n",
    "                [0.2,0.1,0]])      # shape (3, 3), with 0s on the diagonal\n",
    "nu = np.array([0.1,0,0,0.1,0,0,0.1,0,0]).reshape(3,3)       # shape (3, 3)\n",
    "gamma = np.array([-2.00,0.50,0.10,0.20,0.05,0.25,-0.08,0.30])     # shape (8,)\n",
    "beta = np.array([-0.30,-0.60,-0.20,-0.20,-0.05,-0.10,-0.01,0.40,0.01,0.20])     # shape (10,)\n",
    "\n",
    "Y_chain, A_chain, L_chain = sample_network_chain2(adj, tau, rho, nu, gamma, beta, R=num_sample,\n",
    "    burnin_R=num_burn, seed=0)\n",
    "\n",
    "Y_chain = Y_chain[::3]\n",
    "A_chain = A_chain[::3]\n",
    "L_chain = L_chain[::3]"
   ]
  },
  {
   "cell_type": "code",
   "execution_count": 2,
   "id": "2732bb9b",
   "metadata": {},
   "outputs": [
    {
     "data": {
      "text/plain": [
       "{'average': 0.201,\n",
       " 'direct_effect': 0.025250000000000022,\n",
       " 'spillover_effect': -0.23697500000000005,\n",
       " 'psi_1_gamma': 0.21157499999999999,\n",
       " 'psi_0_gamma': 0.18632499999999996,\n",
       " 'psi_zero': 0.4233}"
      ]
     },
     "execution_count": 2,
     "metadata": {},
     "output_type": "execute_result"
    }
   ],
   "source": [
    "from agcEffect import *\n",
    "\n",
    "agc_effect2(\n",
    "    adj,\n",
    "    tau, rho, nu, beta,\n",
    "    treatment_allocation=0.7,\n",
    "    R=50,\n",
    "    burnin_R=10,\n",
    "    seed=0\n",
    ")"
   ]
  },
  {
   "cell_type": "code",
   "execution_count": 13,
   "id": "3796957e",
   "metadata": {},
   "outputs": [
    {
     "data": {
      "text/plain": [
       "(0.009349342448493666, 0.4965)"
      ]
     },
     "execution_count": 13,
     "metadata": {},
     "output_type": "execute_result"
    }
   ],
   "source": [
    "dir, dir2 = [], []\n",
    "for i in range(Y_chain.shape[0]):\n",
    "    Y = Y_chain[i]\n",
    "    A = A_chain[i]\n",
    "    L = L_chain[i]\n",
    "    dir.append(np.mean(Y[A==1]) - np.mean(Y[A==0]))\n",
    "    dir2.append(np.mean(A))\n",
    "\n",
    "np.mean(dir), np.mean(dir2)"
   ]
  },
  {
   "cell_type": "code",
   "execution_count": 2,
   "id": "642ebbea",
   "metadata": {},
   "outputs": [],
   "source": [
    "n_cpu = 10"
   ]
  },
  {
   "cell_type": "code",
   "execution_count": 5,
   "id": "94ad9036",
   "metadata": {},
   "outputs": [
    {
     "name": "stdout",
     "output_type": "stream",
     "text": [
      "Multiprocessing <function run_dr at 0x10808c1f0> in 10 tasks, with 10 processes...\n",
      "Multiprocessing finished.\n"
     ]
    }
   ],
   "source": [
    "from run_pll import *\n",
    "from utils import run_pll\n",
    "\n",
    "args = [{'Y_chain': Y_chain,\n",
    "         'A_chain': A_chain,\n",
    "         'L_chain': L_chain,\n",
    "         'adj': adj,\n",
    "         'i': i} for i in range(len(Y_chain))]\n",
    "\n",
    "res_list_dr = run_pll(run_dr, args, processes=n_cpu)\n",
    "res_list_array_dr = np.array(res_list_dr)"
   ]
  },
  {
   "cell_type": "code",
   "execution_count": 6,
   "id": "c3e7ffb7",
   "metadata": {},
   "outputs": [
    {
     "name": "stdout",
     "output_type": "stream",
     "text": [
      "average: 0.18595 ± 0.03886\n",
      "direct_effect: -0.00959 ± 0.04825\n",
      "spillover_effect: -0.24056 ± 0.08832\n",
      "psi_0_gamma: 0.19490 ± 0.05247\n",
      "psi_zero: 0.43545 ± 0.06247\n",
      "psi_1_gamma: 0.18530 ± 0.03915\n"
     ]
    }
   ],
   "source": [
    "from run_pll import column_names\n",
    "\n",
    "ret_mean_dr = res_list_array_dr.mean(axis=0)\n",
    "ret_std_dr = res_list_array_dr.std(axis=0)\n",
    "for i in range(len(column_names)):\n",
    "    print(f\"{column_names[i]}: {ret_mean_dr[i]:.5f} ± {ret_std_dr[i]:.5f}\")"
   ]
  },
  {
   "cell_type": "code",
   "execution_count": 7,
   "id": "16e13c3f",
   "metadata": {},
   "outputs": [
    {
     "name": "stdout",
     "output_type": "stream",
     "text": [
      "Multiprocessing <function run_autognet at 0x164620a60> in 10 tasks, with 10 processes...\n",
      "Multiprocessing finished.\n"
     ]
    }
   ],
   "source": [
    "from utils import run_pll\n",
    "from run_pll import run_autognet\n",
    "\n",
    "args = [{'Y_chain': Y_chain,\n",
    "         'A_chain': A_chain,\n",
    "         'L_chain': L_chain,\n",
    "         'adj': adj,\n",
    "         'i': i} for i in range(len(Y_chain))]\n",
    "\n",
    "res_list_ag = run_pll(run_autognet, args, processes=n_cpu)\n",
    "res_list_array_ag = np.array(res_list_ag)"
   ]
  },
  {
   "cell_type": "code",
   "execution_count": 8,
   "id": "c9eb8a03",
   "metadata": {},
   "outputs": [
    {
     "name": "stdout",
     "output_type": "stream",
     "text": [
      "average: 0.17153 ± 0.03228\n",
      "direct_effect: -0.02476 ± 0.02289\n",
      "spillover_effect: -0.20472 ± 0.06280\n",
      "psi_0_gamma: 0.19140 ± 0.03556\n",
      "psi_zero: 0.39611 ± 0.03821\n",
      "psi_1_gamma: 0.16664 ± 0.03403\n"
     ]
    }
   ],
   "source": [
    "from run_pll import column_names\n",
    "\n",
    "ret_mean_ag = res_list_array_ag.mean(axis=0)\n",
    "ret_std_ag = res_list_array_ag.std(axis=0)\n",
    "for i in range(len(column_names)):\n",
    "    print(f\"{column_names[i]}: {ret_mean_ag[i]:.5f} ± {ret_std_ag[i]:.5f}\")"
   ]
  },
  {
   "cell_type": "code",
   "execution_count": 3,
   "id": "7e7e6d0b",
   "metadata": {},
   "outputs": [
    {
     "name": "stdout",
     "output_type": "stream",
     "text": [
      "Multiprocessing <function run_dr_em at 0x15c9e0ee0> in 10 tasks, with 10 processes...\n",
      "Multiprocessing finished.\n"
     ]
    }
   ],
   "source": [
    "from run_pll import *\n",
    "from utils import run_pll\n",
    "\n",
    "args = [{'Y_chain': Y_chain,\n",
    "         'A_chain': A_chain,\n",
    "         'L_chain': L_chain,\n",
    "         'adj': adj,\n",
    "         'i': i} for i in range(len(Y_chain))]\n",
    "\n",
    "res_list_dr_em = run_pll(run_dr_em, args, processes=n_cpu)\n",
    "res_list_array_dr_em = np.array(res_list_dr_em)"
   ]
  },
  {
   "cell_type": "code",
   "execution_count": 4,
   "id": "e7b83bb4",
   "metadata": {},
   "outputs": [
    {
     "name": "stdout",
     "output_type": "stream",
     "text": [
      "average: 0.10687 ± 0.01503\n",
      "direct_effect: 0.03032 ± 0.02366\n",
      "spillover_effect: -0.19783 ± 0.07553\n",
      "psi_0_gamma: 0.08564 ± 0.01672\n",
      "psi_zero: 0.28347 ± 0.06859\n",
      "psi_1_gamma: 0.11596 ± 0.01925\n"
     ]
    }
   ],
   "source": [
    "from run_pll import column_names\n",
    "\n",
    "ret_mean_dr_em = res_list_array_dr_em.mean(axis=0)\n",
    "ret_std_dr_em = res_list_array_dr_em.std(axis=0)\n",
    "for i in range(len(column_names)):\n",
    "    print(f\"{column_names[i]}: {ret_mean_dr_em[i]:.5f} ± {ret_std_dr_em[i]:.5f}\")"
   ]
  },
  {
   "cell_type": "code",
   "execution_count": null,
   "id": "e6b4f52f",
   "metadata": {},
   "outputs": [],
   "source": []
  }
 ],
 "metadata": {
  "kernelspec": {
   "display_name": "my_env",
   "language": "python",
   "name": "python3"
  },
  "language_info": {
   "codemirror_mode": {
    "name": "ipython",
    "version": 3
   },
   "file_extension": ".py",
   "mimetype": "text/x-python",
   "name": "python",
   "nbconvert_exporter": "python",
   "pygments_lexer": "ipython3",
   "version": "3.11.11"
  }
 },
 "nbformat": 4,
 "nbformat_minor": 5
}
