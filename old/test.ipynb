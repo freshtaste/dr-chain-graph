{
 "cells": [
  {
   "cell_type": "code",
   "execution_count": 1,
   "id": "37e311ff",
   "metadata": {},
   "outputs": [
    {
     "name": "stderr",
     "output_type": "stream",
     "text": [
      "100%|██████████| 520/520 [00:40<00:00, 12.92it/s]\n"
     ]
    }
   ],
   "source": [
    "from dgp import *\n",
    "\n",
    "# 1. Simulate or load data\n",
    "adj = get_graph(800, 1, 2, seed=1)\n",
    "\n",
    "tau = np.array([-1.0, 0.50, -0.50])       # shape (3,)\n",
    "rho = np.array([[0,0.1,0.2],\n",
    "                [0.1,0,0.1],\n",
    "                [0.2,0.1,0]])      # shape (3, 3), with 0s on the diagonal\n",
    "nu = np.array([0.1,0,0,0.1,0,0,0.1,0,0]).reshape(3,3)       # shape (3, 3)\n",
    "gamma = np.array([-1.00,0.50,0.10,0.20,0.05,0.25,-0.08,0.30])     # shape (8,)\n",
    "beta = np.array([-0.30,-0.60,-0.20,-0.20,-0.05,-0.10,-0.01,0.40,0.01,0.20])     # shape (10,)\n",
    "\n",
    "Y_chain, A_chain, L_chain = sample_network_chain(adj, tau, rho, nu, gamma, beta, R=500,\n",
    "    burnin_R=20, seed=0)\n",
    "\n",
    "Y_chain = Y_chain[::5]\n",
    "A_chain = A_chain[::5]\n",
    "L_chain = L_chain[::5]"
   ]
  },
  {
   "cell_type": "code",
   "execution_count": 2,
   "id": "3daba179",
   "metadata": {},
   "outputs": [
    {
     "data": {
      "text/plain": [
       "{'average': 0.31335625,\n",
       " 'direct_effect': -0.14082500000000003,\n",
       " 'spillover_effect': -0.05294999999999994,\n",
       " 'psi_1_gamma': 0.27003750000000004,\n",
       " 'psi_0_gamma': 0.4108625000000001,\n",
       " 'psi_zero': 0.4638125}"
      ]
     },
     "execution_count": 2,
     "metadata": {},
     "output_type": "execute_result"
    }
   ],
   "source": [
    "from agcEffect import *\n",
    "\n",
    "agc_effect(\n",
    "    adj,\n",
    "    tau, rho, nu, beta,\n",
    "    treatment_allocation=0.7,\n",
    "    R=200,\n",
    "    burnin_R=50,\n",
    "    seed=0\n",
    ")"
   ]
  },
  {
   "cell_type": "code",
   "execution_count": 2,
   "id": "8cca7ed2",
   "metadata": {},
   "outputs": [
    {
     "name": "stdout",
     "output_type": "stream",
     "text": [
      "Multiprocessing <function run_autognet at 0x1693ded40> in 4 tasks, with 4 processes...\n",
      "psi_zero: 0.45002499999999995\n",
      "psi_1_gamma: 0.25947499999999996\n",
      "psi_0_gamma: 0.4129\n",
      "average: 0.31045\n",
      "direct_effect: -0.15342500000000003\n",
      "spillover_effect: -0.037124999999999964\n",
      "psi_zero: 0.477\n",
      "psi_1_gamma: 0.2489\n",
      "psi_0_gamma: 0.467725\n",
      "average: 0.31842499999999996\n",
      "direct_effect: -0.218825\n",
      "spillover_effect: -0.009274999999999978\n",
      "psi_zero: 0.48885\n",
      "psi_1_gamma: 0.281525\n",
      "psi_0_gamma: 0.501375\n",
      "average: 0.35052500000000003\n",
      "direct_effect: -0.21985\n",
      "spillover_effect: 0.012525000000000008\n",
      "psi_zero: 0.5075\n",
      "psi_1_gamma: 0.2733499999999999\n",
      "psi_0_gamma: 0.43705\n",
      "average: 0.327025\n",
      "direct_effect: -0.16370000000000007\n",
      "spillover_effect: -0.07044999999999996\n",
      "Multiprocessing finished.\n"
     ]
    }
   ],
   "source": [
    "from utils import run_pll\n",
    "from run_pll import run_autognet\n",
    "\n",
    "args = [{'Y_chain': Y_chain,\n",
    "         'A_chain': A_chain,\n",
    "         'L_chain': L_chain,\n",
    "         'adj': adj,\n",
    "         'i': i} for i in range(len(Y_chain[:4]))]\n",
    "n_cpu = 4\n",
    "res_list = run_pll(run_autognet, args, processes=n_cpu)\n",
    "res_list_array = np.array(res_list)\n"
   ]
  },
  {
   "cell_type": "code",
   "execution_count": 3,
   "id": "e5db12bd",
   "metadata": {},
   "outputs": [
    {
     "name": "stdout",
     "output_type": "stream",
     "text": [
      "average: 0.32661 ± 0.01500\n",
      "direct_effect: -0.18895 ± 0.03061\n",
      "spillover_effect: -0.02608 ± 0.03108\n",
      "psi_0_gamma: 0.45476 ± 0.03319\n",
      "psi_zero: 0.48084 ± 0.02085\n",
      "psi_1_gamma: 0.26581 ± 0.01255\n"
     ]
    }
   ],
   "source": [
    "from run_pll import column_names\n",
    "\n",
    "ret_mean = res_list_array.mean(axis=0)\n",
    "ret_std = res_list_array.std(axis=0)\n",
    "for i in range(len(column_names)):\n",
    "    print(f\"{column_names[i]}: {ret_mean[i]:.5f} ± {ret_std[i]:.5f}\")"
   ]
  },
  {
   "cell_type": "code",
   "execution_count": null,
   "id": "64b36817",
   "metadata": {},
   "outputs": [],
   "source": [
    "{'average': 0.31335625,\n",
    " 'direct_effect': -0.14082500000000003,\n",
    " 'spillover_effect': -0.05294999999999994,\n",
    " 'psi_1_gamma': 0.27003750000000004,\n",
    " 'psi_0_gamma': 0.4108625000000001,\n",
    " 'psi_zero': 0.4638125}"
   ]
  },
  {
   "cell_type": "code",
   "execution_count": 3,
   "id": "46ba5c2e",
   "metadata": {},
   "outputs": [
    {
     "name": "stderr",
     "output_type": "stream",
     "text": [
      "1it [00:21, 21.48s/it]"
     ]
    },
    {
     "name": "stdout",
     "output_type": "stream",
     "text": [
      "psi_zero: 0.5075\n",
      "psi_1_gamma: 0.2733499999999999\n",
      "psi_0_gamma: 0.43705\n",
      "average: 0.327025\n",
      "direct_effect: -0.16370000000000007\n",
      "spillover_effect: -0.07044999999999996\n"
     ]
    },
    {
     "name": "stderr",
     "output_type": "stream",
     "text": [
      "2it [00:43, 21.77s/it]"
     ]
    },
    {
     "name": "stdout",
     "output_type": "stream",
     "text": [
      "psi_zero: 0.45002499999999995\n",
      "psi_1_gamma: 0.25947499999999996\n",
      "psi_0_gamma: 0.4129\n",
      "average: 0.31045\n",
      "direct_effect: -0.15342500000000003\n",
      "spillover_effect: -0.037124999999999964\n"
     ]
    },
    {
     "name": "stderr",
     "output_type": "stream",
     "text": [
      "3it [01:02, 20.42s/it]"
     ]
    },
    {
     "name": "stdout",
     "output_type": "stream",
     "text": [
      "psi_zero: 0.48885\n",
      "psi_1_gamma: 0.281525\n",
      "psi_0_gamma: 0.501375\n",
      "average: 0.35052500000000003\n",
      "direct_effect: -0.21985\n",
      "spillover_effect: 0.012525000000000008\n"
     ]
    },
    {
     "name": "stderr",
     "output_type": "stream",
     "text": [
      "4it [01:19, 19.02s/it]"
     ]
    },
    {
     "name": "stdout",
     "output_type": "stream",
     "text": [
      "psi_zero: 0.477\n",
      "psi_1_gamma: 0.2489\n",
      "psi_0_gamma: 0.467725\n",
      "average: 0.31842499999999996\n",
      "direct_effect: -0.218825\n",
      "spillover_effect: -0.009274999999999978\n"
     ]
    },
    {
     "name": "stderr",
     "output_type": "stream",
     "text": [
      "5it [01:48, 22.58s/it]"
     ]
    },
    {
     "name": "stdout",
     "output_type": "stream",
     "text": [
      "psi_zero: 0.46972499999999995\n",
      "psi_1_gamma: 0.327425\n",
      "psi_0_gamma: 0.40590000000000004\n",
      "average: 0.3527\n",
      "direct_effect: -0.07847500000000002\n",
      "spillover_effect: -0.06382499999999991\n"
     ]
    },
    {
     "name": "stderr",
     "output_type": "stream",
     "text": [
      "6it [02:11, 22.98s/it]"
     ]
    },
    {
     "name": "stdout",
     "output_type": "stream",
     "text": [
      "psi_zero: 0.455825\n",
      "psi_1_gamma: 0.243525\n",
      "psi_0_gamma: 0.40097499999999997\n",
      "average: 0.293525\n",
      "direct_effect: -0.15744999999999998\n",
      "spillover_effect: -0.05485000000000001\n"
     ]
    },
    {
     "name": "stderr",
     "output_type": "stream",
     "text": [
      "7it [02:29, 21.11s/it]"
     ]
    },
    {
     "name": "stdout",
     "output_type": "stream",
     "text": [
      "psi_zero: 0.47254999999999997\n",
      "psi_1_gamma: 0.304875\n",
      "psi_0_gamma: 0.448275\n",
      "average: 0.35414999999999996\n",
      "direct_effect: -0.14339999999999997\n",
      "spillover_effect: -0.02427499999999999\n"
     ]
    },
    {
     "name": "stderr",
     "output_type": "stream",
     "text": [
      "8it [02:45, 19.75s/it]"
     ]
    },
    {
     "name": "stdout",
     "output_type": "stream",
     "text": [
      "psi_zero: 0.486875\n",
      "psi_1_gamma: 0.25272500000000003\n",
      "psi_0_gamma: 0.41400000000000003\n",
      "average: 0.30260000000000004\n",
      "direct_effect: -0.161275\n",
      "spillover_effect: -0.07287499999999997\n"
     ]
    },
    {
     "name": "stderr",
     "output_type": "stream",
     "text": [
      "9it [03:03, 19.00s/it]"
     ]
    },
    {
     "name": "stdout",
     "output_type": "stream",
     "text": [
      "psi_zero: 0.45377500000000004\n",
      "psi_1_gamma: 0.23860000000000003\n",
      "psi_0_gamma: 0.41324999999999995\n",
      "average: 0.29527499999999995\n",
      "direct_effect: -0.17464999999999992\n",
      "spillover_effect: -0.04052500000000009\n"
     ]
    },
    {
     "name": "stderr",
     "output_type": "stream",
     "text": [
      "10it [03:20, 18.43s/it]"
     ]
    },
    {
     "name": "stdout",
     "output_type": "stream",
     "text": [
      "psi_zero: 0.47142500000000004\n",
      "psi_1_gamma: 0.265825\n",
      "psi_0_gamma: 0.46345\n",
      "average: 0.32805\n",
      "direct_effect: -0.197625\n",
      "spillover_effect: -0.007975000000000065\n"
     ]
    },
    {
     "name": "stderr",
     "output_type": "stream",
     "text": [
      "11it [03:38, 18.34s/it]"
     ]
    },
    {
     "name": "stdout",
     "output_type": "stream",
     "text": [
      "psi_zero: 0.4403250000000001\n",
      "psi_1_gamma: 0.341625\n",
      "psi_0_gamma: 0.435725\n",
      "average: 0.37\n",
      "direct_effect: -0.09409999999999996\n",
      "spillover_effect: -0.004600000000000104\n"
     ]
    },
    {
     "name": "stderr",
     "output_type": "stream",
     "text": [
      "12it [03:56, 18.08s/it]"
     ]
    },
    {
     "name": "stdout",
     "output_type": "stream",
     "text": [
      "psi_zero: 0.44462500000000005\n",
      "psi_1_gamma: 0.29675\n",
      "psi_0_gamma: 0.4189499999999999\n",
      "average: 0.33587500000000003\n",
      "direct_effect: -0.12219999999999986\n",
      "spillover_effect: -0.02567500000000017\n"
     ]
    },
    {
     "name": "stderr",
     "output_type": "stream",
     "text": [
      "13it [04:13, 17.84s/it]"
     ]
    },
    {
     "name": "stdout",
     "output_type": "stream",
     "text": [
      "psi_zero: 0.44384999999999997\n",
      "psi_1_gamma: 0.225975\n",
      "psi_0_gamma: 0.420125\n",
      "average: 0.28800000000000003\n",
      "direct_effect: -0.19415000000000002\n",
      "spillover_effect: -0.02372499999999994\n"
     ]
    },
    {
     "name": "stderr",
     "output_type": "stream",
     "text": [
      "14it [04:35, 19.08s/it]"
     ]
    },
    {
     "name": "stdout",
     "output_type": "stream",
     "text": [
      "psi_zero: 0.47525\n",
      "psi_1_gamma: 0.256125\n",
      "psi_0_gamma: 0.4163000000000001\n",
      "average: 0.30870000000000003\n",
      "direct_effect: -0.16017500000000012\n",
      "spillover_effect: -0.05894999999999989\n"
     ]
    },
    {
     "name": "stderr",
     "output_type": "stream",
     "text": [
      "15it [05:00, 21.07s/it]"
     ]
    },
    {
     "name": "stdout",
     "output_type": "stream",
     "text": [
      "psi_zero: 0.44542499999999996\n",
      "psi_1_gamma: 0.27255\n",
      "psi_0_gamma: 0.4903\n",
      "average: 0.3416750000000001\n",
      "direct_effect: -0.21775\n",
      "spillover_effect: 0.044875000000000054\n"
     ]
    },
    {
     "name": "stderr",
     "output_type": "stream",
     "text": [
      "16it [05:18, 19.90s/it]"
     ]
    },
    {
     "name": "stdout",
     "output_type": "stream",
     "text": [
      "psi_zero: 0.44065000000000004\n",
      "psi_1_gamma: 0.303675\n",
      "psi_0_gamma: 0.4078\n",
      "average: 0.33807499999999996\n",
      "direct_effect: -0.10412500000000002\n",
      "spillover_effect: -0.032850000000000046\n"
     ]
    },
    {
     "name": "stderr",
     "output_type": "stream",
     "text": [
      "17it [05:35, 19.06s/it]"
     ]
    },
    {
     "name": "stdout",
     "output_type": "stream",
     "text": [
      "psi_zero: 0.447\n",
      "psi_1_gamma: 0.26395\n",
      "psi_0_gamma: 0.393825\n",
      "average: 0.30729999999999996\n",
      "direct_effect: -0.12987499999999996\n",
      "spillover_effect: -0.05317500000000003\n"
     ]
    },
    {
     "name": "stderr",
     "output_type": "stream",
     "text": [
      "18it [05:52, 18.50s/it]"
     ]
    },
    {
     "name": "stdout",
     "output_type": "stream",
     "text": [
      "psi_zero: 0.500425\n",
      "psi_1_gamma: 0.2686\n",
      "psi_0_gamma: 0.4073\n",
      "average: 0.31322500000000003\n",
      "direct_effect: -0.1387\n",
      "spillover_effect: -0.09312500000000001\n"
     ]
    },
    {
     "name": "stderr",
     "output_type": "stream",
     "text": [
      "19it [06:10, 18.27s/it]"
     ]
    },
    {
     "name": "stdout",
     "output_type": "stream",
     "text": [
      "psi_zero: 0.46714999999999995\n",
      "psi_1_gamma: 0.29522499999999996\n",
      "psi_0_gamma: 0.45464999999999994\n",
      "average: 0.3461249999999999\n",
      "direct_effect: -0.15942499999999998\n",
      "spillover_effect: -0.012500000000000011\n"
     ]
    },
    {
     "name": "stderr",
     "output_type": "stream",
     "text": [
      "20it [06:27, 17.99s/it]"
     ]
    },
    {
     "name": "stdout",
     "output_type": "stream",
     "text": [
      "psi_zero: 0.4459499999999999\n",
      "psi_1_gamma: 0.292\n",
      "psi_0_gamma: 0.4178\n",
      "average: 0.33232500000000004\n",
      "direct_effect: -0.12580000000000002\n",
      "spillover_effect: -0.028149999999999897\n"
     ]
    },
    {
     "name": "stderr",
     "output_type": "stream",
     "text": [
      "21it [06:46, 18.37s/it]"
     ]
    },
    {
     "name": "stdout",
     "output_type": "stream",
     "text": [
      "psi_zero: 0.4517\n",
      "psi_1_gamma: 0.323975\n",
      "psi_0_gamma: 0.42884999999999995\n",
      "average: 0.36200000000000004\n",
      "direct_effect: -0.10487499999999994\n",
      "spillover_effect: -0.022850000000000037\n"
     ]
    },
    {
     "name": "stderr",
     "output_type": "stream",
     "text": [
      "22it [07:12, 20.63s/it]"
     ]
    },
    {
     "name": "stdout",
     "output_type": "stream",
     "text": [
      "psi_zero: 0.4633\n",
      "psi_1_gamma: 0.3302999999999999\n",
      "psi_0_gamma: 0.37847499999999995\n",
      "average: 0.349225\n",
      "direct_effect: -0.04817500000000002\n",
      "spillover_effect: -0.08482500000000004\n"
     ]
    },
    {
     "name": "stderr",
     "output_type": "stream",
     "text": [
      "23it [07:35, 21.19s/it]"
     ]
    },
    {
     "name": "stdout",
     "output_type": "stream",
     "text": [
      "psi_zero: 0.441675\n",
      "psi_1_gamma: 0.2691\n",
      "psi_0_gamma: 0.41450000000000004\n",
      "average: 0.31594999999999995\n",
      "direct_effect: -0.14540000000000003\n",
      "spillover_effect: -0.02717499999999995\n"
     ]
    },
    {
     "name": "stderr",
     "output_type": "stream",
     "text": [
      "24it [07:52, 19.88s/it]"
     ]
    },
    {
     "name": "stdout",
     "output_type": "stream",
     "text": [
      "psi_zero: 0.4181999999999999\n",
      "psi_1_gamma: 0.27237500000000003\n",
      "psi_0_gamma: 0.37245000000000006\n",
      "average: 0.303425\n",
      "direct_effect: -0.10007500000000003\n",
      "spillover_effect: -0.045749999999999846\n"
     ]
    },
    {
     "name": "stderr",
     "output_type": "stream",
     "text": [
      "25it [08:09, 19.18s/it]"
     ]
    },
    {
     "name": "stdout",
     "output_type": "stream",
     "text": [
      "psi_zero: 0.455525\n",
      "psi_1_gamma: 0.2547\n",
      "psi_0_gamma: 0.39807500000000007\n",
      "average: 0.300075\n",
      "direct_effect: -0.14337500000000009\n",
      "spillover_effect: -0.057449999999999946\n"
     ]
    },
    {
     "name": "stderr",
     "output_type": "stream",
     "text": [
      "26it [08:26, 18.49s/it]"
     ]
    },
    {
     "name": "stdout",
     "output_type": "stream",
     "text": [
      "psi_zero: 0.436825\n",
      "psi_1_gamma: 0.27194999999999997\n",
      "psi_0_gamma: 0.40025\n",
      "average: 0.31425000000000003\n",
      "direct_effect: -0.12830000000000003\n",
      "spillover_effect: -0.036575000000000024\n"
     ]
    },
    {
     "name": "stderr",
     "output_type": "stream",
     "text": [
      "27it [08:44, 18.24s/it]"
     ]
    },
    {
     "name": "stdout",
     "output_type": "stream",
     "text": [
      "psi_zero: 0.4925\n",
      "psi_1_gamma: 0.283975\n",
      "psi_0_gamma: 0.4667\n",
      "average: 0.343925\n",
      "direct_effect: -0.18272500000000003\n",
      "spillover_effect: -0.02579999999999999\n"
     ]
    },
    {
     "name": "stderr",
     "output_type": "stream",
     "text": [
      "27it [08:49, 19.61s/it]\n"
     ]
    },
    {
     "ename": "KeyboardInterrupt",
     "evalue": "",
     "output_type": "error",
     "traceback": [
      "\u001b[0;31m---------------------------------------------------------------------------\u001b[0m",
      "\u001b[0;31mKeyboardInterrupt\u001b[0m                         Traceback (most recent call last)",
      "Cell \u001b[0;32mIn[3], line 12\u001b[0m\n\u001b[1;32m      3\u001b[0m ret \u001b[38;5;241m=\u001b[39m {\n\u001b[1;32m      4\u001b[0m     \u001b[38;5;124m'\u001b[39m\u001b[38;5;124maverage\u001b[39m\u001b[38;5;124m'\u001b[39m: [],\n\u001b[1;32m      5\u001b[0m     \u001b[38;5;124m'\u001b[39m\u001b[38;5;124mdirect_effect\u001b[39m\u001b[38;5;124m'\u001b[39m: [],\n\u001b[0;32m   (...)\u001b[0m\n\u001b[1;32m      9\u001b[0m     \u001b[38;5;124m\"\u001b[39m\u001b[38;5;124mpsi_1_gamma\u001b[39m\u001b[38;5;124m\"\u001b[39m:[],\n\u001b[1;32m     10\u001b[0m }\n\u001b[1;32m     11\u001b[0m \u001b[38;5;28;01mfor\u001b[39;00m Y, A, L \u001b[38;5;129;01min\u001b[39;00m tqdm(\u001b[38;5;28mzip\u001b[39m(Y_chain, A_chain, L_chain)):\n\u001b[0;32m---> 12\u001b[0m     ret_i \u001b[38;5;241m=\u001b[39m \u001b[43mevaluate_autognet_via_agc_effect\u001b[49m\u001b[43m(\u001b[49m\u001b[43madj\u001b[49m\u001b[43m,\u001b[49m\u001b[43m \u001b[49m\u001b[43mY\u001b[49m\u001b[43m,\u001b[49m\u001b[43m \u001b[49m\u001b[43mA\u001b[49m\u001b[43m,\u001b[49m\u001b[43m \u001b[49m\u001b[43mL\u001b[49m\u001b[43m,\u001b[49m\u001b[43m \u001b[49m\u001b[43mtreatment_allocation\u001b[49m\u001b[38;5;241;43m=\u001b[39;49m\u001b[38;5;241;43m0.7\u001b[39;49m\u001b[43m,\u001b[49m\u001b[43m \u001b[49m\u001b[43mR\u001b[49m\u001b[38;5;241;43m=\u001b[39;49m\u001b[38;5;241;43m50\u001b[39;49m\u001b[43m,\u001b[49m\u001b[43m \u001b[49m\u001b[43mburnin\u001b[49m\u001b[38;5;241;43m=\u001b[39;49m\u001b[38;5;241;43m10\u001b[39;49m\u001b[43m,\u001b[49m\u001b[43m \u001b[49m\u001b[43mseed\u001b[49m\u001b[38;5;241;43m=\u001b[39;49m\u001b[38;5;241;43m1\u001b[39;49m\u001b[43m)\u001b[49m\n\u001b[1;32m     13\u001b[0m     ret[\u001b[38;5;124m'\u001b[39m\u001b[38;5;124maverage\u001b[39m\u001b[38;5;124m'\u001b[39m]\u001b[38;5;241m.\u001b[39mappend(ret_i[\u001b[38;5;124m'\u001b[39m\u001b[38;5;124maverage\u001b[39m\u001b[38;5;124m'\u001b[39m])\n\u001b[1;32m     14\u001b[0m     ret[\u001b[38;5;124m'\u001b[39m\u001b[38;5;124mdirect_effect\u001b[39m\u001b[38;5;124m'\u001b[39m]\u001b[38;5;241m.\u001b[39mappend(ret_i[\u001b[38;5;124m'\u001b[39m\u001b[38;5;124mdirect_effect\u001b[39m\u001b[38;5;124m'\u001b[39m])\n",
      "File \u001b[0;32m~/Desktop/causal inference/dr-chain-graph/dr-chain-graph/autognet.py:99\u001b[0m, in \u001b[0;36mevaluate_autognet_via_agc_effect\u001b[0;34m(adj_matrix, Y, A, L, treatment_allocation, R, burnin, seed)\u001b[0m\n\u001b[1;32m     92\u001b[0m tau, rho, nu, beta \u001b[38;5;241m=\u001b[39m extract_parameters_from_autog_models(models, adj_matrix)\n\u001b[1;32m     94\u001b[0m \u001b[38;5;66;03m# print(\"tau:\", tau)\u001b[39;00m\n\u001b[1;32m     95\u001b[0m \u001b[38;5;66;03m# print(\"rho:\", rho)\u001b[39;00m\n\u001b[1;32m     96\u001b[0m \u001b[38;5;66;03m# print(\"nu:\", nu)\u001b[39;00m\n\u001b[1;32m     97\u001b[0m \u001b[38;5;66;03m# print(\"beta:\", beta)\u001b[39;00m\n\u001b[0;32m---> 99\u001b[0m ret \u001b[38;5;241m=\u001b[39m \u001b[43magc_effect\u001b[49m\u001b[43m(\u001b[49m\n\u001b[1;32m    100\u001b[0m \u001b[43m    \u001b[49m\u001b[43madj_matrix\u001b[49m\u001b[38;5;241;43m=\u001b[39;49m\u001b[43madj_matrix\u001b[49m\u001b[43m,\u001b[49m\n\u001b[1;32m    101\u001b[0m \u001b[43m    \u001b[49m\u001b[43mtau\u001b[49m\u001b[38;5;241;43m=\u001b[39;49m\u001b[43mtau\u001b[49m\u001b[43m,\u001b[49m\n\u001b[1;32m    102\u001b[0m \u001b[43m    \u001b[49m\u001b[43mrho\u001b[49m\u001b[38;5;241;43m=\u001b[39;49m\u001b[43mrho\u001b[49m\u001b[43m,\u001b[49m\n\u001b[1;32m    103\u001b[0m \u001b[43m    \u001b[49m\u001b[43mnu\u001b[49m\u001b[38;5;241;43m=\u001b[39;49m\u001b[43mnu\u001b[49m\u001b[43m,\u001b[49m\n\u001b[1;32m    104\u001b[0m \u001b[43m    \u001b[49m\u001b[43mbeta\u001b[49m\u001b[38;5;241;43m=\u001b[39;49m\u001b[43mbeta\u001b[49m\u001b[43m,\u001b[49m\n\u001b[1;32m    105\u001b[0m \u001b[43m    \u001b[49m\u001b[43mtreatment_allocation\u001b[49m\u001b[38;5;241;43m=\u001b[39;49m\u001b[43mtreatment_allocation\u001b[49m\u001b[43m,\u001b[49m\n\u001b[1;32m    106\u001b[0m \u001b[43m    \u001b[49m\u001b[43mR\u001b[49m\u001b[38;5;241;43m=\u001b[39;49m\u001b[43mR\u001b[49m\u001b[43m,\u001b[49m\n\u001b[1;32m    107\u001b[0m \u001b[43m    \u001b[49m\u001b[43mburnin_R\u001b[49m\u001b[38;5;241;43m=\u001b[39;49m\u001b[43mburnin\u001b[49m\u001b[43m,\u001b[49m\n\u001b[1;32m    108\u001b[0m \u001b[43m    \u001b[49m\u001b[43mseed\u001b[49m\u001b[38;5;241;43m=\u001b[39;49m\u001b[43mseed\u001b[49m\n\u001b[1;32m    109\u001b[0m \u001b[43m\u001b[49m\u001b[43m)\u001b[49m\n\u001b[1;32m    111\u001b[0m \u001b[38;5;28mprint\u001b[39m(\u001b[38;5;124m\"\u001b[39m\u001b[38;5;124mpsi_zero:\u001b[39m\u001b[38;5;124m\"\u001b[39m, ret[\u001b[38;5;124m'\u001b[39m\u001b[38;5;124mpsi_zero\u001b[39m\u001b[38;5;124m'\u001b[39m])\n\u001b[1;32m    112\u001b[0m \u001b[38;5;28mprint\u001b[39m(\u001b[38;5;124m\"\u001b[39m\u001b[38;5;124mpsi_1_gamma:\u001b[39m\u001b[38;5;124m\"\u001b[39m, ret[\u001b[38;5;124m'\u001b[39m\u001b[38;5;124mpsi_1_gamma\u001b[39m\u001b[38;5;124m'\u001b[39m])\n",
      "File \u001b[0;32m~/Desktop/causal inference/dr-chain-graph/dr-chain-graph/agcEffect.py:101\u001b[0m, in \u001b[0;36magc_effect\u001b[0;34m(adj_matrix, tau, rho, nu, beta, treatment_allocation, R, burnin_R, seed)\u001b[0m\n\u001b[1;32m     98\u001b[0m     psi_gamma\u001b[38;5;241m.\u001b[39mappend(np\u001b[38;5;241m.\u001b[39mmean(Y))\n\u001b[1;32m    100\u001b[0m \u001b[38;5;66;03m# 2. All control\u001b[39;00m\n\u001b[0;32m--> 101\u001b[0m L_chain, Y_chain \u001b[38;5;241m=\u001b[39m \u001b[43mgibbs_sample_YL\u001b[49m\u001b[43m(\u001b[49m\u001b[43mtau\u001b[49m\u001b[43m,\u001b[49m\u001b[43m \u001b[49m\u001b[43mrho\u001b[49m\u001b[43m,\u001b[49m\u001b[43m \u001b[49m\u001b[43mnu\u001b[49m\u001b[43m,\u001b[49m\u001b[43m \u001b[49m\u001b[43mR\u001b[49m\u001b[43m \u001b[49m\u001b[38;5;241;43m+\u001b[39;49m\u001b[43m \u001b[49m\u001b[43mburnin_R\u001b[49m\u001b[43m,\u001b[49m\u001b[43m \u001b[49m\u001b[43mburnin_R\u001b[49m\u001b[43m,\u001b[49m\u001b[43m \u001b[49m\u001b[43mAtype\u001b[49m\u001b[38;5;241;43m=\u001b[39;49m\u001b[38;5;124;43m'\u001b[39;49m\u001b[38;5;124;43mall_0\u001b[39;49m\u001b[38;5;124;43m'\u001b[39;49m\u001b[43m)\u001b[49m\n\u001b[1;32m    102\u001b[0m \u001b[38;5;28;01mfor\u001b[39;00m L, Y \u001b[38;5;129;01min\u001b[39;00m \u001b[38;5;28mzip\u001b[39m(L_chain, Y_chain):\n\u001b[1;32m    103\u001b[0m     psi_zero\u001b[38;5;241m.\u001b[39mappend(np\u001b[38;5;241m.\u001b[39mmean(Y))\n",
      "File \u001b[0;32m~/Desktop/causal inference/dr-chain-graph/dr-chain-graph/agcEffect.py:60\u001b[0m, in \u001b[0;36magc_effect.<locals>.gibbs_sample_YL\u001b[0;34m(tau, rho, nu, R, burnin, Atype)\u001b[0m\n\u001b[1;32m     48\u001b[0m     linpred_Y \u001b[38;5;241m=\u001b[39m (\n\u001b[1;32m     49\u001b[0m         beta[\u001b[38;5;241m0\u001b[39m]\n\u001b[1;32m     50\u001b[0m         \u001b[38;5;241m+\u001b[39m beta[\u001b[38;5;241m1\u001b[39m] \u001b[38;5;241m*\u001b[39m \u001b[38;5;241m0\u001b[39m \u001b[38;5;241m+\u001b[39m beta[\u001b[38;5;241m2\u001b[39m] \u001b[38;5;241m*\u001b[39m np\u001b[38;5;241m.\u001b[39msum(A[neighbors[i]])\n\u001b[0;32m   (...)\u001b[0m\n\u001b[1;32m     54\u001b[0m         \u001b[38;5;241m+\u001b[39m beta[\u001b[38;5;241m9\u001b[39m] \u001b[38;5;241m*\u001b[39m np\u001b[38;5;241m.\u001b[39msum(Y[neighbors[i]])  \u001b[38;5;66;03m# initialize with zeros\u001b[39;00m\n\u001b[1;32m     55\u001b[0m     )\n\u001b[1;32m     56\u001b[0m \u001b[38;5;28;01melif\u001b[39;00m Atype \u001b[38;5;241m==\u001b[39m \u001b[38;5;124m'\u001b[39m\u001b[38;5;124mall_0\u001b[39m\u001b[38;5;124m'\u001b[39m:\n\u001b[1;32m     57\u001b[0m     linpred_Y \u001b[38;5;241m=\u001b[39m (\n\u001b[1;32m     58\u001b[0m         beta[\u001b[38;5;241m0\u001b[39m]\n\u001b[1;32m     59\u001b[0m         \u001b[38;5;241m+\u001b[39m beta[\u001b[38;5;241m1\u001b[39m] \u001b[38;5;241m*\u001b[39m \u001b[38;5;241m0\u001b[39m \u001b[38;5;241m+\u001b[39m beta[\u001b[38;5;241m2\u001b[39m] \u001b[38;5;241m*\u001b[39m \u001b[38;5;241m0\u001b[39m\n\u001b[0;32m---> 60\u001b[0m         \u001b[38;5;241m+\u001b[39m beta[\u001b[38;5;241m3\u001b[39m] \u001b[38;5;241m*\u001b[39m L[i, \u001b[38;5;241m0\u001b[39m] \u001b[38;5;241m+\u001b[39m beta[\u001b[38;5;241m4\u001b[39m] \u001b[38;5;241m*\u001b[39m \u001b[43mnp\u001b[49m\u001b[38;5;241;43m.\u001b[39;49m\u001b[43msum\u001b[49m\u001b[43m(\u001b[49m\u001b[43mL\u001b[49m\u001b[43m[\u001b[49m\u001b[43mneighbors\u001b[49m\u001b[43m[\u001b[49m\u001b[43mi\u001b[49m\u001b[43m]\u001b[49m\u001b[43m,\u001b[49m\u001b[43m \u001b[49m\u001b[38;5;241;43m0\u001b[39;49m\u001b[43m]\u001b[49m\u001b[43m)\u001b[49m\n\u001b[1;32m     61\u001b[0m         \u001b[38;5;241m+\u001b[39m beta[\u001b[38;5;241m5\u001b[39m] \u001b[38;5;241m*\u001b[39m L[i, \u001b[38;5;241m1\u001b[39m] \u001b[38;5;241m+\u001b[39m beta[\u001b[38;5;241m6\u001b[39m] \u001b[38;5;241m*\u001b[39m np\u001b[38;5;241m.\u001b[39msum(L[neighbors[i], \u001b[38;5;241m1\u001b[39m])\n\u001b[1;32m     62\u001b[0m         \u001b[38;5;241m+\u001b[39m beta[\u001b[38;5;241m7\u001b[39m] \u001b[38;5;241m*\u001b[39m L[i, \u001b[38;5;241m2\u001b[39m] \u001b[38;5;241m+\u001b[39m beta[\u001b[38;5;241m8\u001b[39m] \u001b[38;5;241m*\u001b[39m np\u001b[38;5;241m.\u001b[39msum(L[neighbors[i], \u001b[38;5;241m2\u001b[39m])\n\u001b[1;32m     63\u001b[0m         \u001b[38;5;241m+\u001b[39m beta[\u001b[38;5;241m9\u001b[39m] \u001b[38;5;241m*\u001b[39m np\u001b[38;5;241m.\u001b[39msum(Y[neighbors[i]])  \u001b[38;5;66;03m# initialize with zeros\u001b[39;00m\n\u001b[1;32m     64\u001b[0m     )\n\u001b[1;32m     65\u001b[0m \u001b[38;5;28;01melse\u001b[39;00m:\n\u001b[1;32m     66\u001b[0m     \u001b[38;5;28;01mraise\u001b[39;00m \u001b[38;5;167;01mValueError\u001b[39;00m(\u001b[38;5;124m\"\u001b[39m\u001b[38;5;124mInvalid Atype. Choose from \u001b[39m\u001b[38;5;124m'\u001b[39m\u001b[38;5;124mall\u001b[39m\u001b[38;5;124m'\u001b[39m\u001b[38;5;124m, \u001b[39m\u001b[38;5;124m'\u001b[39m\u001b[38;5;124mind_treat_1\u001b[39m\u001b[38;5;124m'\u001b[39m\u001b[38;5;124m, \u001b[39m\u001b[38;5;124m'\u001b[39m\u001b[38;5;124mind_treat_0\u001b[39m\u001b[38;5;124m'\u001b[39m\u001b[38;5;124m, or \u001b[39m\u001b[38;5;124m'\u001b[39m\u001b[38;5;124mall_0\u001b[39m\u001b[38;5;124m'\u001b[39m\u001b[38;5;124m.\u001b[39m\u001b[38;5;124m\"\u001b[39m)\n",
      "File \u001b[0;32m/opt/anaconda3/envs/my_env/lib/python3.11/site-packages/numpy/core/fromnumeric.py:2172\u001b[0m, in \u001b[0;36m_sum_dispatcher\u001b[0;34m(a, axis, dtype, out, keepdims, initial, where)\u001b[0m\n\u001b[1;32m   2102\u001b[0m \u001b[38;5;250m    \u001b[39m\u001b[38;5;124;03m\"\"\"\u001b[39;00m\n\u001b[1;32m   2103\u001b[0m \u001b[38;5;124;03m    Clip (limit) the values in an array.\u001b[39;00m\n\u001b[1;32m   2104\u001b[0m \n\u001b[0;32m   (...)\u001b[0m\n\u001b[1;32m   2167\u001b[0m \n\u001b[1;32m   2168\u001b[0m \u001b[38;5;124;03m    \"\"\"\u001b[39;00m\n\u001b[1;32m   2169\u001b[0m     \u001b[38;5;28;01mreturn\u001b[39;00m _wrapfunc(a, \u001b[38;5;124m'\u001b[39m\u001b[38;5;124mclip\u001b[39m\u001b[38;5;124m'\u001b[39m, a_min, a_max, out\u001b[38;5;241m=\u001b[39mout, \u001b[38;5;241m*\u001b[39m\u001b[38;5;241m*\u001b[39mkwargs)\n\u001b[0;32m-> 2172\u001b[0m \u001b[38;5;28;01mdef\u001b[39;00m\u001b[38;5;250m \u001b[39m\u001b[38;5;21m_sum_dispatcher\u001b[39m(a, axis\u001b[38;5;241m=\u001b[39m\u001b[38;5;28;01mNone\u001b[39;00m, dtype\u001b[38;5;241m=\u001b[39m\u001b[38;5;28;01mNone\u001b[39;00m, out\u001b[38;5;241m=\u001b[39m\u001b[38;5;28;01mNone\u001b[39;00m, keepdims\u001b[38;5;241m=\u001b[39m\u001b[38;5;28;01mNone\u001b[39;00m,\n\u001b[1;32m   2173\u001b[0m                     initial\u001b[38;5;241m=\u001b[39m\u001b[38;5;28;01mNone\u001b[39;00m, where\u001b[38;5;241m=\u001b[39m\u001b[38;5;28;01mNone\u001b[39;00m):\n\u001b[1;32m   2174\u001b[0m     \u001b[38;5;28;01mreturn\u001b[39;00m (a, out)\n\u001b[1;32m   2177\u001b[0m \u001b[38;5;129m@array_function_dispatch\u001b[39m(_sum_dispatcher)\n\u001b[1;32m   2178\u001b[0m \u001b[38;5;28;01mdef\u001b[39;00m\u001b[38;5;250m \u001b[39m\u001b[38;5;21msum\u001b[39m(a, axis\u001b[38;5;241m=\u001b[39m\u001b[38;5;28;01mNone\u001b[39;00m, dtype\u001b[38;5;241m=\u001b[39m\u001b[38;5;28;01mNone\u001b[39;00m, out\u001b[38;5;241m=\u001b[39m\u001b[38;5;28;01mNone\u001b[39;00m, keepdims\u001b[38;5;241m=\u001b[39mnp\u001b[38;5;241m.\u001b[39m_NoValue,\n\u001b[1;32m   2179\u001b[0m         initial\u001b[38;5;241m=\u001b[39mnp\u001b[38;5;241m.\u001b[39m_NoValue, where\u001b[38;5;241m=\u001b[39mnp\u001b[38;5;241m.\u001b[39m_NoValue):\n",
      "\u001b[0;31mKeyboardInterrupt\u001b[0m: "
     ]
    }
   ],
   "source": [
    "from autognet import evaluate_autognet_via_agc_effect\n",
    "\n",
    "ret = {\n",
    "    'average': [],\n",
    "    'direct_effect': [],\n",
    "    'spillover_effect': [],\n",
    "    'psi_0_gamma': [],\n",
    "    'psi_zero': [],\n",
    "    \"psi_1_gamma\":[],\n",
    "}\n",
    "for Y, A, L in tqdm(zip(Y_chain, A_chain, L_chain)):\n",
    "    ret_i = evaluate_autognet_via_agc_effect(adj, Y, A, L, treatment_allocation=0.7, R=50, burnin=10, seed=1)\n",
    "    ret['average'].append(ret_i['average'])\n",
    "    ret['direct_effect'].append(ret_i['direct_effect'])\n",
    "    ret['spillover_effect'].append(ret_i['spillover_effect'])\n",
    "    ret['psi_0_gamma'].append(ret_i['psi_0_gamma'])\n",
    "    ret['psi_zero'].append(ret_i['psi_zero'])\n",
    "    ret['psi_1_gamma'].append(ret_i['psi_1_gamma'])\n",
    "    \n",
    "print('Average effect:', np.mean(ret['average']))\n",
    "print('Direct effect:', np.mean(ret['direct_effect']))\n",
    "print('Spillover effect:', np.mean(ret['spillover_effect']))\n",
    "print('Psi_0_gamma:', np.mean(ret['psi_0_gamma']))\n",
    "print('Psi_zero:', np.mean(ret['psi_zero']))\n",
    "print('Psi_1_gamma:', np.mean(ret['psi_1_gamma']))"
   ]
  },
  {
   "cell_type": "code",
   "execution_count": null,
   "id": "b4a7c306",
   "metadata": {},
   "outputs": [],
   "source": []
  },
  {
   "cell_type": "markdown",
   "id": "1e5c092d",
   "metadata": {},
   "source": [
    "## Dense network"
   ]
  },
  {
   "cell_type": "code",
   "execution_count": null,
   "id": "7606762d",
   "metadata": {},
   "outputs": [],
   "source": [
    "from dgp import *\n",
    "\n",
    "# 1. Simulate or load data\n",
    "adj = get_graph(800, 6, 8, seed=1)\n",
    "\n",
    "tau = np.array([-1.0, 0.50, -0.50])       # shape (3,)\n",
    "rho = np.array([[0,0.1,0.2],\n",
    "                [0.1,0,0.1],\n",
    "                [0.2,0.1,0]])      # shape (3, 3), with 0s on the diagonal\n",
    "nu = np.array([0.1,0,0,0.1,0,0,0.1,0,0]).reshape(3,3)       # shape (3, 3)\n",
    "gamma = np.array([-1.00,0.50,0.10,0.20,0.05,0.25,-0.08,0.30])     # shape (8,)\n",
    "beta = np.array([-0.30,-0.60,-0.20,-0.20,-0.05,-0.10,-0.01,0.40,0.01,0.20])     # shape (10,)\n",
    "\n",
    "Y_chain, A_chain, L_chain = sample_network_chain(adj, tau, rho, nu, gamma, beta, R=500,\n",
    "    burnin_R=20, seed=0)\n",
    "\n",
    "Y_chain = Y_chain[::5]\n",
    "A_chain = A_chain[::5]\n",
    "L_chain = L_chain[::5]"
   ]
  },
  {
   "cell_type": "code",
   "execution_count": null,
   "id": "275593fe",
   "metadata": {},
   "outputs": [],
   "source": [
    "from agcEffect import *\n",
    "\n",
    "agc_effect(\n",
    "    adj,\n",
    "    tau, rho, nu, beta,\n",
    "    treatment_allocation=0.7,\n",
    "    R=200,\n",
    "    burnin_R=50,\n",
    "    seed=0\n",
    ")"
   ]
  },
  {
   "cell_type": "code",
   "execution_count": null,
   "id": "8e800c39",
   "metadata": {},
   "outputs": [],
   "source": [
    "from autognet import evaluate_autognet_via_agc_effect\n",
    "\n",
    "ret = {\n",
    "    'average': [],\n",
    "    'direct_effect': [],\n",
    "    'spillover_effect': [],\n",
    "    'psi_0_gamma': [],\n",
    "    'psi_zero': [],\n",
    "    \"psi_1_gamma\":[],\n",
    "}\n",
    "for Y, A, L in tqdm(zip(Y_chain, A_chain, L_chain)):\n",
    "    ret_i = evaluate_autognet_via_agc_effect(adj, Y, A, L, treatment_allocation=0.7, R=50, burnin=10, seed=1)\n",
    "    ret['average'].append(ret_i['average'])\n",
    "    ret['direct_effect'].append(ret_i['direct_effect'])\n",
    "    ret['spillover_effect'].append(ret_i['spillover_effect'])\n",
    "    ret['psi_0_gamma'].append(ret_i['psi_0_gamma'])\n",
    "    ret['psi_zero'].append(ret_i['psi_zero'])\n",
    "    ret['psi_1_gamma'].append(ret_i['psi_1_gamma'])\n",
    "    \n",
    "print('Average effect:', np.mean(ret['average']))\n",
    "print('Direct effect:', np.mean(ret['direct_effect']))\n",
    "print('Spillover effect:', np.mean(ret['spillover_effect']))\n",
    "print('Psi_0_gamma:', np.mean(ret['psi_0_gamma']))\n",
    "print('Psi_zero:', np.mean(ret['psi_zero']))\n",
    "print('Psi_1_gamma:', np.mean(ret['psi_1_gamma']))"
   ]
  },
  {
   "cell_type": "code",
   "execution_count": null,
   "id": "35782baa",
   "metadata": {},
   "outputs": [],
   "source": []
  }
 ],
 "metadata": {
  "kernelspec": {
   "display_name": "my_env",
   "language": "python",
   "name": "python3"
  },
  "language_info": {
   "codemirror_mode": {
    "name": "ipython",
    "version": 3
   },
   "file_extension": ".py",
   "mimetype": "text/x-python",
   "name": "python",
   "nbconvert_exporter": "python",
   "pygments_lexer": "ipython3",
   "version": "3.11.11"
  }
 },
 "nbformat": 4,
 "nbformat_minor": 5
}
