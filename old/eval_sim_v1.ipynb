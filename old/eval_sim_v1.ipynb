{
 "cells": [
  {
   "cell_type": "code",
   "execution_count": 1,
   "id": "8fecb096",
   "metadata": {},
   "outputs": [],
   "source": [
    "import numpy as np\n",
    "from utils import *\n",
    "from utils import *\n",
    "from dgp import sample_network_chain, get_graph, sample_Y1, agcEffect\n",
    "import numpy as np\n",
    "\n",
    "\n",
    "def prepare(num_sample, num_burn, sample_size, n_cpu, min_degree, max_degree):\n",
    "    # 1. Simulate or load data\n",
    "    adj1 = get_graph(sample_size, min_degree, max_degree, seed=1)\n",
    "    print(adj1.sum(axis=1).min(), adj1.sum(axis=1).max())\n",
    "\n",
    "    tau = np.array([-1.0, 0.50, -0.50])       # shape (3,)\n",
    "    rho = np.array([[0,0.1,0.2],\n",
    "                    [0.1,0,0.1],\n",
    "                    [0.2,0.1,0]])      # shape (3, 3), with 0s on the diagonal\n",
    "    nu = np.array([0.1,0,0,0.1,0,0,0.1,0,0]).reshape(3,3)       # shape (3, 3)\n",
    "    gamma = np.array([-1,2,0.1,-2,0.1,2,0.1,0.1])    # shape (8,)   \n",
    "    beta = np.array([-1*min_degree,2,-0.2,2,0.1,-2,0.1,2,0.1,0.1])  # shape (10,)\n",
    "\n",
    "    res_truth1 = agcEffect(\n",
    "        adj1,\n",
    "        tau, rho, nu, beta,\n",
    "        treatment_allocation=0.7,\n",
    "        R=100,\n",
    "        burnin_R=100,\n",
    "        seed=0\n",
    "    )\n",
    "    res_truth2 = agcEffect(\n",
    "        adj1,\n",
    "        tau, rho, nu, beta,\n",
    "        treatment_allocation=0.3,\n",
    "        R=100,\n",
    "        burnin_R=100,\n",
    "        seed=0\n",
    "    )\n",
    "\n",
    "    ground_truth1 = {}\n",
    "    ground_truth1['average'] = res_truth1['average']\n",
    "    ground_truth1['direct'] = res_truth1['direct_effect']\n",
    "    ground_truth1['indirect'] = res_truth1['psi_0_gamma'] - res_truth2['psi_0_gamma']\n",
    "    ground_truth1['spillover_effect'] = res_truth1['spillover_effect']\n",
    "    ground_truth1['psi_1_gamma'] = res_truth1['psi_1_gamma']\n",
    "    ground_truth1['psi_0_gamma'] = res_truth1['psi_0_gamma']\n",
    "    ground_truth1['psi_zero'] = res_truth1['psi_zero']\n",
    "\n",
    "    return adj1, None, None, None, ground_truth1\n",
    "\n",
    "num_sample = 300\n",
    "num_burn = 20\n",
    "n_cpu = 10"
   ]
  },
  {
   "cell_type": "code",
   "execution_count": 28,
   "id": "b0d65a80",
   "metadata": {},
   "outputs": [
    {
     "name": "stdout",
     "output_type": "stream",
     "text": [
      "1 2\n"
     ]
    },
    {
     "name": "stderr",
     "output_type": "stream",
     "text": [
      "100%|██████████| 200/200 [00:00<00:00, 581.88it/s]\n",
      "100%|██████████| 200/200 [00:00<00:00, 527.86it/s]\n",
      "100%|██████████| 200/200 [00:00<00:00, 592.37it/s]\n",
      "100%|██████████| 200/200 [00:00<00:00, 596.60it/s]\n",
      "100%|██████████| 200/200 [00:00<00:00, 600.40it/s]\n",
      "100%|██████████| 200/200 [00:00<00:00, 602.16it/s]\n",
      "100%|██████████| 200/200 [00:00<00:00, 593.89it/s]\n",
      "100%|██████████| 200/200 [00:00<00:00, 585.79it/s]\n"
     ]
    }
   ],
   "source": [
    "sample_size = 800\n",
    "min_degree = 1\n",
    "max_degree = 2\n",
    "\n",
    "adj1, Y_chain, A_chain, L_chain, ground_truth1 = prepare(num_sample, num_burn, sample_size, n_cpu, min_degree, max_degree)"
   ]
  },
  {
   "cell_type": "code",
   "execution_count": 29,
   "id": "8dd9896d",
   "metadata": {},
   "outputs": [
    {
     "name": "stderr",
     "output_type": "stream",
     "text": [
      "100%|██████████| 2000/2000 [01:17<00:00, 25.80it/s]\n"
     ]
    },
    {
     "data": {
      "text/plain": [
       "{'columns': ['average',\n",
       "  'direct',\n",
       "  'indirect',\n",
       "  'spillover_effect',\n",
       "  'psi_1_gamma',\n",
       "  'psi_0_gamma',\n",
       "  'psi_zero'],\n",
       " 'coverage_rate': array([0.9365, 0.9465, 0.9225, 0.923 , 0.939 , 0.941 , 0.926 ]),\n",
       " 'bias': array([-3.97170239e-06, -4.97438723e-03, -1.02080362e-03, -1.65494237e-03,\n",
       "        -3.45003787e-03,  1.52434936e-03,  3.17929173e-03]),\n",
       " 'mse': array([0.00255494, 0.0071886 , 0.00254044, 0.00691059, 0.00462743,\n",
       "        0.00276393, 0.00453894]),\n",
       " 'var': array([0.00255494, 0.00716386, 0.00253939, 0.00690785, 0.00461553,\n",
       "        0.0027616 , 0.00452883]),\n",
       " 'ci_length': array([0.17748107, 0.30267735, 0.16724886, 0.27947816, 0.23447915,\n",
       "        0.18448109, 0.22786862]),\n",
       " 'true_effect': array([ 0.59675  ,  0.3241125, -0.0245   , -0.0437125,  0.6959375,\n",
       "         0.371825 ,  0.4155375])}"
      ]
     },
     "execution_count": 29,
     "metadata": {},
     "output_type": "execute_result"
    }
   ],
   "source": [
    "results1 = np.load(f'run/sim_results_v1/sim_dr_em_raw_{sample_size}_{min_degree}_{max_degree}_{0.7}_None.npy', allow_pickle=True)\n",
    "results2 = np.load(f'run/sim_results_v1/sim_dr_em_raw_{sample_size}_{min_degree}_{max_degree}_{0.3}_None.npy', allow_pickle=True)\n",
    "\n",
    "compute_stats(results1, results2, ground_truth1, adj1)"
   ]
  },
  {
   "cell_type": "code",
   "execution_count": 30,
   "id": "ef9db3d9",
   "metadata": {},
   "outputs": [
    {
     "name": "stderr",
     "output_type": "stream",
     "text": [
      "100%|██████████| 2000/2000 [01:30<00:00, 22.03it/s]\n"
     ]
    },
    {
     "data": {
      "text/plain": [
       "{'columns': ['average',\n",
       "  'direct',\n",
       "  'indirect',\n",
       "  'spillover_effect',\n",
       "  'psi_1_gamma',\n",
       "  'psi_0_gamma',\n",
       "  'psi_zero'],\n",
       " 'coverage_rate': array([0.888 , 0.861 , 0.934 , 0.951 , 0.8385, 0.883 , 0.8935]),\n",
       " 'bias': array([ 0.00987225,  0.03091379, -0.005285  , -0.00281174,  0.01719264,\n",
       "        -0.01372115, -0.01090941]),\n",
       " 'mse': array([0.00389976, 0.01221377, 0.00425376, 0.01170596, 0.007111  ,\n",
       "        0.00484066, 0.00800087]),\n",
       " 'var': array([0.0038023 , 0.01125811, 0.00422583, 0.01169805, 0.00681541,\n",
       "        0.00465239, 0.00788185]),\n",
       " 'ci_length': array([0.24084966, 0.43304659, 0.24688292, 0.42537292, 0.31922124,\n",
       "        0.2634953 , 0.3495642 ]),\n",
       " 'true_effect': array([ 0.59675  ,  0.3241125, -0.0245   , -0.0437125,  0.6959375,\n",
       "         0.371825 ,  0.4155375])}"
      ]
     },
     "execution_count": 30,
     "metadata": {},
     "output_type": "execute_result"
    }
   ],
   "source": [
    "results1 = np.load(f'run/sim_results_v1/sim_dr_em_raw_{sample_size}_{min_degree}_{max_degree}_{0.7}_outcome.npy', allow_pickle=True)\n",
    "results2 = np.load(f'run/sim_results_v1/sim_dr_em_raw_{sample_size}_{min_degree}_{max_degree}_{0.3}_outcome.npy', allow_pickle=True)\n",
    "\n",
    "compute_stats(results1, results2, ground_truth1, adj1)"
   ]
  },
  {
   "cell_type": "code",
   "execution_count": 31,
   "id": "130c056e",
   "metadata": {},
   "outputs": [
    {
     "data": {
      "text/plain": [
       "{'columns': ['average',\n",
       "  'direct_effect',\n",
       "  'indirect',\n",
       "  'spillover_effect',\n",
       "  'psi_1_gamma',\n",
       "  'psi_0_gamma',\n",
       "  'psi_zero'],\n",
       " 'bias': array([ 0.00478266, -0.00238793,  0.0005349 , -0.00201616,  0.00179144,\n",
       "         0.00417936,  0.00619553]),\n",
       " 'mse': array([0.00117209, 0.00247958, 0.00060197, 0.00222894, 0.00164926,\n",
       "        0.00174902, 0.00173701]),\n",
       " 'var': array([0.00114921, 0.00247388, 0.00060168, 0.00222487, 0.00164605,\n",
       "        0.00173156, 0.00169863]),\n",
       " 'ground_truth': array([ 0.59675  ,  0.3241125, -0.0245   , -0.0437125])}"
      ]
     },
     "execution_count": 31,
     "metadata": {},
     "output_type": "execute_result"
    }
   ],
   "source": [
    "results1 = np.load(f'run/sim_results_v1/sim_ag_raw_{sample_size}_{min_degree}_{max_degree}_{0.7}_None.npy')\n",
    "results2 = np.load(f'run/sim_results_v1/sim_ag_raw_{sample_size}_{min_degree}_{max_degree}_{0.3}_None.npy')\n",
    "\n",
    "compute_stats_ag(results1, results2, ground_truth1)"
   ]
  },
  {
   "cell_type": "code",
   "execution_count": 32,
   "id": "5dd815c3",
   "metadata": {},
   "outputs": [
    {
     "data": {
      "text/plain": [
       "{'columns': ['average',\n",
       "  'direct_effect',\n",
       "  'indirect',\n",
       "  'spillover_effect',\n",
       "  'psi_1_gamma',\n",
       "  'psi_0_gamma',\n",
       "  'psi_zero'],\n",
       " 'bias': array([ 0.07595224,  0.30178171,  0.01216311,  0.00637985,  0.16439199,\n",
       "        -0.13738973, -0.14376957]),\n",
       " 'mse': array([0.00611011, 0.09399936, 0.00043838, 0.00249761, 0.02759847,\n",
       "        0.02071189, 0.02150087]),\n",
       " 'var': array([0.00034137, 0.00292715, 0.00029044, 0.00245691, 0.00057374,\n",
       "        0.00183595, 0.00083118]),\n",
       " 'ground_truth': array([ 0.59675  ,  0.3241125, -0.0245   , -0.0437125])}"
      ]
     },
     "execution_count": 32,
     "metadata": {},
     "output_type": "execute_result"
    }
   ],
   "source": [
    "results1 = np.load(f'run/sim_results_v1/sim_ag_raw_{sample_size}_{min_degree}_{max_degree}_{0.7}_outcome.npy')\n",
    "results2 = np.load(f'run/sim_results_v1/sim_ag_raw_{sample_size}_{min_degree}_{max_degree}_{0.3}_outcome.npy')\n",
    "\n",
    "compute_stats_ag(results1, results2, ground_truth1)"
   ]
  },
  {
   "cell_type": "markdown",
   "id": "47bc59d0",
   "metadata": {},
   "source": [
    "'bias': array([ 0.00987225,  0.03091379, -0.005285  , -0.00281174,  0.01719264,\n",
    "        -0.01372115, -0.01090941]),\n",
    " 'mse': array([0.00389976, 0.01221377, 0.00425376, 0.01170596, 0.007111  ,\n",
    "        0.00484066, 0.00800087]),"
   ]
  },
  {
   "cell_type": "code",
   "execution_count": null,
   "id": "977ced9d-aa51-46a5-a78a-4ee520631002",
   "metadata": {},
   "outputs": [],
   "source": []
  },
  {
   "cell_type": "code",
   "execution_count": null,
   "id": "e287c47c-0ef6-44f5-b96c-e7834399bad0",
   "metadata": {},
   "outputs": [],
   "source": []
  },
  {
   "cell_type": "code",
   "execution_count": 7,
   "id": "78586aaf",
   "metadata": {},
   "outputs": [
    {
     "name": "stdout",
     "output_type": "stream",
     "text": [
      "2 5\n"
     ]
    },
    {
     "name": "stderr",
     "output_type": "stream",
     "text": [
      "100%|██████████| 200/200 [00:00<00:00, 552.36it/s]\n",
      "100%|██████████| 200/200 [00:00<00:00, 568.05it/s]\n",
      "100%|██████████| 200/200 [00:00<00:00, 572.68it/s]\n",
      "100%|██████████| 200/200 [00:00<00:00, 573.41it/s]\n",
      "100%|██████████| 200/200 [00:00<00:00, 568.54it/s]\n",
      "100%|██████████| 200/200 [00:00<00:00, 569.45it/s]\n",
      "100%|██████████| 200/200 [00:00<00:00, 575.10it/s]\n",
      "100%|██████████| 200/200 [00:00<00:00, 578.56it/s]\n"
     ]
    }
   ],
   "source": [
    "sample_size = 800\n",
    "min_degree = 2\n",
    "max_degree = 5\n",
    "\n",
    "adj1, Y_chain, A_chain, L_chain, ground_truth1 = prepare(num_sample, num_burn, sample_size, n_cpu, min_degree, max_degree)"
   ]
  },
  {
   "cell_type": "code",
   "execution_count": 8,
   "id": "8d8dc615",
   "metadata": {},
   "outputs": [
    {
     "name": "stderr",
     "output_type": "stream",
     "text": [
      "100%|██████████| 2000/2000 [03:03<00:00, 10.92it/s]\n"
     ]
    },
    {
     "data": {
      "text/plain": [
       "{'columns': ['average',\n",
       "  'direct',\n",
       "  'indirect',\n",
       "  'spillover_effect',\n",
       "  'psi_1_gamma',\n",
       "  'psi_0_gamma',\n",
       "  'psi_zero'],\n",
       " 'coverage_rate': array([0.9545, 0.955 , 0.9295, 0.9265, 0.959 , 0.957 , 0.9145]),\n",
       " 'bias': array([ 0.00191133, -0.0127017 ,  0.00188376,  0.00582053, -0.00505044,\n",
       "         0.00765127,  0.00183074]),\n",
       " 'mse': array([0.00263467, 0.00894492, 0.00598617, 0.02831693, 0.00464277,\n",
       "        0.0042035 , 0.0249686 ]),\n",
       " 'var': array([0.00263102, 0.00878359, 0.00598262, 0.02828305, 0.00461727,\n",
       "        0.00414496, 0.02496525]),\n",
       " 'ci_length': array([0.19840618, 0.35563979, 0.26958793, 0.5502538 , 0.25775937,\n",
       "        0.23874945, 0.48911147]),\n",
       " 'true_effect': array([ 0.4657375,  0.3202875, -0.0436625, -0.079675 ,  0.564975 ,\n",
       "         0.2446875,  0.3243625])}"
      ]
     },
     "execution_count": 8,
     "metadata": {},
     "output_type": "execute_result"
    }
   ],
   "source": [
    "results1 = np.load(f'run/sim_results_v1/sim_dr_em_raw_{sample_size}_{min_degree}_{max_degree}_{0.7}_None.npy', allow_pickle=True)\n",
    "results2 = np.load(f'run/sim_results_v1/sim_dr_em_raw_{sample_size}_{min_degree}_{max_degree}_{0.3}_None.npy', allow_pickle=True)\n",
    "\n",
    "compute_stats(results1, results2, ground_truth1, adj1)"
   ]
  },
  {
   "cell_type": "code",
   "execution_count": 9,
   "id": "5d27ffc4",
   "metadata": {},
   "outputs": [
    {
     "name": "stderr",
     "output_type": "stream",
     "text": [
      "100%|██████████| 2000/2000 [03:05<00:00, 10.77it/s]\n"
     ]
    },
    {
     "data": {
      "text/plain": [
       "{'columns': ['average',\n",
       "  'direct',\n",
       "  'indirect',\n",
       "  'spillover_effect',\n",
       "  'psi_1_gamma',\n",
       "  'psi_0_gamma',\n",
       "  'psi_zero'],\n",
       " 'coverage_rate': array([0.954 , 0.958 , 0.954 , 0.791 , 0.9505, 0.9045, 0.6765]),\n",
       " 'bias': array([-0.00559319, -0.02810395,  0.02199954,  0.06270418, -0.01717563,\n",
       "         0.01092832, -0.05177586]),\n",
       " 'mse': array([0.00431446, 0.01486089, 0.01003254, 0.0483772 , 0.00785068,\n",
       "        0.0066165 , 0.04123825]),\n",
       " 'var': array([0.00428317, 0.01407106, 0.00954856, 0.04444538, 0.00755568,\n",
       "        0.00649707, 0.03855752]),\n",
       " 'ci_length': array([0.27908471, 0.49872526, 0.36104371, 0.73168999, 0.36880245,\n",
       "        0.31369855, 0.63752076]),\n",
       " 'true_effect': array([ 0.4657375,  0.3202875, -0.0436625, -0.079675 ,  0.564975 ,\n",
       "         0.2446875,  0.3243625])}"
      ]
     },
     "execution_count": 9,
     "metadata": {},
     "output_type": "execute_result"
    }
   ],
   "source": [
    "results1 = np.load(f'run/sim_results_v1/sim_dr_em_raw_{sample_size}_{min_degree}_{max_degree}_{0.7}_outcome.npy', allow_pickle=True)\n",
    "results2 = np.load(f'run/sim_results_v1/sim_dr_em_raw_{sample_size}_{min_degree}_{max_degree}_{0.3}_outcome.npy', allow_pickle=True)\n",
    "\n",
    "compute_stats(results1, results2, ground_truth1, adj1)"
   ]
  },
  {
   "cell_type": "code",
   "execution_count": 10,
   "id": "a957e174",
   "metadata": {},
   "outputs": [
    {
     "data": {
      "text/plain": [
       "{'columns': ['average',\n",
       "  'direct_effect',\n",
       "  'indirect',\n",
       "  'spillover_effect',\n",
       "  'psi_1_gamma',\n",
       "  'psi_0_gamma',\n",
       "  'psi_zero'],\n",
       " 'bias': array([ 0.00755256, -0.00961854, -0.00525555,  0.00621677,  0.0015515 ,\n",
       "         0.01117004,  0.00495326]),\n",
       " 'mse': array([0.00128547, 0.00262876, 0.00191428, 0.00424377, 0.00157566,\n",
       "        0.00221983, 0.00279822]),\n",
       " 'var': array([0.00122843, 0.00253624, 0.00188666, 0.00420512, 0.00157325,\n",
       "        0.00209506, 0.00277369]),\n",
       " 'ground_truth': array([ 0.4657375,  0.3202875, -0.0436625, -0.079675 ])}"
      ]
     },
     "execution_count": 10,
     "metadata": {},
     "output_type": "execute_result"
    }
   ],
   "source": [
    "results1 = np.load(f'run/sim_results_v1/sim_ag_raw_{sample_size}_{min_degree}_{max_degree}_{0.7}_None.npy')\n",
    "results2 = np.load(f'run/sim_results_v1/sim_ag_raw_{sample_size}_{min_degree}_{max_degree}_{0.3}_None.npy')\n",
    "\n",
    "compute_stats_ag(results1, results2, ground_truth1)"
   ]
  },
  {
   "cell_type": "code",
   "execution_count": 11,
   "id": "8d17fb57",
   "metadata": {},
   "outputs": [
    {
     "data": {
      "text/plain": [
       "{'columns': ['average',\n",
       "  'direct_effect',\n",
       "  'indirect',\n",
       "  'spillover_effect',\n",
       "  'psi_1_gamma',\n",
       "  'psi_0_gamma',\n",
       "  'psi_zero'],\n",
       " 'bias': array([ 0.08962437,  0.30394135,  0.01516175,  0.04749685,  0.18121664,\n",
       "        -0.12272471, -0.17022156]),\n",
       " 'mse': array([0.00844072, 0.09584728, 0.00178089, 0.00438369, 0.03393199,\n",
       "        0.01635197, 0.02981207]),\n",
       " 'var': array([0.00040819, 0.00346693, 0.00155101, 0.00212773, 0.00109252,\n",
       "        0.00129061, 0.00083669]),\n",
       " 'ground_truth': array([ 0.4657375,  0.3202875, -0.0436625, -0.079675 ])}"
      ]
     },
     "execution_count": 11,
     "metadata": {},
     "output_type": "execute_result"
    }
   ],
   "source": [
    "results1 = np.load(f'run/sim_results_v1/sim_ag_raw_{sample_size}_{min_degree}_{max_degree}_{0.7}_outcome.npy')\n",
    "results2 = np.load(f'run/sim_results_v1/sim_ag_raw_{sample_size}_{min_degree}_{max_degree}_{0.3}_outcome.npy')\n",
    "\n",
    "compute_stats_ag(results1, results2, ground_truth1)"
   ]
  },
  {
   "cell_type": "markdown",
   "id": "4296fdbf",
   "metadata": {},
   "source": [
    " 'bias': array([-0.00559319, -0.02810395,  0.02199954,  0.06270418, -0.01717563,\n",
    "         0.01092832, -0.05177586]),\n",
    " 'mse': array([0.00431446, 0.01486089, 0.01003254, 0.0483772 , 0.00785068,\n",
    "        0.0066165 , 0.04123825]),"
   ]
  },
  {
   "cell_type": "code",
   "execution_count": null,
   "id": "00282986",
   "metadata": {},
   "outputs": [],
   "source": []
  },
  {
   "cell_type": "code",
   "execution_count": 19,
   "id": "f50fd889",
   "metadata": {},
   "outputs": [
    {
     "name": "stdout",
     "output_type": "stream",
     "text": [
      "3 10\n"
     ]
    },
    {
     "name": "stderr",
     "output_type": "stream",
     "text": [
      "100%|██████████| 200/200 [00:00<00:00, 416.28it/s]\n",
      "100%|██████████| 200/200 [00:00<00:00, 419.34it/s]\n",
      "100%|██████████| 200/200 [00:00<00:00, 476.28it/s]\n",
      "100%|██████████| 200/200 [00:00<00:00, 437.34it/s]\n",
      "100%|██████████| 200/200 [00:00<00:00, 378.97it/s]\n",
      "100%|██████████| 200/200 [00:00<00:00, 441.69it/s]\n",
      "100%|██████████| 200/200 [00:00<00:00, 454.36it/s]\n",
      "100%|██████████| 200/200 [00:00<00:00, 447.80it/s]\n"
     ]
    }
   ],
   "source": [
    "sample_size = 800\n",
    "min_degree = 3\n",
    "max_degree = 10\n",
    "\n",
    "adj1, Y_chain, A_chain, L_chain, ground_truth1 = prepare(num_sample, num_burn, sample_size, n_cpu, min_degree, max_degree)"
   ]
  },
  {
   "cell_type": "code",
   "execution_count": 13,
   "id": "8029a75c",
   "metadata": {},
   "outputs": [
    {
     "name": "stderr",
     "output_type": "stream",
     "text": [
      "100%|██████████| 2000/2000 [05:35<00:00,  5.96it/s]\n"
     ]
    },
    {
     "data": {
      "text/plain": [
       "{'columns': ['average',\n",
       "  'direct',\n",
       "  'indirect',\n",
       "  'spillover_effect',\n",
       "  'psi_1_gamma',\n",
       "  'psi_0_gamma',\n",
       "  'psi_zero'],\n",
       " 'coverage_rate': array([0.982 , 0.981 , 0.951 , 0.9305, 0.9765, 0.965 , 0.746 ]),\n",
       " 'bias': array([ 0.00359751, -0.01876072,  0.00728146,  0.01845073, -0.00683321,\n",
       "         0.01192751, -0.00652322]),\n",
       " 'mse': array([0.00165485, 0.00785293, 0.01228292, 0.03800267, 0.00234618,\n",
       "        0.00550051, 0.03377565]),\n",
       " 'var': array([0.00164191, 0.00750096, 0.0122299 , 0.03766224, 0.00229949,\n",
       "        0.00535824, 0.0337331 ]),\n",
       " 'ci_length': array([0.18125234, 0.37074743, 0.41041514, 0.59285289, 0.21974135,\n",
       "        0.29389292, 0.47312103]),\n",
       " 'true_effect': array([ 0.34095  ,  0.27945  , -0.0546625, -0.10395  ,  0.4295875,\n",
       "         0.1501375,  0.2540875])}"
      ]
     },
     "execution_count": 13,
     "metadata": {},
     "output_type": "execute_result"
    }
   ],
   "source": [
    "results1 = np.load(f'run/sim_results_v1/sim_dr_em_raw_{sample_size}_{min_degree}_{max_degree}_{0.7}_None.npy', allow_pickle=True)\n",
    "results2 = np.load(f'run/sim_results_v1/sim_dr_em_raw_{sample_size}_{min_degree}_{max_degree}_{0.3}_None.npy', allow_pickle=True)\n",
    "\n",
    "compute_stats(results1, results2, ground_truth1, adj1)"
   ]
  },
  {
   "cell_type": "code",
   "execution_count": 20,
   "id": "76acbaa6",
   "metadata": {},
   "outputs": [
    {
     "name": "stderr",
     "output_type": "stream",
     "text": [
      "100%|██████████| 2000/2000 [05:17<00:00,  6.29it/s]\n"
     ]
    },
    {
     "data": {
      "text/plain": [
       "{'columns': ['average',\n",
       "  'direct',\n",
       "  'indirect',\n",
       "  'spillover_effect',\n",
       "  'psi_1_gamma',\n",
       "  'psi_0_gamma',\n",
       "  'psi_zero'],\n",
       " 'coverage_rate': array([0.967 , 0.977 , 0.8935, 0.387 , 0.956 , 0.924 , 0.31  ]),\n",
       " 'bias': array([-0.0350118 , -0.11157833,  0.0794579 ,  0.1666767 , -0.0732878 ,\n",
       "         0.03829053, -0.12838617]),\n",
       " 'mse': array([0.00407891, 0.02479339, 0.02443653, 0.07822279, 0.00943257,\n",
       "        0.01014024, 0.05911056]),\n",
       " 'var': array([0.00285308, 0.01234366, 0.01812297, 0.05044167, 0.00406147,\n",
       "        0.00867408, 0.04262755]),\n",
       " 'ci_length': array([0.25564063, 0.50135096, 0.51348122, 0.67700344, 0.32191444,\n",
       "        0.36458838, 0.48627013]),\n",
       " 'true_effect': array([ 0.34095  ,  0.27945  , -0.0546625, -0.10395  ,  0.4295875,\n",
       "         0.1501375,  0.2540875])}"
      ]
     },
     "execution_count": 20,
     "metadata": {},
     "output_type": "execute_result"
    }
   ],
   "source": [
    "results1 = np.load(f'run/sim_results_v1/sim_dr_em_raw_{sample_size}_{min_degree}_{max_degree}_{0.7}_outcome.npy', allow_pickle=True)\n",
    "results2 = np.load(f'run/sim_results_v1/sim_dr_em_raw_{sample_size}_{min_degree}_{max_degree}_{0.3}_outcome.npy', allow_pickle=True)\n",
    "\n",
    "compute_stats(results1, results2, ground_truth1, adj1)"
   ]
  },
  {
   "cell_type": "code",
   "execution_count": 21,
   "id": "5e31d4bc",
   "metadata": {},
   "outputs": [
    {
     "data": {
      "text/plain": [
       "{'columns': ['average',\n",
       "  'direct_effect',\n",
       "  'indirect',\n",
       "  'spillover_effect',\n",
       "  'psi_1_gamma',\n",
       "  'psi_0_gamma',\n",
       "  'psi_zero'],\n",
       " 'bias': array([ 8.78678750e-03, -1.53919125e-02, -1.53904125e-02,  1.57455750e-02,\n",
       "         8.34250000e-05,  1.54753375e-02, -2.70237500e-04]),\n",
       " 'mse': array([0.00097653, 0.00226939, 0.00232105, 0.00379792, 0.00124438,\n",
       "        0.00165016, 0.00364713]),\n",
       " 'var': array([0.00089933, 0.00203247, 0.00208418, 0.00355   , 0.00124437,\n",
       "        0.00141067, 0.00364706]),\n",
       " 'ground_truth': array([ 0.34095  ,  0.27945  , -0.0546625, -0.10395  ])}"
      ]
     },
     "execution_count": 21,
     "metadata": {},
     "output_type": "execute_result"
    }
   ],
   "source": [
    "results1 = np.load(f'run/sim_results_v1/sim_ag_raw_{sample_size}_{min_degree}_{max_degree}_{0.7}_None.npy')\n",
    "results2 = np.load(f'run/sim_results_v1/sim_ag_raw_{sample_size}_{min_degree}_{max_degree}_{0.3}_None.npy')\n",
    "\n",
    "compute_stats_ag(results1, results2, ground_truth1)"
   ]
  },
  {
   "cell_type": "code",
   "execution_count": 22,
   "id": "3b83e6d9",
   "metadata": {},
   "outputs": [
    {
     "data": {
      "text/plain": [
       "{'columns': ['average',\n",
       "  'direct_effect',\n",
       "  'indirect',\n",
       "  'spillover_effect',\n",
       "  'psi_1_gamma',\n",
       "  'psi_0_gamma',\n",
       "  'psi_zero'],\n",
       " 'bias': array([ 0.07871949,  0.24962319,  0.01968974,  0.09147404,  0.15585427,\n",
       "        -0.09376891, -0.18524295]),\n",
       " 'mse': array([0.00654387, 0.06496294, 0.00266992, 0.00877628, 0.02590736,\n",
       "        0.00911135, 0.03465573]),\n",
       " 'var': array([0.00034712, 0.0026512 , 0.00228224, 0.00040878, 0.00161681,\n",
       "        0.00031874, 0.00034078]),\n",
       " 'ground_truth': array([ 0.34095  ,  0.27945  , -0.0546625, -0.10395  ])}"
      ]
     },
     "execution_count": 22,
     "metadata": {},
     "output_type": "execute_result"
    }
   ],
   "source": [
    "results1 = np.load(f'run/sim_results_v1/sim_ag_raw_{sample_size}_{min_degree}_{max_degree}_{0.7}_outcome.npy')\n",
    "results2 = np.load(f'run/sim_results_v1/sim_ag_raw_{sample_size}_{min_degree}_{max_degree}_{0.3}_outcome.npy')\n",
    "\n",
    "compute_stats_ag(results1, results2, ground_truth1)"
   ]
  },
  {
   "cell_type": "markdown",
   "id": "4e7fd666",
   "metadata": {},
   "source": [
    "'bias': array([-0.0350118 , -0.11157833,  0.0794579 ,  0.1666767 , -0.0732878 ,\n",
    "         0.03829053, -0.12838617]),\n",
    " 'mse': array([0.00407891, 0.02479339, 0.02443653, 0.07822279, 0.00943257,\n",
    "        0.01014024, 0.05911056]),"
   ]
  },
  {
   "cell_type": "code",
   "execution_count": null,
   "id": "32cdb7d2",
   "metadata": {},
   "outputs": [],
   "source": []
  }
 ],
 "metadata": {
  "kernelspec": {
   "display_name": "ljz",
   "language": "python",
   "name": "python3"
  },
  "language_info": {
   "codemirror_mode": {
    "name": "ipython",
    "version": 3
   },
   "file_extension": ".py",
   "mimetype": "text/x-python",
   "name": "python",
   "nbconvert_exporter": "python",
   "pygments_lexer": "ipython3",
   "version": "3.10.14"
  }
 },
 "nbformat": 4,
 "nbformat_minor": 5
}
