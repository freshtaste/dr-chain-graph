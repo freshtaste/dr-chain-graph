{
 "cells": [
  {
   "cell_type": "code",
   "execution_count": 1,
   "id": "191fd628",
   "metadata": {},
   "outputs": [],
   "source": [
    "num_sample = 300\n",
    "num_burn = 20\n",
    "sample_size = 800\n",
    "n_cpu = 10\n",
    "\n",
    "min_degree = 3\n",
    "max_degree = 10"
   ]
  },
  {
   "cell_type": "code",
   "execution_count": 2,
   "id": "47134ca9",
   "metadata": {},
   "outputs": [
    {
     "name": "stdout",
     "output_type": "stream",
     "text": [
      "3 10\n"
     ]
    },
    {
     "name": "stderr",
     "output_type": "stream",
     "text": [
      "100%|██████████| 320/320 [00:00<00:00, 386.96it/s]\n"
     ]
    },
    {
     "data": {
      "text/plain": [
       "(0.48054906195187586,\n",
       " 0.5821875000000001,\n",
       " 0.331125,\n",
       " 0.32397469144445507,\n",
       " 0.3563344253845968)"
      ]
     },
     "execution_count": 2,
     "metadata": {},
     "output_type": "execute_result"
    }
   ],
   "source": [
    "from dgp import sample_network_chain, get_graph, sample_Y1, sample_Y2, agcEffect\n",
    "import numpy as np\n",
    "from drnet_em import generate_all_binary_vectors\n",
    "\n",
    "adj = get_graph(sample_size, min_degree, max_degree, seed=1)\n",
    "print(adj.sum(axis=1).min(), adj.sum(axis=1).max())\n",
    "\n",
    "tau = np.array([-1.0, 0.50, -0.50])       # shape (3,)\n",
    "rho = np.array([[0,0.1,0.2],\n",
    "                [0.1,0,0.1],\n",
    "                [0.2,0.1,0]])      # shape (3, 3), with 0s on the diagonal\n",
    "nu = np.array([0.1,0,0,0.1,0,0,0.1,0,0]).reshape(3,3)       # shape (3, 3)\n",
    "gamma = np.array([-1,2,0.1,-2,0.1,2,0.1,0.1])    # shape (8,)   \n",
    "beta = np.array([-1*min_degree,2,-0.2,2,0.1,-2,0.1,2,0.1,0])  # shape (10,)\n",
    "\n",
    "Y_chain, A_chain, L_chain = sample_network_chain(adj, tau, rho, nu, gamma, beta, R=num_sample,\n",
    "    burnin_R=num_burn, seed=0, sample_Y_func=sample_Y1, Atype=('gen', 0.7))\n",
    "\n",
    "Y_chain = Y_chain[::3]\n",
    "A_chain = A_chain[::3]\n",
    "L_chain = L_chain[::3]\n",
    "\n",
    "dir, dir2, dir3, dir4 = [], [], [], []\n",
    "for i in range(Y_chain.shape[0]):\n",
    "    Y = Y_chain[i]\n",
    "    A = A_chain[i]\n",
    "    L = L_chain[i]\n",
    "    dir.append(np.mean(np.mean(Y[A==1]) - Y[A==0]))\n",
    "    dir2.append(np.mean(A))\n",
    "    dir3.append(np.mean(A[L[:,0]==1]) - np.mean(A[L[:,0]==0]))\n",
    "    dir4.append(np.mean(Y[L[:,0]==1]) - np.mean(Y[L[:,0]==0]))\n",
    "\n",
    "np.mean(dir), np.mean(dir2), np.mean(Y_chain), np.mean(dir3), np.mean(dir4)"
   ]
  },
  {
   "cell_type": "code",
   "execution_count": 3,
   "id": "2aa2d289",
   "metadata": {},
   "outputs": [
    {
     "name": "stderr",
     "output_type": "stream",
     "text": [
      "100%|██████████| 200/200 [00:00<00:00, 518.48it/s]\n",
      "100%|██████████| 200/200 [00:00<00:00, 559.48it/s]\n",
      "100%|██████████| 200/200 [00:00<00:00, 583.28it/s]\n",
      "100%|██████████| 200/200 [00:00<00:00, 582.67it/s]\n"
     ]
    },
    {
     "data": {
      "text/plain": [
       "{'average': 0.3122125,\n",
       " 'direct_effect': 0.24641249999999998,\n",
       " 'spillover_effect': -0.0899625,\n",
       " 'psi_1_gamma': 0.387825,\n",
       " 'psi_0_gamma': 0.1414125,\n",
       " 'psi_zero': 0.231375}"
      ]
     },
     "execution_count": 3,
     "metadata": {},
     "output_type": "execute_result"
    }
   ],
   "source": [
    "agcEffect(\n",
    "    adj,\n",
    "    tau, rho, nu, beta,\n",
    "    treatment_allocation=0.7,\n",
    "    R=100,\n",
    "    burnin_R=100,\n",
    "    seed=0,\n",
    "    sample_Y_func=sample_Y1\n",
    ")"
   ]
  },
  {
   "cell_type": "code",
   "execution_count": 5,
   "id": "f508ed26",
   "metadata": {},
   "outputs": [
    {
     "data": {
      "text/plain": [
       "{'average': 0.29657295281740487,\n",
       " 'direct_effect': 0.33752569986923564,\n",
       " 'spillover_effect': 0.06030496290893989,\n",
       " 'psi_1_gamma': 0.3978306627781755,\n",
       " 'psi_0_gamma': 0.06030496290893989,\n",
       " 'psi_zero': 0.0}"
      ]
     },
     "execution_count": 5,
     "metadata": {},
     "output_type": "execute_result"
    }
   ],
   "source": [
    "from drnet_em import *\n",
    "\n",
    "idx = 2\n",
    "doubly_robust_em(A_chain[idx], L_chain[idx], Y_chain[idx], adj, return_raw=False)"
   ]
  },
  {
   "cell_type": "code",
   "execution_count": 7,
   "id": "ccccdcde",
   "metadata": {},
   "outputs": [
    {
     "data": {
      "text/plain": [
       "array([0.29657295, 0.3375257 , 0.06030496, 0.39783066, 0.06030496,\n",
       "       0.        ])"
      ]
     },
     "execution_count": 7,
     "metadata": {},
     "output_type": "execute_result"
    }
   ],
   "source": [
    "from run_pll import *\n",
    "\n",
    "run_dr_em(A_chain, L_chain, Y_chain, adj, idx, mispec=None)"
   ]
  },
  {
   "cell_type": "code",
   "execution_count": 8,
   "id": "68431f18",
   "metadata": {},
   "outputs": [
    {
     "name": "stderr",
     "output_type": "stream",
     "text": [
      "100%|██████████| 100/100 [07:41<00:00,  4.62s/it]"
     ]
    },
    {
     "name": "stdout",
     "output_type": "stream",
     "text": [
      "average: 0.30629 ± 0.03836\n",
      "direct_effect: 0.25662 ± 0.08329\n",
      "spillover_effect: 0.07097 ± 0.21407\n",
      "psi_1_gamma: 0.38328 ± 0.04212\n",
      "psi_0_gamma: 0.12666 ± 0.07498\n",
      "psi_zero: 0.05569 ± 0.20625\n"
     ]
    },
    {
     "name": "stderr",
     "output_type": "stream",
     "text": [
      "\n"
     ]
    }
   ],
   "source": [
    "from tqdm import tqdm\n",
    "\n",
    "res_list_dr = []\n",
    "for i in tqdm(range(100)):\n",
    "    res = run_dr_em(A_chain, L_chain, Y_chain, adj, i, mispec=None)\n",
    "    res_list_dr.append(res)\n",
    "res_list_dr = np.array(res_list_dr)\n",
    "\n",
    "res_list_array_dr = np.array(res_list_dr)\n",
    "\n",
    "from run_pll import column_names\n",
    "\n",
    "ret_mean_dr = res_list_array_dr.mean(axis=0)\n",
    "ret_std_dr = res_list_array_dr.std(axis=0)\n",
    "for i in range(len(column_names)):\n",
    "    print(f\"{column_names[i]}: {ret_mean_dr[i]:.5f} ± {ret_std_dr[i]:.5f}\")\n"
   ]
  },
  {
   "cell_type": "code",
   "execution_count": null,
   "id": "b175d79a",
   "metadata": {},
   "outputs": [
    {
     "data": {
      "text/plain": [
       "array([0.30723371, 0.25791312, 0.01892909, 0.3911775 , 0.13326438,\n",
       "       0.1143353 ])"
      ]
     },
     "execution_count": 7,
     "metadata": {},
     "output_type": "execute_result"
    }
   ],
   "source": [
    "from run_pll import *\n",
    "\n",
    "run_dr(A_chain, L_chain, Y_chain, adj, idx, mispec=None)"
   ]
  },
  {
   "cell_type": "code",
   "execution_count": null,
   "id": "c91f1ed3",
   "metadata": {},
   "outputs": [],
   "source": [
    "from run_pll import *\n",
    "from utils import run_pll\n",
    "\n",
    "args = [{'Y_chain': Y_chain,\n",
    "         'A_chain': A_chain,\n",
    "         'L_chain': L_chain,\n",
    "         'adj': adj,\n",
    "         'i': i,\n",
    "         'mispec': None} for i in range(len(Y_chain))]\n",
    "\n",
    "res_list_dr = run_pll(run_dr_em, args, processes=n_cpu)\n",
    "res_list_array_dr = np.array(res_list_dr)\n",
    "\n",
    "from run_pll import column_names\n",
    "\n",
    "ret_mean_dr = res_list_array_dr.mean(axis=0)\n",
    "ret_std_dr = res_list_array_dr.std(axis=0)\n",
    "for i in range(len(column_names)):\n",
    "    print(f\"{column_names[i]}: {ret_mean_dr[i]:.5f} ± {ret_std_dr[i]:.5f}\")"
   ]
  },
  {
   "cell_type": "code",
   "execution_count": null,
   "id": "3251828f",
   "metadata": {},
   "outputs": [
    {
     "name": "stdout",
     "output_type": "stream",
     "text": [
      "Multiprocessing <function run_dr at 0x1047a04c0> in 100 tasks, with 10 processes...\n",
      "Multiprocessing finished.\n",
      "average: 0.44385 ± 0.20028\n",
      "direct_effect: 0.31246 ± 0.32717\n",
      "spillover_effect: 0.03181 ± 0.35881\n",
      "psi_1_gamma: 0.53812 ± 0.26768\n",
      "psi_0_gamma: 0.22566 ± 0.19122\n",
      "psi_zero: 0.19385 ± 0.29674\n"
     ]
    }
   ],
   "source": [
    "from run_pll import *\n",
    "from utils import run_pll\n",
    "\n",
    "args = [{'Y_chain': Y_chain,\n",
    "         'A_chain': A_chain,\n",
    "         'L_chain': L_chain,\n",
    "         'adj': adj,\n",
    "         'i': i,\n",
    "         'mispec': None} for i in range(len(Y_chain))]\n",
    "\n",
    "res_list_dr = run_pll(run_dr, args, processes=n_cpu)\n",
    "res_list_array_dr = np.array(res_list_dr)\n",
    "\n",
    "from run_pll import column_names\n",
    "\n",
    "ret_mean_dr = res_list_array_dr.mean(axis=0)\n",
    "ret_std_dr = res_list_array_dr.std(axis=0)\n",
    "for i in range(len(column_names)):\n",
    "    print(f\"{column_names[i]}: {ret_mean_dr[i]:.5f} ± {ret_std_dr[i]:.5f}\")"
   ]
  },
  {
   "cell_type": "code",
   "execution_count": null,
   "id": "172d23e1",
   "metadata": {},
   "outputs": [],
   "source": []
  }
 ],
 "metadata": {
  "kernelspec": {
   "display_name": "ljz",
   "language": "python",
   "name": "python3"
  },
  "language_info": {
   "codemirror_mode": {
    "name": "ipython",
    "version": 3
   },
   "file_extension": ".py",
   "mimetype": "text/x-python",
   "name": "python",
   "nbconvert_exporter": "python",
   "pygments_lexer": "ipython3",
   "version": "3.10.14"
  }
 },
 "nbformat": 4,
 "nbformat_minor": 5
}
