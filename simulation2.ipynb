{
 "cells": [
  {
   "cell_type": "code",
   "execution_count": 10,
   "id": "bce68a0c",
   "metadata": {},
   "outputs": [
    {
     "name": "stderr",
     "output_type": "stream",
     "text": [
      "100%|██████████| 520/520 [00:16<00:00, 30.60it/s]\n"
     ]
    }
   ],
   "source": [
    "from dgp import *\n",
    "\n",
    "# 1. Simulate or load data\n",
    "sample_size = 800\n",
    "min_degree = 2\n",
    "max_degree = 4\n",
    "adj = get_graph(sample_size, min_degree, max_degree, seed=1)\n",
    "\n",
    "tau = np.array([-1.0, 0.50, -0.50])       # shape (3,)\n",
    "rho = np.array([[0,0.1,0.2],\n",
    "                [0.1,0,0.1],\n",
    "                [0.2,0.1,0]])      # shape (3, 3), with 0s on the diagonal\n",
    "nu = np.array([0.1,0,0,0.1,0,0,0.1,0,0]).reshape(3,3)       # shape (3, 3)\n",
    "gamma = np.array([-1.00,0.50,0.10,0.20,0.05,0.25,-0.08,0.30])     # shape (8,)\n",
    "beta = np.array([-0.30,-0.60,-0.20,-0.20,-0.05,-0.10,-0.01,0.40,0.01,0.20])     # shape (10,)\n",
    "beta = np.array([-0.30,-0.60,-0.20,-0.20,-0.05,-0.10,-0.01,0.40,0.01,0])\n",
    "\n",
    "Y_chain, A_chain, L_chain = sample_network_chain(adj, tau, rho, nu, gamma, beta, R=500,\n",
    "    burnin_R=20, seed=0)\n",
    "\n",
    "Y_chain = Y_chain[::5]\n",
    "A_chain = A_chain[::5]\n",
    "L_chain = L_chain[::5]"
   ]
  },
  {
   "cell_type": "code",
   "execution_count": 11,
   "id": "50810dec",
   "metadata": {},
   "outputs": [],
   "source": [
    "n_cpu = 10"
   ]
  },
  {
   "cell_type": "code",
   "execution_count": 12,
   "id": "89086633",
   "metadata": {},
   "outputs": [
    {
     "data": {
      "text/plain": [
       "{'average': 0.249175,\n",
       " 'direct_effect': -0.11535625,\n",
       " 'spillover_effect': -0.09688750000000002,\n",
       " 'psi_1_gamma': 0.21308749999999999,\n",
       " 'psi_0_gamma': 0.32844375,\n",
       " 'psi_zero': 0.42533125}"
      ]
     },
     "execution_count": 12,
     "metadata": {},
     "output_type": "execute_result"
    }
   ],
   "source": [
    "from agcEffect import *\n",
    "\n",
    "agc_effect(\n",
    "    adj,\n",
    "    tau, rho, nu, beta,\n",
    "    treatment_allocation=0.7,\n",
    "    R=200,\n",
    "    burnin_R=50,\n",
    "    seed=0\n",
    ")"
   ]
  },
  {
   "cell_type": "code",
   "execution_count": 13,
   "id": "442d291e",
   "metadata": {},
   "outputs": [
    {
     "name": "stdout",
     "output_type": "stream",
     "text": [
      "Multiprocessing <function run_dr at 0x1056820e0> in 100 tasks, with 10 processes...\n",
      "Multiprocessing finished.\n"
     ]
    }
   ],
   "source": [
    "from utils import run_pll\n",
    "from run_pll import run_dr\n",
    "\n",
    "args = [{'Y_chain': Y_chain,\n",
    "         'A_chain': A_chain,\n",
    "         'L_chain': L_chain,\n",
    "         'adj': adj,\n",
    "         'i': i} for i in range(len(Y_chain))]\n",
    "\n",
    "res_list_dr = run_pll(run_dr, args, processes=n_cpu)\n",
    "res_list_array_dr = np.array(res_list_dr)\n",
    "# save results\n",
    "np.save(f'run/sim_results/sim_dr_{sample_size}_{min_degree}_{max_degree}.npy', res_list_array_dr)"
   ]
  },
  {
   "cell_type": "code",
   "execution_count": 14,
   "id": "9daec17b",
   "metadata": {},
   "outputs": [
    {
     "name": "stdout",
     "output_type": "stream",
     "text": [
      "average: 0.24904 ± 0.02103\n",
      "direct_effect: -0.11480 ± 0.04567\n",
      "spillover_effect: -0.09078 ± 0.09078\n",
      "psi_0_gamma: 0.32959 ± 0.04237\n",
      "psi_zero: 0.42037 ± 0.07775\n",
      "psi_1_gamma: 0.21479 ± 0.02393\n"
     ]
    }
   ],
   "source": [
    "from run_pll import column_names\n",
    "\n",
    "ret_mean_dr = res_list_array_dr.mean(axis=0)\n",
    "ret_std_dr = res_list_array_dr.std(axis=0)\n",
    "for i in range(len(column_names)):\n",
    "    print(f\"{column_names[i]}: {ret_mean_dr[i]:.5f} ± {ret_std_dr[i]:.5f}\")"
   ]
  },
  {
   "cell_type": "code",
   "execution_count": 15,
   "id": "e164aa21",
   "metadata": {},
   "outputs": [
    {
     "name": "stdout",
     "output_type": "stream",
     "text": [
      "Multiprocessing <function run_autognet at 0x142b491b0> in 100 tasks, with 10 processes...\n",
      "Multiprocessing finished.\n"
     ]
    }
   ],
   "source": [
    "from utils import run_pll\n",
    "from run_pll import run_autognet\n",
    "\n",
    "args = [{'Y_chain': Y_chain,\n",
    "         'A_chain': A_chain,\n",
    "         'L_chain': L_chain,\n",
    "         'adj': adj,\n",
    "         'i': i} for i in range(len(Y_chain))]\n",
    "\n",
    "res_list_ag = run_pll(run_autognet, args, processes=n_cpu)\n",
    "res_list_array_ag = np.array(res_list_ag)\n",
    "# save results\n",
    "np.save(f'run/sim_results/sim_autog_{sample_size}_{min_degree}_{max_degree}.npy', res_list_array_ag)"
   ]
  },
  {
   "cell_type": "code",
   "execution_count": 16,
   "id": "e316b6cb",
   "metadata": {},
   "outputs": [
    {
     "name": "stdout",
     "output_type": "stream",
     "text": [
      "average: 0.24624 ± 0.02042\n",
      "direct_effect: -0.11764 ± 0.03351\n",
      "spillover_effect: -0.08635 ± 0.04351\n",
      "psi_0_gamma: 0.33274 ± 0.03037\n",
      "psi_zero: 0.41909 ± 0.04031\n",
      "psi_1_gamma: 0.21510 ± 0.02320\n"
     ]
    }
   ],
   "source": [
    "from run_pll import column_names\n",
    "\n",
    "ret_mean_ag = res_list_array_ag.mean(axis=0)\n",
    "ret_std_ag = res_list_array_ag.std(axis=0)\n",
    "for i in range(len(column_names)):\n",
    "    print(f\"{column_names[i]}: {ret_mean_ag[i]:.5f} ± {ret_std_ag[i]:.5f}\")"
   ]
  },
  {
   "cell_type": "markdown",
   "id": "bcf911c7",
   "metadata": {},
   "source": [
    "{'average': 0.280625,\n",
    " 'direct_effect': -0.14144999999999996,\n",
    " 'spillover_effect': -0.11580625,\n",
    " 'psi_1_gamma': 0.23822500000000002,\n",
    " 'psi_0_gamma': 0.379675,\n",
    " 'psi_zero': 0.49548125}\n",
    "\n",
    "average: 0.29717 ± 0.02117\n",
    "direct_effect: -0.12423 ± 0.05673\n",
    "spillover_effect: -0.04001 ± 0.08298\n",
    "psi_0_gamma: 0.38405 ± 0.05055\n",
    "psi_zero: 0.42406 ± 0.06558\n",
    "psi_1_gamma: 0.25982 ± 0.02404"
   ]
  },
  {
   "cell_type": "code",
   "execution_count": 17,
   "id": "a02106b0",
   "metadata": {},
   "outputs": [
    {
     "name": "stdout",
     "output_type": "stream",
     "text": [
      "Multiprocessing <function run_ocnet at 0x142b49240> in 100 tasks, with 10 processes...\n",
      "Multiprocessing finished.\n"
     ]
    }
   ],
   "source": [
    "from utils import run_pll\n",
    "from run_pll import run_ocnet\n",
    "\n",
    "args = [{'Y_chain': Y_chain,\n",
    "         'A_chain': A_chain,\n",
    "         'L_chain': L_chain,\n",
    "         'adj': adj,\n",
    "         'i': i} for i in range(len(Y_chain))]\n",
    "\n",
    "res_list_ag = run_pll(run_ocnet, args, processes=n_cpu)\n",
    "res_list_array_ag = np.array(res_list_ag)\n",
    "# save results\n",
    "np.save(f'run/sim_results/sim_ocnet_{sample_size}_{min_degree}_{max_degree}.npy', res_list_array_ag)"
   ]
  },
  {
   "cell_type": "code",
   "execution_count": 18,
   "id": "55bc71a4",
   "metadata": {},
   "outputs": [
    {
     "name": "stdout",
     "output_type": "stream",
     "text": [
      "average: 0.24949 ± 0.01911\n",
      "direct_effect: -0.11571 ± 0.03110\n",
      "spillover_effect: -0.08836 ± 0.04139\n",
      "psi_0_gamma: 0.33047 ± 0.02826\n",
      "psi_zero: 0.41883 ± 0.03771\n",
      "psi_1_gamma: 0.21476 ± 0.02167\n"
     ]
    }
   ],
   "source": [
    "from run_pll import column_names\n",
    "\n",
    "ret_mean_ag = res_list_array_ag.mean(axis=0)\n",
    "ret_std_ag = res_list_array_ag.std(axis=0)\n",
    "for i in range(len(column_names)):\n",
    "    print(f\"{column_names[i]}: {ret_mean_ag[i]:.5f} ± {ret_std_ag[i]:.5f}\")"
   ]
  },
  {
   "cell_type": "code",
   "execution_count": null,
   "id": "69416a8f",
   "metadata": {},
   "outputs": [],
   "source": []
  }
 ],
 "metadata": {
  "kernelspec": {
   "display_name": "ljz",
   "language": "python",
   "name": "python3"
  },
  "language_info": {
   "codemirror_mode": {
    "name": "ipython",
    "version": 3
   },
   "file_extension": ".py",
   "mimetype": "text/x-python",
   "name": "python",
   "nbconvert_exporter": "python",
   "pygments_lexer": "ipython3",
   "version": "3.10.14"
  }
 },
 "nbformat": 4,
 "nbformat_minor": 5
}
