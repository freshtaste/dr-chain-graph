{
 "cells": [
  {
   "cell_type": "code",
   "execution_count": 1,
   "id": "f4603822-2e91-43d0-9797-5c48185fc8ae",
   "metadata": {},
   "outputs": [
    {
     "name": "stderr",
     "output_type": "stream",
     "text": [
      "100%|██████████| 40/40 [00:01<00:00, 30.78it/s]\n"
     ]
    }
   ],
   "source": [
    "from dgp import *\n",
    "\n",
    "# 1. Simulate or load data\n",
    "sample_size = 800\n",
    "min_degree = 1\n",
    "max_degree = 1\n",
    "adj = get_graph(sample_size, min_degree, max_degree, seed=2)\n",
    "\n",
    "tau = np.array([-1.0, 0.50, -0.50])       # shape (3,)\n",
    "rho = np.array([[0,0.1,0.2],\n",
    "                [0.1,0,0.1],\n",
    "                [0.2,0.1,0]])      # shape (3, 3), with 0s on the diagonal\n",
    "nu = np.array([0.1,0,0,0.1,0,0,0.1,0,0]).reshape(3,3)       # shape (3, 3)\n",
    "gamma = np.array([-1.00,0.50,0.10,0.20,0.05,0.25,-0.08,0.30])     # shape (8,)\n",
    "beta = np.array([-0.30,-0.60,-0.20,-0.20,-0.05,-0.10,-0.01,0.40,0.01,0.20])     # shape (10,)\n",
    "\n",
    "Y_chain, A_chain, L_chain = sample_network_chain(adj, tau, rho, nu, gamma, beta, R=30,\n",
    "    burnin_R=10, seed=1)\n",
    "\n",
    "Y_chain = Y_chain[::3]\n",
    "A_chain = A_chain[::3]\n",
    "L_chain = L_chain[::3]"
   ]
  },
  {
   "cell_type": "code",
   "execution_count": 2,
   "id": "c4163040",
   "metadata": {},
   "outputs": [
    {
     "name": "stdout",
     "output_type": "stream",
     "text": [
      "(800, 1000, 4)\n"
     ]
    }
   ],
   "source": [
    "from drnet import doubly_robust\n",
    "from run_pll import cols_raw\n",
    "\n",
    "ret_i = doubly_robust(A_chain[-2], L_chain[-2], Y_chain[-2], adj, return_raw=True)\n",
    "ret_array = np.zeros((ret_i[cols_raw[0]].shape[0], ret_i[cols_raw[0]].shape[1], len(cols_raw)))\n",
    "for i in range(len(cols_raw)):\n",
    "    ret_array[:, :, i] = ret_i[cols_raw[i]].copy()\n",
    "print(ret_array.shape)"
   ]
  },
  {
   "cell_type": "code",
   "execution_count": 2,
   "id": "241ef7fa-a41a-4291-a174-e925b80c636e",
   "metadata": {},
   "outputs": [],
   "source": [
    "from autognet import fit_autog_models, extract_parameters_from_autog_models, prepare_features_outcome_model\n",
    "import statsmodels.api as sm\n",
    "\n",
    "def get_beta(adj_matrix, Y, A, L, treatment_allocation=0.5, R=10, burnin=5, seed=0):\n",
    "    \"\"\"\n",
    "    Fit autognet models and evaluate causal effects using agc_effect.\n",
    "    \"\"\"\n",
    "    np.random.seed(seed)\n",
    "    models = fit_autog_models(Y, A, L, adj_matrix)\n",
    "    tau, rho, nu, beta = extract_parameters_from_autog_models(models, adj_matrix)\n",
    "\n",
    "    return beta"
   ]
  },
  {
   "cell_type": "code",
   "execution_count": 3,
   "id": "283ea655-255b-4893-bb2f-010e48b6bdf7",
   "metadata": {},
   "outputs": [
    {
     "name": "stderr",
     "output_type": "stream",
     "text": [
      "100%|██████████| 1000/1000 [00:17<00:00, 56.53it/s]\n"
     ]
    }
   ],
   "source": [
    "from tqdm import tqdm\n",
    "\n",
    "betahats = []\n",
    "for i in tqdm(range(len(Y_chain))):\n",
    "    betahat = get_beta(adj, Y_chain[i], A_chain[i], L_chain[i], treatment_allocation=0.7, R=50, burnin=10, seed=1)\n",
    "    betahats.append(betahat)"
   ]
  },
  {
   "cell_type": "code",
   "execution_count": 4,
   "id": "aae0d5bf",
   "metadata": {},
   "outputs": [
    {
     "data": {
      "text/plain": [
       "array([-0.39173937, -0.52787214,  0.15045679,  0.00440145, -0.08004167,\n",
       "       -0.40050773, -0.05185024,  0.63315126,  0.14825143, -0.201992  ])"
      ]
     },
     "execution_count": 4,
     "metadata": {},
     "output_type": "execute_result"
    }
   ],
   "source": [
    "betahats[-1]"
   ]
  },
  {
   "cell_type": "code",
   "execution_count": 5,
   "id": "e3a92763-a16c-4906-8da5-e975e6d27902",
   "metadata": {},
   "outputs": [
    {
     "data": {
      "text/plain": [
       "array([-0.3 , -0.6 , -0.2 , -0.2 , -0.05, -0.1 , -0.01,  0.4 ,  0.01,\n",
       "        0.2 ])"
      ]
     },
     "execution_count": 5,
     "metadata": {},
     "output_type": "execute_result"
    }
   ],
   "source": [
    "beta"
   ]
  },
  {
   "cell_type": "code",
   "execution_count": 6,
   "id": "4fb01835-0f7b-46c1-b29b-28ad3a860036",
   "metadata": {},
   "outputs": [
    {
     "data": {
      "text/plain": [
       "array([ 0.08010531, -0.0145634 , -0.00379152,  0.00883194, -0.00116777,\n",
       "        0.00224138, -0.00691273,  0.00442347, -0.00247561, -0.21096924])"
      ]
     },
     "execution_count": 6,
     "metadata": {},
     "output_type": "execute_result"
    }
   ],
   "source": [
    "np.mean(np.array(betahats), axis=0) - beta"
   ]
  },
  {
   "cell_type": "code",
   "execution_count": 7,
   "id": "156d90f8-186c-4cbf-bcdd-20584acc6b42",
   "metadata": {},
   "outputs": [
    {
     "data": {
      "text/plain": [
       "-0.014427816936012338"
      ]
     },
     "execution_count": 7,
     "metadata": {},
     "output_type": "execute_result"
    }
   ],
   "source": [
    "np.mean(np.mean(np.array(betahats), axis=0) - beta)"
   ]
  },
  {
   "cell_type": "code",
   "execution_count": null,
   "id": "4443e465-27d1-49a9-9f84-c68492a18d0b",
   "metadata": {},
   "outputs": [],
   "source": []
  },
  {
   "cell_type": "code",
   "execution_count": null,
   "id": "6b00cc42",
   "metadata": {},
   "outputs": [],
   "source": []
  }
 ],
 "metadata": {
  "kernelspec": {
   "display_name": "ljz",
   "language": "python",
   "name": "python3"
  },
  "language_info": {
   "codemirror_mode": {
    "name": "ipython",
    "version": 3
   },
   "file_extension": ".py",
   "mimetype": "text/x-python",
   "name": "python",
   "nbconvert_exporter": "python",
   "pygments_lexer": "ipython3",
   "version": "3.10.14"
  }
 },
 "nbformat": 4,
 "nbformat_minor": 5
}
