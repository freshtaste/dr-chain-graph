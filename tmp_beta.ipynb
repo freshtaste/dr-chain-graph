{
 "cells": [
  {
   "cell_type": "code",
   "execution_count": 1,
   "id": "f4603822-2e91-43d0-9797-5c48185fc8ae",
   "metadata": {},
   "outputs": [
    {
     "name": "stderr",
     "output_type": "stream",
     "text": [
      "100%|██████████| 40/40 [00:01<00:00, 30.66it/s]\n"
     ]
    }
   ],
   "source": [
    "from dgp import *\n",
    "\n",
    "# 1. Simulate or load data\n",
    "sample_size = 800\n",
    "min_degree = 2\n",
    "max_degree = 4\n",
    "adj = get_graph(sample_size, min_degree, max_degree, seed=2)\n",
    "\n",
    "tau = np.array([-1.0, 0.50, -0.50])       # shape (3,)\n",
    "rho = np.array([[0,0.1,0.2],\n",
    "                [0.1,0,0.1],\n",
    "                [0.2,0.1,0]])      # shape (3, 3), with 0s on the diagonal\n",
    "nu = np.array([0.1,0,0,0.1,0,0,0.1,0,0]).reshape(3,3)       # shape (3, 3)\n",
    "gamma = np.array([-1.00,0.50,0.10,0.20,0.05,0.25,-0.08,0.30])     # shape (8,)\n",
    "beta = np.array([-0.30,-0.60,-0.20,-0.20,-0.05,-0.10,-0.01,0.40,0.01,0.20])     # shape (10,)\n",
    "\n",
    "Y_chain, A_chain, L_chain = sample_network_chain(adj, tau, rho, nu, gamma, beta, R=30,\n",
    "    burnin_R=10, seed=1)\n",
    "\n",
    "Y_chain = Y_chain[::3]\n",
    "A_chain = A_chain[::3]\n",
    "L_chain = L_chain[::3]"
   ]
  },
  {
   "cell_type": "code",
   "execution_count": 3,
   "id": "5c137ed0",
   "metadata": {},
   "outputs": [
    {
     "data": {
      "text/plain": [
       "{'average': 0.28174999999999994,\n",
       " 'direct_effect': -0.14290000000000003,\n",
       " 'spillover_effect': -0.11787499999999995,\n",
       " 'psi_1_gamma': 0.23559999999999998,\n",
       " 'psi_0_gamma': 0.3785,\n",
       " 'psi_zero': 0.49637499999999996}"
      ]
     },
     "execution_count": 3,
     "metadata": {},
     "output_type": "execute_result"
    }
   ],
   "source": [
    "from agcEffect import *\n",
    "\n",
    "agc_effect(\n",
    "    adj,\n",
    "    tau, rho, nu, beta,\n",
    "    treatment_allocation=0.7,\n",
    "    R=50,\n",
    "    burnin_R=10,\n",
    "    seed=0\n",
    ")"
   ]
  },
  {
   "cell_type": "code",
   "execution_count": 2,
   "id": "c4163040",
   "metadata": {},
   "outputs": [
    {
     "data": {
      "text/plain": [
       "{'average': 0.2829604563257415,\n",
       " 'direct_effect': -0.09970894099130528,\n",
       " 'spillover_effect': -0.11255021946342691,\n",
       " 'psi_1_gamma': 0.2515737968274997,\n",
       " 'psi_0_gamma': 0.351282737818805,\n",
       " 'psi_zero': 0.4638329572822319}"
      ]
     },
     "execution_count": 2,
     "metadata": {},
     "output_type": "execute_result"
    }
   ],
   "source": [
    "from drnet import doubly_robust\n",
    "from run_pll import cols_raw\n",
    "\n",
    "ret_i = doubly_robust(A_chain[-2], L_chain[-2], Y_chain[-2], adj, return_raw=False)\n",
    "ret_i"
   ]
  },
  {
   "cell_type": "code",
   "execution_count": 4,
   "id": "e749e909",
   "metadata": {},
   "outputs": [
    {
     "data": {
      "text/plain": [
       "{'average': 0.2487969941961577,\n",
       " 'direct_effect': -0.08784745220790113,\n",
       " 'spillover_effect': -0.21207985933017354,\n",
       " 'psi_1_gamma': 0.21936786082727183,\n",
       " 'psi_0_gamma': 0.30721531303517297,\n",
       " 'psi_zero': 0.5192951723653465}"
      ]
     },
     "execution_count": 4,
     "metadata": {},
     "output_type": "execute_result"
    }
   ],
   "source": [
    "from drnet_em import doubly_robust_em\n",
    "\n",
    "ret_i_em = doubly_robust_em(A_chain[-3], L_chain[-3], Y_chain[-3], adj, return_raw=False)\n",
    "ret_i_em"
   ]
  },
  {
   "cell_type": "code",
   "execution_count": null,
   "id": "241ef7fa-a41a-4291-a174-e925b80c636e",
   "metadata": {},
   "outputs": [],
   "source": [
    "from autognet import fit_autog_models, extract_parameters_from_autog_models, prepare_features_outcome_model\n",
    "import statsmodels.api as sm\n",
    "\n",
    "def get_beta(adj_matrix, Y, A, L, treatment_allocation=0.5, R=10, burnin=5, seed=0):\n",
    "    \"\"\"\n",
    "    Fit autognet models and evaluate causal effects using agc_effect.\n",
    "    \"\"\"\n",
    "    np.random.seed(seed)\n",
    "    models = fit_autog_models(Y, A, L, adj_matrix)\n",
    "    tau, rho, nu, beta = extract_parameters_from_autog_models(models, adj_matrix)\n",
    "\n",
    "    return beta"
   ]
  },
  {
   "cell_type": "code",
   "execution_count": null,
   "id": "283ea655-255b-4893-bb2f-010e48b6bdf7",
   "metadata": {},
   "outputs": [
    {
     "name": "stderr",
     "output_type": "stream",
     "text": [
      "100%|██████████| 1000/1000 [00:17<00:00, 56.53it/s]\n"
     ]
    }
   ],
   "source": [
    "from tqdm import tqdm\n",
    "\n",
    "betahats = []\n",
    "for i in tqdm(range(len(Y_chain))):\n",
    "    betahat = get_beta(adj, Y_chain[i], A_chain[i], L_chain[i], treatment_allocation=0.7, R=50, burnin=10, seed=1)\n",
    "    betahats.append(betahat)"
   ]
  },
  {
   "cell_type": "code",
   "execution_count": null,
   "id": "aae0d5bf",
   "metadata": {},
   "outputs": [
    {
     "data": {
      "text/plain": [
       "array([-0.39173937, -0.52787214,  0.15045679,  0.00440145, -0.08004167,\n",
       "       -0.40050773, -0.05185024,  0.63315126,  0.14825143, -0.201992  ])"
      ]
     },
     "execution_count": 4,
     "metadata": {},
     "output_type": "execute_result"
    }
   ],
   "source": [
    "betahats[-1]"
   ]
  },
  {
   "cell_type": "code",
   "execution_count": null,
   "id": "e3a92763-a16c-4906-8da5-e975e6d27902",
   "metadata": {},
   "outputs": [
    {
     "data": {
      "text/plain": [
       "array([-0.3 , -0.6 , -0.2 , -0.2 , -0.05, -0.1 , -0.01,  0.4 ,  0.01,\n",
       "        0.2 ])"
      ]
     },
     "execution_count": 5,
     "metadata": {},
     "output_type": "execute_result"
    }
   ],
   "source": [
    "beta"
   ]
  },
  {
   "cell_type": "code",
   "execution_count": null,
   "id": "4fb01835-0f7b-46c1-b29b-28ad3a860036",
   "metadata": {},
   "outputs": [
    {
     "data": {
      "text/plain": [
       "array([ 0.08010531, -0.0145634 , -0.00379152,  0.00883194, -0.00116777,\n",
       "        0.00224138, -0.00691273,  0.00442347, -0.00247561, -0.21096924])"
      ]
     },
     "execution_count": 6,
     "metadata": {},
     "output_type": "execute_result"
    }
   ],
   "source": [
    "np.mean(np.array(betahats), axis=0) - beta"
   ]
  },
  {
   "cell_type": "code",
   "execution_count": null,
   "id": "156d90f8-186c-4cbf-bcdd-20584acc6b42",
   "metadata": {},
   "outputs": [
    {
     "data": {
      "text/plain": [
       "-0.014427816936012338"
      ]
     },
     "execution_count": 7,
     "metadata": {},
     "output_type": "execute_result"
    }
   ],
   "source": [
    "np.mean(np.mean(np.array(betahats), axis=0) - beta)"
   ]
  },
  {
   "cell_type": "code",
   "execution_count": null,
   "id": "4443e465-27d1-49a9-9f84-c68492a18d0b",
   "metadata": {},
   "outputs": [],
   "source": []
  },
  {
   "cell_type": "code",
   "execution_count": null,
   "id": "6b00cc42",
   "metadata": {},
   "outputs": [
    {
     "name": "stderr",
     "output_type": "stream",
     "text": [
      "100%|██████████| 40/40 [00:01<00:00, 27.37it/s]\n"
     ]
    }
   ],
   "source": [
    "num_sample = 30\n",
    "num_burn = 10\n",
    "sample_size = 800\n",
    "\n",
    "from dgp import *\n",
    "\n",
    "# 1. Simulate or load data\n",
    "min_degree = 5\n",
    "max_degree = 7\n",
    "adj = get_graph(sample_size, min_degree, max_degree, seed=1)\n",
    "\n",
    "tau = np.array([-1.0, 0.50, -0.50])       # shape (3,)\n",
    "rho = np.array([[0,0.1,0.2],\n",
    "                [0.1,0,0.1],\n",
    "                [0.2,0.1,0]])      # shape (3, 3), with 0s on the diagonal\n",
    "nu = np.array([0.1,0,0,0.1,0,0,0.1,0,0]).reshape(3,3)       # shape (3, 3)\n",
    "gamma = np.array([-2.00,0.50,0.10,0.20,0.05,0.25,-0.08,0.30])     # shape (8,)\n",
    "beta = np.array([-0.30,-0.60,-0.20,-0.20,-0.05,-0.10,-0.01,0.40,0.01,0.20])     # shape (10,)\n",
    "\n",
    "Y_chain, A_chain, L_chain = sample_network_chain2(adj, tau, rho, nu, gamma, beta, R=num_sample,\n",
    "    burnin_R=num_burn, seed=0)\n",
    "\n",
    "Y_chain = Y_chain[::3]\n",
    "A_chain = A_chain[::3]\n",
    "L_chain = L_chain[::3]"
   ]
  },
  {
   "cell_type": "code",
   "execution_count": 2,
   "id": "2732bb9b",
   "metadata": {},
   "outputs": [
    {
     "data": {
      "text/plain": [
       "{'average': 0.201,\n",
       " 'direct_effect': 0.025250000000000022,\n",
       " 'spillover_effect': -0.23697500000000005,\n",
       " 'psi_1_gamma': 0.21157499999999999,\n",
       " 'psi_0_gamma': 0.18632499999999996,\n",
       " 'psi_zero': 0.4233}"
      ]
     },
     "execution_count": 2,
     "metadata": {},
     "output_type": "execute_result"
    }
   ],
   "source": [
    "from agcEffect import *\n",
    "\n",
    "agc_effect2(\n",
    "    adj,\n",
    "    tau, rho, nu, beta,\n",
    "    treatment_allocation=0.7,\n",
    "    R=50,\n",
    "    burnin_R=10,\n",
    "    seed=0\n",
    ")"
   ]
  },
  {
   "cell_type": "code",
   "execution_count": 13,
   "id": "3796957e",
   "metadata": {},
   "outputs": [
    {
     "data": {
      "text/plain": [
       "(0.009349342448493666, 0.4965)"
      ]
     },
     "execution_count": 13,
     "metadata": {},
     "output_type": "execute_result"
    }
   ],
   "source": [
    "dir, dir2 = [], []\n",
    "for i in range(Y_chain.shape[0]):\n",
    "    Y = Y_chain[i]\n",
    "    A = A_chain[i]\n",
    "    L = L_chain[i]\n",
    "    dir.append(np.mean(Y[A==1]) - np.mean(Y[A==0]))\n",
    "    dir2.append(np.mean(A))\n",
    "\n",
    "np.mean(dir), np.mean(dir2)"
   ]
  },
  {
   "cell_type": "code",
   "execution_count": 2,
   "id": "642ebbea",
   "metadata": {},
   "outputs": [],
   "source": [
    "n_cpu = 10"
   ]
  },
  {
   "cell_type": "code",
   "execution_count": 5,
   "id": "94ad9036",
   "metadata": {},
   "outputs": [
    {
     "name": "stdout",
     "output_type": "stream",
     "text": [
      "Multiprocessing <function run_dr at 0x10808c1f0> in 10 tasks, with 10 processes...\n",
      "Multiprocessing finished.\n"
     ]
    }
   ],
   "source": [
    "from run_pll import *\n",
    "from utils import run_pll\n",
    "\n",
    "args = [{'Y_chain': Y_chain,\n",
    "         'A_chain': A_chain,\n",
    "         'L_chain': L_chain,\n",
    "         'adj': adj,\n",
    "         'i': i} for i in range(len(Y_chain))]\n",
    "\n",
    "res_list_dr = run_pll(run_dr, args, processes=n_cpu)\n",
    "res_list_array_dr = np.array(res_list_dr)"
   ]
  },
  {
   "cell_type": "code",
   "execution_count": 6,
   "id": "c3e7ffb7",
   "metadata": {},
   "outputs": [
    {
     "name": "stdout",
     "output_type": "stream",
     "text": [
      "average: 0.18595 ± 0.03886\n",
      "direct_effect: -0.00959 ± 0.04825\n",
      "spillover_effect: -0.24056 ± 0.08832\n",
      "psi_0_gamma: 0.19490 ± 0.05247\n",
      "psi_zero: 0.43545 ± 0.06247\n",
      "psi_1_gamma: 0.18530 ± 0.03915\n"
     ]
    }
   ],
   "source": [
    "from run_pll import column_names\n",
    "\n",
    "ret_mean_dr = res_list_array_dr.mean(axis=0)\n",
    "ret_std_dr = res_list_array_dr.std(axis=0)\n",
    "for i in range(len(column_names)):\n",
    "    print(f\"{column_names[i]}: {ret_mean_dr[i]:.5f} ± {ret_std_dr[i]:.5f}\")"
   ]
  },
  {
   "cell_type": "code",
   "execution_count": 7,
   "id": "16e13c3f",
   "metadata": {},
   "outputs": [
    {
     "name": "stdout",
     "output_type": "stream",
     "text": [
      "Multiprocessing <function run_autognet at 0x164620a60> in 10 tasks, with 10 processes...\n",
      "Multiprocessing finished.\n"
     ]
    }
   ],
   "source": [
    "from utils import run_pll\n",
    "from run_pll import run_autognet\n",
    "\n",
    "args = [{'Y_chain': Y_chain,\n",
    "         'A_chain': A_chain,\n",
    "         'L_chain': L_chain,\n",
    "         'adj': adj,\n",
    "         'i': i} for i in range(len(Y_chain))]\n",
    "\n",
    "res_list_ag = run_pll(run_autognet, args, processes=n_cpu)\n",
    "res_list_array_ag = np.array(res_list_ag)"
   ]
  },
  {
   "cell_type": "code",
   "execution_count": 8,
   "id": "c9eb8a03",
   "metadata": {},
   "outputs": [
    {
     "name": "stdout",
     "output_type": "stream",
     "text": [
      "average: 0.17153 ± 0.03228\n",
      "direct_effect: -0.02476 ± 0.02289\n",
      "spillover_effect: -0.20472 ± 0.06280\n",
      "psi_0_gamma: 0.19140 ± 0.03556\n",
      "psi_zero: 0.39611 ± 0.03821\n",
      "psi_1_gamma: 0.16664 ± 0.03403\n"
     ]
    }
   ],
   "source": [
    "from run_pll import column_names\n",
    "\n",
    "ret_mean_ag = res_list_array_ag.mean(axis=0)\n",
    "ret_std_ag = res_list_array_ag.std(axis=0)\n",
    "for i in range(len(column_names)):\n",
    "    print(f\"{column_names[i]}: {ret_mean_ag[i]:.5f} ± {ret_std_ag[i]:.5f}\")"
   ]
  },
  {
   "cell_type": "code",
   "execution_count": 3,
   "id": "7e7e6d0b",
   "metadata": {},
   "outputs": [
    {
     "name": "stdout",
     "output_type": "stream",
     "text": [
      "Multiprocessing <function run_dr_em at 0x15c9e0ee0> in 10 tasks, with 10 processes...\n",
      "Multiprocessing finished.\n"
     ]
    }
   ],
   "source": [
    "from run_pll import *\n",
    "from utils import run_pll\n",
    "\n",
    "args = [{'Y_chain': Y_chain,\n",
    "         'A_chain': A_chain,\n",
    "         'L_chain': L_chain,\n",
    "         'adj': adj,\n",
    "         'i': i} for i in range(len(Y_chain))]\n",
    "\n",
    "res_list_dr_em = run_pll(run_dr_em, args, processes=n_cpu)\n",
    "res_list_array_dr_em = np.array(res_list_dr_em)"
   ]
  },
  {
   "cell_type": "code",
   "execution_count": 4,
   "id": "e7b83bb4",
   "metadata": {},
   "outputs": [
    {
     "name": "stdout",
     "output_type": "stream",
     "text": [
      "average: 0.10687 ± 0.01503\n",
      "direct_effect: 0.03032 ± 0.02366\n",
      "spillover_effect: -0.19783 ± 0.07553\n",
      "psi_0_gamma: 0.08564 ± 0.01672\n",
      "psi_zero: 0.28347 ± 0.06859\n",
      "psi_1_gamma: 0.11596 ± 0.01925\n"
     ]
    }
   ],
   "source": [
    "from run_pll import column_names\n",
    "\n",
    "ret_mean_dr_em = res_list_array_dr_em.mean(axis=0)\n",
    "ret_std_dr_em = res_list_array_dr_em.std(axis=0)\n",
    "for i in range(len(column_names)):\n",
    "    print(f\"{column_names[i]}: {ret_mean_dr_em[i]:.5f} ± {ret_std_dr_em[i]:.5f}\")"
   ]
  },
  {
   "cell_type": "code",
   "execution_count": null,
   "id": "e6b4f52f",
   "metadata": {},
   "outputs": [],
   "source": []
  }
 ],
 "metadata": {
  "kernelspec": {
   "display_name": "ljz",
   "language": "python",
   "name": "python3"
  },
  "language_info": {
   "codemirror_mode": {
    "name": "ipython",
    "version": 3
   },
   "file_extension": ".py",
   "mimetype": "text/x-python",
   "name": "python",
   "nbconvert_exporter": "python",
   "pygments_lexer": "ipython3",
   "version": "3.10.14"
  }
 },
 "nbformat": 4,
 "nbformat_minor": 5
}
