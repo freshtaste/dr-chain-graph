{
 "cells": [
  {
   "cell_type": "code",
   "execution_count": 2,
   "id": "57659cfe",
   "metadata": {},
   "outputs": [],
   "source": [
    "num_sample = 300\n",
    "num_burn = 20\n",
    "sample_size = 800"
   ]
  },
  {
   "cell_type": "code",
   "execution_count": 2,
   "id": "d2597d99",
   "metadata": {},
   "outputs": [
    {
     "name": "stderr",
     "output_type": "stream",
     "text": [
      "100%|██████████| 320/320 [00:06<00:00, 51.09it/s]\n"
     ]
    },
    {
     "data": {
      "text/plain": [
       "(-0.08226961103096737, 0.2010625)"
      ]
     },
     "execution_count": 2,
     "metadata": {},
     "output_type": "execute_result"
    }
   ],
   "source": [
    "from dgp import sample_network_chain, get_graph, sample_Y1, sample_Y2, agcEffect\n",
    "import numpy as np\n",
    "\n",
    "# 1. Simulate or load data\n",
    "min_degree = 1\n",
    "max_degree = 2\n",
    "adj = get_graph(sample_size, min_degree, max_degree, seed=1)\n",
    "\n",
    "tau = np.array([-1.0, 0.50, -0.50])       # shape (3,)\n",
    "rho = np.array([[0,0.1,0.2],\n",
    "                [0.1,0,0.1],\n",
    "                [0.2,0.1,0]])      # shape (3, 3), with 0s on the diagonal\n",
    "nu = np.array([0.1,0,0,0.1,0,0,0.1,0,0]).reshape(3,3)       # shape (3, 3)\n",
    "gamma = np.array([-2.00,0.50,-0.05,0.20,0.05,0.25,-0.08,0.30])     # shape (8,)\n",
    "beta = np.array([-0.30,-0.60,-0.20,-0.20,-0.05,-0.10,-0.01,0.40,0.01,0.20])     # shape (10,)\n",
    "\n",
    "Y_chain, A_chain, L_chain = sample_network_chain(adj, tau, rho, nu, gamma, beta, R=num_sample,\n",
    "    burnin_R=num_burn, seed=0, sample_Y_func=sample_Y2, Atype=('gen', 0.7))\n",
    "\n",
    "Y_chain = Y_chain[::3]\n",
    "A_chain = A_chain[::3]\n",
    "L_chain = L_chain[::3]\n",
    "\n",
    "dir, dir2 = [], []\n",
    "for i in range(Y_chain.shape[0]):\n",
    "    Y = Y_chain[i]\n",
    "    A = A_chain[i]\n",
    "    L = L_chain[i]\n",
    "    dir.append(np.mean(Y[A==1]) - np.mean(Y[A==0]))\n",
    "    dir2.append(np.mean(A))\n",
    "\n",
    "np.mean(dir), np.mean(dir2)"
   ]
  },
  {
   "cell_type": "code",
   "execution_count": 3,
   "id": "15293c7b",
   "metadata": {},
   "outputs": [
    {
     "name": "stderr",
     "output_type": "stream",
     "text": [
      "100%|██████████| 600/600 [00:08<00:00, 71.27it/s]\n",
      "100%|██████████| 600/600 [00:08<00:00, 71.25it/s]\n",
      "100%|██████████| 600/600 [00:08<00:00, 71.28it/s]\n",
      "100%|██████████| 600/600 [00:08<00:00, 71.33it/s]\n"
     ]
    },
    {
     "data": {
      "text/plain": [
       "{'average': 0.25639375000000003,\n",
       " 'direct_effect': -0.13969625,\n",
       " 'spillover_effect': -0.167985,\n",
       " 'psi_1_gamma': 0.21558124999999997,\n",
       " 'psi_0_gamma': 0.35527749999999997,\n",
       " 'psi_zero': 0.5232625}"
      ]
     },
     "execution_count": 3,
     "metadata": {},
     "output_type": "execute_result"
    }
   ],
   "source": [
    "agcEffect(\n",
    "    adj,\n",
    "    tau, rho, nu, beta,\n",
    "    treatment_allocation=0.7,\n",
    "    R=500,\n",
    "    burnin_R=100,\n",
    "    seed=0,\n",
    "    sample_Y_func=sample_Y1\n",
    ")"
   ]
  },
  {
   "cell_type": "code",
   "execution_count": 4,
   "id": "ca7e2470-48d1-4b90-bf84-2a59037e6c2c",
   "metadata": {},
   "outputs": [
    {
     "name": "stderr",
     "output_type": "stream",
     "text": [
      "100%|██████████| 600/600 [00:07<00:00, 80.35it/s]\n",
      "100%|██████████| 600/600 [00:07<00:00, 80.29it/s]\n",
      "100%|██████████| 600/600 [00:07<00:00, 80.45it/s]\n",
      "100%|██████████| 600/600 [00:07<00:00, 80.59it/s]\n"
     ]
    },
    {
     "data": {
      "text/plain": [
       "{'average': 0.25677625,\n",
       " 'direct_effect': -0.0037349999999999883,\n",
       " 'spillover_effect': -0.16502624999999999,\n",
       " 'psi_1_gamma': 0.25577500000000003,\n",
       " 'psi_0_gamma': 0.25951,\n",
       " 'psi_zero': 0.42453625}"
      ]
     },
     "execution_count": 4,
     "metadata": {},
     "output_type": "execute_result"
    }
   ],
   "source": [
    "agcEffect(\n",
    "    adj,\n",
    "    tau, rho, nu, beta,\n",
    "    treatment_allocation=0.7,\n",
    "    R=500,\n",
    "    burnin_R=100,\n",
    "    seed=0,\n",
    "    sample_Y_func=sample_Y2\n",
    ")"
   ]
  },
  {
   "cell_type": "code",
   "execution_count": null,
   "id": "aa1d90ba-60d2-4ddc-995a-e569227191d8",
   "metadata": {},
   "outputs": [],
   "source": []
  },
  {
   "cell_type": "code",
   "execution_count": 5,
   "id": "c7a348d4",
   "metadata": {},
   "outputs": [],
   "source": [
    "n_cpu = 100"
   ]
  },
  {
   "cell_type": "code",
   "execution_count": 6,
   "id": "4e5c3878",
   "metadata": {},
   "outputs": [
    {
     "name": "stdout",
     "output_type": "stream",
     "text": [
      "Multiprocessing <function run_autognet at 0x7fdbd2a068e0> in 100 tasks, with 100 processes...\n",
      "Multiprocessing finished.\n",
      "average: 0.22573 ± 0.02904\n",
      "direct_effect: -0.06616 ± 0.02219\n",
      "spillover_effect: -0.14724 ± 0.03412\n",
      "psi_0_gamma: 0.26911 ± 0.02630\n",
      "psi_zero: 0.41635 ± 0.01648\n",
      "psi_1_gamma: 0.20294 ± 0.03165\n"
     ]
    }
   ],
   "source": [
    "from utils import run_pll\n",
    "from run_pll import run_autognet\n",
    "\n",
    "args = [{'Y_chain': Y_chain,\n",
    "         'A_chain': A_chain,\n",
    "         'L_chain': L_chain,\n",
    "         'adj': adj,\n",
    "         'i': i} for i in range(len(Y_chain))]\n",
    "\n",
    "res_list_ag = run_pll(run_autognet, args, processes=n_cpu)\n",
    "res_list_array_ag = np.array(res_list_ag)\n",
    "\n",
    "from run_pll import column_names\n",
    "\n",
    "ret_mean_ag = res_list_array_ag.mean(axis=0)\n",
    "ret_std_ag = res_list_array_ag.std(axis=0)\n",
    "for i in range(len(column_names)):\n",
    "    print(f\"{column_names[i]}: {ret_mean_ag[i]:.5f} ± {ret_std_ag[i]:.5f}\")"
   ]
  },
  {
   "cell_type": "code",
   "execution_count": 7,
   "id": "a94c2331",
   "metadata": {},
   "outputs": [
    {
     "name": "stdout",
     "output_type": "stream",
     "text": [
      "Multiprocessing <function run_dr at 0x7fdbe9c98360> in 100 tasks, with 100 processes...\n",
      "Multiprocessing finished.\n",
      "average: 0.24932 ± 0.05994\n",
      "direct_effect: -0.02265 ± 0.09446\n",
      "spillover_effect: -0.15891 ± 0.05688\n",
      "psi_0_gamma: 0.26659 ± 0.04979\n",
      "psi_zero: 0.42550 ± 0.02237\n",
      "psi_1_gamma: 0.24394 ± 0.08398\n"
     ]
    }
   ],
   "source": [
    "from run_pll import *\n",
    "from utils import run_pll\n",
    "\n",
    "args = [{'Y_chain': Y_chain,\n",
    "         'A_chain': A_chain,\n",
    "         'L_chain': L_chain,\n",
    "         'adj': adj,\n",
    "         'i': i} for i in range(len(Y_chain))]\n",
    "\n",
    "res_list_dr = run_pll(run_dr, args, processes=n_cpu)\n",
    "res_list_array_dr = np.array(res_list_dr)\n",
    "\n",
    "from run_pll import column_names\n",
    "\n",
    "ret_mean_dr = res_list_array_dr.mean(axis=0)\n",
    "ret_std_dr = res_list_array_dr.std(axis=0)\n",
    "for i in range(len(column_names)):\n",
    "    print(f\"{column_names[i]}: {ret_mean_dr[i]:.5f} ± {ret_std_dr[i]:.5f}\")"
   ]
  },
  {
   "cell_type": "code",
   "execution_count": 1,
   "id": "fc778acb-27df-48b7-9c2c-5b434cf8739c",
   "metadata": {},
   "outputs": [],
   "source": [
    "# from run_pll import *\n",
    "# from utils import run_pll\n",
    "\n",
    "# args = [{'Y_chain': Y_chain,\n",
    "#          'A_chain': A_chain,\n",
    "#          'L_chain': L_chain,\n",
    "#          'adj': adj,\n",
    "#          'i': i} for i in range(len(Y_chain))]\n",
    "\n",
    "# res_list_dr = run_pll(run_dr_em, args, processes=n_cpu)\n",
    "# res_list_array_dr = np.array(res_list_dr)\n",
    "\n",
    "# from run_pll import column_names\n",
    "\n",
    "# ret_mean_dr = res_list_array_dr.mean(axis=0)\n",
    "# ret_std_dr = res_list_array_dr.std(axis=0)\n",
    "# for i in range(len(column_names)):\n",
    "#     print(f\"{column_names[i]}: {ret_mean_dr[i]:.5f} ± {ret_std_dr[i]:.5f}\")"
   ]
  },
  {
   "cell_type": "code",
   "execution_count": null,
   "id": "5ee4418c-0361-41e7-8157-8a2588acbe7f",
   "metadata": {},
   "outputs": [],
   "source": []
  },
  {
   "cell_type": "code",
   "execution_count": null,
   "id": "72960b52-ada9-4a1c-928c-a0ee8d3f54fa",
   "metadata": {},
   "outputs": [],
   "source": []
  },
  {
   "cell_type": "code",
   "execution_count": 1,
   "id": "4d4fca7e-1b20-4b54-b7a3-f50a840e196d",
   "metadata": {},
   "outputs": [],
   "source": [
    "n_cpu = 100"
   ]
  },
  {
   "cell_type": "code",
   "execution_count": 2,
   "id": "192d10ef-f9ab-4c80-a541-4a9972325915",
   "metadata": {},
   "outputs": [
    {
     "name": "stderr",
     "output_type": "stream",
     "text": [
      "100%|██████████| 400/400 [00:07<00:00, 52.72it/s]\n"
     ]
    },
    {
     "data": {
      "text/plain": [
       "(-0.10535724757074673, 0.18219375)"
      ]
     },
     "execution_count": 2,
     "metadata": {},
     "output_type": "execute_result"
    }
   ],
   "source": [
    "from dgp import sample_network_chain, get_graph, sample_Y1, sample_Y2, agcEffect\n",
    "import numpy as np\n",
    "\n",
    "sample_size = 1600\n",
    "num_sample = 300\n",
    "num_burn = 100\n",
    "\n",
    "# 1. Simulate or load data\n",
    "min_degree = 1\n",
    "max_degree = 2\n",
    "adj = get_graph(sample_size, min_degree, max_degree, seed=1)\n",
    "\n",
    "tau = np.array([-1.0, 0.50, -0.50])       # shape (3,)\n",
    "rho = np.array([[0,0.1,0.2],\n",
    "                [0.1,0,0.1],\n",
    "                [0.2,0.1,0]])      # shape (3, 3), with 0s on the diagonal\n",
    "nu = np.array([0.1,0,0,0.1,0,0,0.1,0,0]).reshape(3,3)       # shape (3, 3)\n",
    "gamma = np.array([-2.00,0.50,-0.05,0.20,0.05,0.25,-0.08,0.30])     # shape (8,)\n",
    "beta = np.array([-0.30,-0.60,-0.20,-0.20,-0.05,-0.10,-0.01,0.40,0.01,0.20])     # shape (10,)\n",
    "\n",
    "Y_chain, A_chain, L_chain = sample_network_chain(adj, tau, rho, nu, gamma, beta, R=num_sample,\n",
    "    burnin_R=num_burn, seed=0, sample_Y_func=sample_Y2, Atype=('gen', 0.7))\n",
    "\n",
    "Y_chain = Y_chain[::3]\n",
    "A_chain = A_chain[::3]\n",
    "L_chain = L_chain[::3]\n",
    "\n",
    "dir, dir2 = [], []\n",
    "for i in range(Y_chain.shape[0]):\n",
    "    Y = Y_chain[i]\n",
    "    A = A_chain[i]\n",
    "    L = L_chain[i]\n",
    "    dir.append(np.mean(Y[A==1]) - np.mean(Y[A==0]))\n",
    "    dir2.append(np.mean(A))\n",
    "\n",
    "np.mean(dir), np.mean(dir2)"
   ]
  },
  {
   "cell_type": "code",
   "execution_count": null,
   "id": "3b9631ee-f7b9-4f01-b3c4-88aa1f1b1b36",
   "metadata": {},
   "outputs": [
    {
     "name": "stderr",
     "output_type": "stream",
     "text": [
      " 68%|██████▊   | 171/250 [00:02<00:00, 81.78it/s]"
     ]
    }
   ],
   "source": [
    "\n",
    "\n",
    "res_truth1 = agcEffect(\n",
    "    adj,\n",
    "    tau, rho, nu, beta,\n",
    "    treatment_allocation=0.7,\n",
    "    R=200,\n",
    "    burnin_R=50,\n",
    "    seed=0,\n",
    "    sample_Y_func=sample_Y2\n",
    ")\n",
    "res_truth2 = agcEffect(\n",
    "    adj,\n",
    "    tau, rho, nu, beta,\n",
    "    treatment_allocation=0.3,\n",
    "    R=200,\n",
    "    burnin_R=50,\n",
    "    seed=0,\n",
    "    sample_Y_func=sample_Y2\n",
    ")\n",
    "\n",
    "ground_truth1 = {'average': 0, 'direct': 0, 'indirect': 0, 'spillover_effect':0}\n",
    "ground_truth1['average'] = res_truth1['average']\n",
    "ground_truth1['direct'] = res_truth1['direct_effect']\n",
    "ground_truth1['indirect'] = res_truth1['psi_0_gamma'] - res_truth2['psi_0_gamma']\n",
    "ground_truth1['spillover_effect'] = res_truth1['spillover_effect']\n",
    "\n",
    "ground_truth1\n"
   ]
  },
  {
   "cell_type": "code",
   "execution_count": null,
   "id": "e1c5aaf1-746c-42f7-860e-dea2a85fd84d",
   "metadata": {},
   "outputs": [],
   "source": [
    "from utils import run_pll\n",
    "from run_pll import run_dr_raw\n",
    "\n",
    "treat_p = 0.7\n",
    "args = [{'Y_chain': Y_chain,\n",
    "         'A_chain': A_chain,\n",
    "         'L_chain': L_chain,\n",
    "         'adj': adj,\n",
    "         'i': i,\n",
    "         'treatment_allocation': treat_p,\n",
    "         'psi_0_gamma_only': False} for i in range(len(Y_chain))]\n",
    "\n",
    "res_list_dr = run_pll(run_dr_raw, args, processes=n_cpu)\n",
    "res_list_array_dr = np.array(res_list_dr)\n",
    "# save results\n",
    "np.save(f'run/sim_results/sim_dr_raw_{sample_size}_{min_degree}_{max_degree}_{treat_p}.npy', res_list_array_dr)"
   ]
  },
  {
   "cell_type": "code",
   "execution_count": null,
   "id": "71dfafeb-5131-4404-ac3e-4f9db6e04c59",
   "metadata": {},
   "outputs": [],
   "source": [
    "from utils import run_pll\n",
    "from run_pll import run_dr_raw\n",
    "\n",
    "treat_p = 0.3\n",
    "args = [{'Y_chain': Y_chain,\n",
    "         'A_chain': A_chain,\n",
    "         'L_chain': L_chain,\n",
    "         'adj': adj,\n",
    "         'i': i,\n",
    "         'treatment_allocation': treat_p,\n",
    "         'psi_0_gamma_only': True} for i in range(len(Y_chain))]\n",
    "\n",
    "res_list_dr = run_pll(run_dr_raw, args, processes=n_cpu)\n",
    "res_list_array_dr = np.array(res_list_dr)\n",
    "# save results\n",
    "np.save(f'run/sim_results/sim_dr_raw_{sample_size}_{min_degree}_{max_degree}_{treat_p}.npy', res_list_array_dr)"
   ]
  },
  {
   "cell_type": "code",
   "execution_count": null,
   "id": "6d593b23-97c9-4aa0-97c2-2f4ee547a5dc",
   "metadata": {},
   "outputs": [],
   "source": [
    "# read results\n",
    "import numpy as np\n",
    "from utils import compute_stats\n",
    "\n",
    "results1 = np.load('run/sim_results/sim_dr_raw_800_2_5_0.7.npy', allow_pickle=True)\n",
    "results2 = np.load('run/sim_results/sim_dr_raw_800_2_5_0.3.npy', allow_pickle=True)\n",
    "\n",
    "print(compute_stats(results1, results2, ground_truth1, adj))"
   ]
  },
  {
   "cell_type": "code",
   "execution_count": null,
   "id": "39ca32c5-f1df-4bed-b811-d92ee05d5893",
   "metadata": {},
   "outputs": [],
   "source": []
  },
  {
   "cell_type": "code",
   "execution_count": null,
   "id": "d95ad9f8-9dd2-4efb-b8ff-2e48fc17496f",
   "metadata": {},
   "outputs": [],
   "source": []
  }
 ],
 "metadata": {
  "kernelspec": {
   "display_name": "ljz",
   "language": "python",
   "name": "python3"
  },
  "language_info": {
   "codemirror_mode": {
    "name": "ipython",
    "version": 3
   },
   "file_extension": ".py",
   "mimetype": "text/x-python",
   "name": "python",
   "nbconvert_exporter": "python",
   "pygments_lexer": "ipython3",
   "version": "3.10.14"
  }
 },
 "nbformat": 4,
 "nbformat_minor": 5
}
