{
 "cells": [
  {
   "cell_type": "code",
   "execution_count": 1,
   "id": "2683a2a1",
   "metadata": {},
   "outputs": [],
   "source": [
    "num_sample = 30\n",
    "num_burn = 10\n",
    "sample_size = 800"
   ]
  },
  {
   "cell_type": "code",
   "execution_count": 2,
   "id": "52d3606d",
   "metadata": {},
   "outputs": [
    {
     "name": "stderr",
     "output_type": "stream",
     "text": [
      "100%|██████████| 40/40 [00:01<00:00, 31.63it/s]\n"
     ]
    }
   ],
   "source": [
    "from dgp import *\n",
    "\n",
    "# 1. Simulate or load data\n",
    "min_degree = 2\n",
    "max_degree = 4\n",
    "adj = get_graph(sample_size, min_degree, max_degree, seed=1)\n",
    "\n",
    "tau = np.array([-1.0, 0.50, -0.50])       # shape (3,)\n",
    "rho = np.array([[0,0.1,0.2],\n",
    "                [0.1,0,0.1],\n",
    "                [0.2,0.1,0]])      # shape (3, 3), with 0s on the diagonal\n",
    "nu = np.array([0.1,0,0,0.1,0,0,0.1,0,0]).reshape(3,3)       # shape (3, 3)\n",
    "gamma = np.array([-1.00,0.50,0.10,0.20,0.05,0.25,-0.08,0.30])     # shape (8,)\n",
    "beta = np.array([-0.30,-0.60,-0.20,-0.20,-0.05,-0.10,-0.01,0.40,0.01,0.20])     # shape (10,)\n",
    "\n",
    "Y_chain, A_chain, L_chain = sample_network_chain(adj, tau, rho, nu, gamma, beta, R=num_sample,\n",
    "    burnin_R=num_burn, seed=0)\n",
    "\n",
    "Y_chain = Y_chain[::3]\n",
    "A_chain = A_chain[::3]\n",
    "L_chain = L_chain[::3]"
   ]
  },
  {
   "cell_type": "code",
   "execution_count": 3,
   "id": "e0521c56",
   "metadata": {},
   "outputs": [],
   "source": [
    "n_cpu = 10"
   ]
  },
  {
   "cell_type": "code",
   "execution_count": 4,
   "id": "a26f2d1e",
   "metadata": {},
   "outputs": [
    {
     "data": {
      "text/plain": [
       "{'average': 0.28088125,\n",
       " 'direct': -0.14169374999999992,\n",
       " 'indirect': -0.06577500000000003,\n",
       " 'spillover_effect': -0.11949375000000007}"
      ]
     },
     "execution_count": 4,
     "metadata": {},
     "output_type": "execute_result"
    }
   ],
   "source": [
    "from agcEffect import *\n",
    "\n",
    "res_truth1 = agc_effect(\n",
    "    adj,\n",
    "    tau, rho, nu, beta,\n",
    "    treatment_allocation=0.7,\n",
    "    R=200,\n",
    "    burnin_R=50,\n",
    "    seed=0\n",
    ")\n",
    "res_truth2 = agc_effect(\n",
    "    adj,\n",
    "    tau, rho, nu, beta,\n",
    "    treatment_allocation=0.3,\n",
    "    R=200,\n",
    "    burnin_R=50,\n",
    "    seed=0\n",
    ")\n",
    "\n",
    "ground_truth1 = {'average': 0, 'direct': 0, 'indirect': 0, 'spillover_effect':0}\n",
    "ground_truth1['average'] = res_truth1['average']\n",
    "ground_truth1['direct'] = res_truth1['direct_effect']\n",
    "ground_truth1['indirect'] = res_truth1['psi_0_gamma'] - res_truth2['psi_0_gamma']\n",
    "ground_truth1['spillover_effect'] = res_truth1['spillover_effect']\n",
    "\n",
    "ground_truth1\n"
   ]
  },
  {
   "cell_type": "code",
   "execution_count": 5,
   "id": "cb6ccea2",
   "metadata": {},
   "outputs": [
    {
     "name": "stdout",
     "output_type": "stream",
     "text": [
      "Multiprocessing <function run_dr_raw at 0x16a114af0> in 10 tasks, with 10 processes...\n",
      "Multiprocessing finished.\n"
     ]
    }
   ],
   "source": [
    "from utils import run_pll\n",
    "from run_pll import run_dr_raw\n",
    "\n",
    "treat_p = 0.7\n",
    "args = [{'Y_chain': Y_chain,\n",
    "         'A_chain': A_chain,\n",
    "         'L_chain': L_chain,\n",
    "         'adj': adj,\n",
    "         'i': i,\n",
    "         'treatment_allocation': treat_p,\n",
    "         'psi_0_gamma_only': False} for i in range(len(Y_chain))]\n",
    "\n",
    "res_list_dr = run_pll(run_dr_raw, args, processes=n_cpu)\n",
    "res_list_array_dr = np.array(res_list_dr)\n",
    "# save results\n",
    "np.save(f'run/sim_results/sim_dr_raw_{sample_size}_{min_degree}_{max_degree}_{treat_p}.npy', res_list_array_dr)"
   ]
  },
  {
   "cell_type": "code",
   "execution_count": 6,
   "id": "46549a68",
   "metadata": {},
   "outputs": [
    {
     "name": "stdout",
     "output_type": "stream",
     "text": [
      "Multiprocessing <function run_dr_raw at 0x16a114af0> in 10 tasks, with 10 processes...\n",
      "Multiprocessing finished.\n"
     ]
    }
   ],
   "source": [
    "from utils import run_pll\n",
    "from run_pll import run_dr_raw\n",
    "\n",
    "treat_p = 0.3\n",
    "args = [{'Y_chain': Y_chain,\n",
    "         'A_chain': A_chain,\n",
    "         'L_chain': L_chain,\n",
    "         'adj': adj,\n",
    "         'i': i,\n",
    "         'treatment_allocation': treat_p,\n",
    "         'psi_0_gamma_only': True} for i in range(len(Y_chain))]\n",
    "\n",
    "res_list_dr = run_pll(run_dr_raw, args, processes=n_cpu)\n",
    "res_list_array_dr = np.array(res_list_dr)\n",
    "# save results\n",
    "np.save(f'run/sim_results/sim_dr_raw_{sample_size}_{min_degree}_{max_degree}_{treat_p}.npy', res_list_array_dr)"
   ]
  },
  {
   "cell_type": "code",
   "execution_count": 7,
   "id": "b86484dd",
   "metadata": {},
   "outputs": [
    {
     "name": "stderr",
     "output_type": "stream",
     "text": [
      "100%|██████████| 40/40 [00:01<00:00, 27.76it/s]\n"
     ]
    }
   ],
   "source": [
    "from dgp import *\n",
    "\n",
    "# 1. Simulate or load data\n",
    "min_degree = 5\n",
    "max_degree = 7\n",
    "adj = get_graph(sample_size, min_degree, max_degree, seed=1)\n",
    "\n",
    "tau = np.array([-1.0, 0.50, -0.50])       # shape (3,)\n",
    "rho = np.array([[0,0.1,0.2],\n",
    "                [0.1,0,0.1],\n",
    "                [0.2,0.1,0]])      # shape (3, 3), with 0s on the diagonal\n",
    "nu = np.array([0.1,0,0,0.1,0,0,0.1,0,0]).reshape(3,3)       # shape (3, 3)\n",
    "gamma = np.array([-1.00,0.50,0.10,0.20,0.05,0.25,-0.08,0.30])     # shape (8,)\n",
    "beta = np.array([-0.30,-0.60,-0.20,-0.20,-0.05,-0.10,-0.01,0.40,0.01,0.20])     # shape (10,)\n",
    "\n",
    "Y_chain, A_chain, L_chain = sample_network_chain(adj, tau, rho, nu, gamma, beta, R=num_sample,\n",
    "    burnin_R=num_burn, seed=0)\n",
    "\n",
    "Y_chain = Y_chain[::3]\n",
    "A_chain = A_chain[::3]\n",
    "L_chain = L_chain[::3]"
   ]
  },
  {
   "cell_type": "code",
   "execution_count": 8,
   "id": "0bbc914f",
   "metadata": {},
   "outputs": [
    {
     "data": {
      "text/plain": [
       "{'average': 0.213325,\n",
       " 'direct': -0.13479999999999998,\n",
       " 'indirect': -0.148075,\n",
       " 'spillover_effect': -0.26945625000000006}"
      ]
     },
     "execution_count": 8,
     "metadata": {},
     "output_type": "execute_result"
    }
   ],
   "source": [
    "from agcEffect import *\n",
    "\n",
    "res_truth1 = agc_effect(\n",
    "    adj,\n",
    "    tau, rho, nu, beta,\n",
    "    treatment_allocation=0.7,\n",
    "    R=200,\n",
    "    burnin_R=50,\n",
    "    seed=0\n",
    ")\n",
    "res_truth2 = agc_effect(\n",
    "    adj,\n",
    "    tau, rho, nu, beta,\n",
    "    treatment_allocation=0.3,\n",
    "    R=200,\n",
    "    burnin_R=50,\n",
    "    seed=0\n",
    ")\n",
    "\n",
    "ground_truth2 = {'average': 0, 'direct': 0, 'indirect': 0, 'spillover_effect':0}\n",
    "ground_truth2['average'] = res_truth1['average']\n",
    "ground_truth2['direct'] = res_truth1['direct_effect']\n",
    "ground_truth2['indirect'] = res_truth1['psi_0_gamma'] - res_truth2['psi_0_gamma']\n",
    "ground_truth2['spillover_effect'] = res_truth1['spillover_effect']\n",
    "\n",
    "ground_truth2\n"
   ]
  },
  {
   "cell_type": "code",
   "execution_count": 9,
   "id": "14391f5f",
   "metadata": {},
   "outputs": [
    {
     "name": "stdout",
     "output_type": "stream",
     "text": [
      "Multiprocessing <function run_dr_raw at 0x16a114af0> in 10 tasks, with 10 processes...\n",
      "Multiprocessing finished.\n"
     ]
    }
   ],
   "source": [
    "from utils import run_pll\n",
    "from run_pll import run_dr_raw\n",
    "\n",
    "treat_p = 0.7\n",
    "args = [{'Y_chain': Y_chain,\n",
    "         'A_chain': A_chain,\n",
    "         'L_chain': L_chain,\n",
    "         'adj': adj,\n",
    "         'i': i,\n",
    "         'treatment_allocation': treat_p,\n",
    "         'psi_0_gamma_only': False} for i in range(len(Y_chain))]\n",
    "\n",
    "res_list_dr = run_pll(run_dr_raw, args, processes=n_cpu)\n",
    "res_list_array_dr = np.array(res_list_dr)\n",
    "# save results\n",
    "np.save(f'run/sim_results/sim_dr_raw_{sample_size}_{min_degree}_{max_degree}_{treat_p}.npy', res_list_array_dr)"
   ]
  },
  {
   "cell_type": "code",
   "execution_count": 10,
   "id": "9bd8d8a0",
   "metadata": {},
   "outputs": [
    {
     "name": "stdout",
     "output_type": "stream",
     "text": [
      "Multiprocessing <function run_dr_raw at 0x16a114af0> in 10 tasks, with 10 processes...\n",
      "Multiprocessing finished.\n"
     ]
    }
   ],
   "source": [
    "from utils import run_pll\n",
    "from run_pll import run_dr_raw\n",
    "\n",
    "treat_p = 0.3\n",
    "args = [{'Y_chain': Y_chain,\n",
    "         'A_chain': A_chain,\n",
    "         'L_chain': L_chain,\n",
    "         'adj': adj,\n",
    "         'i': i,\n",
    "         'treatment_allocation': treat_p,\n",
    "         'psi_0_gamma_only': True} for i in range(len(Y_chain))]\n",
    "\n",
    "res_list_dr = run_pll(run_dr_raw, args, processes=n_cpu)\n",
    "res_list_array_dr = np.array(res_list_dr)\n",
    "# save results\n",
    "np.save(f'run/sim_results/sim_dr_raw_{sample_size}_{min_degree}_{max_degree}_{treat_p}.npy', res_list_array_dr)"
   ]
  },
  {
   "cell_type": "code",
   "execution_count": 11,
   "id": "d9718bfd",
   "metadata": {},
   "outputs": [
    {
     "name": "stderr",
     "output_type": "stream",
     "text": [
      "100%|██████████| 40/40 [00:01<00:00, 27.89it/s]\n"
     ]
    }
   ],
   "source": [
    "from dgp import *\n",
    "\n",
    "# 1. Simulate or load data\n",
    "min_degree = 8\n",
    "max_degree = 10\n",
    "adj = get_graph(sample_size, min_degree, max_degree, seed=1)\n",
    "\n",
    "tau = np.array([-1.0, 0.50, -0.50])       # shape (3,)\n",
    "rho = np.array([[0,0.1,0.2],\n",
    "                [0.1,0,0.1],\n",
    "                [0.2,0.1,0]])      # shape (3, 3), with 0s on the diagonal\n",
    "nu = np.array([0.1,0,0,0.1,0,0,0.1,0,0]).reshape(3,3)       # shape (3, 3)\n",
    "gamma = np.array([-1.00,0.50,0.10,0.20,0.05,0.25,-0.08,0.30])     # shape (8,)\n",
    "beta = np.array([-0.30,-0.60,-0.20,-0.20,-0.05,-0.10,-0.01,0.40,0.01,0.20])     # shape (10,)\n",
    "\n",
    "Y_chain, A_chain, L_chain = sample_network_chain(adj, tau, rho, nu, gamma, beta, R=num_sample,\n",
    "    burnin_R=num_burn, seed=0)\n",
    "\n",
    "Y_chain = Y_chain[::3]\n",
    "A_chain = A_chain[::3]\n",
    "L_chain = L_chain[::3]"
   ]
  },
  {
   "cell_type": "code",
   "execution_count": 12,
   "id": "13e67ac0",
   "metadata": {},
   "outputs": [
    {
     "data": {
      "text/plain": [
       "{'average': 0.14641875000000001,\n",
       " 'direct': -0.10839374999999998,\n",
       " 'indirect': -0.24125624999999998,\n",
       " 'spillover_effect': -0.45620625000000004}"
      ]
     },
     "execution_count": 12,
     "metadata": {},
     "output_type": "execute_result"
    }
   ],
   "source": [
    "from agcEffect import *\n",
    "\n",
    "res_truth1 = agc_effect(\n",
    "    adj,\n",
    "    tau, rho, nu, beta,\n",
    "    treatment_allocation=0.7,\n",
    "    R=200,\n",
    "    burnin_R=50,\n",
    "    seed=0\n",
    ")\n",
    "res_truth2 = agc_effect(\n",
    "    adj,\n",
    "    tau, rho, nu, beta,\n",
    "    treatment_allocation=0.3,\n",
    "    R=200,\n",
    "    burnin_R=50,\n",
    "    seed=0\n",
    ")\n",
    "\n",
    "ground_truth3 = {'average': 0, 'direct': 0, 'indirect': 0, 'spillover_effect':0}\n",
    "ground_truth3['average'] = res_truth1['average']\n",
    "ground_truth3['direct'] = res_truth1['direct_effect']\n",
    "ground_truth3['indirect'] = res_truth1['psi_0_gamma'] - res_truth2['psi_0_gamma']\n",
    "ground_truth3['spillover_effect'] = res_truth1['spillover_effect']\n",
    "\n",
    "ground_truth3\n"
   ]
  },
  {
   "cell_type": "code",
   "execution_count": null,
   "id": "86a4d0d9",
   "metadata": {},
   "outputs": [
    {
     "name": "stdout",
     "output_type": "stream",
     "text": [
      "Multiprocessing <function run_dr_raw at 0x16a114af0> in 10 tasks, with 10 processes...\n"
     ]
    }
   ],
   "source": [
    "from utils import run_pll\n",
    "from run_pll import run_dr_raw\n",
    "\n",
    "treat_p = 0.7\n",
    "args = [{'Y_chain': Y_chain,\n",
    "         'A_chain': A_chain,\n",
    "         'L_chain': L_chain,\n",
    "         'adj': adj,\n",
    "         'i': i,\n",
    "         'treatment_allocation': treat_p,\n",
    "         'psi_0_gamma_only': False} for i in range(len(Y_chain))]\n",
    "\n",
    "res_list_dr = run_pll(run_dr_raw, args, processes=n_cpu)\n",
    "res_list_array_dr = np.array(res_list_dr)\n",
    "# save results\n",
    "np.save(f'run/sim_results/sim_dr_raw_{sample_size}_{min_degree}_{max_degree}_{treat_p}.npy', res_list_array_dr)"
   ]
  },
  {
   "cell_type": "code",
   "execution_count": null,
   "id": "b3cc5521",
   "metadata": {},
   "outputs": [
    {
     "name": "stdout",
     "output_type": "stream",
     "text": [
      "Multiprocessing <function run_dr_raw at 0x169e14b80> in 100 tasks, with 10 processes...\n",
      "Multiprocessing finished.\n"
     ]
    }
   ],
   "source": [
    "from utils import run_pll\n",
    "from run_pll import run_dr_raw\n",
    "\n",
    "treat_p = 0.3\n",
    "args = [{'Y_chain': Y_chain,\n",
    "         'A_chain': A_chain,\n",
    "         'L_chain': L_chain,\n",
    "         'adj': adj,\n",
    "         'i': i,\n",
    "         'treatment_allocation': treat_p,\n",
    "         'psi_0_gamma_only': True} for i in range(len(Y_chain))]\n",
    "\n",
    "res_list_dr = run_pll(run_dr_raw, args, processes=n_cpu)\n",
    "res_list_array_dr = np.array(res_list_dr)\n",
    "# save results\n",
    "np.save(f'run/sim_results/sim_dr_raw_{sample_size}_{min_degree}_{max_degree}_{treat_p}.npy', res_list_array_dr)"
   ]
  },
  {
   "cell_type": "markdown",
   "id": "2acfaadd",
   "metadata": {},
   "source": [
    "## Compute bias, std and etc"
   ]
  },
  {
   "cell_type": "code",
   "execution_count": null,
   "id": "4b3247e8",
   "metadata": {},
   "outputs": [
    {
     "name": "stderr",
     "output_type": "stream",
     "text": [
      "100%|██████████| 100/100 [00:01<00:00, 57.94it/s]\n"
     ]
    },
    {
     "name": "stdout",
     "output_type": "stream",
     "text": [
      "{'coverage_rate': array([0.92, 0.94, 0.98, 0.96]), 'bias': array([0.00987658, 0.02070243, 0.01094093, 0.0337907 ]), 'mse': array([0.00065375, 0.00346672, 0.00348566, 0.00873057]), 'var': array([0.0005562 , 0.00303813, 0.00336595, 0.00758876]), 'ci_length': array([0.08639123, 0.22894637, 0.2376003 , 0.35120258]), 'true_effect': array([ 0.28088125, -0.14169375, -0.065775  , -0.11949375])}\n"
     ]
    },
    {
     "name": "stderr",
     "output_type": "stream",
     "text": [
      "100%|██████████| 100/100 [00:01<00:00, 51.41it/s]\n"
     ]
    },
    {
     "name": "stdout",
     "output_type": "stream",
     "text": [
      "{'coverage_rate': array([0.96, 0.9 , 0.95, 0.73]), 'bias': array([-0.00166743,  0.02974838,  0.03473117,  0.05498679]), 'mse': array([3.28386897e-04, 3.42813403e-03, 3.66185791e-02, 6.06005509e-01]), 'var': array([3.25606577e-04, 2.54316800e-03, 3.54123252e-02, 6.02981963e-01]), 'ci_length': array([0.0758199 , 0.2194742 , 0.64680207, 1.46928194]), 'true_effect': array([ 0.213325  , -0.1348    , -0.148075  , -0.26945625])}\n"
     ]
    },
    {
     "name": "stderr",
     "output_type": "stream",
     "text": [
      "100%|██████████| 100/100 [00:01<00:00, 53.52it/s]"
     ]
    },
    {
     "name": "stdout",
     "output_type": "stream",
     "text": [
      "{'coverage_rate': array([0.76, 0.85, 0.72, 0.47]), 'bias': array([-1.01183760e-02,  1.91684648e-02, -3.57461975e+01,  2.42029920e-01]), 'mse': array([1.16430833e-02, 1.40992040e+00, 1.29595791e+05, 1.39341554e+00]), 'var': array([1.15407018e-02, 1.40955297e+00, 1.28318001e+05, 1.33483706e+00]), 'ci_length': array([  0.22253894,   1.4170529 , 142.6933003 ,   1.3055892 ]), 'true_effect': array([ 0.14641875, -0.10839375, -0.24125625, -0.45620625])}\n"
     ]
    },
    {
     "name": "stderr",
     "output_type": "stream",
     "text": [
      "\n"
     ]
    }
   ],
   "source": [
    "# read results\n",
    "import numpy as np\n",
    "from utils import compute_stats\n",
    "\n",
    "results1 = np.load('run/sim_results/sim_dr_raw_800_2_4_0.7.npy', allow_pickle=True)\n",
    "results2 = np.load('run/sim_results/sim_dr_raw_800_2_4_0.3.npy', allow_pickle=True)\n",
    "results3 = np.load('run/sim_results/sim_dr_raw_800_5_7_0.7.npy', allow_pickle=True)\n",
    "results4 = np.load('run/sim_results/sim_dr_raw_800_5_7_0.3.npy', allow_pickle=True)\n",
    "results5 = np.load('run/sim_results/sim_dr_raw_800_8_10_0.7.npy', allow_pickle=True)\n",
    "results6 = np.load('run/sim_results/sim_dr_raw_800_8_10_0.3.npy', allow_pickle=True)\n",
    "\n",
    "print(compute_stats(results1, results2, ground_truth1))\n",
    "print(compute_stats(results3, results4, ground_truth2))\n",
    "print(compute_stats(results5, results6, ground_truth3))"
   ]
  },
  {
   "cell_type": "code",
   "execution_count": null,
   "id": "0154de2f",
   "metadata": {},
   "outputs": [
    {
     "name": "stdout",
     "output_type": "stream",
     "text": [
      "0.2907578298868713 -0.1209913212458485 -0.08570305251209603\n"
     ]
    }
   ],
   "source": [
    "# ['psi_gamma', 'psi_zero', 'psi_1_gamma', 'psi_0_gamma']\n",
    "print(\n",
    "results1.mean(axis=(0,1,2))[0],\n",
    "results1.mean(axis=(0,1,2))[2] - results1.mean(axis=(0,1,2))[3],\n",
    "results1.mean(axis=(0,1,2))[3] - results1.mean(axis=(0,1,2))[1])"
   ]
  },
  {
   "cell_type": "code",
   "execution_count": null,
   "id": "92016de9",
   "metadata": {},
   "outputs": [
    {
     "name": "stdout",
     "output_type": "stream",
     "text": [
      "0.21165757075288938 -0.1050516213749442 -0.21446946407894324\n"
     ]
    }
   ],
   "source": [
    "print(\n",
    "results3.mean(axis=(0,1,2))[0],\n",
    "results3.mean(axis=(0,1,2))[2] - results3.mean(axis=(0,1,2))[3],\n",
    "results3.mean(axis=(0,1,2))[3] - results3.mean(axis=(0,1,2))[1])"
   ]
  },
  {
   "cell_type": "code",
   "execution_count": null,
   "id": "a6e7ecb4",
   "metadata": {},
   "outputs": [
    {
     "name": "stdout",
     "output_type": "stream",
     "text": [
      "0.13630037400233005 -0.08922528515310602 -0.21417633006788525\n"
     ]
    }
   ],
   "source": [
    "print(\n",
    "results5.mean(axis=(0,1,2))[0],\n",
    "results5.mean(axis=(0,1,2))[2] - results5.mean(axis=(0,1,2))[3],\n",
    "results5.mean(axis=(0,1,2))[3] - results5.mean(axis=(0,1,2))[1])"
   ]
  },
  {
   "cell_type": "code",
   "execution_count": null,
   "id": "124a57b9",
   "metadata": {},
   "outputs": [],
   "source": []
  }
 ],
 "metadata": {
  "kernelspec": {
   "display_name": "ljz",
   "language": "python",
   "name": "python3"
  },
  "language_info": {
   "codemirror_mode": {
    "name": "ipython",
    "version": 3
   },
   "file_extension": ".py",
   "mimetype": "text/x-python",
   "name": "python",
   "nbconvert_exporter": "python",
   "pygments_lexer": "ipython3",
   "version": "3.10.14"
  }
 },
 "nbformat": 4,
 "nbformat_minor": 5
}
