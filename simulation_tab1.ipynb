{
 "cells": [
  {
   "cell_type": "code",
   "execution_count": null,
   "id": "2683a2a1",
   "metadata": {},
   "outputs": [],
   "source": [
    "num_sample = 300\n",
    "num_burn = 100\n",
    "sample_size = 800"
   ]
  },
  {
   "cell_type": "code",
   "execution_count": null,
   "id": "52d3606d",
   "metadata": {},
   "outputs": [
    {
     "name": "stderr",
     "output_type": "stream",
     "text": [
      "100%|██████████| 40/40 [00:01<00:00, 30.93it/s]\n"
     ]
    }
   ],
   "source": [
    "from dgp import *\n",
    "\n",
    "# 1. Simulate or load data\n",
    "min_degree = 2\n",
    "max_degree = 4\n",
    "adj = get_graph(sample_size, min_degree, max_degree, seed=1)\n",
    "\n",
    "tau = np.array([-1.0, 0.50, -0.50])       # shape (3,)\n",
    "rho = np.array([[0,0.1,0.2],\n",
    "                [0.1,0,0.1],\n",
    "                [0.2,0.1,0]])      # shape (3, 3), with 0s on the diagonal\n",
    "nu = np.array([0.1,0,0,0.1,0,0,0.1,0,0]).reshape(3,3)       # shape (3, 3)\n",
    "gamma = np.array([-1.00,0.50,0.10,0.20,0.05,0.25,-0.08,0.30])     # shape (8,)\n",
    "beta = np.array([-0.30,-0.60,-0.20,-0.20,-0.05,-0.10,-0.01,0.40,0.01,0.20])     # shape (10,)\n",
    "\n",
    "Y_chain, A_chain, L_chain = sample_network_chain(adj, tau, rho, nu, gamma, beta, R=num_sample,\n",
    "    burnin_R=num_burn, seed=0)\n",
    "\n",
    "Y_chain = Y_chain[::3]\n",
    "A_chain = A_chain[::3]\n",
    "L_chain = L_chain[::3]"
   ]
  },
  {
   "cell_type": "code",
   "execution_count": 3,
   "id": "e0521c56",
   "metadata": {},
   "outputs": [],
   "source": [
    "n_cpu = 10"
   ]
  },
  {
   "cell_type": "code",
   "execution_count": 4,
   "id": "a26f2d1e",
   "metadata": {},
   "outputs": [
    {
     "data": {
      "text/plain": [
       "{'average': 0.28088125,\n",
       " 'direct': -0.14169374999999992,\n",
       " 'indirect': -0.06577500000000003,\n",
       " 'spillover_effect': -0.11949375000000007}"
      ]
     },
     "execution_count": 4,
     "metadata": {},
     "output_type": "execute_result"
    }
   ],
   "source": [
    "from agcEffect import *\n",
    "\n",
    "res_truth1 = agc_effect(\n",
    "    adj,\n",
    "    tau, rho, nu, beta,\n",
    "    treatment_allocation=0.7,\n",
    "    R=200,\n",
    "    burnin_R=50,\n",
    "    seed=0\n",
    ")\n",
    "res_truth2 = agc_effect(\n",
    "    adj,\n",
    "    tau, rho, nu, beta,\n",
    "    treatment_allocation=0.3,\n",
    "    R=200,\n",
    "    burnin_R=50,\n",
    "    seed=0\n",
    ")\n",
    "\n",
    "ground_truth1 = {'average': 0, 'direct': 0, 'indirect': 0, 'spillover_effect':0}\n",
    "ground_truth1['average'] = res_truth1['average']\n",
    "ground_truth1['direct'] = res_truth1['direct_effect']\n",
    "ground_truth1['indirect'] = res_truth1['psi_0_gamma'] - res_truth2['psi_0_gamma']\n",
    "ground_truth1['spillover_effect'] = res_truth1['spillover_effect']\n",
    "\n",
    "ground_truth1\n"
   ]
  },
  {
   "cell_type": "code",
   "execution_count": 5,
   "id": "cb6ccea2",
   "metadata": {},
   "outputs": [
    {
     "name": "stdout",
     "output_type": "stream",
     "text": [
      "Multiprocessing <function run_dr_raw at 0x14fe10b80> in 10 tasks, with 10 processes...\n",
      "Multiprocessing finished.\n"
     ]
    }
   ],
   "source": [
    "from utils import run_pll\n",
    "from run_pll import run_dr_raw\n",
    "\n",
    "treat_p = 0.7\n",
    "args = [{'Y_chain': Y_chain,\n",
    "         'A_chain': A_chain,\n",
    "         'L_chain': L_chain,\n",
    "         'adj': adj,\n",
    "         'i': i,\n",
    "         'treatment_allocation': treat_p,\n",
    "         'psi_0_gamma_only': False} for i in range(len(Y_chain))]\n",
    "\n",
    "res_list_dr = run_pll(run_dr_raw, args, processes=n_cpu)\n",
    "res_list_array_dr = np.array(res_list_dr)\n",
    "# save results\n",
    "np.save(f'run/sim_results/sim_dr_raw_{sample_size}_{min_degree}_{max_degree}_{treat_p}.npy', res_list_array_dr)"
   ]
  },
  {
   "cell_type": "code",
   "execution_count": 6,
   "id": "46549a68",
   "metadata": {},
   "outputs": [
    {
     "name": "stdout",
     "output_type": "stream",
     "text": [
      "Multiprocessing <function run_dr_raw at 0x14fe10b80> in 10 tasks, with 10 processes...\n",
      "Multiprocessing finished.\n"
     ]
    }
   ],
   "source": [
    "from utils import run_pll\n",
    "from run_pll import run_dr_raw\n",
    "\n",
    "treat_p = 0.3\n",
    "args = [{'Y_chain': Y_chain,\n",
    "         'A_chain': A_chain,\n",
    "         'L_chain': L_chain,\n",
    "         'adj': adj,\n",
    "         'i': i,\n",
    "         'treatment_allocation': treat_p,\n",
    "         'psi_0_gamma_only': True} for i in range(len(Y_chain))]\n",
    "\n",
    "res_list_dr = run_pll(run_dr_raw, args, processes=n_cpu)\n",
    "res_list_array_dr = np.array(res_list_dr)\n",
    "# save results\n",
    "np.save(f'run/sim_results/sim_dr_raw_{sample_size}_{min_degree}_{max_degree}_{treat_p}.npy', res_list_array_dr)"
   ]
  },
  {
   "cell_type": "code",
   "execution_count": 7,
   "id": "b86484dd",
   "metadata": {},
   "outputs": [
    {
     "name": "stderr",
     "output_type": "stream",
     "text": [
      "100%|██████████| 40/40 [00:01<00:00, 26.13it/s]\n"
     ]
    }
   ],
   "source": [
    "from dgp import *\n",
    "\n",
    "# 1. Simulate or load data\n",
    "min_degree = 5\n",
    "max_degree = 7\n",
    "adj = get_graph(sample_size, min_degree, max_degree, seed=1)\n",
    "\n",
    "tau = np.array([-1.0, 0.50, -0.50])       # shape (3,)\n",
    "rho = np.array([[0,0.1,0.2],\n",
    "                [0.1,0,0.1],\n",
    "                [0.2,0.1,0]])      # shape (3, 3), with 0s on the diagonal\n",
    "nu = np.array([0.1,0,0,0.1,0,0,0.1,0,0]).reshape(3,3)       # shape (3, 3)\n",
    "gamma = np.array([-1.00,0.50,0.10,0.20,0.05,0.25,-0.08,0.30])     # shape (8,)\n",
    "beta = np.array([-0.30,-0.60,-0.20,-0.20,-0.05,-0.10,-0.01,0.40,0.01,0.20])     # shape (10,)\n",
    "\n",
    "Y_chain, A_chain, L_chain = sample_network_chain(adj, tau, rho, nu, gamma, beta, R=num_sample,\n",
    "    burnin_R=num_burn, seed=0)\n",
    "\n",
    "Y_chain = Y_chain[::3]\n",
    "A_chain = A_chain[::3]\n",
    "L_chain = L_chain[::3]"
   ]
  },
  {
   "cell_type": "code",
   "execution_count": 8,
   "id": "0bbc914f",
   "metadata": {},
   "outputs": [
    {
     "data": {
      "text/plain": [
       "{'average': 0.213325,\n",
       " 'direct': -0.13479999999999998,\n",
       " 'indirect': -0.148075,\n",
       " 'spillover_effect': -0.26945625000000006}"
      ]
     },
     "execution_count": 8,
     "metadata": {},
     "output_type": "execute_result"
    }
   ],
   "source": [
    "from agcEffect import *\n",
    "\n",
    "res_truth1 = agc_effect(\n",
    "    adj,\n",
    "    tau, rho, nu, beta,\n",
    "    treatment_allocation=0.7,\n",
    "    R=200,\n",
    "    burnin_R=50,\n",
    "    seed=0\n",
    ")\n",
    "res_truth2 = agc_effect(\n",
    "    adj,\n",
    "    tau, rho, nu, beta,\n",
    "    treatment_allocation=0.3,\n",
    "    R=200,\n",
    "    burnin_R=50,\n",
    "    seed=0\n",
    ")\n",
    "\n",
    "ground_truth2 = {'average': 0, 'direct': 0, 'indirect': 0, 'spillover_effect':0}\n",
    "ground_truth2['average'] = res_truth1['average']\n",
    "ground_truth2['direct'] = res_truth1['direct_effect']\n",
    "ground_truth2['indirect'] = res_truth1['psi_0_gamma'] - res_truth2['psi_0_gamma']\n",
    "ground_truth2['spillover_effect'] = res_truth1['spillover_effect']\n",
    "\n",
    "ground_truth2\n"
   ]
  },
  {
   "cell_type": "code",
   "execution_count": 9,
   "id": "14391f5f",
   "metadata": {},
   "outputs": [
    {
     "name": "stdout",
     "output_type": "stream",
     "text": [
      "Multiprocessing <function run_dr_raw at 0x14fe10b80> in 10 tasks, with 10 processes...\n",
      "Multiprocessing finished.\n"
     ]
    }
   ],
   "source": [
    "from utils import run_pll\n",
    "from run_pll import run_dr_raw\n",
    "\n",
    "treat_p = 0.7\n",
    "args = [{'Y_chain': Y_chain,\n",
    "         'A_chain': A_chain,\n",
    "         'L_chain': L_chain,\n",
    "         'adj': adj,\n",
    "         'i': i,\n",
    "         'treatment_allocation': treat_p,\n",
    "         'psi_0_gamma_only': False} for i in range(len(Y_chain))]\n",
    "\n",
    "res_list_dr = run_pll(run_dr_raw, args, processes=n_cpu)\n",
    "res_list_array_dr = np.array(res_list_dr)\n",
    "# save results\n",
    "np.save(f'run/sim_results/sim_dr_raw_{sample_size}_{min_degree}_{max_degree}_{treat_p}.npy', res_list_array_dr)"
   ]
  },
  {
   "cell_type": "code",
   "execution_count": 10,
   "id": "9bd8d8a0",
   "metadata": {},
   "outputs": [
    {
     "name": "stdout",
     "output_type": "stream",
     "text": [
      "Multiprocessing <function run_dr_raw at 0x14fe10b80> in 10 tasks, with 10 processes...\n",
      "Multiprocessing finished.\n"
     ]
    }
   ],
   "source": [
    "from utils import run_pll\n",
    "from run_pll import run_dr_raw\n",
    "\n",
    "treat_p = 0.3\n",
    "args = [{'Y_chain': Y_chain,\n",
    "         'A_chain': A_chain,\n",
    "         'L_chain': L_chain,\n",
    "         'adj': adj,\n",
    "         'i': i,\n",
    "         'treatment_allocation': treat_p,\n",
    "         'psi_0_gamma_only': True} for i in range(len(Y_chain))]\n",
    "\n",
    "res_list_dr = run_pll(run_dr_raw, args, processes=n_cpu)\n",
    "res_list_array_dr = np.array(res_list_dr)\n",
    "# save results\n",
    "np.save(f'run/sim_results/sim_dr_raw_{sample_size}_{min_degree}_{max_degree}_{treat_p}.npy', res_list_array_dr)"
   ]
  },
  {
   "cell_type": "code",
   "execution_count": 11,
   "id": "d9718bfd",
   "metadata": {},
   "outputs": [
    {
     "name": "stderr",
     "output_type": "stream",
     "text": [
      "100%|██████████| 40/40 [00:01<00:00, 27.00it/s]\n"
     ]
    }
   ],
   "source": [
    "from dgp import *\n",
    "\n",
    "# 1. Simulate or load data\n",
    "min_degree = 8\n",
    "max_degree = 10\n",
    "adj = get_graph(sample_size, min_degree, max_degree, seed=1)\n",
    "\n",
    "tau = np.array([-1.0, 0.50, -0.50])       # shape (3,)\n",
    "rho = np.array([[0,0.1,0.2],\n",
    "                [0.1,0,0.1],\n",
    "                [0.2,0.1,0]])      # shape (3, 3), with 0s on the diagonal\n",
    "nu = np.array([0.1,0,0,0.1,0,0,0.1,0,0]).reshape(3,3)       # shape (3, 3)\n",
    "gamma = np.array([-1.00,0.50,0.10,0.20,0.05,0.25,-0.08,0.30])     # shape (8,)\n",
    "beta = np.array([-0.30,-0.60,-0.20,-0.20,-0.05,-0.10,-0.01,0.40,0.01,0.20])     # shape (10,)\n",
    "\n",
    "Y_chain, A_chain, L_chain = sample_network_chain(adj, tau, rho, nu, gamma, beta, R=num_sample,\n",
    "    burnin_R=num_burn, seed=0)\n",
    "\n",
    "Y_chain = Y_chain[::3]\n",
    "A_chain = A_chain[::3]\n",
    "L_chain = L_chain[::3]"
   ]
  },
  {
   "cell_type": "code",
   "execution_count": 12,
   "id": "13e67ac0",
   "metadata": {},
   "outputs": [
    {
     "data": {
      "text/plain": [
       "{'average': 0.14641875000000001,\n",
       " 'direct': -0.10839374999999998,\n",
       " 'indirect': -0.24125624999999998,\n",
       " 'spillover_effect': -0.45620625000000004}"
      ]
     },
     "execution_count": 12,
     "metadata": {},
     "output_type": "execute_result"
    }
   ],
   "source": [
    "from agcEffect import *\n",
    "\n",
    "res_truth1 = agc_effect(\n",
    "    adj,\n",
    "    tau, rho, nu, beta,\n",
    "    treatment_allocation=0.7,\n",
    "    R=200,\n",
    "    burnin_R=50,\n",
    "    seed=0\n",
    ")\n",
    "res_truth2 = agc_effect(\n",
    "    adj,\n",
    "    tau, rho, nu, beta,\n",
    "    treatment_allocation=0.3,\n",
    "    R=200,\n",
    "    burnin_R=50,\n",
    "    seed=0\n",
    ")\n",
    "\n",
    "ground_truth3 = {'average': 0, 'direct': 0, 'indirect': 0, 'spillover_effect':0}\n",
    "ground_truth3['average'] = res_truth1['average']\n",
    "ground_truth3['direct'] = res_truth1['direct_effect']\n",
    "ground_truth3['indirect'] = res_truth1['psi_0_gamma'] - res_truth2['psi_0_gamma']\n",
    "ground_truth3['spillover_effect'] = res_truth1['spillover_effect']\n",
    "\n",
    "ground_truth3\n"
   ]
  },
  {
   "cell_type": "code",
   "execution_count": 13,
   "id": "86a4d0d9",
   "metadata": {},
   "outputs": [
    {
     "name": "stdout",
     "output_type": "stream",
     "text": [
      "Multiprocessing <function run_dr_raw at 0x14fe10b80> in 10 tasks, with 10 processes...\n",
      "Multiprocessing finished.\n"
     ]
    }
   ],
   "source": [
    "from utils import run_pll\n",
    "from run_pll import run_dr_raw\n",
    "\n",
    "treat_p = 0.7\n",
    "args = [{'Y_chain': Y_chain,\n",
    "         'A_chain': A_chain,\n",
    "         'L_chain': L_chain,\n",
    "         'adj': adj,\n",
    "         'i': i,\n",
    "         'treatment_allocation': treat_p,\n",
    "         'psi_0_gamma_only': False} for i in range(len(Y_chain))]\n",
    "\n",
    "res_list_dr = run_pll(run_dr_raw, args, processes=n_cpu)\n",
    "res_list_array_dr = np.array(res_list_dr)\n",
    "# save results\n",
    "np.save(f'run/sim_results/sim_dr_raw_{sample_size}_{min_degree}_{max_degree}_{treat_p}.npy', res_list_array_dr)"
   ]
  },
  {
   "cell_type": "code",
   "execution_count": 14,
   "id": "b3cc5521",
   "metadata": {},
   "outputs": [
    {
     "name": "stdout",
     "output_type": "stream",
     "text": [
      "Multiprocessing <function run_dr_raw at 0x14fe10b80> in 10 tasks, with 10 processes...\n",
      "Multiprocessing finished.\n"
     ]
    }
   ],
   "source": [
    "from utils import run_pll\n",
    "from run_pll import run_dr_raw\n",
    "\n",
    "treat_p = 0.3\n",
    "args = [{'Y_chain': Y_chain,\n",
    "         'A_chain': A_chain,\n",
    "         'L_chain': L_chain,\n",
    "         'adj': adj,\n",
    "         'i': i,\n",
    "         'treatment_allocation': treat_p,\n",
    "         'psi_0_gamma_only': True} for i in range(len(Y_chain))]\n",
    "\n",
    "res_list_dr = run_pll(run_dr_raw, args, processes=n_cpu)\n",
    "res_list_array_dr = np.array(res_list_dr)\n",
    "# save results\n",
    "np.save(f'run/sim_results/sim_dr_raw_{sample_size}_{min_degree}_{max_degree}_{treat_p}.npy', res_list_array_dr)"
   ]
  },
  {
   "cell_type": "markdown",
   "id": "2acfaadd",
   "metadata": {},
   "source": [
    "## Compute bias, std and etc"
   ]
  },
  {
   "cell_type": "code",
   "execution_count": 15,
   "id": "4b3247e8",
   "metadata": {},
   "outputs": [
    {
     "name": "stderr",
     "output_type": "stream",
     "text": [
      "100%|██████████| 10/10 [00:00<00:00, 136.22it/s]\n"
     ]
    },
    {
     "name": "stdout",
     "output_type": "stream",
     "text": [
      "{'coverage_rate': array([1. , 0.9, 1. , 1. ]), 'bias': array([0.00170336, 0.0073145 , 0.01422386, 0.00604172]), 'mse': array([0.0003834 , 0.00243136, 0.00271919, 0.00654261]), 'var': array([0.0003805 , 0.00237786, 0.00251687, 0.00650611]), 'ci_length': array([0.081992  , 0.23093502, 0.25951067, 0.33600369]), 'true_effect': array([ 0.28088125, -0.14169375, -0.065775  , -0.11949375])}\n"
     ]
    },
    {
     "name": "stderr",
     "output_type": "stream",
     "text": [
      "100%|██████████| 10/10 [00:00<00:00, 152.59it/s]\n"
     ]
    },
    {
     "name": "stdout",
     "output_type": "stream",
     "text": [
      "{'coverage_rate': array([1. , 0.9, 0.8, 0.7]), 'bias': array([-0.0017117 ,  0.05769033,  0.06049346,  0.16214872]), 'mse': array([0.00028595, 0.00644962, 0.0401817 , 0.14320215]), 'var': array([0.00028302, 0.00312144, 0.03652224, 0.11690994]), 'ci_length': array([0.07835485, 0.2785182 , 0.6020687 , 0.84003345]), 'true_effect': array([ 0.213325  , -0.1348    , -0.148075  , -0.26945625])}\n"
     ]
    },
    {
     "name": "stderr",
     "output_type": "stream",
     "text": [
      "100%|██████████| 10/10 [00:00<00:00, 71.32it/s]"
     ]
    },
    {
     "name": "stdout",
     "output_type": "stream",
     "text": [
      "{'coverage_rate': array([0.8, 0.7, 0.9, 0.8]), 'bias': array([-0.04151948,  0.41932589, -0.10040433, -0.21197388]), 'mse': array([0.01482722, 0.86980401, 1.31432247, 0.59431601]), 'var': array([0.01310336, 0.6939698 , 1.30424145, 0.54938309]), 'ci_length': array([0.2822912 , 1.47229282, 2.16753591, 1.24657421]), 'true_effect': array([ 0.14641875, -0.10839375, -0.24125625, -0.45620625])}\n"
     ]
    },
    {
     "name": "stderr",
     "output_type": "stream",
     "text": [
      "\n"
     ]
    }
   ],
   "source": [
    "# read results\n",
    "import numpy as np\n",
    "from utils import compute_stats\n",
    "\n",
    "results1 = np.load('run/sim_results/sim_dr_raw_800_2_4_0.7.npy', allow_pickle=True)\n",
    "results2 = np.load('run/sim_results/sim_dr_raw_800_2_4_0.3.npy', allow_pickle=True)\n",
    "results3 = np.load('run/sim_results/sim_dr_raw_800_5_7_0.7.npy', allow_pickle=True)\n",
    "results4 = np.load('run/sim_results/sim_dr_raw_800_5_7_0.3.npy', allow_pickle=True)\n",
    "results5 = np.load('run/sim_results/sim_dr_raw_800_8_10_0.7.npy', allow_pickle=True)\n",
    "results6 = np.load('run/sim_results/sim_dr_raw_800_8_10_0.3.npy', allow_pickle=True)\n",
    "\n",
    "print(compute_stats(results1, results2, ground_truth1))\n",
    "print(compute_stats(results3, results4, ground_truth2))\n",
    "print(compute_stats(results5, results6, ground_truth3))"
   ]
  },
  {
   "cell_type": "code",
   "execution_count": 16,
   "id": "0154de2f",
   "metadata": {},
   "outputs": [
    {
     "name": "stdout",
     "output_type": "stream",
     "text": [
      "0.28258461275435587 -0.1343792514603569 -0.11345202583735287\n"
     ]
    }
   ],
   "source": [
    "# ['psi_gamma', 'psi_zero', 'psi_1_gamma', 'psi_0_gamma']\n",
    "print(\n",
    "results1.mean(axis=(0,1,2))[0],\n",
    "results1.mean(axis=(0,1,2))[2] - results1.mean(axis=(0,1,2))[3],\n",
    "results1.mean(axis=(0,1,2))[3] - results1.mean(axis=(0,1,2))[1])"
   ]
  },
  {
   "cell_type": "code",
   "execution_count": 17,
   "id": "92016de9",
   "metadata": {},
   "outputs": [
    {
     "name": "stdout",
     "output_type": "stream",
     "text": [
      "0.21161330357319375 -0.07710967278487893 -0.10730752580308839\n"
     ]
    }
   ],
   "source": [
    "print(\n",
    "results3.mean(axis=(0,1,2))[0],\n",
    "results3.mean(axis=(0,1,2))[2] - results3.mean(axis=(0,1,2))[3],\n",
    "results3.mean(axis=(0,1,2))[3] - results3.mean(axis=(0,1,2))[1])"
   ]
  },
  {
   "cell_type": "code",
   "execution_count": 18,
   "id": "a6e7ecb4",
   "metadata": {},
   "outputs": [
    {
     "name": "stdout",
     "output_type": "stream",
     "text": [
      "0.10489927443315601 0.310932143085068 -0.6681801318790974\n"
     ]
    }
   ],
   "source": [
    "print(\n",
    "results5.mean(axis=(0,1,2))[0],\n",
    "results5.mean(axis=(0,1,2))[2] - results5.mean(axis=(0,1,2))[3],\n",
    "results5.mean(axis=(0,1,2))[3] - results5.mean(axis=(0,1,2))[1])"
   ]
  },
  {
   "cell_type": "code",
   "execution_count": null,
   "id": "124a57b9",
   "metadata": {},
   "outputs": [],
   "source": []
  }
 ],
 "metadata": {
  "kernelspec": {
   "display_name": "ljz",
   "language": "python",
   "name": "python3"
  },
  "language_info": {
   "codemirror_mode": {
    "name": "ipython",
    "version": 3
   },
   "file_extension": ".py",
   "mimetype": "text/x-python",
   "name": "python",
   "nbconvert_exporter": "python",
   "pygments_lexer": "ipython3",
   "version": "3.10.14"
  }
 },
 "nbformat": 4,
 "nbformat_minor": 5
}
