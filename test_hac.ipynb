{
 "cells": [
  {
   "cell_type": "code",
   "execution_count": 1,
   "id": "53d6b884",
   "metadata": {},
   "outputs": [],
   "source": [
    "num_sample = 300\n",
    "num_burn = 100\n",
    "sample_size = 800"
   ]
  },
  {
   "cell_type": "code",
   "execution_count": 2,
   "id": "09f393f2",
   "metadata": {},
   "outputs": [
    {
     "name": "stdout",
     "output_type": "stream",
     "text": [
      "4 8\n"
     ]
    },
    {
     "name": "stderr",
     "output_type": "stream",
     "text": [
      "100%|██████████| 40000/40000 [02:00<00:00, 331.10it/s]\n"
     ]
    },
    {
     "data": {
      "text/plain": [
       "(-0.029023643877685083, 0.25877275)"
      ]
     },
     "execution_count": 2,
     "metadata": {},
     "output_type": "execute_result"
    }
   ],
   "source": [
    "from dgp import sample_network_chain, get_graph, sample_Y1, sample_Y2, agcEffect\n",
    "import numpy as np\n",
    "\n",
    "# 1. Simulate or load data\n",
    "min_degree = 4\n",
    "max_degree = 8\n",
    "adj = get_graph(sample_size, min_degree, max_degree, seed=1)\n",
    "print(adj.sum(axis=1).min(), adj.sum(axis=1).max())\n",
    "#adj = np.zeros((sample_size, sample_size))\n",
    "\n",
    "tau = np.array([-1.0, 0.50, -0.50])       # shape (3,)\n",
    "rho = np.array([[0,0.1,0.2],\n",
    "                [0.1,0,0.1],\n",
    "                [0.2,0.1,0]])      # shape (3, 3), with 0s on the diagonal\n",
    "nu = np.array([0.1,0,0,0.1,0,0,0.1,0,0]).reshape(3,3)       # shape (3, 3)\n",
    "gamma = np.array([-2.00,0.50,-0.05,0.20,0.05,0.25,-0.08,0.30])     # shape (8,)\n",
    "beta = np.array([-0.30,-0.60,-0.60,-0.20,-0.05,-0.10,-0.01,0.40,0.01,0.20])     # shape (10,)\n",
    "\n",
    "Y_chain, A_chain, L_chain = sample_network_chain(adj, tau, rho, nu, gamma, beta, R=num_sample,\n",
    "    burnin_R=num_burn, seed=0, sample_Y_func=sample_Y2, Atype=('gen', 0.7))\n",
    "\n",
    "Y_chain = Y_chain[::3]\n",
    "A_chain = A_chain[::3]\n",
    "L_chain = L_chain[::3]\n",
    "\n",
    "dir, dir2 = [], []\n",
    "for i in range(Y_chain.shape[0]):\n",
    "    Y = Y_chain[i]\n",
    "    A = A_chain[i]\n",
    "    L = L_chain[i]\n",
    "    dir.append(np.mean(Y[A==1]) - np.mean(Y[A==0]))\n",
    "    dir2.append(np.mean(A))\n",
    "\n",
    "np.mean(dir), np.mean(dir2)"
   ]
  },
  {
   "cell_type": "code",
   "execution_count": 3,
   "id": "4f45cf4d",
   "metadata": {},
   "outputs": [],
   "source": [
    "import networkx as nx\n",
    "def compute_avg_effects_std_from_raw(psi_vec, adj_matrix, h=2):\n",
    "    N = len(psi_vec)\n",
    "    avg_effects = np.mean(psi_vec)\n",
    "    \n",
    "    # Centered residuals\n",
    "    g = psi_vec - avg_effects\n",
    "    \n",
    "    # Build graph and compute pairwise distances\n",
    "    G = nx.from_numpy_array(adj_matrix)\n",
    "    dist = dict(nx.all_pairs_shortest_path_length(G, cutoff=h))\n",
    "    \n",
    "    # Network HAC estimator\n",
    "    hac_var = 0.0\n",
    "    for i in range(N):\n",
    "        for j, dij in dist[i].items():\n",
    "            weight = max(1 - dij / h, 0)  # Bartlett kernel\n",
    "            hac_var += weight * g[i] * g[j]\n",
    "    \n",
    "    hac_var /= N\n",
    "    se_hac = np.sqrt(hac_var)/np.sqrt(N)\n",
    "\n",
    "    return avg_effects, se_hac"
   ]
  },
  {
   "cell_type": "code",
   "execution_count": null,
   "id": "95817b99",
   "metadata": {},
   "outputs": [],
   "source": [
    "from run_pll import *\n",
    "from utils import run_pll\n",
    "\n",
    "args = [{'Y_chain': Y_chain,\n",
    "         'A_chain': A_chain,\n",
    "         'L_chain': L_chain,\n",
    "         'adj': adj,\n",
    "         'i': i} for i in range(len(Y_chain))]\n",
    "\n",
    "res_list_dr = run_pll(run_dr_raw, args, processes=10)\n",
    "res_list_array_dr = np.array(res_list_dr)"
   ]
  },
  {
   "cell_type": "code",
   "execution_count": null,
   "id": "986cbfd5",
   "metadata": {},
   "outputs": [
    {
     "name": "stderr",
     "output_type": "stream",
     "text": [
      "100%|██████████| 10000/10000 [06:58<00:00, 23.91it/s]"
     ]
    },
    {
     "name": "stdout",
     "output_type": "stream",
     "text": [
      "0.2309678569227906 0.23268793578125 0.2395156434875\n"
     ]
    },
    {
     "name": "stderr",
     "output_type": "stream",
     "text": [
      "\n"
     ]
    }
   ],
   "source": [
    "from tqdm import tqdm\n",
    "\n",
    "var = []\n",
    "var_sim = []\n",
    "est = []\n",
    "idx = 0\n",
    "for i in tqdm(range(Y_chain.shape[0])):\n",
    "    avg_effects, se_hac = compute_avg_effects_std_from_raw(res_list_dr[i,:,0],adj,h=3)\n",
    "    var.append(se_hac**2*sample_size)\n",
    "    var_sim.append(np.var(res_list_dr[i,:,0]))\n",
    "    est.append(avg_effects)\n",
    "\n",
    "var_true = np.var(est)\n",
    "print(np.mean(var), np.mean(var_sim), var_true*sample_size)"
   ]
  },
  {
   "cell_type": "code",
   "execution_count": 5,
   "id": "d1eab93e",
   "metadata": {},
   "outputs": [
    {
     "name": "stdout",
     "output_type": "stream",
     "text": [
      "Coverage rate for mean(Y): 0.8722\n"
     ]
    }
   ],
   "source": [
    "# compute coverage rate for mean(Y)\n",
    "\n",
    "mean_est = np.mean(Y_chain, axis=1)\n",
    "#std_est = np.sqrt(np.array(var))\n",
    "std_est = np.std(Y_chain, axis=1)\n",
    "se_est = std_est / np.sqrt(Y_chain.shape[1])\n",
    "lower_bound = mean_est - 1.96*se_est\n",
    "upper_bound = mean_est + 1.96*se_est\n",
    "truth = np.mean(Y_chain)\n",
    "coverage_rate = np.mean((lower_bound < truth) & (upper_bound > truth))\n",
    "print(\"Coverage rate for mean(Y):\", coverage_rate)"
   ]
  },
  {
   "cell_type": "code",
   "execution_count": 6,
   "id": "982c9f47",
   "metadata": {},
   "outputs": [
    {
     "data": {
      "text/plain": [
       "(0.4794930129108512,\n",
       " 0.36706748125934646,\n",
       " 0.2309678569227906,\n",
       " 0.13497900359374998)"
      ]
     },
     "execution_count": 6,
     "metadata": {},
     "output_type": "execute_result"
    }
   ],
   "source": [
    "np.sqrt(np.array(var)).mean(), np.std(Y_chain, axis=1).mean(), np.mean(var), np.var(Y_chain, axis=1).mean()"
   ]
  },
  {
   "cell_type": "code",
   "execution_count": 7,
   "id": "9232d7eb",
   "metadata": {},
   "outputs": [
    {
     "name": "stdout",
     "output_type": "stream",
     "text": [
      "[36 44 48 50 53 54 57 62]\n",
      "-0.0024047659344970016\n",
      "-0.006200550184607464\n",
      "0.0002895150593442676\n",
      "-0.0058514365867054765\n",
      "0.003913545804805268\n",
      "0.009396890404550115\n",
      "-0.005531425003369036\n",
      "-0.013987499018662464\n"
     ]
    },
    {
     "data": {
      "text/plain": [
       "0.0017564936591066714"
      ]
     },
     "execution_count": 7,
     "metadata": {},
     "output_type": "execute_result"
    }
   ],
   "source": [
    "k = 51\n",
    "print(np.where(adj[k])[0])\n",
    "for j in np.where(adj[k])[0]:\n",
    "    print(np.corrcoef(L_chain[:,k,0], L_chain[:,j,0])[0,1])\n",
    "\n",
    "ic = []\n",
    "for j in np.where(adj[0]==0)[0]:\n",
    "    ic.append(np.corrcoef(L_chain[:,k,0], L_chain[:,j,0])[0,1])\n",
    "np.mean(ic)"
   ]
  },
  {
   "cell_type": "code",
   "execution_count": 8,
   "id": "6bb446f2",
   "metadata": {},
   "outputs": [
    {
     "data": {
      "text/plain": [
       "((10000, 800, 3), (10000, 800))"
      ]
     },
     "execution_count": 8,
     "metadata": {},
     "output_type": "execute_result"
    }
   ],
   "source": [
    "L_chain.shape, Y_chain.shape"
   ]
  },
  {
   "cell_type": "code",
   "execution_count": null,
   "id": "7cbc8802",
   "metadata": {},
   "outputs": [],
   "source": []
  }
 ],
 "metadata": {
  "kernelspec": {
   "display_name": "ljz",
   "language": "python",
   "name": "python3"
  },
  "language_info": {
   "codemirror_mode": {
    "name": "ipython",
    "version": 3
   },
   "file_extension": ".py",
   "mimetype": "text/x-python",
   "name": "python",
   "nbconvert_exporter": "python",
   "pygments_lexer": "ipython3",
   "version": "3.10.14"
  }
 },
 "nbformat": 4,
 "nbformat_minor": 5
}
