{
 "cells": [
  {
   "cell_type": "code",
   "execution_count": null,
   "id": "53d6b884",
   "metadata": {},
   "outputs": [],
   "source": [
    "num_sample = 300\n",
    "num_burn = 100\n",
    "sample_size = 800"
   ]
  },
  {
   "cell_type": "code",
   "execution_count": null,
   "id": "09f393f2",
   "metadata": {},
   "outputs": [
    {
     "name": "stdout",
     "output_type": "stream",
     "text": [
      "1 9\n"
     ]
    },
    {
     "name": "stderr",
     "output_type": "stream",
     "text": [
      "100%|██████████| 400/400 [00:00<00:00, 554.02it/s]\n"
     ]
    },
    {
     "data": {
      "text/plain": [
       "(0.6274429054981997, 0.35146249999999996)"
      ]
     },
     "execution_count": 2,
     "metadata": {},
     "output_type": "execute_result"
    }
   ],
   "source": [
    "from dgp import sample_network_chain, get_graph, sample_Y1, sample_Y2, agcEffect\n",
    "import numpy as np\n",
    "\n",
    "# 1. Simulate or load data\n",
    "min_degree = 1\n",
    "max_degree = 1\n",
    "adj = get_graph(sample_size, min_degree, max_degree, seed=1)\n",
    "print(adj.sum(axis=1).min(), adj.sum(axis=1).max())\n",
    "adj = np.zeros((sample_size, sample_size))\n",
    "\n",
    "tau = np.array([-1.0, 0.50, -0.50])       # shape (3,)\n",
    "rho = np.array([[0,0.1,0.2],\n",
    "                [0.1,0,0.1],\n",
    "                [0.2,0.1,0]])      # shape (3, 3), with 0s on the diagonal\n",
    "nu = np.array([0.1,0,0,0.1,0,0,0.1,0,0]).reshape(3,3)       # shape (3, 3)\n",
    "gamma = np.array([-1,2,0.1,-2,0.1,2,0.1,0.1])    # shape (8,)   \n",
    "beta = np.array([-1,2,0.1,2,0.1,-2,0.1,2,0.1,0])\n",
    "\n",
    "Y_chain, A_chain, L_chain = sample_network_chain(adj, tau, rho, nu, gamma, beta, R=num_sample,\n",
    "    burnin_R=num_burn, seed=0, sample_Y_func=sample_Y1, Atype=('gen', 0.7))\n",
    "\n",
    "Y_chain = Y_chain[::3]\n",
    "A_chain = A_chain[::3]\n",
    "L_chain = L_chain[::3]\n",
    "\n",
    "dir, dir2 = [], []\n",
    "for i in range(Y_chain.shape[0]):\n",
    "    Y = Y_chain[i]\n",
    "    A = A_chain[i]\n",
    "    L = L_chain[i]\n",
    "    dir.append(np.mean(Y[A==1]) - np.mean(Y[A==0]))\n",
    "    dir2.append(np.mean(A))\n",
    "\n",
    "np.mean(dir), np.mean(dir2)"
   ]
  },
  {
   "cell_type": "code",
   "execution_count": null,
   "id": "4f45cf4d",
   "metadata": {},
   "outputs": [],
   "source": [
    "import networkx as nx\n",
    "def compute_avg_effects_std_from_raw(psi_vec, adj_matrix, h=2):\n",
    "    N = len(psi_vec)\n",
    "    avg_effects = np.mean(psi_vec)\n",
    "    \n",
    "    # Centered residuals\n",
    "    g = psi_vec - avg_effects\n",
    "    \n",
    "    # Build graph and compute pairwise distances\n",
    "    G = nx.from_numpy_array(adj_matrix)\n",
    "    dist = dict(nx.all_pairs_shortest_path_length(G, cutoff=h))\n",
    "    \n",
    "    # Network HAC estimator\n",
    "    hac_var = 0.0\n",
    "    for i in range(N):\n",
    "        for j, dij in dist[i].items():\n",
    "            weight = max(1 - dij / h, 0)  # Bartlett kernel\n",
    "            hac_var += weight * g[i] * g[j]\n",
    "    \n",
    "    hac_var /= N\n",
    "    se_hac = np.sqrt(hac_var)/np.sqrt(N)\n",
    "\n",
    "    return avg_effects, se_hac"
   ]
  },
  {
   "cell_type": "code",
   "execution_count": null,
   "id": "95817b99",
   "metadata": {},
   "outputs": [
    {
     "name": "stdout",
     "output_type": "stream",
     "text": [
      "Multiprocessing <function run_dr_raw at 0x138aecc10> in 100 tasks, with 10 processes...\n"
     ]
    },
    {
     "name": "stderr",
     "output_type": "stream",
     "text": [
      "Process SpawnPoolWorker-8:\n",
      "Process SpawnPoolWorker-7:\n",
      "Process SpawnPoolWorker-3:\n",
      "Traceback (most recent call last):\n",
      "  File \"/opt/anaconda3/envs/ljz/lib/python3.10/multiprocessing/process.py\", line 314, in _bootstrap\n",
      "    self.run()\n",
      "  File \"/opt/anaconda3/envs/ljz/lib/python3.10/multiprocessing/process.py\", line 108, in run\n",
      "    self._target(*self._args, **self._kwargs)\n",
      "  File \"/opt/anaconda3/envs/ljz/lib/python3.10/multiprocessing/pool.py\", line 125, in worker\n",
      "    result = (True, func(*args, **kwds))\n",
      "  File \"/Users/ljzljz/Documents/DR/dr-chain-graph/run_pll.py\", line 49, in run_dr_raw\n",
      "    ret_i = doubly_robust(A_chain[i], L_chain[i], Y_chain[i], adj, treatment_allocation=treatment_allocation, seed=1, return_raw=True,\n",
      "  File \"/Users/ljzljz/Documents/DR/dr-chain-graph/drnet.py\", line 232, in doubly_robust\n",
      "    numerator, I = get_numerator_pi_vec(a_mat, A, GL, neighbours, neighbours_2hop, gamma, adj_matrix, Atype='ind_treat_0')\n",
      "  File \"/Users/ljzljz/Documents/DR/dr-chain-graph/drnet.py\", line 36, in build_design_matrix_Y\n",
      "    A_nb = get_neighbor_summary(A.reshape(-1, 1), adj_matrix).flatten()\n",
      "KeyboardInterrupt\n",
      "Process SpawnPoolWorker-6:\n",
      "Process SpawnPoolWorker-9:\n",
      "Process SpawnPoolWorker-2:\n",
      "Traceback (most recent call last):\n",
      "  File \"/opt/anaconda3/envs/ljz/lib/python3.10/multiprocessing/process.py\", line 314, in _bootstrap\n",
      "    self.run()\n",
      "  File \"/opt/anaconda3/envs/ljz/lib/python3.10/multiprocessing/process.py\", line 108, in run\n",
      "    self._target(*self._args, **self._kwargs)\n",
      "  File \"/opt/anaconda3/envs/ljz/lib/python3.10/multiprocessing/pool.py\", line 125, in worker\n",
      "    result = (True, func(*args, **kwds))\n",
      "  File \"/Users/ljzljz/Documents/DR/dr-chain-graph/run_pll.py\", line 49, in run_dr_raw\n",
      "    ret_i = doubly_robust(A_chain[i], L_chain[i], Y_chain[i], adj, treatment_allocation=treatment_allocation, seed=1, return_raw=True,\n",
      "  File \"/Users/ljzljz/Documents/DR/dr-chain-graph/drnet.py\", line 232, in doubly_robust\n",
      "    numerator, I = get_numerator_pi_vec(a_mat, A, GL, neighbours, neighbours_2hop, gamma, adj_matrix, Atype='ind_treat_0')\n",
      "  File \"/Users/ljzljz/Documents/DR/dr-chain-graph/drnet.py\", line 38, in build_design_matrix_Y\n",
      "    Y_nb = get_neighbor_summary(Y.reshape(-1, 1), adj_matrix).flatten()\n",
      "KeyboardInterrupt\n",
      "Traceback (most recent call last):\n",
      "  File \"/opt/anaconda3/envs/ljz/lib/python3.10/multiprocessing/process.py\", line 314, in _bootstrap\n",
      "    self.run()\n",
      "  File \"/opt/anaconda3/envs/ljz/lib/python3.10/multiprocessing/process.py\", line 108, in run\n",
      "    self._target(*self._args, **self._kwargs)\n",
      "  File \"/opt/anaconda3/envs/ljz/lib/python3.10/multiprocessing/pool.py\", line 125, in worker\n",
      "    result = (True, func(*args, **kwds))\n",
      "  File \"/Users/ljzljz/Documents/DR/dr-chain-graph/run_pll.py\", line 49, in run_dr_raw\n",
      "    ret_i = doubly_robust(A_chain[i], L_chain[i], Y_chain[i], adj, treatment_allocation=treatment_allocation, seed=1, return_raw=True,\n",
      "  File \"/Users/ljzljz/Documents/DR/dr-chain-graph/drnet.py\", line 232, in doubly_robust\n",
      "    numerator, I = get_numerator_pi_vec(a_mat, A, GL, neighbours, neighbours_2hop, gamma, adj_matrix, Atype='ind_treat_0')\n",
      "  File \"/Users/ljzljz/Documents/DR/dr-chain-graph/drnet.py\", line 38, in build_design_matrix_Y\n",
      "    Y_nb = get_neighbor_summary(Y.reshape(-1, 1), adj_matrix).flatten()\n",
      "KeyboardInterrupt\n",
      "Traceback (most recent call last):\n",
      "  File \"/opt/anaconda3/envs/ljz/lib/python3.10/multiprocessing/process.py\", line 314, in _bootstrap\n",
      "    self.run()\n",
      "  File \"/opt/anaconda3/envs/ljz/lib/python3.10/multiprocessing/process.py\", line 108, in run\n",
      "    self._target(*self._args, **self._kwargs)\n",
      "  File \"/opt/anaconda3/envs/ljz/lib/python3.10/multiprocessing/pool.py\", line 125, in worker\n",
      "    result = (True, func(*args, **kwds))\n",
      "  File \"/Users/ljzljz/Documents/DR/dr-chain-graph/run_pll.py\", line 49, in run_dr_raw\n",
      "    ret_i = doubly_robust(A_chain[i], L_chain[i], Y_chain[i], adj, treatment_allocation=treatment_allocation, seed=1, return_raw=True,\n",
      "  File \"/Users/ljzljz/Documents/DR/dr-chain-graph/drnet.py\", line 232, in doubly_robust\n",
      "    numerator, I = get_numerator_pi_vec(a_mat, A, GL, neighbours, neighbours_2hop, gamma, adj_matrix, Atype='ind_treat_0')\n",
      "  File \"/Users/ljzljz/Documents/DR/dr-chain-graph/drnet.py\", line 38, in build_design_matrix_Y\n",
      "    Y_nb = get_neighbor_summary(Y.reshape(-1, 1), adj_matrix).flatten()\n",
      "KeyboardInterrupt\n",
      "Traceback (most recent call last):\n",
      "  File \"/opt/anaconda3/envs/ljz/lib/python3.10/multiprocessing/process.py\", line 314, in _bootstrap\n",
      "    self.run()\n",
      "  File \"/opt/anaconda3/envs/ljz/lib/python3.10/multiprocessing/process.py\", line 108, in run\n",
      "    self._target(*self._args, **self._kwargs)\n",
      "  File \"/opt/anaconda3/envs/ljz/lib/python3.10/multiprocessing/pool.py\", line 125, in worker\n",
      "    result = (True, func(*args, **kwds))\n",
      "  File \"/Users/ljzljz/Documents/DR/dr-chain-graph/run_pll.py\", line 49, in run_dr_raw\n",
      "    ret_i = doubly_robust(A_chain[i], L_chain[i], Y_chain[i], adj, treatment_allocation=treatment_allocation, seed=1, return_raw=True,\n",
      "  File \"/Users/ljzljz/Documents/DR/dr-chain-graph/drnet.py\", line 232, in doubly_robust\n",
      "    numerator, I = get_numerator_pi_vec(a_mat, A, GL, neighbours, neighbours_2hop, gamma, adj_matrix, Atype='ind_treat_0')\n",
      "  File \"/Users/ljzljz/Documents/DR/dr-chain-graph/drnet.py\", line 37, in build_design_matrix_Y\n",
      "    L_nb = get_neighbor_summary(L, adj_matrix)\n",
      "KeyboardInterrupt\n",
      "Traceback (most recent call last):\n",
      "  File \"/opt/anaconda3/envs/ljz/lib/python3.10/multiprocessing/process.py\", line 314, in _bootstrap\n",
      "    self.run()\n",
      "  File \"/opt/anaconda3/envs/ljz/lib/python3.10/multiprocessing/process.py\", line 108, in run\n",
      "    self._target(*self._args, **self._kwargs)\n",
      "  File \"/opt/anaconda3/envs/ljz/lib/python3.10/multiprocessing/pool.py\", line 125, in worker\n",
      "    result = (True, func(*args, **kwds))\n",
      "  File \"/Users/ljzljz/Documents/DR/dr-chain-graph/run_pll.py\", line 49, in run_dr_raw\n",
      "    ret_i = doubly_robust(A_chain[i], L_chain[i], Y_chain[i], adj, treatment_allocation=treatment_allocation, seed=1, return_raw=True,\n",
      "  File \"/Users/ljzljz/Documents/DR/dr-chain-graph/drnet.py\", line 232, in doubly_robust\n",
      "    numerator, I = get_numerator_pi_vec(a_mat, A, GL, neighbours, neighbours_2hop, gamma, adj_matrix, Atype='ind_treat_0')\n",
      "  File \"/Users/ljzljz/Documents/DR/dr-chain-graph/drnet.py\", line 36, in build_design_matrix_Y\n",
      "    A_nb = get_neighbor_summary(A.reshape(-1, 1), adj_matrix).flatten()\n",
      "KeyboardInterrupt\n",
      "Process SpawnPoolWorker-10:\n",
      "Process SpawnPoolWorker-5:\n",
      "Process SpawnPoolWorker-4:\n",
      "Traceback (most recent call last):\n",
      "  File \"/opt/anaconda3/envs/ljz/lib/python3.10/multiprocessing/process.py\", line 314, in _bootstrap\n",
      "    self.run()\n",
      "  File \"/opt/anaconda3/envs/ljz/lib/python3.10/multiprocessing/process.py\", line 108, in run\n",
      "    self._target(*self._args, **self._kwargs)\n",
      "  File \"/opt/anaconda3/envs/ljz/lib/python3.10/multiprocessing/pool.py\", line 125, in worker\n",
      "    result = (True, func(*args, **kwds))\n",
      "  File \"/Users/ljzljz/Documents/DR/dr-chain-graph/run_pll.py\", line 49, in run_dr_raw\n",
      "    ret_i = doubly_robust(A_chain[i], L_chain[i], Y_chain[i], adj, treatment_allocation=treatment_allocation, seed=1, return_raw=True,\n",
      "  File \"/Users/ljzljz/Documents/DR/dr-chain-graph/drnet.py\", line 232, in doubly_robust\n",
      "    numerator, I = get_numerator_pi_vec(a_mat, A, GL, neighbours, neighbours_2hop, gamma, adj_matrix, Atype='ind_treat_0')\n",
      "  File \"/Users/ljzljz/Documents/DR/dr-chain-graph/drnet.py\", line 36, in build_design_matrix_Y\n",
      "    A_nb = get_neighbor_summary(A.reshape(-1, 1), adj_matrix).flatten()\n",
      "KeyboardInterrupt\n",
      "Traceback (most recent call last):\n",
      "  File \"/opt/anaconda3/envs/ljz/lib/python3.10/multiprocessing/process.py\", line 314, in _bootstrap\n",
      "    self.run()\n",
      "  File \"/opt/anaconda3/envs/ljz/lib/python3.10/multiprocessing/process.py\", line 108, in run\n",
      "    self._target(*self._args, **self._kwargs)\n",
      "  File \"/opt/anaconda3/envs/ljz/lib/python3.10/multiprocessing/pool.py\", line 125, in worker\n",
      "    result = (True, func(*args, **kwds))\n",
      "  File \"/Users/ljzljz/Documents/DR/dr-chain-graph/run_pll.py\", line 49, in run_dr_raw\n",
      "    ret_i = doubly_robust(A_chain[i], L_chain[i], Y_chain[i], adj, treatment_allocation=treatment_allocation, seed=1, return_raw=True,\n",
      "  File \"/Users/ljzljz/Documents/DR/dr-chain-graph/drnet.py\", line 232, in doubly_robust\n",
      "    numerator, I = get_numerator_pi_vec(a_mat, A, GL, neighbours, neighbours_2hop, gamma, adj_matrix, Atype='ind_treat_0')\n",
      "  File \"/Users/ljzljz/Documents/DR/dr-chain-graph/drnet.py\", line 36, in build_design_matrix_Y\n",
      "    A_nb = get_neighbor_summary(A.reshape(-1, 1), adj_matrix).flatten()\n",
      "KeyboardInterrupt\n",
      "Process SpawnPoolWorker-1:\n",
      "Traceback (most recent call last):\n",
      "  File \"/opt/anaconda3/envs/ljz/lib/python3.10/multiprocessing/process.py\", line 314, in _bootstrap\n",
      "    self.run()\n",
      "  File \"/opt/anaconda3/envs/ljz/lib/python3.10/multiprocessing/process.py\", line 108, in run\n",
      "    self._target(*self._args, **self._kwargs)\n",
      "  File \"/opt/anaconda3/envs/ljz/lib/python3.10/multiprocessing/pool.py\", line 125, in worker\n",
      "    result = (True, func(*args, **kwds))\n",
      "  File \"/Users/ljzljz/Documents/DR/dr-chain-graph/run_pll.py\", line 49, in run_dr_raw\n",
      "    ret_i = doubly_robust(A_chain[i], L_chain[i], Y_chain[i], adj, treatment_allocation=treatment_allocation, seed=1, return_raw=True,\n",
      "  File \"/Users/ljzljz/Documents/DR/dr-chain-graph/drnet.py\", line 232, in doubly_robust\n",
      "    numerator, I = get_numerator_pi_vec(a_mat, A, GL, neighbours, neighbours_2hop, gamma, adj_matrix, Atype='ind_treat_0')\n",
      "  File \"/Users/ljzljz/Documents/DR/dr-chain-graph/drnet.py\", line 36, in build_design_matrix_Y\n",
      "    A_nb = get_neighbor_summary(A.reshape(-1, 1), adj_matrix).flatten()\n",
      "KeyboardInterrupt\n",
      "Traceback (most recent call last):\n",
      "  File \"/opt/anaconda3/envs/ljz/lib/python3.10/multiprocessing/process.py\", line 314, in _bootstrap\n",
      "    self.run()\n",
      "  File \"/opt/anaconda3/envs/ljz/lib/python3.10/multiprocessing/process.py\", line 108, in run\n",
      "    self._target(*self._args, **self._kwargs)\n",
      "  File \"/opt/anaconda3/envs/ljz/lib/python3.10/multiprocessing/pool.py\", line 125, in worker\n",
      "    result = (True, func(*args, **kwds))\n",
      "  File \"/Users/ljzljz/Documents/DR/dr-chain-graph/run_pll.py\", line 49, in run_dr_raw\n",
      "    ret_i = doubly_robust(A_chain[i], L_chain[i], Y_chain[i], adj, treatment_allocation=treatment_allocation, seed=1, return_raw=True,\n",
      "  File \"/Users/ljzljz/Documents/DR/dr-chain-graph/drnet.py\", line 232, in doubly_robust\n",
      "    numerator, I = get_numerator_pi_vec(a_mat, A, GL, neighbours, neighbours_2hop, gamma, adj_matrix, Atype='ind_treat_0')\n",
      "  File \"/Users/ljzljz/Documents/DR/dr-chain-graph/drnet.py\", line 38, in build_design_matrix_Y\n",
      "    Y_nb = get_neighbor_summary(Y.reshape(-1, 1), adj_matrix).flatten()\n",
      "KeyboardInterrupt\n"
     ]
    },
    {
     "ename": "KeyboardInterrupt",
     "evalue": "",
     "output_type": "error",
     "traceback": [
      "\u001b[0;31m---------------------------------------------------------------------------\u001b[0m",
      "\u001b[0;31mKeyboardInterrupt\u001b[0m                         Traceback (most recent call last)",
      "Cell \u001b[0;32mIn[4], line 13\u001b[0m\n\u001b[1;32m      2\u001b[0m \u001b[38;5;28;01mfrom\u001b[39;00m \u001b[38;5;21;01mutils\u001b[39;00m \u001b[38;5;28;01mimport\u001b[39;00m run_pll\n\u001b[1;32m      4\u001b[0m args \u001b[38;5;241m=\u001b[39m [{\u001b[38;5;124m'\u001b[39m\u001b[38;5;124mY_chain\u001b[39m\u001b[38;5;124m'\u001b[39m: Y_chain,\n\u001b[1;32m      5\u001b[0m          \u001b[38;5;124m'\u001b[39m\u001b[38;5;124mA_chain\u001b[39m\u001b[38;5;124m'\u001b[39m: A_chain,\n\u001b[1;32m      6\u001b[0m          \u001b[38;5;124m'\u001b[39m\u001b[38;5;124mL_chain\u001b[39m\u001b[38;5;124m'\u001b[39m: L_chain,\n\u001b[0;32m   (...)\u001b[0m\n\u001b[1;32m     10\u001b[0m          \u001b[38;5;124m'\u001b[39m\u001b[38;5;124mpsi_0_gamma_only\u001b[39m\u001b[38;5;124m'\u001b[39m: \u001b[38;5;28;01mFalse\u001b[39;00m,\n\u001b[1;32m     11\u001b[0m          \u001b[38;5;124m'\u001b[39m\u001b[38;5;124mmispec\u001b[39m\u001b[38;5;124m'\u001b[39m: \u001b[38;5;28;01mNone\u001b[39;00m} \u001b[38;5;28;01mfor\u001b[39;00m i \u001b[38;5;129;01min\u001b[39;00m \u001b[38;5;28mrange\u001b[39m(\u001b[38;5;28mlen\u001b[39m(Y_chain))]\n\u001b[0;32m---> 13\u001b[0m res_list_dr \u001b[38;5;241m=\u001b[39m \u001b[43mrun_pll\u001b[49m\u001b[43m(\u001b[49m\u001b[43mrun_dr_raw\u001b[49m\u001b[43m,\u001b[49m\u001b[43m \u001b[49m\u001b[43margs\u001b[49m\u001b[43m,\u001b[49m\u001b[43m \u001b[49m\u001b[43mprocesses\u001b[49m\u001b[38;5;241;43m=\u001b[39;49m\u001b[38;5;241;43m10\u001b[39;49m\u001b[43m)\u001b[49m\n\u001b[1;32m     14\u001b[0m res_list_array_dr \u001b[38;5;241m=\u001b[39m np\u001b[38;5;241m.\u001b[39marray(res_list_dr)\n",
      "File \u001b[0;32m~/Documents/DR/dr-chain-graph/utils.py:26\u001b[0m, in \u001b[0;36mrun_pll\u001b[0;34m(f, args, processes)\u001b[0m\n\u001b[1;32m     24\u001b[0m     pool\u001b[38;5;241m.\u001b[39mapply_async(f, kwds\u001b[38;5;241m=\u001b[39marg, callback\u001b[38;5;241m=\u001b[39mlog_result, error_callback\u001b[38;5;241m=\u001b[39mlog_error)\n\u001b[1;32m     25\u001b[0m pool\u001b[38;5;241m.\u001b[39mclose()\n\u001b[0;32m---> 26\u001b[0m \u001b[43mpool\u001b[49m\u001b[38;5;241;43m.\u001b[39;49m\u001b[43mjoin\u001b[49m\u001b[43m(\u001b[49m\u001b[43m)\u001b[49m\n\u001b[1;32m     28\u001b[0m \u001b[38;5;28;01mif\u001b[39;00m \u001b[38;5;28mlen\u001b[39m(error_list):\n\u001b[1;32m     29\u001b[0m    \u001b[38;5;28mprint\u001b[39m(\u001b[38;5;124mf\u001b[39m\u001b[38;5;124m'\u001b[39m\u001b[38;5;132;01m{\u001b[39;00m\u001b[38;5;28mlen\u001b[39m(error_list)\u001b[38;5;132;01m}\u001b[39;00m\u001b[38;5;124m jobs failed. \u001b[39m\u001b[38;5;124m'\u001b[39m)\n",
      "File \u001b[0;32m/opt/anaconda3/envs/ljz/lib/python3.10/multiprocessing/pool.py:665\u001b[0m, in \u001b[0;36mPool.join\u001b[0;34m(self)\u001b[0m\n\u001b[1;32m    663\u001b[0m \u001b[38;5;28;01melif\u001b[39;00m \u001b[38;5;28mself\u001b[39m\u001b[38;5;241m.\u001b[39m_state \u001b[38;5;129;01mnot\u001b[39;00m \u001b[38;5;129;01min\u001b[39;00m (CLOSE, TERMINATE):\n\u001b[1;32m    664\u001b[0m     \u001b[38;5;28;01mraise\u001b[39;00m \u001b[38;5;167;01mValueError\u001b[39;00m(\u001b[38;5;124m\"\u001b[39m\u001b[38;5;124mIn unknown state\u001b[39m\u001b[38;5;124m\"\u001b[39m)\n\u001b[0;32m--> 665\u001b[0m \u001b[38;5;28;43mself\u001b[39;49m\u001b[38;5;241;43m.\u001b[39;49m\u001b[43m_worker_handler\u001b[49m\u001b[38;5;241;43m.\u001b[39;49m\u001b[43mjoin\u001b[49m\u001b[43m(\u001b[49m\u001b[43m)\u001b[49m\n\u001b[1;32m    666\u001b[0m \u001b[38;5;28mself\u001b[39m\u001b[38;5;241m.\u001b[39m_task_handler\u001b[38;5;241m.\u001b[39mjoin()\n\u001b[1;32m    667\u001b[0m \u001b[38;5;28mself\u001b[39m\u001b[38;5;241m.\u001b[39m_result_handler\u001b[38;5;241m.\u001b[39mjoin()\n",
      "File \u001b[0;32m/opt/anaconda3/envs/ljz/lib/python3.10/threading.py:1096\u001b[0m, in \u001b[0;36mThread.join\u001b[0;34m(self, timeout)\u001b[0m\n\u001b[1;32m   1093\u001b[0m     \u001b[38;5;28;01mraise\u001b[39;00m \u001b[38;5;167;01mRuntimeError\u001b[39;00m(\u001b[38;5;124m\"\u001b[39m\u001b[38;5;124mcannot join current thread\u001b[39m\u001b[38;5;124m\"\u001b[39m)\n\u001b[1;32m   1095\u001b[0m \u001b[38;5;28;01mif\u001b[39;00m timeout \u001b[38;5;129;01mis\u001b[39;00m \u001b[38;5;28;01mNone\u001b[39;00m:\n\u001b[0;32m-> 1096\u001b[0m     \u001b[38;5;28;43mself\u001b[39;49m\u001b[38;5;241;43m.\u001b[39;49m\u001b[43m_wait_for_tstate_lock\u001b[49m\u001b[43m(\u001b[49m\u001b[43m)\u001b[49m\n\u001b[1;32m   1097\u001b[0m \u001b[38;5;28;01melse\u001b[39;00m:\n\u001b[1;32m   1098\u001b[0m     \u001b[38;5;66;03m# the behavior of a negative timeout isn't documented, but\u001b[39;00m\n\u001b[1;32m   1099\u001b[0m     \u001b[38;5;66;03m# historically .join(timeout=x) for x<0 has acted as if timeout=0\u001b[39;00m\n\u001b[1;32m   1100\u001b[0m     \u001b[38;5;28mself\u001b[39m\u001b[38;5;241m.\u001b[39m_wait_for_tstate_lock(timeout\u001b[38;5;241m=\u001b[39m\u001b[38;5;28mmax\u001b[39m(timeout, \u001b[38;5;241m0\u001b[39m))\n",
      "File \u001b[0;32m/opt/anaconda3/envs/ljz/lib/python3.10/threading.py:1116\u001b[0m, in \u001b[0;36mThread._wait_for_tstate_lock\u001b[0;34m(self, block, timeout)\u001b[0m\n\u001b[1;32m   1113\u001b[0m     \u001b[38;5;28;01mreturn\u001b[39;00m\n\u001b[1;32m   1115\u001b[0m \u001b[38;5;28;01mtry\u001b[39;00m:\n\u001b[0;32m-> 1116\u001b[0m     \u001b[38;5;28;01mif\u001b[39;00m \u001b[43mlock\u001b[49m\u001b[38;5;241;43m.\u001b[39;49m\u001b[43macquire\u001b[49m\u001b[43m(\u001b[49m\u001b[43mblock\u001b[49m\u001b[43m,\u001b[49m\u001b[43m \u001b[49m\u001b[43mtimeout\u001b[49m\u001b[43m)\u001b[49m:\n\u001b[1;32m   1117\u001b[0m         lock\u001b[38;5;241m.\u001b[39mrelease()\n\u001b[1;32m   1118\u001b[0m         \u001b[38;5;28mself\u001b[39m\u001b[38;5;241m.\u001b[39m_stop()\n",
      "\u001b[0;31mKeyboardInterrupt\u001b[0m: "
     ]
    }
   ],
   "source": [
    "from run_pll import *\n",
    "from utils import run_pll\n",
    "\n",
    "args = [{'Y_chain': Y_chain,\n",
    "         'A_chain': A_chain,\n",
    "         'L_chain': L_chain,\n",
    "         'adj': adj,\n",
    "         'i': i,\n",
    "         'treatment_allocation': 0.7, \n",
    "         'psi_0_gamma_only': False,\n",
    "         'mispec': None} for i in range(len(Y_chain))]\n",
    "\n",
    "res_list_dr = run_pll(run_dr_raw, args, processes=10)\n",
    "res_list_array_dr = np.array(res_list_dr)"
   ]
  },
  {
   "cell_type": "code",
   "execution_count": null,
   "id": "986cbfd5",
   "metadata": {},
   "outputs": [
    {
     "name": "stderr",
     "output_type": "stream",
     "text": [
      "  0%|          | 0/100 [00:00<?, ?it/s]\n"
     ]
    },
    {
     "ename": "TypeError",
     "evalue": "list indices must be integers or slices, not tuple",
     "output_type": "error",
     "traceback": [
      "\u001b[0;31m---------------------------------------------------------------------------\u001b[0m",
      "\u001b[0;31mTypeError\u001b[0m                                 Traceback (most recent call last)",
      "Cell \u001b[0;32mIn[6], line 8\u001b[0m\n\u001b[1;32m      6\u001b[0m idx \u001b[38;5;241m=\u001b[39m \u001b[38;5;241m0\u001b[39m\n\u001b[1;32m      7\u001b[0m \u001b[38;5;28;01mfor\u001b[39;00m i \u001b[38;5;129;01min\u001b[39;00m tqdm(\u001b[38;5;28mrange\u001b[39m(Y_chain\u001b[38;5;241m.\u001b[39mshape[\u001b[38;5;241m0\u001b[39m])):\n\u001b[0;32m----> 8\u001b[0m     avg_effects, se_hac \u001b[38;5;241m=\u001b[39m compute_avg_effects_std_from_raw(\u001b[43mres_list_dr\u001b[49m\u001b[43m[\u001b[49m\u001b[43mi\u001b[49m\u001b[43m,\u001b[49m\u001b[43m:\u001b[49m\u001b[43m,\u001b[49m\u001b[38;5;241;43m0\u001b[39;49m\u001b[43m]\u001b[49m,adj,h\u001b[38;5;241m=\u001b[39m\u001b[38;5;241m3\u001b[39m)\n\u001b[1;32m      9\u001b[0m     var\u001b[38;5;241m.\u001b[39mappend(se_hac\u001b[38;5;241m*\u001b[39m\u001b[38;5;241m*\u001b[39m\u001b[38;5;241m2\u001b[39m\u001b[38;5;241m*\u001b[39msample_size)\n\u001b[1;32m     10\u001b[0m     var_sim\u001b[38;5;241m.\u001b[39mappend(np\u001b[38;5;241m.\u001b[39mvar(res_list_dr[i,:,\u001b[38;5;241m0\u001b[39m]))\n",
      "\u001b[0;31mTypeError\u001b[0m: list indices must be integers or slices, not tuple"
     ]
    }
   ],
   "source": [
    "from tqdm import tqdm\n",
    "\n",
    "var = []\n",
    "var_sim = []\n",
    "est = []\n",
    "idx = 0\n",
    "for i in tqdm(range(Y_chain.shape[0])):\n",
    "    avg_effects, se_hac = compute_avg_effects_std_from_raw(res_list_dr[i,:,0],adj,h=3)\n",
    "    var.append(se_hac**2*sample_size)\n",
    "    var_sim.append(np.var(res_list_dr[i,:,0]))\n",
    "    est.append(avg_effects)\n",
    "\n",
    "var_true = np.var(est)\n",
    "print(np.mean(var), np.mean(var_sim), var_true*sample_size)"
   ]
  },
  {
   "cell_type": "code",
   "execution_count": null,
   "id": "d1eab93e",
   "metadata": {},
   "outputs": [
    {
     "name": "stdout",
     "output_type": "stream",
     "text": [
      "Coverage rate for mean(Y): 0.8722\n"
     ]
    }
   ],
   "source": [
    "# compute coverage rate for mean(Y)\n",
    "\n",
    "mean_est = np.mean(res_list_dr, axis=1)\n",
    "#std_est = np.sqrt(np.array(var))\n",
    "std_est = np.std(res_list_dr, axis=1)\n",
    "se_est = std_est / np.sqrt(res_list_dr.shape[1])\n",
    "lower_bound = mean_est - 1.96*se_est\n",
    "upper_bound = mean_est + 1.96*se_est\n",
    "truth = np.mean(res_list_dr)\n",
    "coverage_rate = np.mean((lower_bound < truth) & (upper_bound > truth))\n",
    "print(\"Coverage rate for mean(Y):\", coverage_rate)"
   ]
  },
  {
   "cell_type": "code",
   "execution_count": null,
   "id": "982c9f47",
   "metadata": {},
   "outputs": [
    {
     "data": {
      "text/plain": [
       "(0.4794930129108512,\n",
       " 0.36706748125934646,\n",
       " 0.2309678569227906,\n",
       " 0.13497900359374998)"
      ]
     },
     "execution_count": 6,
     "metadata": {},
     "output_type": "execute_result"
    }
   ],
   "source": [
    "np.sqrt(np.array(var)).mean(), np.std(Y_chain, axis=1).mean(), np.mean(var), np.var(Y_chain, axis=1).mean()"
   ]
  },
  {
   "cell_type": "code",
   "execution_count": null,
   "id": "9232d7eb",
   "metadata": {},
   "outputs": [
    {
     "name": "stdout",
     "output_type": "stream",
     "text": [
      "[36 44 48 50 53 54 57 62]\n",
      "-0.0024047659344970016\n",
      "-0.006200550184607464\n",
      "0.0002895150593442676\n",
      "-0.0058514365867054765\n",
      "0.003913545804805268\n",
      "0.009396890404550115\n",
      "-0.005531425003369036\n",
      "-0.013987499018662464\n"
     ]
    },
    {
     "data": {
      "text/plain": [
       "0.0017564936591066714"
      ]
     },
     "execution_count": 7,
     "metadata": {},
     "output_type": "execute_result"
    }
   ],
   "source": [
    "k = 51\n",
    "print(np.where(adj[k])[0])\n",
    "for j in np.where(adj[k])[0]:\n",
    "    print(np.corrcoef(L_chain[:,k,0], L_chain[:,j,0])[0,1])\n",
    "\n",
    "ic = []\n",
    "for j in np.where(adj[0]==0)[0]:\n",
    "    ic.append(np.corrcoef(L_chain[:,k,0], L_chain[:,j,0])[0,1])\n",
    "np.mean(ic)"
   ]
  },
  {
   "cell_type": "code",
   "execution_count": null,
   "id": "6bb446f2",
   "metadata": {},
   "outputs": [
    {
     "data": {
      "text/plain": [
       "((10000, 800, 3), (10000, 800))"
      ]
     },
     "execution_count": 8,
     "metadata": {},
     "output_type": "execute_result"
    }
   ],
   "source": [
    "L_chain.shape, Y_chain.shape"
   ]
  },
  {
   "cell_type": "code",
   "execution_count": null,
   "id": "7cbc8802",
   "metadata": {},
   "outputs": [],
   "source": []
  }
 ],
 "metadata": {
  "kernelspec": {
   "display_name": "ljz",
   "language": "python",
   "name": "python3"
  },
  "language_info": {
   "codemirror_mode": {
    "name": "ipython",
    "version": 3
   },
   "file_extension": ".py",
   "mimetype": "text/x-python",
   "name": "python",
   "nbconvert_exporter": "python",
   "pygments_lexer": "ipython3",
   "version": "3.10.14"
  }
 },
 "nbformat": 4,
 "nbformat_minor": 5
}
