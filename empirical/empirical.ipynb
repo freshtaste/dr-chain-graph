{
 "cells": [
  {
   "cell_type": "code",
   "execution_count": 37,
   "id": "57596e70",
   "metadata": {},
   "outputs": [],
   "source": [
    "# read rds file\n",
    "import pyreadr\n",
    "import pandas as pd\n",
    "import numpy as np\n",
    "\n",
    "df = pyreadr.read_r('/Users/ljz/Desktop/causal inference/dr-chain-graph/empirical/code/inputs/nnahray_final_nomiss.rds')[None]"
   ]
  },
  {
   "cell_type": "code",
   "execution_count": 38,
   "id": "72d850e8",
   "metadata": {},
   "outputs": [],
   "source": [
    "adj = pyreadr.read_r('/Users/ljz/Desktop/causal inference/dr-chain-graph/empirical/code/inputs/adj_full.rds')[None]"
   ]
  },
  {
   "cell_type": "code",
   "execution_count": 39,
   "id": "cf2f509a",
   "metadata": {},
   "outputs": [],
   "source": [
    "df_use = df[['hiv_or_sti','incarcerated','age','latino',\n",
    "             'educ','illicit_ever','male', 'employed', 'income_cat',\n",
    "             'homeless', 'household_income']].copy()"
   ]
  },
  {
   "cell_type": "code",
   "execution_count": 45,
   "id": "cf9af94c",
   "metadata": {},
   "outputs": [
    {
     "data": {
      "text/plain": [
       "array(['', '$75,000 - $99,999', 'Less than $5,000', '$200,000 - $249,999',\n",
       "       '$5,000 - $9,999', '$30,000 - $39,999', '$50,000 - $74,999',\n",
       "       '$15,000 - $19,999', '$40,000 - $49,999', '$20,000-$24,999',\n",
       "       '$250,000 or more', '$10,000 - $14,999', '$100,000 - $124,999',\n",
       "       '$25,000 - $29,999'], dtype=object)"
      ]
     },
     "execution_count": 45,
     "metadata": {},
     "output_type": "execute_result"
    }
   ],
   "source": [
    "df_use['household_income'].unique()"
   ]
  },
  {
   "cell_type": "code",
   "execution_count": 60,
   "id": "9472d6a9",
   "metadata": {},
   "outputs": [],
   "source": [
    "df_use['low_income_hh'] = ((df_use['household_income'] == 'Less than $5,000')|\n",
    "                        (df_use['household_income'] == '$5,000 - $9,999')).astype(int)"
   ]
  },
  {
   "cell_type": "code",
   "execution_count": 44,
   "id": "f16ee178",
   "metadata": {},
   "outputs": [
    {
     "data": {
      "text/plain": [
       "count    465.000000\n",
       "mean       0.187097\n",
       "std        0.390409\n",
       "min        0.000000\n",
       "25%        0.000000\n",
       "50%        0.000000\n",
       "75%        0.000000\n",
       "max        1.000000\n",
       "Name: homeless, dtype: float64"
      ]
     },
     "execution_count": 44,
     "metadata": {},
     "output_type": "execute_result"
    }
   ],
   "source": [
    "df_use['homeless'] = (df_use['homeless']=='Yes').astype(int)\n",
    "df_use['homeless'].describe()"
   ]
  },
  {
   "cell_type": "code",
   "execution_count": 70,
   "id": "c1a4ed3c",
   "metadata": {},
   "outputs": [],
   "source": [
    "Y = df_use['employed'].values\n",
    "A = df_use['incarcerated'].values\n",
    "L = df_use[['age','latino','educ','illicit_ever','male']].values\n",
    "adj_matrix = adj.values.astype(int)\n",
    "\n",
    "degree = adj.sum(axis=1)"
   ]
  },
  {
   "cell_type": "code",
   "execution_count": 6,
   "id": "d24c7cfd",
   "metadata": {},
   "outputs": [
    {
     "data": {
      "text/plain": [
       "(12, 0)"
      ]
     },
     "execution_count": 6,
     "metadata": {},
     "output_type": "execute_result"
    }
   ],
   "source": [
    "adj_matrix.sum(axis=1).max(), adj_matrix.sum(axis=1).min()"
   ]
  },
  {
   "cell_type": "code",
   "execution_count": 71,
   "id": "b707f893",
   "metadata": {},
   "outputs": [
    {
     "data": {
      "text/plain": [
       "-0.09778371756320303"
      ]
     },
     "execution_count": 71,
     "metadata": {},
     "output_type": "execute_result"
    }
   ],
   "source": [
    "np.mean(Y[A == 1]) - np.mean(Y[A == 0])"
   ]
  },
  {
   "cell_type": "code",
   "execution_count": 72,
   "id": "9d7b27fa",
   "metadata": {},
   "outputs": [
    {
     "data": {
      "text/plain": [
       "{'average': 0.18838147001367717,\n",
       " 'direct_effect': -0.15883710856792882,\n",
       " 'spillover_effect': -0.16407298787332847,\n",
       " 'psi_1_gamma': 0.1089629157297128,\n",
       " 'psi_0_gamma': 0.2678000242976416,\n",
       " 'psi_zero': 0.43187301217097007}"
      ]
     },
     "execution_count": 72,
     "metadata": {},
     "output_type": "execute_result"
    }
   ],
   "source": [
    "from drnet_em import doubly_robust_em\n",
    "\n",
    "doubly_robust_em(A, L, Y, adj_matrix, treatment_allocation=0.5, seed=1, return_raw=False)"
   ]
  },
  {
   "cell_type": "code",
   "execution_count": 73,
   "id": "ce52a936",
   "metadata": {},
   "outputs": [
    {
     "data": {
      "text/plain": [
       "{'average': 0.29152812062956734,\n",
       " 'direct_effect': -0.2345578516984965,\n",
       " 'spillover_effect': -0.09343332120170333,\n",
       " 'psi_1_gamma': 0.10388183927077024,\n",
       " 'psi_0_gamma': 0.33843969096926674,\n",
       " 'psi_zero': 0.43187301217097007}"
      ]
     },
     "execution_count": 73,
     "metadata": {},
     "output_type": "execute_result"
    }
   ],
   "source": [
    "doubly_robust_em(A, L, Y, adj_matrix, treatment_allocation=0.2, seed=1, return_raw=False)"
   ]
  },
  {
   "cell_type": "code",
   "execution_count": 74,
   "id": "ab8cacf9",
   "metadata": {},
   "outputs": [],
   "source": [
    "ret_5 = doubly_robust_em(A, L, Y, adj_matrix, treatment_allocation=0.5, seed=1, return_raw=True)\n",
    "ret_2 = doubly_robust_em(A, L, Y, adj_matrix, treatment_allocation=0.2, seed=1, return_raw=True)"
   ]
  },
  {
   "cell_type": "code",
   "execution_count": 75,
   "id": "25901fc8",
   "metadata": {},
   "outputs": [],
   "source": [
    "import numpy as np\n",
    "import networkx as nx\n",
    "\n",
    "def compute_avg_effects_std_from_raw(psi_vec, adj_matrix, h=2):\n",
    "    \"\"\"\n",
    "    Compute the average effect and its network-HAC standard deviation using a Bartlett kernel.\n",
    "    \n",
    "    Parameters:\n",
    "        psi_vec: np.ndarray of shape (N,), raw influence function values\n",
    "        adj_matrix: np.ndarray of shape (N, N), adjacency matrix of the network\n",
    "        h: int, maximum distance for Bartlett kernel\n",
    "        \n",
    "    Returns:\n",
    "        avg_effects: float, average of psi_vec\n",
    "        se_hac: float, standard error adjusted for network dependence\n",
    "    \"\"\"\n",
    "    N = len(psi_vec)\n",
    "    avg_effects = np.mean(psi_vec)\n",
    "    \n",
    "    # Centered residuals\n",
    "    g = psi_vec - avg_effects\n",
    "    \n",
    "    # Build graph and compute pairwise distances\n",
    "    G = nx.from_numpy_array(adj_matrix)\n",
    "    dist = dict(nx.all_pairs_shortest_path_length(G, cutoff=h))\n",
    "    \n",
    "    # Network HAC estimator\n",
    "    hac_var = 0.0\n",
    "    for i in range(N):\n",
    "        for j, dij in dist[i].items():\n",
    "            weight = max(1 - dij / h, 0)  # Bartlett kernel\n",
    "            hac_var += weight * g[i] * g[j]\n",
    "    \n",
    "    hac_var /= N\n",
    "    se_hac = np.sqrt(hac_var)/np.sqrt(N)\n",
    "\n",
    "    return avg_effects, se_hac"
   ]
  },
  {
   "cell_type": "code",
   "execution_count": 76,
   "id": "baadd41d",
   "metadata": {},
   "outputs": [
    {
     "name": "stdout",
     "output_type": "stream",
     "text": [
      "Average psi_gamma: 0.18838147001367717 Confidence interval: (0.13418035640461648, 0.24258258362273785)\n",
      "Average direct effect: -0.15883710856792882 Confidence interval: (-0.26221777921617173, -0.05545643791968592)\n",
      "Average indirect effect: -0.07063966667162508 Confidence interval: (-0.13916790622753245, -0.002111427115717726)\n",
      "Average spillover effect: -0.1640729878733285 Confidence interval: (-0.30121822175146407, -0.026927753995192927)\n"
     ]
    }
   ],
   "source": [
    "psi_gamma = ret_5['psi_gamma']\n",
    "direct_effect = ret_5['psi_1_gamma'] - ret_5['psi_0_gamma']\n",
    "indirect_effect = ret_5['psi_0_gamma'] - ret_2['psi_0_gamma']\n",
    "spillover_effect = ret_5['psi_0_gamma'] - ret_5['psi_zero']\n",
    "\n",
    "avg_psi_gamma, se_psi_gamma = compute_avg_effects_std_from_raw(psi_gamma, adj_matrix, h=3)\n",
    "avg_direct_effect, se_direct_effect = compute_avg_effects_std_from_raw(direct_effect, adj_matrix, h=3)\n",
    "avg_indirect_effect, se_indirect_effect = compute_avg_effects_std_from_raw(indirect_effect, adj_matrix, h=3)\n",
    "avg_spillover_effect, se_spillover_effect = compute_avg_effects_std_from_raw(spillover_effect, adj_matrix, h=3)\n",
    "\n",
    "print('Average psi_gamma:', avg_psi_gamma, 'Confidence interval:', (avg_psi_gamma - 1.96 * se_psi_gamma, avg_psi_gamma + 1.96 * se_psi_gamma))\n",
    "print('Average direct effect:', avg_direct_effect, 'Confidence interval:', (avg_direct_effect - 1.96 * se_direct_effect, avg_direct_effect + 1.96 * se_direct_effect))\n",
    "print('Average indirect effect:', avg_indirect_effect, 'Confidence interval:', (avg_indirect_effect - 1.96 * se_indirect_effect, avg_indirect_effect + 1.96 * se_indirect_effect))\n",
    "print('Average spillover effect:', avg_spillover_effect, 'Confidence interval:', (avg_spillover_effect - 1.96 * se_spillover_effect, avg_spillover_effect + 1.96 * se_spillover_effect))\n"
   ]
  },
  {
   "cell_type": "code",
   "execution_count": 68,
   "id": "4d8d0cc7",
   "metadata": {},
   "outputs": [
    {
     "data": {
      "text/plain": [
       "(0.13419354838709677,\n",
       " 0.013763440860215082,\n",
       " 0.001577060931899632,\n",
       " 0.0025089605734766735)"
      ]
     },
     "execution_count": 68,
     "metadata": {},
     "output_type": "execute_result"
    }
   ],
   "source": [
    "from autognet import evaluate_autognet_via_agc_effect\n",
    "\n",
    "\n",
    "def get_autog(adj_matrix, Y, A, L, s):\n",
    "    ret_ag_5 = evaluate_autognet_via_agc_effect(adj_matrix, Y, A, L, treatment_allocation=0.5, R=30, burnin=10, seed=s)\n",
    "    ret_ag_2 = evaluate_autognet_via_agc_effect(adj_matrix, Y, A, L, treatment_allocation=0.2, R=30, burnin=10, seed=s)\n",
    "\n",
    "    avg_psi_gamma = ret_ag_5['average']\n",
    "    avg_direct_effect = ret_ag_5['direct_effect']\n",
    "    avg_indirect_effect = ret_ag_5['psi_0_gamma'] - ret_ag_2['psi_0_gamma']\n",
    "    avg_spillover_effect = ret_ag_5['spillover_effect']\n",
    "    \n",
    "    return avg_psi_gamma, avg_direct_effect, avg_indirect_effect, avg_spillover_effect\n",
    "\n",
    "get_autog(adj_matrix, Y, A, L, s=1)"
   ]
  },
  {
   "cell_type": "code",
   "execution_count": null,
   "id": "821b4a13",
   "metadata": {},
   "outputs": [
    {
     "name": "stderr",
     "output_type": "stream",
     "text": [
      "100%|██████████| 1000/1000 [11:27<00:00,  1.45it/s]"
     ]
    },
    {
     "name": "stdout",
     "output_type": "stream",
     "text": [
      "Bootstrap confidence intervals for psi_gamma: (0.44661084529505585, 0.6288177830940987)\n",
      "Bootstrap confidence intervals for direct effect: (0.15334130781499183, 0.2846232057416267)\n",
      "Bootstrap confidence intervals for indirect effect: (-0.014360047846890026, 0.03405502392344506)\n",
      "Bootstrap confidence intervals for spillover effect: (-0.025442583732057385, 0.053989234449760864)\n"
     ]
    },
    {
     "name": "stderr",
     "output_type": "stream",
     "text": [
      "\n"
     ]
    }
   ],
   "source": [
    "from tqdm import tqdm\n",
    "\n",
    "# bootstrap to get confidence intervals\n",
    "num_bootstrap = 1000\n",
    "np.random.seed(42)  # For reproducibility\n",
    "bootstrap_results = {'psi_gamma': [],\n",
    "                     'direct_effect': [],\n",
    "                     'indirect_effect': [],\n",
    "                     'spillover_effect': []}\n",
    "for s in tqdm(range(num_bootstrap)):\n",
    "    indices = np.random.choice(len(Y), size=int(len(Y)*0.9), replace=False)\n",
    "    Y_boot = Y[indices]\n",
    "    A_boot = A[indices]\n",
    "    L_boot = L[indices]\n",
    "    \n",
    "    adj_matrix_boot = adj_matrix[indices][:, indices]\n",
    "    \n",
    "    results = get_autog(adj_matrix_boot, Y_boot, A_boot, L_boot, s)\n",
    "    bootstrap_results['psi_gamma'].append(results[0])\n",
    "    bootstrap_results['direct_effect'].append(results[1])\n",
    "    bootstrap_results['indirect_effect'].append(results[2])\n",
    "    bootstrap_results['spillover_effect'].append(results[3])\n",
    "\n",
    "# Calculate confidence intervals\n",
    "def compute_confidence_intervals(data, alpha=0.05):\n",
    "    lower_bound = np.percentile(data, 100 * (alpha / 2))\n",
    "    upper_bound = np.percentile(data, 100 * (1 - alpha / 2))\n",
    "    return lower_bound, upper_bound\n",
    "\n",
    "ci_psi_gamma = compute_confidence_intervals(bootstrap_results['psi_gamma'])\n",
    "ci_direct_effect = compute_confidence_intervals(bootstrap_results['direct_effect'])\n",
    "ci_indirect_effect = compute_confidence_intervals(bootstrap_results['indirect_effect'])\n",
    "ci_spillover_effect = compute_confidence_intervals(bootstrap_results['spillover_effect'])\n",
    "\n",
    "r1, r2, r3, r4 = get_autog(adj_matrix, Y, A, L, s=1)\n",
    "print('Bootstrap confidence intervals for psi_gamma:', ci_psi_gamma, 'Average:', r1)\n",
    "print('Bootstrap confidence intervals for direct effect:', ci_direct_effect , 'Average:', r2)\n",
    "print('Bootstrap confidence intervals for indirect effect:', ci_indirect_effect, 'Average:', r3)\n",
    "print('Bootstrap confidence intervals for spillover effect:', ci_spillover_effect, 'Average:', r4)\n",
    "    "
   ]
  },
  {
   "cell_type": "markdown",
   "id": "d1e91381",
   "metadata": {},
   "source": [
    "# Household Income"
   ]
  },
  {
   "cell_type": "code",
   "execution_count": 77,
   "id": "4aa78e21",
   "metadata": {},
   "outputs": [],
   "source": [
    "Y = df_use['low_income_hh'].values\n",
    "A = df_use['incarcerated'].values\n",
    "L = df_use[['age','latino','educ','illicit_ever','male']].values\n",
    "adj_matrix = adj.values.astype(int)\n",
    "\n",
    "degree = adj.sum(axis=1)"
   ]
  },
  {
   "cell_type": "code",
   "execution_count": 78,
   "id": "70dc9295",
   "metadata": {},
   "outputs": [
    {
     "data": {
      "text/plain": [
       "-0.020046775810223877"
      ]
     },
     "execution_count": 78,
     "metadata": {},
     "output_type": "execute_result"
    }
   ],
   "source": [
    "np.mean(Y[A == 1]) - np.mean(Y[A == 0])"
   ]
  },
  {
   "cell_type": "code",
   "execution_count": 79,
   "id": "7496d015",
   "metadata": {},
   "outputs": [
    {
     "name": "stdout",
     "output_type": "stream",
     "text": [
      "Average psi_gamma: 0.15068698129897684 Confidence interval: (0.09379550470362993, 0.20757845789432375)\n",
      "Average direct effect: 0.04844788623380378 Confidence interval: (-0.04231729220868945, 0.13921306467629702)\n",
      "Average indirect effect: 0.0406400837727338 Confidence interval: (-0.0078109188441487926, 0.0890910863896164)\n",
      "Average spillover effect: 0.043394593235455685 Confidence interval: (-0.036541438944671926, 0.12333062541558329)\n"
     ]
    }
   ],
   "source": [
    "ret_5 = doubly_robust_em(A, L, Y, adj_matrix, treatment_allocation=0.5, seed=1, return_raw=True)\n",
    "ret_2 = doubly_robust_em(A, L, Y, adj_matrix, treatment_allocation=0.2, seed=1, return_raw=True)\n",
    "\n",
    "psi_gamma = ret_5['psi_gamma']\n",
    "direct_effect = ret_5['psi_1_gamma'] - ret_5['psi_0_gamma']\n",
    "indirect_effect = ret_5['psi_0_gamma'] - ret_2['psi_0_gamma']\n",
    "spillover_effect = ret_5['psi_0_gamma'] - ret_5['psi_zero']\n",
    "\n",
    "avg_psi_gamma, se_psi_gamma = compute_avg_effects_std_from_raw(psi_gamma, adj_matrix, h=3)\n",
    "avg_direct_effect, se_direct_effect = compute_avg_effects_std_from_raw(direct_effect, adj_matrix, h=3)\n",
    "avg_indirect_effect, se_indirect_effect = compute_avg_effects_std_from_raw(indirect_effect, adj_matrix, h=3)\n",
    "avg_spillover_effect, se_spillover_effect = compute_avg_effects_std_from_raw(spillover_effect, adj_matrix, h=3)\n",
    "\n",
    "print('Average psi_gamma:', avg_psi_gamma, 'Confidence interval:', (avg_psi_gamma - 1.96 * se_psi_gamma, avg_psi_gamma + 1.96 * se_psi_gamma))\n",
    "print('Average direct effect:', avg_direct_effect, 'Confidence interval:', (avg_direct_effect - 1.96 * se_direct_effect, avg_direct_effect + 1.96 * se_direct_effect))\n",
    "print('Average indirect effect:', avg_indirect_effect, 'Confidence interval:', (avg_indirect_effect - 1.96 * se_indirect_effect, avg_indirect_effect + 1.96 * se_indirect_effect))\n",
    "print('Average spillover effect:', avg_spillover_effect, 'Confidence interval:', (avg_spillover_effect - 1.96 * se_spillover_effect, avg_spillover_effect + 1.96 * se_spillover_effect))\n"
   ]
  },
  {
   "cell_type": "code",
   "execution_count": 80,
   "id": "8b80fc7d",
   "metadata": {},
   "outputs": [
    {
     "data": {
      "text/plain": [
       "(0.13419354838709677,\n",
       " 0.013763440860215082,\n",
       " 0.001577060931899632,\n",
       " 0.0025089605734766735)"
      ]
     },
     "execution_count": 80,
     "metadata": {},
     "output_type": "execute_result"
    }
   ],
   "source": [
    "get_autog(adj_matrix, Y, A, L, s=1)"
   ]
  },
  {
   "cell_type": "code",
   "execution_count": null,
   "id": "6e7d0ddd",
   "metadata": {},
   "outputs": [],
   "source": [
    "from tqdm import tqdm\n",
    "\n",
    "# bootstrap to get confidence intervals\n",
    "num_bootstrap = 1000\n",
    "np.random.seed(42)  # For reproducibility\n",
    "bootstrap_results = {'psi_gamma': [],\n",
    "                     'direct_effect': [],\n",
    "                     'indirect_effect': [],\n",
    "                     'spillover_effect': []}\n",
    "for s in tqdm(range(num_bootstrap)):\n",
    "    indices = np.random.choice(len(Y), size=int(len(Y)*0.9), replace=False)\n",
    "    Y_boot = Y[indices]\n",
    "    A_boot = A[indices]\n",
    "    L_boot = L[indices]\n",
    "    \n",
    "    adj_matrix_boot = adj_matrix[indices][:, indices]\n",
    "    \n",
    "    results = get_autog(adj_matrix_boot, Y_boot, A_boot, L_boot, s)\n",
    "    bootstrap_results['psi_gamma'].append(results[0])\n",
    "    bootstrap_results['direct_effect'].append(results[1])\n",
    "    bootstrap_results['indirect_effect'].append(results[2])\n",
    "    bootstrap_results['spillover_effect'].append(results[3])\n",
    "\n",
    "# Calculate confidence intervals\n",
    "def compute_confidence_intervals(data, alpha=0.05):\n",
    "    lower_bound = np.percentile(data, 100 * (alpha / 2))\n",
    "    upper_bound = np.percentile(data, 100 * (1 - alpha / 2))\n",
    "    return lower_bound, upper_bound\n",
    "\n",
    "ci_psi_gamma = compute_confidence_intervals(bootstrap_results['psi_gamma'])\n",
    "ci_direct_effect = compute_confidence_intervals(bootstrap_results['direct_effect'])\n",
    "ci_indirect_effect = compute_confidence_intervals(bootstrap_results['indirect_effect'])\n",
    "ci_spillover_effect = compute_confidence_intervals(bootstrap_results['spillover_effect'])\n",
    "\n",
    "r1, r2, r3, r4 = get_autog(adj_matrix, Y, A, L, s=1)\n",
    "print('Bootstrap confidence intervals for psi_gamma:', ci_psi_gamma, 'Average:', r1)\n",
    "print('Bootstrap confidence intervals for direct effect:', ci_direct_effect , 'Average:', r2)\n",
    "print('Bootstrap confidence intervals for indirect effect:', ci_indirect_effect, 'Average:', r3)\n",
    "print('Bootstrap confidence intervals for spillover effect:', ci_spillover_effect, 'Average:', r4)\n",
    "    "
   ]
  },
  {
   "cell_type": "markdown",
   "id": "eae978f7",
   "metadata": {},
   "source": [
    "# Homeless"
   ]
  },
  {
   "cell_type": "code",
   "execution_count": 81,
   "id": "082c17c0",
   "metadata": {},
   "outputs": [],
   "source": [
    "Y = df_use['homeless'].values\n",
    "A = df_use['incarcerated'].values\n",
    "L = df_use[['age','latino','educ','illicit_ever','male']].values\n",
    "adj_matrix = adj.values.astype(int)\n",
    "\n",
    "degree = adj.sum(axis=1)"
   ]
  },
  {
   "cell_type": "code",
   "execution_count": 83,
   "id": "62b296eb",
   "metadata": {},
   "outputs": [
    {
     "data": {
      "text/plain": [
       "0.1383227530905446"
      ]
     },
     "execution_count": 83,
     "metadata": {},
     "output_type": "execute_result"
    }
   ],
   "source": [
    "np.mean(Y[A == 1]) - np.mean(Y[A == 0])"
   ]
  },
  {
   "cell_type": "code",
   "execution_count": 84,
   "id": "248f8cea",
   "metadata": {},
   "outputs": [
    {
     "name": "stdout",
     "output_type": "stream",
     "text": [
      "Average psi_gamma: 0.1838923393352411 Confidence interval: (0.11899259142337647, 0.24879208724710572)\n",
      "Average direct effect: 0.16720881409071311 Confidence interval: (0.0160734159055336, 0.3183442122758926)\n",
      "Average indirect effect: -0.016000990773829958 Confidence interval: (-0.06054012459275883, 0.028538143045098913)\n",
      "Average spillover effect: -0.07561214995789191 Confidence interval: (-0.1612597290264518, 0.010035429110667973)\n"
     ]
    }
   ],
   "source": [
    "ret_5 = doubly_robust_em(A, L, Y, adj_matrix, treatment_allocation=0.5, seed=1, return_raw=True)\n",
    "ret_2 = doubly_robust_em(A, L, Y, adj_matrix, treatment_allocation=0.2, seed=1, return_raw=True)\n",
    "\n",
    "psi_gamma = ret_5['psi_gamma']\n",
    "direct_effect = ret_5['psi_1_gamma'] - ret_5['psi_0_gamma']\n",
    "indirect_effect = ret_5['psi_0_gamma'] - ret_2['psi_0_gamma']\n",
    "spillover_effect = ret_5['psi_0_gamma'] - ret_5['psi_zero']\n",
    "\n",
    "avg_psi_gamma, se_psi_gamma = compute_avg_effects_std_from_raw(psi_gamma, adj_matrix, h=3)\n",
    "avg_direct_effect, se_direct_effect = compute_avg_effects_std_from_raw(direct_effect, adj_matrix, h=3)\n",
    "avg_indirect_effect, se_indirect_effect = compute_avg_effects_std_from_raw(indirect_effect, adj_matrix, h=3)\n",
    "avg_spillover_effect, se_spillover_effect = compute_avg_effects_std_from_raw(spillover_effect, adj_matrix, h=3)\n",
    "\n",
    "print('Average psi_gamma:', avg_psi_gamma, 'Confidence interval:', (avg_psi_gamma - 1.96 * se_psi_gamma, avg_psi_gamma + 1.96 * se_psi_gamma))\n",
    "print('Average direct effect:', avg_direct_effect, 'Confidence interval:', (avg_direct_effect - 1.96 * se_direct_effect, avg_direct_effect + 1.96 * se_direct_effect))\n",
    "print('Average indirect effect:', avg_indirect_effect, 'Confidence interval:', (avg_indirect_effect - 1.96 * se_indirect_effect, avg_indirect_effect + 1.96 * se_indirect_effect))\n",
    "print('Average spillover effect:', avg_spillover_effect, 'Confidence interval:', (avg_spillover_effect - 1.96 * se_spillover_effect, avg_spillover_effect + 1.96 * se_spillover_effect))\n"
   ]
  },
  {
   "cell_type": "code",
   "execution_count": 85,
   "id": "3aa0e4b0",
   "metadata": {},
   "outputs": [
    {
     "data": {
      "text/plain": [
       "(0.12473118279569895,\n",
       " 0.05756272401433696,\n",
       " 0.003369175627240137,\n",
       " 0.005663082437276007)"
      ]
     },
     "execution_count": 85,
     "metadata": {},
     "output_type": "execute_result"
    }
   ],
   "source": [
    "get_autog(adj_matrix, Y, A, L, s=1)"
   ]
  },
  {
   "cell_type": "code",
   "execution_count": null,
   "id": "fe0e826a",
   "metadata": {},
   "outputs": [],
   "source": [
    "from tqdm import tqdm\n",
    "\n",
    "# bootstrap to get confidence intervals\n",
    "num_bootstrap = 1000\n",
    "np.random.seed(42)  # For reproducibility\n",
    "bootstrap_results = {'psi_gamma': [],\n",
    "                     'direct_effect': [],\n",
    "                     'indirect_effect': [],\n",
    "                     'spillover_effect': []}\n",
    "for s in tqdm(range(num_bootstrap)):\n",
    "    indices = np.random.choice(len(Y), size=int(len(Y)*0.9), replace=False)\n",
    "    Y_boot = Y[indices]\n",
    "    A_boot = A[indices]\n",
    "    L_boot = L[indices]\n",
    "    \n",
    "    adj_matrix_boot = adj_matrix[indices][:, indices]\n",
    "    \n",
    "    results = get_autog(adj_matrix_boot, Y_boot, A_boot, L_boot, s)\n",
    "    bootstrap_results['psi_gamma'].append(results[0])\n",
    "    bootstrap_results['direct_effect'].append(results[1])\n",
    "    bootstrap_results['indirect_effect'].append(results[2])\n",
    "    bootstrap_results['spillover_effect'].append(results[3])\n",
    "\n",
    "# Calculate confidence intervals\n",
    "def compute_confidence_intervals(data, alpha=0.05):\n",
    "    lower_bound = np.percentile(data, 100 * (alpha / 2))\n",
    "    upper_bound = np.percentile(data, 100 * (1 - alpha / 2))\n",
    "    return lower_bound, upper_bound\n",
    "\n",
    "ci_psi_gamma = compute_confidence_intervals(bootstrap_results['psi_gamma'])\n",
    "ci_direct_effect = compute_confidence_intervals(bootstrap_results['direct_effect'])\n",
    "ci_indirect_effect = compute_confidence_intervals(bootstrap_results['indirect_effect'])\n",
    "ci_spillover_effect = compute_confidence_intervals(bootstrap_results['spillover_effect'])\n",
    "\n",
    "r1, r2, r3, r4 = get_autog(adj_matrix, Y, A, L, s=1)\n",
    "print('Bootstrap confidence intervals for psi_gamma:', ci_psi_gamma, 'Average:', r1)\n",
    "print('Bootstrap confidence intervals for direct effect:', ci_direct_effect , 'Average:', r2)\n",
    "print('Bootstrap confidence intervals for indirect effect:', ci_indirect_effect, 'Average:', r3)\n",
    "print('Bootstrap confidence intervals for spillover effect:', ci_spillover_effect, 'Average:', r4)\n",
    "    "
   ]
  }
 ],
 "metadata": {
  "kernelspec": {
   "display_name": "my_env",
   "language": "python",
   "name": "python3"
  },
  "language_info": {
   "codemirror_mode": {
    "name": "ipython",
    "version": 3
   },
   "file_extension": ".py",
   "mimetype": "text/x-python",
   "name": "python",
   "nbconvert_exporter": "python",
   "pygments_lexer": "ipython3",
   "version": "3.11.11"
  }
 },
 "nbformat": 4,
 "nbformat_minor": 5
}
