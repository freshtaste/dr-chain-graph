{
 "cells": [
  {
   "cell_type": "code",
   "execution_count": null,
   "id": "eb962409",
   "metadata": {},
   "outputs": [],
   "source": [
    "num_sample = 30\n",
    "num_burn = 10\n",
    "sample_size = 800"
   ]
  },
  {
   "cell_type": "code",
   "execution_count": null,
   "id": "52d3606d",
   "metadata": {},
   "outputs": [
    {
     "name": "stderr",
     "output_type": "stream",
     "text": [
      "100%|██████████| 40/40 [00:01<00:00, 29.73it/s]\n"
     ]
    }
   ],
   "source": [
    "from dgp import *\n",
    "\n",
    "# 1. Simulate or load data\n",
    "min_degree = 2\n",
    "max_degree = 4\n",
    "adj = get_graph(sample_size, min_degree, max_degree, seed=1)\n",
    "\n",
    "tau = np.array([-1.0, 0.50, -0.50])       # shape (3,)\n",
    "rho = np.array([[0,0.1,0.2],\n",
    "                [0.1,0,0.1],\n",
    "                [0.2,0.1,0]])      # shape (3, 3), with 0s on the diagonal\n",
    "nu = np.array([0.1,0,0,0.1,0,0,0.1,0,0]).reshape(3,3)       # shape (3, 3)\n",
    "gamma = np.array([-1.00,0.50,0.10,0.20,0.05,0.25,-0.08,0.30])     # shape (8,)\n",
    "beta = np.array([-0.30,-0.60,-0.20,-0.20,-0.05,-0.10,-0.01,0.40,0.01,0.20])     # shape (10,)\n",
    "\n",
    "Y_chain, A_chain, L_chain = sample_network_chain(adj, tau, rho, nu, gamma, beta, R=num_sample,\n",
    "    burnin_R=num_burn, seed=0)\n",
    "\n",
    "Y_chain = Y_chain[::3]\n",
    "A_chain = A_chain[::3]\n",
    "L_chain = L_chain[::3]"
   ]
  },
  {
   "cell_type": "code",
   "execution_count": 3,
   "id": "e0521c56",
   "metadata": {},
   "outputs": [],
   "source": [
    "n_cpu = 10"
   ]
  },
  {
   "cell_type": "code",
   "execution_count": 4,
   "id": "a26f2d1e",
   "metadata": {},
   "outputs": [
    {
     "data": {
      "text/plain": [
       "{'average': 0.28088125,\n",
       " 'direct': -0.14169374999999992,\n",
       " 'indirect': -0.06577500000000003,\n",
       " 'spillover_effect': -0.11949375000000007}"
      ]
     },
     "execution_count": 4,
     "metadata": {},
     "output_type": "execute_result"
    }
   ],
   "source": [
    "from agcEffect import *\n",
    "\n",
    "res_truth1 = agc_effect(\n",
    "    adj,\n",
    "    tau, rho, nu, beta,\n",
    "    treatment_allocation=0.7,\n",
    "    R=200,\n",
    "    burnin_R=50,\n",
    "    seed=0\n",
    ")\n",
    "res_truth2 = agc_effect(\n",
    "    adj,\n",
    "    tau, rho, nu, beta,\n",
    "    treatment_allocation=0.3,\n",
    "    R=200,\n",
    "    burnin_R=50,\n",
    "    seed=0\n",
    ")\n",
    "\n",
    "ground_truth1 = {'average': 0, 'direct': 0, 'indirect': 0, 'spillover_effect':0}\n",
    "ground_truth1['average'] = res_truth1['average']\n",
    "ground_truth1['direct'] = res_truth1['direct_effect']\n",
    "ground_truth1['indirect'] = res_truth1['psi_0_gamma'] - res_truth2['psi_0_gamma']\n",
    "ground_truth1['spillover_effect'] = res_truth1['spillover_effect']\n",
    "\n",
    "ground_truth1\n"
   ]
  },
  {
   "cell_type": "code",
   "execution_count": 5,
   "id": "cb6ccea2",
   "metadata": {},
   "outputs": [
    {
     "name": "stdout",
     "output_type": "stream",
     "text": [
      "Multiprocessing <function run_autognet_raw at 0x310c70c10> in 10 tasks, with 10 processes...\n",
      "Multiprocessing finished.\n"
     ]
    }
   ],
   "source": [
    "from utils import run_pll\n",
    "from run_pll import run_autognet_raw\n",
    "\n",
    "treat_p = 0.7\n",
    "args = [{'Y_chain': Y_chain,\n",
    "         'A_chain': A_chain,\n",
    "         'L_chain': L_chain,\n",
    "         'adj': adj,\n",
    "         'i': i,\n",
    "         'treatment_allocation': treat_p} for i in range(len(Y_chain))]\n",
    "\n",
    "res_list_dr = run_pll(run_autognet_raw, args, processes=n_cpu)\n",
    "res_list_array_dr = np.array(res_list_dr)\n",
    "# save results\n",
    "np.save(f'run/sim_results/sim_ag_raw_{sample_size}_{min_degree}_{max_degree}_{treat_p}.npy', res_list_array_dr)"
   ]
  },
  {
   "cell_type": "code",
   "execution_count": 6,
   "id": "46549a68",
   "metadata": {},
   "outputs": [
    {
     "name": "stdout",
     "output_type": "stream",
     "text": [
      "Multiprocessing <function run_autognet_raw at 0x310c70c10> in 10 tasks, with 10 processes...\n",
      "Multiprocessing finished.\n"
     ]
    }
   ],
   "source": [
    "from utils import run_pll\n",
    "from run_pll import run_autognet_raw\n",
    "\n",
    "\n",
    "treat_p = 0.3\n",
    "args = [{'Y_chain': Y_chain,\n",
    "         'A_chain': A_chain,\n",
    "         'L_chain': L_chain,\n",
    "         'adj': adj,\n",
    "         'i': i,\n",
    "         'treatment_allocation': treat_p} for i in range(len(Y_chain))]\n",
    "\n",
    "res_list_dr = run_pll(run_autognet_raw, args, processes=n_cpu)\n",
    "res_list_array_dr = np.array(res_list_dr)\n",
    "# save results\n",
    "np.save(f'run/sim_results/sim_ag_raw_{sample_size}_{min_degree}_{max_degree}_{treat_p}.npy', res_list_array_dr)"
   ]
  },
  {
   "cell_type": "code",
   "execution_count": null,
   "id": "b86484dd",
   "metadata": {},
   "outputs": [
    {
     "name": "stderr",
     "output_type": "stream",
     "text": [
      "100%|██████████| 40/40 [00:01<00:00, 26.08it/s]\n"
     ]
    }
   ],
   "source": [
    "from dgp import *\n",
    "\n",
    "# 1. Simulate or load data\n",
    "min_degree = 5\n",
    "max_degree = 7\n",
    "adj = get_graph(sample_size, min_degree, max_degree, seed=1)\n",
    "\n",
    "tau = np.array([-1.0, 0.50, -0.50])       # shape (3,)\n",
    "rho = np.array([[0,0.1,0.2],\n",
    "                [0.1,0,0.1],\n",
    "                [0.2,0.1,0]])      # shape (3, 3), with 0s on the diagonal\n",
    "nu = np.array([0.1,0,0,0.1,0,0,0.1,0,0]).reshape(3,3)       # shape (3, 3)\n",
    "gamma = np.array([-1.00,0.50,0.10,0.20,0.05,0.25,-0.08,0.30])     # shape (8,)\n",
    "beta = np.array([-0.30,-0.60,-0.20,-0.20,-0.05,-0.10,-0.01,0.40,0.01,0.20])     # shape (10,)\n",
    "\n",
    "Y_chain, A_chain, L_chain = sample_network_chain(adj, tau, rho, nu, gamma, beta, R=num_sample,\n",
    "    burnin_R=num_burn, seed=0)\n",
    "\n",
    "Y_chain = Y_chain[::3]\n",
    "A_chain = A_chain[::3]\n",
    "L_chain = L_chain[::3]"
   ]
  },
  {
   "cell_type": "code",
   "execution_count": 8,
   "id": "0bbc914f",
   "metadata": {},
   "outputs": [
    {
     "data": {
      "text/plain": [
       "{'average': 0.213325,\n",
       " 'direct': -0.13479999999999998,\n",
       " 'indirect': -0.148075,\n",
       " 'spillover_effect': -0.26945625000000006}"
      ]
     },
     "execution_count": 8,
     "metadata": {},
     "output_type": "execute_result"
    }
   ],
   "source": [
    "from agcEffect import *\n",
    "\n",
    "res_truth1 = agc_effect(\n",
    "    adj,\n",
    "    tau, rho, nu, beta,\n",
    "    treatment_allocation=0.7,\n",
    "    R=200,\n",
    "    burnin_R=50,\n",
    "    seed=0\n",
    ")\n",
    "res_truth2 = agc_effect(\n",
    "    adj,\n",
    "    tau, rho, nu, beta,\n",
    "    treatment_allocation=0.3,\n",
    "    R=200,\n",
    "    burnin_R=50,\n",
    "    seed=0\n",
    ")\n",
    "\n",
    "ground_truth2 = {'average': 0, 'direct': 0, 'indirect': 0, 'spillover_effect':0}\n",
    "ground_truth2['average'] = res_truth1['average']\n",
    "ground_truth2['direct'] = res_truth1['direct_effect']\n",
    "ground_truth2['indirect'] = res_truth1['psi_0_gamma'] - res_truth2['psi_0_gamma']\n",
    "ground_truth2['spillover_effect'] = res_truth1['spillover_effect']\n",
    "\n",
    "ground_truth2\n"
   ]
  },
  {
   "cell_type": "code",
   "execution_count": 9,
   "id": "14391f5f",
   "metadata": {},
   "outputs": [
    {
     "name": "stdout",
     "output_type": "stream",
     "text": [
      "Multiprocessing <function run_autognet_raw at 0x310c70c10> in 10 tasks, with 10 processes...\n",
      "Multiprocessing finished.\n"
     ]
    }
   ],
   "source": [
    "from utils import run_pll\n",
    "from run_pll import run_autognet_raw\n",
    "\n",
    "treat_p = 0.7\n",
    "args = [{'Y_chain': Y_chain,\n",
    "         'A_chain': A_chain,\n",
    "         'L_chain': L_chain,\n",
    "         'adj': adj,\n",
    "         'i': i,\n",
    "         'treatment_allocation': treat_p} for i in range(len(Y_chain))]\n",
    "\n",
    "res_list_dr = run_pll(run_autognet_raw, args, processes=n_cpu)\n",
    "res_list_array_dr = np.array(res_list_dr)\n",
    "# save results\n",
    "np.save(f'run/sim_results/sim_ag_raw_{sample_size}_{min_degree}_{max_degree}_{treat_p}.npy', res_list_array_dr)"
   ]
  },
  {
   "cell_type": "code",
   "execution_count": 10,
   "id": "9bd8d8a0",
   "metadata": {},
   "outputs": [
    {
     "name": "stdout",
     "output_type": "stream",
     "text": [
      "Multiprocessing <function run_autognet_raw at 0x310c70c10> in 10 tasks, with 10 processes...\n",
      "Multiprocessing finished.\n"
     ]
    }
   ],
   "source": [
    "from utils import run_pll\n",
    "from run_pll import run_autognet_raw\n",
    "\n",
    "treat_p = 0.3\n",
    "args = [{'Y_chain': Y_chain,\n",
    "         'A_chain': A_chain,\n",
    "         'L_chain': L_chain,\n",
    "         'adj': adj,\n",
    "         'i': i,\n",
    "         'treatment_allocation': treat_p} for i in range(len(Y_chain))]\n",
    "\n",
    "res_list_dr = run_pll(run_autognet_raw, args, processes=n_cpu)\n",
    "res_list_array_dr = np.array(res_list_dr)\n",
    "# save results\n",
    "np.save(f'run/sim_results/sim_ag_raw_{sample_size}_{min_degree}_{max_degree}_{treat_p}.npy', res_list_array_dr)"
   ]
  },
  {
   "cell_type": "code",
   "execution_count": null,
   "id": "d9718bfd",
   "metadata": {},
   "outputs": [
    {
     "name": "stderr",
     "output_type": "stream",
     "text": [
      "100%|██████████| 40/40 [00:01<00:00, 27.52it/s]\n"
     ]
    }
   ],
   "source": [
    "from dgp import *\n",
    "\n",
    "# 1. Simulate or load data\n",
    "min_degree = 8\n",
    "max_degree = 10\n",
    "adj = get_graph(sample_size, min_degree, max_degree, seed=1)\n",
    "\n",
    "tau = np.array([-1.0, 0.50, -0.50])       # shape (3,)\n",
    "rho = np.array([[0,0.1,0.2],\n",
    "                [0.1,0,0.1],\n",
    "                [0.2,0.1,0]])      # shape (3, 3), with 0s on the diagonal\n",
    "nu = np.array([0.1,0,0,0.1,0,0,0.1,0,0]).reshape(3,3)       # shape (3, 3)\n",
    "gamma = np.array([-1.00,0.50,0.10,0.20,0.05,0.25,-0.08,0.30])     # shape (8,)\n",
    "beta = np.array([-0.30,-0.60,-0.20,-0.20,-0.05,-0.10,-0.01,0.40,0.01,0.20])     # shape (10,)\n",
    "\n",
    "Y_chain, A_chain, L_chain = sample_network_chain(adj, tau, rho, nu, gamma, beta, R=num_sample,\n",
    "    burnin_R=num_burn, seed=0)\n",
    "\n",
    "Y_chain = Y_chain[::3]\n",
    "A_chain = A_chain[::3]\n",
    "L_chain = L_chain[::3]"
   ]
  },
  {
   "cell_type": "code",
   "execution_count": 12,
   "id": "13e67ac0",
   "metadata": {},
   "outputs": [
    {
     "data": {
      "text/plain": [
       "{'average': 0.14641875000000001,\n",
       " 'direct': -0.10839374999999998,\n",
       " 'indirect': -0.24125624999999998,\n",
       " 'spillover_effect': -0.45620625000000004}"
      ]
     },
     "execution_count": 12,
     "metadata": {},
     "output_type": "execute_result"
    }
   ],
   "source": [
    "from agcEffect import *\n",
    "\n",
    "res_truth1 = agc_effect(\n",
    "    adj,\n",
    "    tau, rho, nu, beta,\n",
    "    treatment_allocation=0.7,\n",
    "    R=200,\n",
    "    burnin_R=50,\n",
    "    seed=0\n",
    ")\n",
    "res_truth2 = agc_effect(\n",
    "    adj,\n",
    "    tau, rho, nu, beta,\n",
    "    treatment_allocation=0.3,\n",
    "    R=200,\n",
    "    burnin_R=50,\n",
    "    seed=0\n",
    ")\n",
    "\n",
    "ground_truth3 = {'average': 0, 'direct': 0, 'indirect': 0, 'spillover_effect':0}\n",
    "ground_truth3['average'] = res_truth1['average']\n",
    "ground_truth3['direct'] = res_truth1['direct_effect']\n",
    "ground_truth3['indirect'] = res_truth1['psi_0_gamma'] - res_truth2['psi_0_gamma']\n",
    "ground_truth3['spillover_effect'] = res_truth1['spillover_effect']\n",
    "\n",
    "ground_truth3\n"
   ]
  },
  {
   "cell_type": "code",
   "execution_count": 13,
   "id": "86a4d0d9",
   "metadata": {},
   "outputs": [
    {
     "name": "stdout",
     "output_type": "stream",
     "text": [
      "Multiprocessing <function run_autognet_raw at 0x310c70c10> in 10 tasks, with 10 processes...\n",
      "Multiprocessing finished.\n"
     ]
    }
   ],
   "source": [
    "from utils import run_pll\n",
    "from run_pll import run_autognet_raw\n",
    "\n",
    "treat_p = 0.7\n",
    "args = [{'Y_chain': Y_chain,\n",
    "         'A_chain': A_chain,\n",
    "         'L_chain': L_chain,\n",
    "         'adj': adj,\n",
    "         'i': i,\n",
    "         'treatment_allocation': treat_p} for i in range(len(Y_chain))]\n",
    "\n",
    "res_list_dr = run_pll(run_autognet_raw, args, processes=n_cpu)\n",
    "res_list_array_dr = np.array(res_list_dr)\n",
    "# save results\n",
    "np.save(f'run/sim_results/sim_ag_raw_{sample_size}_{min_degree}_{max_degree}_{treat_p}.npy', res_list_array_dr)"
   ]
  },
  {
   "cell_type": "code",
   "execution_count": 14,
   "id": "b3cc5521",
   "metadata": {},
   "outputs": [
    {
     "name": "stdout",
     "output_type": "stream",
     "text": [
      "Multiprocessing <function run_autognet_raw at 0x310c70c10> in 10 tasks, with 10 processes...\n",
      "Multiprocessing finished.\n"
     ]
    }
   ],
   "source": [
    "from utils import run_pll\n",
    "from run_pll import run_autognet_raw\n",
    "\n",
    "treat_p = 0.3\n",
    "args = [{'Y_chain': Y_chain,\n",
    "         'A_chain': A_chain,\n",
    "         'L_chain': L_chain,\n",
    "         'adj': adj,\n",
    "         'i': i,\n",
    "         'treatment_allocation': treat_p} for i in range(len(Y_chain))]\n",
    "\n",
    "res_list_dr = run_pll(run_autognet_raw, args, processes=n_cpu)\n",
    "res_list_array_dr = np.array(res_list_dr)\n",
    "# save results\n",
    "np.save(f'run/sim_results/sim_ag_raw_{sample_size}_{min_degree}_{max_degree}_{treat_p}.npy', res_list_array_dr)"
   ]
  },
  {
   "cell_type": "markdown",
   "id": "2acfaadd",
   "metadata": {},
   "source": [
    "## Compute bias, std and etc"
   ]
  },
  {
   "cell_type": "code",
   "execution_count": 15,
   "id": "4b3247e8",
   "metadata": {},
   "outputs": [
    {
     "name": "stdout",
     "output_type": "stream",
     "text": [
      "Bias: [-0.00318625 -0.00871625  0.018865    0.03441875] MSE: [6.85217891e-05 2.70005316e-03 2.97638337e-03 2.25657335e-03]\n",
      "Bias: [0.00181    0.041065   0.047545   0.05670625] MSE: [0.00019273 0.00251715 0.00282466 0.01069409]\n",
      "Bias: [-0.01657875  0.03303375  0.17679625  0.24387125] MSE: [0.00093569 0.00196014 0.03584124 0.08642763]\n"
     ]
    }
   ],
   "source": [
    "# read results\n",
    "import numpy as np\n",
    "\n",
    "results1 = np.load(f'run/sim_results/sim_ag_raw_800_2_4_0.7.npy')[[0,1,2,3,5]]\n",
    "results2 = np.load(f'run/sim_results/sim_ag_raw_800_2_4_0.3.npy')[[0,1,2,3,5]]\n",
    "results3 = np.load(f'run/sim_results/sim_ag_raw_800_5_7_0.7.npy')[[0,1,2,3,5]]\n",
    "results4 = np.load(f'run/sim_results/sim_ag_raw_800_5_7_0.3.npy')[[0,1,2,3,5]]\n",
    "results5 = np.load(f'run/sim_results/sim_ag_raw_800_8_10_0.7.npy')[[0,1,2,3,5]]\n",
    "results6 = np.load(f'run/sim_results/sim_ag_raw_800_8_10_0.3.npy')[[0,1,2,3,5]]\n",
    "\n",
    "# compute bias\n",
    "bias1 = results1.mean(axis=0)[[0,1,2]] - np.array([ground_truth1['average'], ground_truth1['direct'], ground_truth1['spillover_effect']])\n",
    "bias2 = results3.mean(axis=0)[[0,1,2]] - np.array([ground_truth2['average'], ground_truth2['direct'], ground_truth2['spillover_effect']])\n",
    "bias3 = results5.mean(axis=0)[[0,1,2]] - np.array([ground_truth3['average'], ground_truth3['direct'], ground_truth3['spillover_effect']])\n",
    "\n",
    "bias1_indirect = results1.mean(axis=0)[3] - results2.mean(axis=0)[3] - np.array([ground_truth1['indirect']])\n",
    "bias2_indirect = results3.mean(axis=0)[3] - results4.mean(axis=0)[3] - np.array([ground_truth2['indirect']])\n",
    "bias3_indirect = results5.mean(axis=0)[3] - results6.mean(axis=0)[3] - np.array([ground_truth3['indirect']])\n",
    "bias1 = np.concatenate((bias1[:2], bias1_indirect, bias1[2:]))\n",
    "bias2 = np.concatenate((bias2[:2], bias2_indirect, bias2[2:]))\n",
    "bias3 = np.concatenate((bias3[:2], bias3_indirect, bias3[2:]))\n",
    "\n",
    "# compute mse\n",
    "mse1 = results1[:,[0,1,2]] - np.array([ground_truth1['average'], ground_truth1['direct'], ground_truth1['spillover_effect']])\n",
    "mse1 = np.mean(mse1**2, axis=0)\n",
    "mse2 = results3[:,[0,1,2]] - np.array([ground_truth2['average'], ground_truth2['direct'], ground_truth2['spillover_effect']])\n",
    "mse2 = np.mean(mse2**2, axis=0)\n",
    "mse3 = results5[:,[0,1,2]] - np.array([ground_truth3['average'], ground_truth3['direct'], ground_truth3['spillover_effect']])\n",
    "mse3 = np.mean(mse3**2, axis=0)\n",
    "mse1_indirect = results1[:,3] - results2[:,3] - np.array([ground_truth1['indirect']])\n",
    "mse1_indirect = np.array([np.mean(mse1_indirect**2, axis=0)])\n",
    "mse2_indirect = results3[:,3] - results4[:,3] - np.array([ground_truth2['indirect']])\n",
    "mse2_indirect =  np.array([np.mean(mse2_indirect**2, axis=0)])\n",
    "mse3_indirect = results5[:,3] - results6[:,3] - np.array([ground_truth3['indirect']])\n",
    "mse3_indirect =  np.array([np.mean(mse3_indirect**2, axis=0)])\n",
    "mse1 = np.concatenate((mse1[:2], mse1_indirect, mse1[2:]))\n",
    "mse2 = np.concatenate((mse2[:2], mse2_indirect, mse2[2:]))\n",
    "mse3 = np.concatenate((mse3[:2], mse3_indirect, mse3[2:]))\n",
    "\n",
    "# print results\n",
    "print('Bias:', bias1, 'MSE:', mse1)\n",
    "print('Bias:', bias2, 'MSE:', mse2)\n",
    "print('Bias:', bias3, 'MSE:', mse3)"
   ]
  },
  {
   "cell_type": "code",
   "execution_count": 16,
   "id": "9641d051",
   "metadata": {},
   "outputs": [
    {
     "data": {
      "text/plain": [
       "(array([0.018865]), array([0.00297638]))"
      ]
     },
     "execution_count": 16,
     "metadata": {},
     "output_type": "execute_result"
    }
   ],
   "source": [
    "bias1_indirect, mse1_indirect"
   ]
  },
  {
   "cell_type": "code",
   "execution_count": 20,
   "id": "f21b45f6",
   "metadata": {},
   "outputs": [
    {
     "name": "stdout",
     "output_type": "stream",
     "text": [
      "[ 0.277695 -0.15041  -0.085075] [ 0.215135 -0.093735 -0.21275 ] [ 0.12984  -0.07536  -0.212335]\n"
     ]
    }
   ],
   "source": [
    "print(\n",
    "    results1.mean(axis=0)[[0,1,2]],\n",
    "    results3.mean(axis=0)[[0,1,2]],\n",
    "    results5.mean(axis=0)[[0,1,2]]\n",
    ")"
   ]
  },
  {
   "cell_type": "code",
   "execution_count": 22,
   "id": "bd812ef7",
   "metadata": {},
   "outputs": [
    {
     "data": {
      "text/plain": [
       "{'average': 0.213325,\n",
       " 'direct': -0.13479999999999998,\n",
       " 'indirect': -0.148075,\n",
       " 'spillover_effect': -0.26945625000000006}"
      ]
     },
     "execution_count": 22,
     "metadata": {},
     "output_type": "execute_result"
    }
   ],
   "source": [
    "ground_truth2"
   ]
  },
  {
   "cell_type": "code",
   "execution_count": null,
   "id": "39e3b64e",
   "metadata": {},
   "outputs": [],
   "source": []
  }
 ],
 "metadata": {
  "kernelspec": {
   "display_name": "ljz",
   "language": "python",
   "name": "python3"
  },
  "language_info": {
   "codemirror_mode": {
    "name": "ipython",
    "version": 3
   },
   "file_extension": ".py",
   "mimetype": "text/x-python",
   "name": "python",
   "nbconvert_exporter": "python",
   "pygments_lexer": "ipython3",
   "version": "3.10.14"
  }
 },
 "nbformat": 4,
 "nbformat_minor": 5
}
