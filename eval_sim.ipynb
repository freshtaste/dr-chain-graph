{
 "cells": [
  {
   "cell_type": "code",
   "execution_count": 1,
   "id": "8fecb096",
   "metadata": {},
   "outputs": [],
   "source": [
    "import numpy as np\n",
    "from utils import *\n",
    "from utils import *\n",
    "from dgp import sample_network_chain, get_graph, sample_Y1, agcEffect\n",
    "import numpy as np\n",
    "\n",
    "\n",
    "def prepare(num_sample, num_burn, sample_size, n_cpu, min_degree, max_degree):\n",
    "    # 1. Simulate or load data\n",
    "    adj1 = get_graph(sample_size, min_degree, max_degree, seed=1)\n",
    "    print(adj1.sum(axis=1).min(), adj1.sum(axis=1).max())\n",
    "\n",
    "    tau = np.array([-1.0, 0.50, -0.50])       # shape (3,)\n",
    "    rho = np.array([[0,0.1,0.2],\n",
    "                    [0.1,0,0.1],\n",
    "                    [0.2,0.1,0]])      # shape (3, 3), with 0s on the diagonal\n",
    "    nu = np.array([0.1,0,0,0.1,0,0,0.1,0,0]).reshape(3,3)       # shape (3, 3)\n",
    "    gamma = np.array([-1,2,0.1,-2,0.1,2,0.1,0.1])    # shape (8,)   \n",
    "    beta = np.array([-1*min_degree,-2*min_degree,2,2,0.1,-1,0.1,2,0.1,0])   # shape (10,)\n",
    "\n",
    "    res_truth1 = agcEffect(\n",
    "        adj1,\n",
    "        tau, rho, nu, beta,\n",
    "        treatment_allocation=0.7,\n",
    "        R=100,\n",
    "        burnin_R=100,\n",
    "        seed=0\n",
    "    )\n",
    "    res_truth2 = agcEffect(\n",
    "        adj1,\n",
    "        tau, rho, nu, beta,\n",
    "        treatment_allocation=0.3,\n",
    "        R=100,\n",
    "        burnin_R=100,\n",
    "        seed=0\n",
    "    )\n",
    "\n",
    "    ground_truth1 = {}\n",
    "    ground_truth1['average'] = res_truth1['average']\n",
    "    ground_truth1['direct'] = res_truth1['direct_effect']\n",
    "    ground_truth1['indirect'] = res_truth1['psi_0_gamma'] - res_truth2['psi_0_gamma']\n",
    "    ground_truth1['spillover_effect'] = res_truth1['spillover_effect']\n",
    "    ground_truth1['psi_1_gamma'] = res_truth1['psi_1_gamma']\n",
    "    ground_truth1['psi_0_gamma'] = res_truth1['psi_0_gamma']\n",
    "    ground_truth1['psi_zero'] = res_truth1['psi_zero']\n",
    "\n",
    "    return adj1, None, None, None, ground_truth1\n",
    "\n",
    "num_sample = 300\n",
    "num_burn = 20\n",
    "n_cpu = 10"
   ]
  },
  {
   "cell_type": "code",
   "execution_count": null,
   "id": "05e9041b",
   "metadata": {},
   "outputs": [],
   "source": [
    "def get_results(min_degree, max_degree, sample_size):\n",
    "    adj1, _, _, _, ground_truth1 = prepare(num_sample, num_burn, sample_size, n_cpu, min_degree, max_degree)\n",
    "\n",
    "    res_sum = {}\n",
    "\n",
    "    for mispec in [None, 'outcome', 'treatment']:\n",
    "        for model in ['dr_em', 'dr', 'ag']:\n",
    "            print('Processing model:', model, 'with mispecification:', mispec, f'min_max_{min_degree}_{max_degree}')\n",
    "            if model == 'ag' and mispec == 'treatment':\n",
    "                continue\n",
    "            results1 = np.load(f'run/sim_results/sim_{model}_raw_{sample_size}_{min_degree}_{max_degree}_{0.7}_{mispec}.npy', allow_pickle=True)\n",
    "            results2 = np.load(f'run/sim_results/sim_{model}_raw_{sample_size}_{min_degree}_{max_degree}_{0.3}_{mispec}.npy', allow_pickle=True)\n",
    "\n",
    "            if model == 'ag':\n",
    "                res_ = compute_stats_ag(results1, results2, ground_truth1)\n",
    "            else:\n",
    "                res_ = compute_stats(results1, results2, ground_truth1, adj1)\n",
    "            res_sum[f'model[{model}]_samplesize[{sample_size}]_mdegree[{min_degree}]_maxdegree[{max_degree}_mispec[{mispec}]]'] = res_\n",
    "                \n",
    "            \n",
    "            # write res_ to a txt file by printing it out\n",
    "            with open(f'run/sim_txt_output/{min_degree}_{max_degree}_{sample_size}.txt', 'a') as f:\n",
    "                f.write(f'model[{model}]_samplesize[{sample_size}]_mdegree[{min_degree}]_maxdegree[{max_degree}_mispec[{mispec}]]\\n')\n",
    "                f.write(str(res_))\n",
    "                f.write('\\n')\n",
    "\n",
    "    return res_sum"
   ]
  },
  {
   "cell_type": "code",
   "execution_count": 3,
   "id": "7337dc29",
   "metadata": {},
   "outputs": [],
   "source": [
    "# (1,2) (2,5) (3, 10)"
   ]
  },
  {
   "cell_type": "code",
   "execution_count": 5,
   "id": "32cdb7d2",
   "metadata": {},
   "outputs": [
    {
     "name": "stdout",
     "output_type": "stream",
     "text": [
      "2 8\n",
      "Processing model: dr_em with mispecification: None min_max_2_8\n"
     ]
    },
    {
     "name": "stderr",
     "output_type": "stream",
     "text": [
      "100%|██████████| 2000/2000 [02:26<00:00, 13.67it/s]\n"
     ]
    },
    {
     "name": "stdout",
     "output_type": "stream",
     "text": [
      "Processing model: dr with mispecification: None min_max_2_8\n"
     ]
    },
    {
     "name": "stderr",
     "output_type": "stream",
     "text": [
      "100%|██████████| 2000/2000 [02:25<00:00, 13.78it/s]\n"
     ]
    },
    {
     "name": "stdout",
     "output_type": "stream",
     "text": [
      "Processing model: ag with mispecification: None min_max_2_8\n",
      "Processing model: dr_em with mispecification: outcome min_max_2_8\n"
     ]
    },
    {
     "name": "stderr",
     "output_type": "stream",
     "text": [
      "100%|██████████| 2000/2000 [02:23<00:00, 13.94it/s]\n"
     ]
    },
    {
     "name": "stdout",
     "output_type": "stream",
     "text": [
      "Processing model: dr with mispecification: outcome min_max_2_8\n"
     ]
    },
    {
     "name": "stderr",
     "output_type": "stream",
     "text": [
      "100%|██████████| 2000/2000 [02:25<00:00, 13.76it/s]\n"
     ]
    },
    {
     "name": "stdout",
     "output_type": "stream",
     "text": [
      "Processing model: ag with mispecification: outcome min_max_2_8\n",
      "Processing model: dr_em with mispecification: treatment min_max_2_8\n"
     ]
    },
    {
     "name": "stderr",
     "output_type": "stream",
     "text": [
      "100%|██████████| 2000/2000 [02:25<00:00, 13.74it/s]\n"
     ]
    },
    {
     "name": "stdout",
     "output_type": "stream",
     "text": [
      "Processing model: dr with mispecification: treatment min_max_2_8\n"
     ]
    },
    {
     "name": "stderr",
     "output_type": "stream",
     "text": [
      "100%|██████████| 2000/2000 [02:22<00:00, 14.04it/s]\n"
     ]
    },
    {
     "name": "stdout",
     "output_type": "stream",
     "text": [
      "Processing model: ag with mispecification: treatment min_max_2_8\n",
      "2 10\n",
      "Processing model: dr_em with mispecification: None min_max_2_10\n"
     ]
    },
    {
     "name": "stderr",
     "output_type": "stream",
     "text": [
      "100%|██████████| 2000/2000 [02:28<00:00, 13.47it/s]\n"
     ]
    },
    {
     "name": "stdout",
     "output_type": "stream",
     "text": [
      "Processing model: dr with mispecification: None min_max_2_10\n"
     ]
    },
    {
     "name": "stderr",
     "output_type": "stream",
     "text": [
      "100%|██████████| 2000/2000 [02:28<00:00, 13.46it/s]\n"
     ]
    },
    {
     "name": "stdout",
     "output_type": "stream",
     "text": [
      "Processing model: ag with mispecification: None min_max_2_10\n",
      "Processing model: dr_em with mispecification: outcome min_max_2_10\n"
     ]
    },
    {
     "name": "stderr",
     "output_type": "stream",
     "text": [
      "100%|██████████| 2000/2000 [02:32<00:00, 13.14it/s]\n"
     ]
    },
    {
     "name": "stdout",
     "output_type": "stream",
     "text": [
      "Processing model: dr with mispecification: outcome min_max_2_10\n"
     ]
    },
    {
     "name": "stderr",
     "output_type": "stream",
     "text": [
      "100%|██████████| 2000/2000 [02:29<00:00, 13.36it/s]\n"
     ]
    },
    {
     "name": "stdout",
     "output_type": "stream",
     "text": [
      "Processing model: ag with mispecification: outcome min_max_2_10\n",
      "Processing model: dr_em with mispecification: treatment min_max_2_10\n"
     ]
    },
    {
     "name": "stderr",
     "output_type": "stream",
     "text": [
      "100%|██████████| 2000/2000 [02:29<00:00, 13.41it/s]\n"
     ]
    },
    {
     "name": "stdout",
     "output_type": "stream",
     "text": [
      "Processing model: dr with mispecification: treatment min_max_2_10\n"
     ]
    },
    {
     "name": "stderr",
     "output_type": "stream",
     "text": [
      "100%|██████████| 2000/2000 [02:30<00:00, 13.30it/s]\n"
     ]
    },
    {
     "name": "stdout",
     "output_type": "stream",
     "text": [
      "Processing model: ag with mispecification: treatment min_max_2_10\n",
      "4 10\n",
      "Processing model: dr_em with mispecification: None min_max_4_10\n"
     ]
    },
    {
     "name": "stderr",
     "output_type": "stream",
     "text": [
      "100%|██████████| 2000/2000 [05:34<00:00,  5.99it/s]\n"
     ]
    },
    {
     "name": "stdout",
     "output_type": "stream",
     "text": [
      "Processing model: dr with mispecification: None min_max_4_10\n"
     ]
    },
    {
     "name": "stderr",
     "output_type": "stream",
     "text": [
      "100%|██████████| 2000/2000 [05:33<00:00,  5.99it/s]\n"
     ]
    },
    {
     "name": "stdout",
     "output_type": "stream",
     "text": [
      "Processing model: ag with mispecification: None min_max_4_10\n",
      "Processing model: dr_em with mispecification: outcome min_max_4_10\n"
     ]
    },
    {
     "name": "stderr",
     "output_type": "stream",
     "text": [
      "  6%|▋         | 127/2000 [00:21<05:16,  5.92it/s]/Users/ljzljz/Documents/DR/dr-chain-graph/drnet.py:323: RuntimeWarning: invalid value encountered in sqrt\n",
      "  se_hac = np.sqrt(hac_var)/np.sqrt(N)\n",
      "100%|██████████| 2000/2000 [05:34<00:00,  5.98it/s]\n"
     ]
    },
    {
     "name": "stdout",
     "output_type": "stream",
     "text": [
      "Processing model: dr with mispecification: outcome min_max_4_10\n"
     ]
    },
    {
     "name": "stderr",
     "output_type": "stream",
     "text": [
      "100%|██████████| 2000/2000 [05:34<00:00,  5.98it/s]\n"
     ]
    },
    {
     "name": "stdout",
     "output_type": "stream",
     "text": [
      "Processing model: ag with mispecification: outcome min_max_4_10\n",
      "Processing model: dr_em with mispecification: treatment min_max_4_10\n"
     ]
    },
    {
     "name": "stderr",
     "output_type": "stream",
     "text": [
      "100%|██████████| 2000/2000 [05:34<00:00,  5.98it/s]\n"
     ]
    },
    {
     "name": "stdout",
     "output_type": "stream",
     "text": [
      "Processing model: dr with mispecification: treatment min_max_4_10\n"
     ]
    },
    {
     "name": "stderr",
     "output_type": "stream",
     "text": [
      "100%|██████████| 2000/2000 [05:33<00:00,  5.99it/s]\n"
     ]
    },
    {
     "name": "stdout",
     "output_type": "stream",
     "text": [
      "Processing model: ag with mispecification: treatment min_max_4_10\n",
      "1 2\n",
      "Processing model: dr_em with mispecification: None min_max_1_2\n"
     ]
    },
    {
     "name": "stderr",
     "output_type": "stream",
     "text": [
      "100%|██████████| 2000/2000 [01:03<00:00, 31.58it/s]\n"
     ]
    },
    {
     "name": "stdout",
     "output_type": "stream",
     "text": [
      "Processing model: dr with mispecification: None min_max_1_2\n"
     ]
    },
    {
     "name": "stderr",
     "output_type": "stream",
     "text": [
      "100%|██████████| 2000/2000 [01:03<00:00, 31.58it/s]\n"
     ]
    },
    {
     "name": "stdout",
     "output_type": "stream",
     "text": [
      "Processing model: ag with mispecification: None min_max_1_2\n",
      "Processing model: dr_em with mispecification: outcome min_max_1_2\n"
     ]
    },
    {
     "name": "stderr",
     "output_type": "stream",
     "text": [
      "100%|██████████| 2000/2000 [01:03<00:00, 31.62it/s]\n"
     ]
    },
    {
     "name": "stdout",
     "output_type": "stream",
     "text": [
      "Processing model: dr with mispecification: outcome min_max_1_2\n"
     ]
    },
    {
     "name": "stderr",
     "output_type": "stream",
     "text": [
      "100%|██████████| 2000/2000 [01:03<00:00, 31.55it/s]\n"
     ]
    },
    {
     "name": "stdout",
     "output_type": "stream",
     "text": [
      "Processing model: ag with mispecification: outcome min_max_1_2\n",
      "Processing model: dr_em with mispecification: treatment min_max_1_2\n"
     ]
    },
    {
     "name": "stderr",
     "output_type": "stream",
     "text": [
      "100%|██████████| 2000/2000 [01:03<00:00, 31.47it/s]\n"
     ]
    },
    {
     "name": "stdout",
     "output_type": "stream",
     "text": [
      "Processing model: dr with mispecification: treatment min_max_1_2\n"
     ]
    },
    {
     "name": "stderr",
     "output_type": "stream",
     "text": [
      "100%|██████████| 2000/2000 [01:03<00:00, 31.43it/s]\n"
     ]
    },
    {
     "name": "stdout",
     "output_type": "stream",
     "text": [
      "Processing model: ag with mispecification: treatment min_max_1_2\n",
      "2 5\n",
      "Processing model: dr_em with mispecification: None min_max_2_5\n"
     ]
    },
    {
     "name": "stderr",
     "output_type": "stream",
     "text": [
      "100%|██████████| 2000/2000 [02:10<00:00, 15.30it/s]\n"
     ]
    },
    {
     "name": "stdout",
     "output_type": "stream",
     "text": [
      "Processing model: dr with mispecification: None min_max_2_5\n"
     ]
    },
    {
     "name": "stderr",
     "output_type": "stream",
     "text": [
      "100%|██████████| 2000/2000 [02:10<00:00, 15.27it/s]\n"
     ]
    },
    {
     "name": "stdout",
     "output_type": "stream",
     "text": [
      "Processing model: ag with mispecification: None min_max_2_5\n",
      "Processing model: dr_em with mispecification: outcome min_max_2_5\n"
     ]
    },
    {
     "name": "stderr",
     "output_type": "stream",
     "text": [
      "100%|██████████| 2000/2000 [02:10<00:00, 15.31it/s]\n"
     ]
    },
    {
     "name": "stdout",
     "output_type": "stream",
     "text": [
      "Processing model: dr with mispecification: outcome min_max_2_5\n"
     ]
    },
    {
     "name": "stderr",
     "output_type": "stream",
     "text": [
      "100%|██████████| 2000/2000 [02:10<00:00, 15.32it/s]\n"
     ]
    },
    {
     "name": "stdout",
     "output_type": "stream",
     "text": [
      "Processing model: ag with mispecification: outcome min_max_2_5\n",
      "Processing model: dr_em with mispecification: treatment min_max_2_5\n"
     ]
    },
    {
     "name": "stderr",
     "output_type": "stream",
     "text": [
      "100%|██████████| 2000/2000 [02:10<00:00, 15.30it/s]\n"
     ]
    },
    {
     "name": "stdout",
     "output_type": "stream",
     "text": [
      "Processing model: dr with mispecification: treatment min_max_2_5\n"
     ]
    },
    {
     "name": "stderr",
     "output_type": "stream",
     "text": [
      "100%|██████████| 2000/2000 [02:10<00:00, 15.28it/s]\n"
     ]
    },
    {
     "name": "stdout",
     "output_type": "stream",
     "text": [
      "Processing model: ag with mispecification: treatment min_max_2_5\n",
      "3 10\n",
      "Processing model: dr_em with mispecification: None min_max_3_10\n"
     ]
    },
    {
     "name": "stderr",
     "output_type": "stream",
     "text": [
      "100%|██████████| 2000/2000 [03:55<00:00,  8.49it/s]\n"
     ]
    },
    {
     "name": "stdout",
     "output_type": "stream",
     "text": [
      "Processing model: dr with mispecification: None min_max_3_10\n"
     ]
    },
    {
     "name": "stderr",
     "output_type": "stream",
     "text": [
      "100%|██████████| 2000/2000 [03:56<00:00,  8.47it/s]\n"
     ]
    },
    {
     "name": "stdout",
     "output_type": "stream",
     "text": [
      "Processing model: ag with mispecification: None min_max_3_10\n",
      "Processing model: dr_em with mispecification: outcome min_max_3_10\n"
     ]
    },
    {
     "name": "stderr",
     "output_type": "stream",
     "text": [
      "100%|██████████| 2000/2000 [03:55<00:00,  8.48it/s]\n"
     ]
    },
    {
     "name": "stdout",
     "output_type": "stream",
     "text": [
      "Processing model: dr with mispecification: outcome min_max_3_10\n"
     ]
    },
    {
     "name": "stderr",
     "output_type": "stream",
     "text": [
      "100%|██████████| 2000/2000 [03:55<00:00,  8.48it/s]\n"
     ]
    },
    {
     "name": "stdout",
     "output_type": "stream",
     "text": [
      "Processing model: ag with mispecification: outcome min_max_3_10\n",
      "Processing model: dr_em with mispecification: treatment min_max_3_10\n"
     ]
    },
    {
     "name": "stderr",
     "output_type": "stream",
     "text": [
      "100%|██████████| 2000/2000 [03:55<00:00,  8.51it/s]\n"
     ]
    },
    {
     "name": "stdout",
     "output_type": "stream",
     "text": [
      "Processing model: dr with mispecification: treatment min_max_3_10\n"
     ]
    },
    {
     "name": "stderr",
     "output_type": "stream",
     "text": [
      "100%|██████████| 2000/2000 [03:55<00:00,  8.49it/s]\n"
     ]
    },
    {
     "name": "stdout",
     "output_type": "stream",
     "text": [
      "Processing model: ag with mispecification: treatment min_max_3_10\n",
      "1 4\n",
      "Processing model: dr_em with mispecification: None min_max_1_4\n"
     ]
    },
    {
     "name": "stderr",
     "output_type": "stream",
     "text": [
      "100%|██████████| 2000/2000 [01:10<00:00, 28.46it/s]\n"
     ]
    },
    {
     "name": "stdout",
     "output_type": "stream",
     "text": [
      "Processing model: dr with mispecification: None min_max_1_4\n"
     ]
    },
    {
     "name": "stderr",
     "output_type": "stream",
     "text": [
      "100%|██████████| 2000/2000 [01:10<00:00, 28.39it/s]\n"
     ]
    },
    {
     "name": "stdout",
     "output_type": "stream",
     "text": [
      "Processing model: ag with mispecification: None min_max_1_4\n",
      "Processing model: dr_em with mispecification: outcome min_max_1_4\n"
     ]
    },
    {
     "name": "stderr",
     "output_type": "stream",
     "text": [
      "100%|██████████| 2000/2000 [01:10<00:00, 28.34it/s]\n"
     ]
    },
    {
     "name": "stdout",
     "output_type": "stream",
     "text": [
      "Processing model: dr with mispecification: outcome min_max_1_4\n"
     ]
    },
    {
     "name": "stderr",
     "output_type": "stream",
     "text": [
      "100%|██████████| 2000/2000 [01:09<00:00, 28.57it/s]\n"
     ]
    },
    {
     "name": "stdout",
     "output_type": "stream",
     "text": [
      "Processing model: ag with mispecification: outcome min_max_1_4\n",
      "Processing model: dr_em with mispecification: treatment min_max_1_4\n"
     ]
    },
    {
     "name": "stderr",
     "output_type": "stream",
     "text": [
      "100%|██████████| 2000/2000 [01:10<00:00, 28.47it/s]\n"
     ]
    },
    {
     "name": "stdout",
     "output_type": "stream",
     "text": [
      "Processing model: dr with mispecification: treatment min_max_1_4\n"
     ]
    },
    {
     "name": "stderr",
     "output_type": "stream",
     "text": [
      "100%|██████████| 2000/2000 [01:10<00:00, 28.31it/s]\n"
     ]
    },
    {
     "name": "stdout",
     "output_type": "stream",
     "text": [
      "Processing model: ag with mispecification: treatment min_max_1_4\n",
      "1 8\n",
      "Processing model: dr_em with mispecification: None min_max_1_8\n"
     ]
    },
    {
     "name": "stderr",
     "output_type": "stream",
     "text": [
      "100%|██████████| 2000/2000 [01:16<00:00, 26.04it/s]\n"
     ]
    },
    {
     "name": "stdout",
     "output_type": "stream",
     "text": [
      "Processing model: dr with mispecification: None min_max_1_8\n"
     ]
    },
    {
     "name": "stderr",
     "output_type": "stream",
     "text": [
      "100%|██████████| 2000/2000 [01:16<00:00, 26.05it/s]\n"
     ]
    },
    {
     "name": "stdout",
     "output_type": "stream",
     "text": [
      "Processing model: ag with mispecification: None min_max_1_8\n",
      "Processing model: dr_em with mispecification: outcome min_max_1_8\n"
     ]
    },
    {
     "name": "stderr",
     "output_type": "stream",
     "text": [
      "100%|██████████| 2000/2000 [01:16<00:00, 26.01it/s]\n"
     ]
    },
    {
     "name": "stdout",
     "output_type": "stream",
     "text": [
      "Processing model: dr with mispecification: outcome min_max_1_8\n"
     ]
    },
    {
     "name": "stderr",
     "output_type": "stream",
     "text": [
      "100%|██████████| 2000/2000 [01:16<00:00, 26.05it/s]\n"
     ]
    },
    {
     "name": "stdout",
     "output_type": "stream",
     "text": [
      "Processing model: ag with mispecification: outcome min_max_1_8\n",
      "Processing model: dr_em with mispecification: treatment min_max_1_8\n"
     ]
    },
    {
     "name": "stderr",
     "output_type": "stream",
     "text": [
      "100%|██████████| 2000/2000 [01:16<00:00, 26.07it/s]\n"
     ]
    },
    {
     "name": "stdout",
     "output_type": "stream",
     "text": [
      "Processing model: dr with mispecification: treatment min_max_1_8\n"
     ]
    },
    {
     "name": "stderr",
     "output_type": "stream",
     "text": [
      "100%|██████████| 2000/2000 [01:16<00:00, 26.01it/s]\n"
     ]
    },
    {
     "name": "stdout",
     "output_type": "stream",
     "text": [
      "Processing model: ag with mispecification: treatment min_max_1_8\n",
      "1 10\n",
      "Processing model: dr_em with mispecification: None min_max_1_10\n"
     ]
    },
    {
     "name": "stderr",
     "output_type": "stream",
     "text": [
      "100%|██████████| 2000/2000 [01:19<00:00, 25.29it/s]\n"
     ]
    },
    {
     "name": "stdout",
     "output_type": "stream",
     "text": [
      "Processing model: dr with mispecification: None min_max_1_10\n"
     ]
    },
    {
     "name": "stderr",
     "output_type": "stream",
     "text": [
      "100%|██████████| 2000/2000 [01:19<00:00, 25.28it/s]\n"
     ]
    },
    {
     "name": "stdout",
     "output_type": "stream",
     "text": [
      "Processing model: ag with mispecification: None min_max_1_10\n",
      "Processing model: dr_em with mispecification: outcome min_max_1_10\n"
     ]
    },
    {
     "name": "stderr",
     "output_type": "stream",
     "text": [
      "100%|██████████| 2000/2000 [01:20<00:00, 24.99it/s]\n"
     ]
    },
    {
     "name": "stdout",
     "output_type": "stream",
     "text": [
      "Processing model: dr with mispecification: outcome min_max_1_10\n"
     ]
    },
    {
     "name": "stderr",
     "output_type": "stream",
     "text": [
      "100%|██████████| 2000/2000 [01:19<00:00, 25.27it/s]\n"
     ]
    },
    {
     "name": "stdout",
     "output_type": "stream",
     "text": [
      "Processing model: ag with mispecification: outcome min_max_1_10\n",
      "Processing model: dr_em with mispecification: treatment min_max_1_10\n"
     ]
    },
    {
     "name": "stderr",
     "output_type": "stream",
     "text": [
      "100%|██████████| 2000/2000 [01:19<00:00, 25.19it/s]\n"
     ]
    },
    {
     "name": "stdout",
     "output_type": "stream",
     "text": [
      "Processing model: dr with mispecification: treatment min_max_1_10\n"
     ]
    },
    {
     "name": "stderr",
     "output_type": "stream",
     "text": [
      "100%|██████████| 2000/2000 [01:19<00:00, 25.23it/s]\n"
     ]
    },
    {
     "name": "stdout",
     "output_type": "stream",
     "text": [
      "Processing model: ag with mispecification: treatment min_max_1_10\n",
      "2 6\n",
      "Processing model: dr_em with mispecification: None min_max_2_6\n"
     ]
    },
    {
     "name": "stderr",
     "output_type": "stream",
     "text": [
      "100%|██████████| 2000/2000 [02:15<00:00, 14.78it/s]\n"
     ]
    },
    {
     "name": "stdout",
     "output_type": "stream",
     "text": [
      "Processing model: dr with mispecification: None min_max_2_6\n"
     ]
    },
    {
     "name": "stderr",
     "output_type": "stream",
     "text": [
      "100%|██████████| 2000/2000 [02:14<00:00, 14.82it/s]\n"
     ]
    },
    {
     "name": "stdout",
     "output_type": "stream",
     "text": [
      "Processing model: ag with mispecification: None min_max_2_6\n",
      "Processing model: dr_em with mispecification: outcome min_max_2_6\n"
     ]
    },
    {
     "name": "stderr",
     "output_type": "stream",
     "text": [
      "100%|██████████| 2000/2000 [02:15<00:00, 14.81it/s]\n"
     ]
    },
    {
     "name": "stdout",
     "output_type": "stream",
     "text": [
      "Processing model: dr with mispecification: outcome min_max_2_6\n"
     ]
    },
    {
     "name": "stderr",
     "output_type": "stream",
     "text": [
      "100%|██████████| 2000/2000 [02:15<00:00, 14.81it/s]\n"
     ]
    },
    {
     "name": "stdout",
     "output_type": "stream",
     "text": [
      "Processing model: ag with mispecification: outcome min_max_2_6\n",
      "Processing model: dr_em with mispecification: treatment min_max_2_6\n"
     ]
    },
    {
     "name": "stderr",
     "output_type": "stream",
     "text": [
      "100%|██████████| 2000/2000 [02:15<00:00, 14.80it/s]\n"
     ]
    },
    {
     "name": "stdout",
     "output_type": "stream",
     "text": [
      "Processing model: dr with mispecification: treatment min_max_2_6\n"
     ]
    },
    {
     "name": "stderr",
     "output_type": "stream",
     "text": [
      "100%|██████████| 2000/2000 [02:15<00:00, 14.76it/s]"
     ]
    },
    {
     "name": "stdout",
     "output_type": "stream",
     "text": [
      "Processing model: ag with mispecification: treatment min_max_2_6\n"
     ]
    },
    {
     "name": "stderr",
     "output_type": "stream",
     "text": [
      "\n"
     ]
    }
   ],
   "source": [
    "res_sum_all = {}\n",
    "sample_size = 800\n",
    "\n",
    "for min_degree, max_degree in [(2, 8), (2, 10),(4, 10),\n",
    "                               (1, 2), (2, 5), (3, 10),\n",
    "                               (1, 4), (1, 8), (1, 10),(2, 6)]:\n",
    "    res_sum = get_results(min_degree, max_degree, sample_size)\n",
    "    res_sum_all[(min_degree, max_degree)] = res_sum\n",
    "\n",
    "\n",
    "# Save the results to a file\n",
    "import pickle\n",
    "with open('run/sim_results_v2/res_sum_all.pkl', 'wb') as f:\n",
    "    pickle.dump(res_sum_all, f)"
   ]
  },
  {
   "cell_type": "code",
   "execution_count": null,
   "id": "79ab19b9",
   "metadata": {},
   "outputs": [],
   "source": []
  }
 ],
 "metadata": {
  "kernelspec": {
   "display_name": "ljz",
   "language": "python",
   "name": "python3"
  },
  "language_info": {
   "codemirror_mode": {
    "name": "ipython",
    "version": 3
   },
   "file_extension": ".py",
   "mimetype": "text/x-python",
   "name": "python",
   "nbconvert_exporter": "python",
   "pygments_lexer": "ipython3",
   "version": "3.10.14"
  }
 },
 "nbformat": 4,
 "nbformat_minor": 5
}
