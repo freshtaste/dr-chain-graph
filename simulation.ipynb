{
 "cells": [
  {
   "cell_type": "code",
   "execution_count": 1,
   "id": "bce68a0c",
   "metadata": {},
   "outputs": [
    {
     "name": "stderr",
     "output_type": "stream",
     "text": [
      "100%|██████████| 520/520 [00:16<00:00, 30.86it/s]\n"
     ]
    }
   ],
   "source": [
    "from dgp import *\n",
    "\n",
    "# 1. Simulate or load data\n",
    "sample_size = 800\n",
    "min_degree = 1\n",
    "max_degree = 2\n",
    "adj = get_graph(sample_size, min_degree, max_degree, seed=1)\n",
    "\n",
    "tau = np.array([-1.0, 0.50, -0.50])       # shape (3,)\n",
    "rho = np.array([[0,0.1,0.2],\n",
    "                [0.1,0,0.1],\n",
    "                [0.2,0.1,0]])      # shape (3, 3), with 0s on the diagonal\n",
    "nu = np.array([0.1,0,0,0.1,0,0,0.1,0,0]).reshape(3,3)       # shape (3, 3)\n",
    "gamma = np.array([-1.00,0.50,0.10,0.20,0.05,0.25,-0.08,0.30])     # shape (8,)\n",
    "beta = np.array([-0.30,-0.60,-0.20,-0.20,-0.05,-0.10,-0.01,0.40,0.01,0.20])     # shape (10,)\n",
    "\n",
    "Y_chain, A_chain, L_chain = sample_network_chain(adj, tau, rho, nu, gamma, beta, R=500,\n",
    "    burnin_R=20, seed=0)\n",
    "\n",
    "Y_chain = Y_chain[::5]\n",
    "A_chain = A_chain[::5]\n",
    "L_chain = L_chain[::5]"
   ]
  },
  {
   "cell_type": "code",
   "execution_count": 2,
   "id": "03eb4763",
   "metadata": {},
   "outputs": [],
   "source": [
    "n_cpu = 10"
   ]
  },
  {
   "cell_type": "code",
   "execution_count": 3,
   "id": "89086633",
   "metadata": {},
   "outputs": [
    {
     "data": {
      "text/plain": [
       "{'average': 0.31250625,\n",
       " 'direct_effect': -0.13918125000000003,\n",
       " 'spillover_effect': -0.056718749999999984,\n",
       " 'psi_1_gamma': 0.2701,\n",
       " 'psi_0_gamma': 0.40928125000000004,\n",
       " 'psi_zero': 0.466}"
      ]
     },
     "execution_count": 3,
     "metadata": {},
     "output_type": "execute_result"
    }
   ],
   "source": [
    "from agcEffect import *\n",
    "\n",
    "agc_effect(\n",
    "    adj,\n",
    "    tau, rho, nu, beta,\n",
    "    treatment_allocation=0.7,\n",
    "    R=200,\n",
    "    burnin_R=50,\n",
    "    seed=0\n",
    ")"
   ]
  },
  {
   "cell_type": "code",
   "execution_count": 4,
   "id": "442d291e",
   "metadata": {},
   "outputs": [
    {
     "name": "stdout",
     "output_type": "stream",
     "text": [
      "Multiprocessing <function run_dr at 0x1078da710> in 100 tasks, with 10 processes...\n",
      "Multiprocessing finished.\n"
     ]
    }
   ],
   "source": [
    "from utils import run_pll\n",
    "from run_pll import run_dr\n",
    "\n",
    "args = [{'Y_chain': Y_chain,\n",
    "         'A_chain': A_chain,\n",
    "         'L_chain': L_chain,\n",
    "         'adj': adj,\n",
    "         'i': i} for i in range(len(Y_chain))]\n",
    "\n",
    "res_list_dr = run_pll(run_dr, args, processes=n_cpu)\n",
    "res_list_array_dr = np.array(res_list_dr)\n",
    "# save results\n",
    "np.save(f'run/sim_results/sim_dr_{sample_size}_{min_degree}_{max_degree}.npy', res_list_array_dr)"
   ]
  },
  {
   "cell_type": "code",
   "execution_count": 5,
   "id": "9daec17b",
   "metadata": {},
   "outputs": [
    {
     "name": "stdout",
     "output_type": "stream",
     "text": [
      "average: 0.31626 ± 0.02406\n",
      "direct_effect: -0.13049 ± 0.04702\n",
      "spillover_effect: -0.04796 ± 0.04691\n",
      "psi_0_gamma: 0.40769 ± 0.03810\n",
      "psi_zero: 0.45565 ± 0.03289\n",
      "psi_1_gamma: 0.27720 ± 0.02915\n"
     ]
    }
   ],
   "source": [
    "from run_pll import column_names\n",
    "\n",
    "ret_mean_dr = res_list_array_dr.mean(axis=0)\n",
    "ret_std_dr = res_list_array_dr.std(axis=0)\n",
    "for i in range(len(column_names)):\n",
    "    print(f\"{column_names[i]}: {ret_mean_dr[i]:.5f} ± {ret_std_dr[i]:.5f}\")"
   ]
  },
  {
   "cell_type": "code",
   "execution_count": 6,
   "id": "e164aa21",
   "metadata": {},
   "outputs": [
    {
     "name": "stdout",
     "output_type": "stream",
     "text": [
      "Multiprocessing <function run_autognet at 0x125e50e50> in 100 tasks, with 10 processes...\n",
      "Multiprocessing finished.\n"
     ]
    }
   ],
   "source": [
    "from utils import run_pll\n",
    "from run_pll import run_autognet\n",
    "\n",
    "args = [{'Y_chain': Y_chain,\n",
    "         'A_chain': A_chain,\n",
    "         'L_chain': L_chain,\n",
    "         'adj': adj,\n",
    "         'i': i} for i in range(len(Y_chain))]\n",
    "\n",
    "res_list_ag = run_pll(run_autognet, args, processes=n_cpu)\n",
    "res_list_array_ag = np.array(res_list_ag)\n",
    "# save results\n",
    "np.save(f'run/sim_results/sim_autog_{sample_size}_{min_degree}_{max_degree}.npy', res_list_array_ag)"
   ]
  },
  {
   "cell_type": "code",
   "execution_count": 7,
   "id": "e316b6cb",
   "metadata": {},
   "outputs": [
    {
     "name": "stdout",
     "output_type": "stream",
     "text": [
      "average: 0.31462 ± 0.02268\n",
      "direct_effect: -0.13179 ± 0.03069\n",
      "spillover_effect: -0.04620 ± 0.02777\n",
      "psi_0_gamma: 0.41036 ± 0.02658\n",
      "psi_zero: 0.45657 ± 0.02849\n",
      "psi_1_gamma: 0.27857 ± 0.02617\n"
     ]
    }
   ],
   "source": [
    "from run_pll import column_names\n",
    "\n",
    "ret_mean_ag = res_list_array_ag.mean(axis=0)\n",
    "ret_std_ag = res_list_array_ag.std(axis=0)\n",
    "for i in range(len(column_names)):\n",
    "    print(f\"{column_names[i]}: {ret_mean_ag[i]:.5f} ± {ret_std_ag[i]:.5f}\")"
   ]
  },
  {
   "cell_type": "markdown",
   "id": "65d326cd",
   "metadata": {},
   "source": [
    "{'average': 0.31335625,\n",
    " 'direct_effect': -0.14082500000000003,\n",
    " 'spillover_effect': -0.05294999999999994,\n",
    " 'psi_1_gamma': 0.27003750000000004,\n",
    " 'psi_0_gamma': 0.4108625000000001,\n",
    " 'psi_zero': 0.4638125}\n",
    "\n",
    "average: 0.32660 ± 0.02391\n",
    "direct_effect: -0.12989 ± 0.04699\n",
    "spillover_effect: -0.02742 ± 0.04925\n",
    "psi_0_gamma: 0.41692 ± 0.03769\n",
    "psi_zero: 0.44434 ± 0.03434\n",
    "psi_1_gamma: 0.28703 ± 0.02902"
   ]
  },
  {
   "cell_type": "code",
   "execution_count": null,
   "id": "3ec2d75d",
   "metadata": {},
   "outputs": [
    {
     "data": {
      "text/plain": [
       "(100, 800)"
      ]
     },
     "execution_count": 5,
     "metadata": {},
     "output_type": "execute_result"
    }
   ],
   "source": [
    "A_chain.shape"
   ]
  },
  {
   "cell_type": "code",
   "execution_count": 3,
   "id": "4a58bb62",
   "metadata": {},
   "outputs": [
    {
     "name": "stdout",
     "output_type": "stream",
     "text": [
      "Multiprocessing <function run_ocnet at 0x127d41240> in 100 tasks, with 10 processes...\n",
      "Multiprocessing finished.\n"
     ]
    }
   ],
   "source": [
    "from utils import run_pll\n",
    "from run_pll import run_ocnet\n",
    "\n",
    "args = [{'Y_chain': Y_chain,\n",
    "         'A_chain': A_chain,\n",
    "         'L_chain': L_chain,\n",
    "         'adj': adj,\n",
    "         'i': i} for i in range(len(Y_chain))]\n",
    "\n",
    "res_list_ag = run_pll(run_ocnet, args, processes=n_cpu)\n",
    "res_list_array_ag = np.array(res_list_ag)\n",
    "# save results\n",
    "np.save(f'run/sim_results/sim_ocnet_{sample_size}_{min_degree}_{max_degree}.npy', res_list_array_ag)"
   ]
  },
  {
   "cell_type": "code",
   "execution_count": 4,
   "id": "526248d1",
   "metadata": {},
   "outputs": [
    {
     "name": "stdout",
     "output_type": "stream",
     "text": [
      "average: 0.31739 ± 0.02225\n",
      "direct_effect: -0.13131 ± 0.03095\n",
      "spillover_effect: -0.04718 ± 0.02643\n",
      "psi_0_gamma: 0.40929 ± 0.02706\n",
      "psi_zero: 0.45647 ± 0.02787\n",
      "psi_1_gamma: 0.27798 ± 0.02609\n"
     ]
    }
   ],
   "source": [
    "from run_pll import column_names\n",
    "\n",
    "ret_mean_ag = res_list_array_ag.mean(axis=0)\n",
    "ret_std_ag = res_list_array_ag.std(axis=0)\n",
    "for i in range(len(column_names)):\n",
    "    print(f\"{column_names[i]}: {ret_mean_ag[i]:.5f} ± {ret_std_ag[i]:.5f}\")"
   ]
  },
  {
   "cell_type": "code",
   "execution_count": 6,
   "id": "1547c219",
   "metadata": {},
   "outputs": [
    {
     "data": {
      "text/plain": [
       "(100, 6)"
      ]
     },
     "execution_count": 6,
     "metadata": {},
     "output_type": "execute_result"
    }
   ],
   "source": [
    "res_list_array_ag.shape"
   ]
  },
  {
   "cell_type": "code",
   "execution_count": null,
   "id": "19bc57a1",
   "metadata": {},
   "outputs": [],
   "source": []
  }
 ],
 "metadata": {
  "kernelspec": {
   "display_name": "ljz",
   "language": "python",
   "name": "python3"
  },
  "language_info": {
   "codemirror_mode": {
    "name": "ipython",
    "version": 3
   },
   "file_extension": ".py",
   "mimetype": "text/x-python",
   "name": "python",
   "nbconvert_exporter": "python",
   "pygments_lexer": "ipython3",
   "version": "3.10.14"
  }
 },
 "nbformat": 4,
 "nbformat_minor": 5
}
