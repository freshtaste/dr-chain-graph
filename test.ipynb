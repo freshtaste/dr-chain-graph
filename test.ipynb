{
 "cells": [
  {
   "cell_type": "code",
   "execution_count": 1,
   "id": "37e311ff",
   "metadata": {},
   "outputs": [
    {
     "name": "stderr",
     "output_type": "stream",
     "text": [
      "100%|██████████| 520/520 [01:49<00:00,  4.75it/s]\n"
     ]
    }
   ],
   "source": [
    "from dgp import *\n",
    "\n",
    "# 1. Simulate or load data\n",
    "adj = get_graph(2000, 1, 2, seed=1)\n",
    "\n",
    "tau = np.array([-1.0, 0.50, -0.50])       # shape (3,)\n",
    "rho = np.array([[0,0.1,0.2],\n",
    "                [0.1,0,0.1],\n",
    "                [0.2,0.1,0]])      # shape (3, 3), with 0s on the diagonal\n",
    "nu = np.array([0.1,0,0,0.1,0,0,0.1,0,0]).reshape(3,3)       # shape (3, 3)\n",
    "gamma = np.array([-1.00,0.50,0.10,0.20,0.05,0.25,-0.08,0.30])     # shape (8,)\n",
    "beta = np.array([-0.30,-0.60,-0.20,-0.20,-0.05,-0.10,-0.01,0.40,0.01,0.20])     # shape (10,)\n",
    "\n",
    "Y_chain, A_chain, L_chain = sample_network_chain(adj, tau, rho, nu, gamma, beta, R=500,\n",
    "    burnin_R=20, seed=0)\n",
    "\n",
    "Y_chain = Y_chain[::5]\n",
    "A_chain = A_chain[::5]\n",
    "L_chain = L_chain[::5]"
   ]
  },
  {
   "cell_type": "code",
   "execution_count": 2,
   "id": "3daba179",
   "metadata": {},
   "outputs": [
    {
     "data": {
      "text/plain": [
       "{'average': 0.31127250000000006,\n",
       " 'direct_effect': -0.14038250000000002,\n",
       " 'spillover_effect': -0.05325500000000005,\n",
       " 'psi_gamma': 0.31127250000000006,\n",
       " 'psi_1_gamma': 0.26905999999999997,\n",
       " 'psi_0_gamma': 0.4094425,\n",
       " 'psi_zero': 0.46269750000000004}"
      ]
     },
     "execution_count": 2,
     "metadata": {},
     "output_type": "execute_result"
    }
   ],
   "source": [
    "from agcEffect import *\n",
    "\n",
    "agc_effect(\n",
    "    adj,\n",
    "    tau, rho, nu, beta,\n",
    "    treatment_allocation=0.7,\n",
    "    R=200,\n",
    "    burnin_R=50,\n",
    "    seed=0\n",
    ")"
   ]
  },
  {
   "cell_type": "code",
   "execution_count": null,
   "id": "46ba5c2e",
   "metadata": {},
   "outputs": [
    {
     "name": "stderr",
     "output_type": "stream",
     "text": [
      "0it [00:00, ?it/s]"
     ]
    }
   ],
   "source": [
    "from autognet import evaluate_autognet_via_agc_effect\n",
    "\n",
    "ret = {\n",
    "    'average': [],\n",
    "    'direct_effect': [],\n",
    "    'spillover_effect': [],\n",
    "    'psi_0_gamma': [],\n",
    "    'psi_zero': []\n",
    "}\n",
    "for Y, A, L in tqdm(zip(Y_chain, A_chain, L_chain)):\n",
    "    ret_i = evaluate_autognet_via_agc_effect(adj, Y, A, L, treatment_allocation=0.7, R=50, burnin=10, seed=1)\n",
    "    ret['average'].append(ret_i['average'])\n",
    "    ret['direct_effect'].append(ret_i['direct_effect'])\n",
    "    ret['spillover_effect'].append(ret_i['spillover_effect'])\n",
    "    ret['psi_0_gamma'].append(ret_i['psi_0_gamma'])\n",
    "    ret['psi_zero'].append(ret_i['psi_zero'])\n",
    "    \n",
    "print('Average effect:', np.mean(ret['average']))\n",
    "print('Direct effect:', np.mean(ret['direct_effect']))\n",
    "print('Spillover effect:', np.mean(ret['spillover_effect']))\n",
    "print('Psi_0_gamma:', np.mean(ret['psi_0_gamma']))\n",
    "print('Psi_zero:', np.mean(ret['psi_zero']))"
   ]
  },
  {
   "cell_type": "code",
   "execution_count": null,
   "id": "b4a7c306",
   "metadata": {},
   "outputs": [],
   "source": []
  },
  {
   "cell_type": "markdown",
   "id": "1e5c092d",
   "metadata": {},
   "source": [
    "## Dense network"
   ]
  },
  {
   "cell_type": "code",
   "execution_count": null,
   "id": "7606762d",
   "metadata": {},
   "outputs": [],
   "source": [
    "from dgp import *\n",
    "\n",
    "# 1. Simulate or load data\n",
    "adj = get_graph(2000, 8, 10, seed=1)\n",
    "\n",
    "tau = np.array([-1.0, 0.50, -0.50])       # shape (3,)\n",
    "rho = np.array([[0,0.1,0.2],\n",
    "                [0.1,0,0.1],\n",
    "                [0.2,0.1,0]])      # shape (3, 3), with 0s on the diagonal\n",
    "nu = np.array([0.1,0,0,0.1,0,0,0.1,0,0]).reshape(3,3)       # shape (3, 3)\n",
    "gamma = np.array([-1.00,0.50,0.10,0.20,0.05,0.25,-0.08,0.30])     # shape (8,)\n",
    "beta = np.array([-0.30,-0.60,-0.20,-0.20,-0.05,-0.10,-0.01,0.40,0.01,0.20])     # shape (10,)\n",
    "\n",
    "Y_chain, A_chain, L_chain = sample_network_chain(adj, tau, rho, nu, gamma, beta, R=500,\n",
    "    burnin_R=20, seed=0)\n",
    "\n",
    "Y_chain = Y_chain[::5]\n",
    "A_chain = A_chain[::5]\n",
    "L_chain = L_chain[::5]"
   ]
  },
  {
   "cell_type": "code",
   "execution_count": null,
   "id": "275593fe",
   "metadata": {},
   "outputs": [],
   "source": [
    "from agcEffect import *\n",
    "\n",
    "agc_effect(\n",
    "    adj,\n",
    "    tau, rho, nu, beta,\n",
    "    treatment_allocation=0.7,\n",
    "    R=200,\n",
    "    burnin_R=50,\n",
    "    seed=0\n",
    ")"
   ]
  },
  {
   "cell_type": "code",
   "execution_count": null,
   "id": "8e800c39",
   "metadata": {},
   "outputs": [],
   "source": [
    "from drnet import doubly_robust\n",
    "\n",
    "ret = {\n",
    "    'average': [],\n",
    "    'direct_effect': [],\n",
    "    'spillover_effect': [],\n",
    "    'psi_0_gamma': [],\n",
    "    'psi_zero': []\n",
    "}\n",
    "\n",
    "for Y, A, L in tqdm(zip(Y_chain, A_chain, L_chain)):\n",
    "    ret_i = doubly_robust(A, L, Y, adj, treatment_allocation=0.7, num_rep=1000)\n",
    "    ret['average'].append(ret_i['average'])\n",
    "    ret['direct_effect'].append(ret_i['direct_effect'])\n",
    "    ret['spillover_effect'].append(ret_i['spillover_effect'])\n",
    "    ret['psi_0_gamma'].append(ret_i['psi_0_gamma'])\n",
    "    ret['psi_zero'].append(ret_i['psi_zero'])\n",
    "    \n",
    "print('Average effect:', np.mean(ret['average']))\n",
    "print('Direct effect:', np.mean(ret['direct_effect']))\n",
    "print('Spillover effect:', np.mean(ret['spillover_effect']))\n",
    "print('Psi_0_gamma:', np.mean(ret['psi_0_gamma']))\n",
    "print('Psi_zero:', np.mean(ret['psi_zero']))"
   ]
  },
  {
   "cell_type": "code",
   "execution_count": null,
   "id": "35782baa",
   "metadata": {},
   "outputs": [],
   "source": []
  }
 ],
 "metadata": {
  "kernelspec": {
   "display_name": "base",
   "language": "python",
   "name": "python3"
  },
  "language_info": {
   "codemirror_mode": {
    "name": "ipython",
    "version": 3
   },
   "file_extension": ".py",
   "mimetype": "text/x-python",
   "name": "python",
   "nbconvert_exporter": "python",
   "pygments_lexer": "ipython3",
   "version": "3.8.8"
  }
 },
 "nbformat": 4,
 "nbformat_minor": 5
}
