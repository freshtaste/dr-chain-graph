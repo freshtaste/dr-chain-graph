{
 "cells": [
  {
   "cell_type": "code",
   "execution_count": 3,
   "id": "37e311ff",
   "metadata": {},
   "outputs": [
    {
     "name": "stderr",
     "output_type": "stream",
     "text": [
      "100%|██████████| 520/520 [00:43<00:00, 12.07it/s]\n"
     ]
    }
   ],
   "source": [
    "from dgp import *\n",
    "\n",
    "# 1. Simulate or load data\n",
    "adj = get_graph(800, 1, 2, seed=1)\n",
    "\n",
    "tau = np.array([-1.0, 0.50, -0.50])       # shape (3,)\n",
    "rho = np.array([[0,0.1,0.2],\n",
    "                [0.1,0,0.1],\n",
    "                [0.2,0.1,0]])      # shape (3, 3), with 0s on the diagonal\n",
    "nu = np.array([0.1,0,0,0.1,0,0,0.1,0,0]).reshape(3,3)       # shape (3, 3)\n",
    "gamma = np.array([-1.00,0.50,0.10,0.20,0.05,0.25,-0.08,0.30])     # shape (8,)\n",
    "beta = np.array([-0.30,-0.60,-0.20,-0.20,-0.05,-0.10,-0.01,0.40,0.01,0.20])     # shape (10,)\n",
    "\n",
    "Y_chain, A_chain, L_chain = sample_network_chain(adj, tau, rho, nu, gamma, beta, R=500,\n",
    "    burnin_R=20, seed=0)\n",
    "\n",
    "Y_chain = Y_chain[::5]\n",
    "A_chain = A_chain[::5]\n",
    "L_chain = L_chain[::5]"
   ]
  },
  {
   "cell_type": "code",
   "execution_count": 4,
   "id": "3daba179",
   "metadata": {},
   "outputs": [
    {
     "data": {
      "text/plain": [
       "{'average': 0.31335625,\n",
       " 'direct_effect': -0.14082500000000003,\n",
       " 'spillover_effect': -0.05294999999999994,\n",
       " 'psi_gamma': 0.31335625,\n",
       " 'psi_1_gamma': 0.27003750000000004,\n",
       " 'psi_0_gamma': 0.4108625000000001,\n",
       " 'psi_zero': 0.4638125}"
      ]
     },
     "execution_count": 4,
     "metadata": {},
     "output_type": "execute_result"
    }
   ],
   "source": [
    "from agcEffect import *\n",
    "\n",
    "agc_effect(\n",
    "    adj,\n",
    "    tau, rho, nu, beta,\n",
    "    treatment_allocation=0.7,\n",
    "    R=200,\n",
    "    burnin_R=50,\n",
    "    seed=0\n",
    ")"
   ]
  },
  {
   "cell_type": "code",
   "execution_count": null,
   "id": "a3971dd4",
   "metadata": {},
   "outputs": [
    {
     "name": "stdout",
     "output_type": "stream",
     "text": [
      "Multiprocessing <function run_dr at 0x7ff00a690b80> in 8 tasks, with 4 processes...\n"
     ]
    }
   ],
   "source": [
    "from utils import run_pll\n",
    "from drnet import doubly_robust\n",
    "\n",
    "def run_dr(A_chain, L_chain, Y_chain, adj, i):\n",
    "    \"\"\"\n",
    "    Run doubly robust estimator\n",
    "    \"\"\"\n",
    "    ret_i = doubly_robust(A_chain[i], L_chain[i], Y_chain[i], adj)\n",
    "    \n",
    "    return (ret_i['average'], ret_i['direct_effect'], ['spillover_effect'], \n",
    "            ret_i['psi_0_gamma'], ret_i['psi_zero'], ret_i['psi_1_gamma'], ret_i['psi_zero'])\n",
    "\n",
    "args = [{'Y_chain': Y_chain[i],\n",
    "         'A_chain': A_chain[i],\n",
    "         'L_chain': L_chain[i],\n",
    "         'adj': adj,\n",
    "         'i': i} for i in range(len(Y_chain[:8]))]\n",
    "n_cpu = 4\n",
    "res_list = run_pll(run_dr, args, processes=n_cpu)"
   ]
  },
  {
   "cell_type": "code",
   "execution_count": null,
   "id": "aca3e92f",
   "metadata": {},
   "outputs": [
    {
     "data": {
      "text/plain": [
       "[]"
      ]
     },
     "execution_count": 6,
     "metadata": {},
     "output_type": "execute_result"
    }
   ],
   "source": [
    "res_list"
   ]
  },
  {
   "cell_type": "code",
   "execution_count": null,
   "id": "794c9558",
   "metadata": {},
   "outputs": [
    {
     "name": "stderr",
     "output_type": "stream",
     "text": [
      "1it [01:54, 114.73s/it]"
     ]
    },
    {
     "name": "stdout",
     "output_type": "stream",
     "text": [
      "psi_zero: [0.45084564742574423]\n",
      "beta_hat: 0.453273978421918\n",
      "psi_0_gamma: 0.4046804633460057\n"
     ]
    },
    {
     "name": "stderr",
     "output_type": "stream",
     "text": [
      "2it [03:44, 112.00s/it]"
     ]
    },
    {
     "name": "stdout",
     "output_type": "stream",
     "text": [
      "psi_zero: [0.4290952999162929]\n",
      "beta_hat: 0.43190406753580407\n",
      "psi_0_gamma: 0.3766375705823807\n"
     ]
    },
    {
     "name": "stderr",
     "output_type": "stream",
     "text": [
      "3it [05:41, 114.18s/it]"
     ]
    },
    {
     "name": "stdout",
     "output_type": "stream",
     "text": [
      "psi_zero: [0.4857458435202353]\n",
      "beta_hat: 0.47827327193269864\n",
      "psi_0_gamma: 0.45077791077249063\n"
     ]
    },
    {
     "name": "stderr",
     "output_type": "stream",
     "text": [
      "4it [07:55, 121.83s/it]"
     ]
    },
    {
     "name": "stdout",
     "output_type": "stream",
     "text": [
      "psi_zero: [0.4664681177393601]\n",
      "beta_hat: 0.452280721591699\n",
      "psi_0_gamma: 0.41861904617328866\n"
     ]
    },
    {
     "name": "stderr",
     "output_type": "stream",
     "text": [
      "5it [10:14, 128.17s/it]"
     ]
    },
    {
     "name": "stdout",
     "output_type": "stream",
     "text": [
      "psi_zero: [0.46151167371192625]\n",
      "beta_hat: 0.46444071710847257\n",
      "psi_0_gamma: 0.4174878894803587\n"
     ]
    },
    {
     "name": "stderr",
     "output_type": "stream",
     "text": [
      "6it [12:53, 138.59s/it]"
     ]
    },
    {
     "name": "stdout",
     "output_type": "stream",
     "text": [
      "psi_zero: [0.4564666741957245]\n",
      "beta_hat: 0.45011110210325345\n",
      "psi_0_gamma: 0.42912637865636793\n"
     ]
    },
    {
     "name": "stderr",
     "output_type": "stream",
     "text": [
      "7it [15:31, 145.01s/it]"
     ]
    },
    {
     "name": "stdout",
     "output_type": "stream",
     "text": [
      "psi_zero: [0.4232504324638668]\n",
      "beta_hat: 0.41365948285118637\n",
      "psi_0_gamma: 0.42055942603868357\n"
     ]
    },
    {
     "name": "stderr",
     "output_type": "stream",
     "text": [
      "8it [18:13, 150.23s/it]"
     ]
    },
    {
     "name": "stdout",
     "output_type": "stream",
     "text": [
      "psi_zero: [0.4505466526276214]\n",
      "beta_hat: 0.46480031871104277\n",
      "psi_0_gamma: 0.4199200623169077\n"
     ]
    },
    {
     "name": "stderr",
     "output_type": "stream",
     "text": [
      "9it [20:44, 150.75s/it]"
     ]
    },
    {
     "name": "stdout",
     "output_type": "stream",
     "text": [
      "psi_zero: [0.4272603324023929]\n",
      "beta_hat: 0.42719041247401696\n",
      "psi_0_gamma: 0.3958046216277533\n"
     ]
    },
    {
     "name": "stderr",
     "output_type": "stream",
     "text": [
      "10it [23:13, 150.18s/it]"
     ]
    },
    {
     "name": "stdout",
     "output_type": "stream",
     "text": [
      "psi_zero: [0.4776948104621721]\n",
      "beta_hat: 0.483559791604976\n",
      "psi_0_gamma: 0.4457032530118827\n"
     ]
    },
    {
     "name": "stderr",
     "output_type": "stream",
     "text": [
      "11it [25:43, 150.07s/it]"
     ]
    },
    {
     "name": "stdout",
     "output_type": "stream",
     "text": [
      "psi_zero: [0.4739881151488587]\n",
      "beta_hat: 0.4555310334279641\n",
      "psi_0_gamma: 0.44335959226591115\n"
     ]
    },
    {
     "name": "stderr",
     "output_type": "stream",
     "text": [
      "12it [28:15, 150.51s/it]"
     ]
    },
    {
     "name": "stdout",
     "output_type": "stream",
     "text": [
      "psi_zero: [0.4693380317547933]\n",
      "beta_hat: 0.44630382817162423\n",
      "psi_0_gamma: 0.4246510294233856\n"
     ]
    },
    {
     "name": "stderr",
     "output_type": "stream",
     "text": [
      "13it [30:39, 148.53s/it]"
     ]
    },
    {
     "name": "stdout",
     "output_type": "stream",
     "text": [
      "psi_zero: [0.3843635458426358]\n",
      "beta_hat: 0.4096221613938684\n",
      "psi_0_gamma: 0.46952970728497523\n"
     ]
    },
    {
     "name": "stderr",
     "output_type": "stream",
     "text": [
      "14it [33:06, 148.18s/it]"
     ]
    },
    {
     "name": "stdout",
     "output_type": "stream",
     "text": [
      "psi_zero: [0.4560848680828684]\n",
      "beta_hat: 0.4586504109905205\n",
      "psi_0_gamma: 0.4149161128604498\n"
     ]
    },
    {
     "name": "stderr",
     "output_type": "stream",
     "text": [
      "15it [35:35, 148.49s/it]"
     ]
    },
    {
     "name": "stdout",
     "output_type": "stream",
     "text": [
      "psi_zero: [0.46148292505416466]\n",
      "beta_hat: 0.432234092982577\n",
      "psi_0_gamma: 0.4170975187663415\n"
     ]
    },
    {
     "name": "stderr",
     "output_type": "stream",
     "text": [
      "16it [38:04, 148.55s/it]"
     ]
    },
    {
     "name": "stdout",
     "output_type": "stream",
     "text": [
      "psi_zero: [0.49288175412240914]\n",
      "beta_hat: 0.4811265323204155\n",
      "psi_0_gamma: 0.39926154883954873\n"
     ]
    },
    {
     "name": "stderr",
     "output_type": "stream",
     "text": [
      "17it [40:35, 149.45s/it]"
     ]
    },
    {
     "name": "stdout",
     "output_type": "stream",
     "text": [
      "psi_zero: [0.43580465426229054]\n",
      "beta_hat: 0.4473720270371516\n",
      "psi_0_gamma: 0.4206298528784035\n"
     ]
    },
    {
     "name": "stderr",
     "output_type": "stream",
     "text": [
      "18it [43:00, 147.94s/it]"
     ]
    },
    {
     "name": "stdout",
     "output_type": "stream",
     "text": [
      "psi_zero: [0.4202275612808009]\n",
      "beta_hat: 0.4225864556411947\n",
      "psi_0_gamma: 0.39377242963389064\n"
     ]
    },
    {
     "name": "stderr",
     "output_type": "stream",
     "text": [
      "19it [45:10, 142.44s/it]"
     ]
    },
    {
     "name": "stdout",
     "output_type": "stream",
     "text": [
      "psi_zero: [0.4656747401095405]\n",
      "beta_hat: 0.4595765595641198\n",
      "psi_0_gamma: 0.39911567652808816\n"
     ]
    },
    {
     "name": "stderr",
     "output_type": "stream",
     "text": [
      "20it [47:13, 136.71s/it]"
     ]
    },
    {
     "name": "stdout",
     "output_type": "stream",
     "text": [
      "psi_zero: [0.4813171930320268]\n",
      "beta_hat: 0.47919982924201454\n",
      "psi_0_gamma: 0.43645250547156667\n"
     ]
    },
    {
     "name": "stderr",
     "output_type": "stream",
     "text": [
      "21it [49:14, 132.05s/it]"
     ]
    },
    {
     "name": "stdout",
     "output_type": "stream",
     "text": [
      "psi_zero: [0.41740672368100123]\n",
      "beta_hat: 0.44926128213598754\n",
      "psi_0_gamma: 0.44153427147936386\n"
     ]
    },
    {
     "name": "stderr",
     "output_type": "stream",
     "text": [
      "22it [51:14, 128.54s/it]"
     ]
    },
    {
     "name": "stdout",
     "output_type": "stream",
     "text": [
      "psi_zero: [0.45340173373345577]\n",
      "beta_hat: 0.44889057675862226\n",
      "psi_0_gamma: 0.4097426733830572\n"
     ]
    },
    {
     "name": "stderr",
     "output_type": "stream",
     "text": [
      "23it [53:14, 126.00s/it]"
     ]
    },
    {
     "name": "stdout",
     "output_type": "stream",
     "text": [
      "psi_zero: [0.44584711020241374]\n",
      "beta_hat: 0.4391834396505634\n",
      "psi_0_gamma: 0.4326254883963872\n"
     ]
    },
    {
     "name": "stderr",
     "output_type": "stream",
     "text": [
      "24it [55:18, 125.26s/it]"
     ]
    },
    {
     "name": "stdout",
     "output_type": "stream",
     "text": [
      "psi_zero: [0.4558303589122855]\n",
      "beta_hat: 0.4373966657404244\n",
      "psi_0_gamma: 0.39069840092693264\n"
     ]
    },
    {
     "name": "stderr",
     "output_type": "stream",
     "text": [
      "25it [57:19, 124.12s/it]"
     ]
    },
    {
     "name": "stdout",
     "output_type": "stream",
     "text": [
      "psi_zero: [0.4320564873943663]\n",
      "beta_hat: 0.4373674821442149\n",
      "psi_0_gamma: 0.4077686186532436\n"
     ]
    },
    {
     "name": "stderr",
     "output_type": "stream",
     "text": [
      "26it [59:21, 123.39s/it]"
     ]
    },
    {
     "name": "stdout",
     "output_type": "stream",
     "text": [
      "psi_zero: [0.4773028316174347]\n",
      "beta_hat: 0.466380420175488\n",
      "psi_0_gamma: 0.44113460631610785\n"
     ]
    },
    {
     "name": "stderr",
     "output_type": "stream",
     "text": [
      "27it [1:01:24, 123.36s/it]"
     ]
    },
    {
     "name": "stdout",
     "output_type": "stream",
     "text": [
      "psi_zero: [0.461690467656831]\n",
      "beta_hat: 0.4445603344196135\n",
      "psi_0_gamma: 0.4248314938158638\n"
     ]
    },
    {
     "name": "stderr",
     "output_type": "stream",
     "text": [
      "28it [1:03:37, 126.19s/it]"
     ]
    },
    {
     "name": "stdout",
     "output_type": "stream",
     "text": [
      "psi_zero: [0.44900234698148594]\n",
      "beta_hat: 0.4432414189705108\n",
      "psi_0_gamma: 0.4096961612408942\n"
     ]
    },
    {
     "name": "stderr",
     "output_type": "stream",
     "text": [
      "29it [1:05:59, 130.92s/it]"
     ]
    },
    {
     "name": "stdout",
     "output_type": "stream",
     "text": [
      "psi_zero: [0.4073493804478042]\n",
      "beta_hat: 0.4179952981891654\n",
      "psi_0_gamma: 0.40800496673494774\n"
     ]
    },
    {
     "name": "stderr",
     "output_type": "stream",
     "text": [
      "30it [1:08:21, 134.13s/it]"
     ]
    },
    {
     "name": "stdout",
     "output_type": "stream",
     "text": [
      "psi_zero: [0.45687380052619486]\n",
      "beta_hat: 0.45718322641830306\n",
      "psi_0_gamma: 0.42127037025925984\n"
     ]
    },
    {
     "name": "stderr",
     "output_type": "stream",
     "text": [
      "31it [1:11:36, 152.41s/it]"
     ]
    },
    {
     "name": "stdout",
     "output_type": "stream",
     "text": [
      "psi_zero: [0.4793221751055943]\n",
      "beta_hat: 0.4924328250941684\n",
      "psi_0_gamma: 0.4269258360292131\n"
     ]
    },
    {
     "name": "stderr",
     "output_type": "stream",
     "text": [
      "32it [1:14:36, 160.63s/it]"
     ]
    },
    {
     "name": "stdout",
     "output_type": "stream",
     "text": [
      "psi_zero: [0.3948085665062849]\n",
      "beta_hat: 0.42301542009410376\n",
      "psi_0_gamma: 0.3982184355844417\n"
     ]
    },
    {
     "name": "stderr",
     "output_type": "stream",
     "text": [
      "33it [1:17:21, 162.12s/it]"
     ]
    },
    {
     "name": "stdout",
     "output_type": "stream",
     "text": [
      "psi_zero: [0.44074402799266377]\n",
      "beta_hat: 0.4399830991903118\n",
      "psi_0_gamma: 0.4363184077516178\n"
     ]
    },
    {
     "name": "stderr",
     "output_type": "stream",
     "text": [
      "34it [1:20:14, 165.20s/it]"
     ]
    },
    {
     "name": "stdout",
     "output_type": "stream",
     "text": [
      "psi_zero: [0.39428629976504437]\n",
      "beta_hat: 0.4048735351467295\n",
      "psi_0_gamma: 0.40571814416566815\n"
     ]
    },
    {
     "name": "stderr",
     "output_type": "stream",
     "text": [
      "35it [1:22:53, 163.48s/it]"
     ]
    },
    {
     "name": "stdout",
     "output_type": "stream",
     "text": [
      "psi_zero: [0.40646778593641353]\n",
      "beta_hat: 0.42363657807435573\n",
      "psi_0_gamma: 0.4331448777483452\n"
     ]
    },
    {
     "name": "stderr",
     "output_type": "stream",
     "text": [
      "36it [1:25:39, 164.20s/it]"
     ]
    },
    {
     "name": "stdout",
     "output_type": "stream",
     "text": [
      "psi_zero: [0.460427697203892]\n",
      "beta_hat: 0.46180241940865674\n",
      "psi_0_gamma: 0.4124729516118059\n"
     ]
    },
    {
     "name": "stderr",
     "output_type": "stream",
     "text": [
      "37it [1:28:18, 162.74s/it]"
     ]
    },
    {
     "name": "stdout",
     "output_type": "stream",
     "text": [
      "psi_zero: [0.44124492405859816]\n",
      "beta_hat: 0.45230150528319657\n",
      "psi_0_gamma: 0.46111099747518575\n"
     ]
    },
    {
     "name": "stderr",
     "output_type": "stream",
     "text": [
      "37it [1:29:56, 145.84s/it]\n"
     ]
    },
    {
     "ename": "KeyboardInterrupt",
     "evalue": "",
     "output_type": "error",
     "traceback": [
      "\u001b[0;31m---------------------------------------------------------------------------\u001b[0m",
      "\u001b[0;31mKeyboardInterrupt\u001b[0m                         Traceback (most recent call last)",
      "\u001b[0;32m<ipython-input-3-fc08a343e3fc>\u001b[0m in \u001b[0;36m<module>\u001b[0;34m\u001b[0m\n\u001b[1;32m     10\u001b[0m \u001b[0;34m\u001b[0m\u001b[0m\n\u001b[1;32m     11\u001b[0m \u001b[0;32mfor\u001b[0m \u001b[0mY\u001b[0m\u001b[0;34m,\u001b[0m \u001b[0mA\u001b[0m\u001b[0;34m,\u001b[0m \u001b[0mL\u001b[0m \u001b[0;32min\u001b[0m \u001b[0mtqdm\u001b[0m\u001b[0;34m(\u001b[0m\u001b[0mzip\u001b[0m\u001b[0;34m(\u001b[0m\u001b[0mY_chain\u001b[0m\u001b[0;34m,\u001b[0m \u001b[0mA_chain\u001b[0m\u001b[0;34m,\u001b[0m \u001b[0mL_chain\u001b[0m\u001b[0;34m)\u001b[0m\u001b[0;34m)\u001b[0m\u001b[0;34m:\u001b[0m\u001b[0;34m\u001b[0m\u001b[0;34m\u001b[0m\u001b[0m\n\u001b[0;32m---> 12\u001b[0;31m     \u001b[0mret_i\u001b[0m \u001b[0;34m=\u001b[0m \u001b[0mdoubly_robust\u001b[0m\u001b[0;34m(\u001b[0m\u001b[0mA\u001b[0m\u001b[0;34m,\u001b[0m \u001b[0mL\u001b[0m\u001b[0;34m,\u001b[0m \u001b[0mY\u001b[0m\u001b[0;34m,\u001b[0m \u001b[0madj\u001b[0m\u001b[0;34m,\u001b[0m \u001b[0mtreatment_allocation\u001b[0m\u001b[0;34m=\u001b[0m\u001b[0;36m0.7\u001b[0m\u001b[0;34m,\u001b[0m \u001b[0mnum_rep\u001b[0m\u001b[0;34m=\u001b[0m\u001b[0;36m1000\u001b[0m\u001b[0;34m)\u001b[0m\u001b[0;34m\u001b[0m\u001b[0;34m\u001b[0m\u001b[0m\n\u001b[0m\u001b[1;32m     13\u001b[0m     \u001b[0mret\u001b[0m\u001b[0;34m[\u001b[0m\u001b[0;34m'average'\u001b[0m\u001b[0;34m]\u001b[0m\u001b[0;34m.\u001b[0m\u001b[0mappend\u001b[0m\u001b[0;34m(\u001b[0m\u001b[0mret_i\u001b[0m\u001b[0;34m[\u001b[0m\u001b[0;34m'average'\u001b[0m\u001b[0;34m]\u001b[0m\u001b[0;34m)\u001b[0m\u001b[0;34m\u001b[0m\u001b[0;34m\u001b[0m\u001b[0m\n\u001b[1;32m     14\u001b[0m     \u001b[0mret\u001b[0m\u001b[0;34m[\u001b[0m\u001b[0;34m'direct_effect'\u001b[0m\u001b[0;34m]\u001b[0m\u001b[0;34m.\u001b[0m\u001b[0mappend\u001b[0m\u001b[0;34m(\u001b[0m\u001b[0mret_i\u001b[0m\u001b[0;34m[\u001b[0m\u001b[0;34m'direct_effect'\u001b[0m\u001b[0;34m]\u001b[0m\u001b[0;34m)\u001b[0m\u001b[0;34m\u001b[0m\u001b[0;34m\u001b[0m\u001b[0m\n",
      "\u001b[0;32m~/Desktop/causal inference/dr-chain-graph/dr-chain-graph/drnet.py\u001b[0m in \u001b[0;36mdoubly_robust\u001b[0;34m(A, L, Y, adj_matrix, treatment_allocation, num_rep)\u001b[0m\n\u001b[1;32m    173\u001b[0m     \u001b[0mpsi_1_gamma\u001b[0m \u001b[0;34m=\u001b[0m \u001b[0;34m[\u001b[0m\u001b[0;34m]\u001b[0m\u001b[0;34m\u001b[0m\u001b[0;34m\u001b[0m\u001b[0m\n\u001b[1;32m    174\u001b[0m     \u001b[0;32mfor\u001b[0m \u001b[0mi\u001b[0m \u001b[0;32min\u001b[0m \u001b[0mrange\u001b[0m\u001b[0;34m(\u001b[0m\u001b[0mnum_rep\u001b[0m\u001b[0;34m)\u001b[0m\u001b[0;34m:\u001b[0m\u001b[0;34m\u001b[0m\u001b[0;34m\u001b[0m\u001b[0m\n\u001b[0;32m--> 175\u001b[0;31m         \u001b[0mX_y_eval\u001b[0m \u001b[0;34m=\u001b[0m \u001b[0mbuild_design_matrix_Y\u001b[0m\u001b[0;34m(\u001b[0m\u001b[0ma_mat\u001b[0m\u001b[0;34m[\u001b[0m\u001b[0;34m:\u001b[0m\u001b[0;34m,\u001b[0m\u001b[0mi\u001b[0m\u001b[0;34m]\u001b[0m\u001b[0;34m,\u001b[0m \u001b[0mL\u001b[0m\u001b[0;34m,\u001b[0m \u001b[0mY\u001b[0m\u001b[0;34m,\u001b[0m \u001b[0madj_matrix\u001b[0m\u001b[0;34m)\u001b[0m\u001b[0;34m\u001b[0m\u001b[0;34m\u001b[0m\u001b[0m\n\u001b[0m\u001b[1;32m    176\u001b[0m         \u001b[0mbeta_hat\u001b[0m \u001b[0;34m=\u001b[0m \u001b[0mcompute_beta_probs\u001b[0m\u001b[0;34m(\u001b[0m\u001b[0mX_y_eval\u001b[0m\u001b[0;34m,\u001b[0m \u001b[0mmodel_y\u001b[0m\u001b[0;34m,\u001b[0m \u001b[0mAtype\u001b[0m\u001b[0;34m=\u001b[0m\u001b[0;34m'ind_treat_1'\u001b[0m\u001b[0;34m)\u001b[0m\u001b[0;34m\u001b[0m\u001b[0;34m\u001b[0m\u001b[0m\n\u001b[1;32m    177\u001b[0m         \u001b[0mpsi\u001b[0m \u001b[0;34m=\u001b[0m \u001b[0mbeta_hat\u001b[0m \u001b[0;34m+\u001b[0m \u001b[0mI\u001b[0m\u001b[0;34m[\u001b[0m\u001b[0;34m:\u001b[0m\u001b[0;34m,\u001b[0m\u001b[0mi\u001b[0m\u001b[0;34m]\u001b[0m \u001b[0;34m/\u001b[0m \u001b[0mpi_1_vec\u001b[0m\u001b[0;34m[\u001b[0m\u001b[0;34m:\u001b[0m\u001b[0;34m,\u001b[0m \u001b[0mi\u001b[0m\u001b[0;34m]\u001b[0m \u001b[0;34m*\u001b[0m \u001b[0;34m(\u001b[0m\u001b[0mY\u001b[0m \u001b[0;34m-\u001b[0m \u001b[0mbeta_hat\u001b[0m\u001b[0;34m)\u001b[0m\u001b[0;34m\u001b[0m\u001b[0;34m\u001b[0m\u001b[0m\n",
      "\u001b[0;32m~/Desktop/causal inference/dr-chain-graph/dr-chain-graph/drnet.py\u001b[0m in \u001b[0;36mbuild_design_matrix_Y\u001b[0;34m(A, L, Y, adj_matrix)\u001b[0m\n\u001b[1;32m     16\u001b[0m     \u001b[0mA_nb\u001b[0m \u001b[0;34m=\u001b[0m \u001b[0mget_neighbor_summary\u001b[0m\u001b[0;34m(\u001b[0m\u001b[0mA\u001b[0m\u001b[0;34m.\u001b[0m\u001b[0mreshape\u001b[0m\u001b[0;34m(\u001b[0m\u001b[0;34m-\u001b[0m\u001b[0;36m1\u001b[0m\u001b[0;34m,\u001b[0m \u001b[0;36m1\u001b[0m\u001b[0;34m)\u001b[0m\u001b[0;34m,\u001b[0m \u001b[0madj_matrix\u001b[0m\u001b[0;34m)\u001b[0m\u001b[0;34m.\u001b[0m\u001b[0mflatten\u001b[0m\u001b[0;34m(\u001b[0m\u001b[0;34m)\u001b[0m\u001b[0;34m\u001b[0m\u001b[0;34m\u001b[0m\u001b[0m\n\u001b[1;32m     17\u001b[0m     \u001b[0mL_nb\u001b[0m \u001b[0;34m=\u001b[0m \u001b[0mget_neighbor_summary\u001b[0m\u001b[0;34m(\u001b[0m\u001b[0mL\u001b[0m\u001b[0;34m,\u001b[0m \u001b[0madj_matrix\u001b[0m\u001b[0;34m)\u001b[0m\u001b[0;34m\u001b[0m\u001b[0;34m\u001b[0m\u001b[0m\n\u001b[0;32m---> 18\u001b[0;31m     \u001b[0mY_nb\u001b[0m \u001b[0;34m=\u001b[0m \u001b[0mget_neighbor_summary\u001b[0m\u001b[0;34m(\u001b[0m\u001b[0mY\u001b[0m\u001b[0;34m.\u001b[0m\u001b[0mreshape\u001b[0m\u001b[0;34m(\u001b[0m\u001b[0;34m-\u001b[0m\u001b[0;36m1\u001b[0m\u001b[0;34m,\u001b[0m \u001b[0;36m1\u001b[0m\u001b[0;34m)\u001b[0m\u001b[0;34m,\u001b[0m \u001b[0madj_matrix\u001b[0m\u001b[0;34m)\u001b[0m\u001b[0;34m.\u001b[0m\u001b[0mflatten\u001b[0m\u001b[0;34m(\u001b[0m\u001b[0;34m)\u001b[0m\u001b[0;34m\u001b[0m\u001b[0;34m\u001b[0m\u001b[0m\n\u001b[0m\u001b[1;32m     19\u001b[0m     return np.column_stack([\n\u001b[1;32m     20\u001b[0m         \u001b[0mA\u001b[0m\u001b[0;34m,\u001b[0m\u001b[0;34m\u001b[0m\u001b[0;34m\u001b[0m\u001b[0m\n",
      "\u001b[0;32m~/Desktop/causal inference/dr-chain-graph/dr-chain-graph/drnet.py\u001b[0m in \u001b[0;36mget_neighbor_summary\u001b[0;34m(X, adj_matrix)\u001b[0m\n\u001b[1;32m      6\u001b[0m \u001b[0;34m\u001b[0m\u001b[0m\n\u001b[1;32m      7\u001b[0m \u001b[0;32mdef\u001b[0m \u001b[0mget_neighbor_summary\u001b[0m\u001b[0;34m(\u001b[0m\u001b[0mX\u001b[0m\u001b[0;34m,\u001b[0m \u001b[0madj_matrix\u001b[0m\u001b[0;34m)\u001b[0m\u001b[0;34m:\u001b[0m\u001b[0;34m\u001b[0m\u001b[0;34m\u001b[0m\u001b[0m\n\u001b[0;32m----> 8\u001b[0;31m     \u001b[0;32mreturn\u001b[0m \u001b[0madj_matrix\u001b[0m \u001b[0;34m@\u001b[0m \u001b[0mX\u001b[0m\u001b[0;34m\u001b[0m\u001b[0;34m\u001b[0m\u001b[0m\n\u001b[0m\u001b[1;32m      9\u001b[0m \u001b[0;34m\u001b[0m\u001b[0m\n\u001b[1;32m     10\u001b[0m \u001b[0;32mdef\u001b[0m \u001b[0mfit_logistic_model\u001b[0m\u001b[0;34m(\u001b[0m\u001b[0mX\u001b[0m\u001b[0;34m,\u001b[0m \u001b[0my\u001b[0m\u001b[0;34m)\u001b[0m\u001b[0;34m:\u001b[0m\u001b[0;34m\u001b[0m\u001b[0;34m\u001b[0m\u001b[0m\n",
      "\u001b[0;31mKeyboardInterrupt\u001b[0m: "
     ]
    }
   ],
   "source": [
    "from drnet import doubly_robust\n",
    "\n",
    "ret = {\n",
    "    'average': [],\n",
    "    'direct_effect': [],\n",
    "    'spillover_effect': [],\n",
    "    'psi_0_gamma': [],\n",
    "    'psi_zero': [],\n",
    "    \"psi_1_gamma\":[],\n",
    "}\n",
    "\n",
    "for Y, A, L in tqdm(zip(Y_chain, A_chain, L_chain)):\n",
    "    ret_i = doubly_robust(A, L, Y, adj, treatment_allocation=0.7, num_rep=1000)\n",
    "    ret['average'].append(ret_i['average'])\n",
    "    ret['direct_effect'].append(ret_i['direct_effect'])\n",
    "    ret['spillover_effect'].append(ret_i['spillover_effect'])\n",
    "    ret['psi_0_gamma'].append(ret_i['psi_0_gamma'])\n",
    "    ret['psi_zero'].append(ret_i['psi_zero'])\n",
    "    ret['psi_1_gamma'].append(ret_i['psi_1_gamma'])\n",
    "    \n",
    "print('Average effect:', np.mean(ret['average']))\n",
    "print('Direct effect:', np.mean(ret['direct_effect']))\n",
    "print('Spillover effect:', np.mean(ret['spillover_effect']))\n",
    "print('Psi_0_gamma:', np.mean(ret['psi_0_gamma']))\n",
    "print('Psi_zero:', np.mean(ret['psi_zero']))\n",
    "print('Psi_1_gamma:', np.mean(ret['psi_1_gamma']))"
   ]
  },
  {
   "cell_type": "code",
   "execution_count": null,
   "id": "b4a7c306",
   "metadata": {},
   "outputs": [],
   "source": []
  },
  {
   "cell_type": "markdown",
   "id": "1e5c092d",
   "metadata": {},
   "source": [
    "## Dense network"
   ]
  },
  {
   "cell_type": "code",
   "execution_count": null,
   "id": "7606762d",
   "metadata": {},
   "outputs": [],
   "source": [
    "from dgp import *\n",
    "\n",
    "# 1. Simulate or load data\n",
    "adj = get_graph(2000, 8, 10, seed=1)\n",
    "\n",
    "tau = np.array([-1.0, 0.50, -0.50])       # shape (3,)\n",
    "rho = np.array([[0,0.1,0.2],\n",
    "                [0.1,0,0.1],\n",
    "                [0.2,0.1,0]])      # shape (3, 3), with 0s on the diagonal\n",
    "nu = np.array([0.1,0,0,0.1,0,0,0.1,0,0]).reshape(3,3)       # shape (3, 3)\n",
    "gamma = np.array([-1.00,0.50,0.10,0.20,0.05,0.25,-0.08,0.30])     # shape (8,)\n",
    "beta = np.array([-0.30,-0.60,-0.20,-0.20,-0.05,-0.10,-0.01,0.40,0.01,0.20])     # shape (10,)\n",
    "\n",
    "Y_chain, A_chain, L_chain = sample_network_chain(adj, tau, rho, nu, gamma, beta, R=500,\n",
    "    burnin_R=20, seed=0)\n",
    "\n",
    "Y_chain = Y_chain[::5]\n",
    "A_chain = A_chain[::5]\n",
    "L_chain = L_chain[::5]"
   ]
  },
  {
   "cell_type": "code",
   "execution_count": null,
   "id": "275593fe",
   "metadata": {},
   "outputs": [],
   "source": [
    "from agcEffect import *\n",
    "\n",
    "agc_effect(\n",
    "    adj,\n",
    "    tau, rho, nu, beta,\n",
    "    treatment_allocation=0.7,\n",
    "    R=200,\n",
    "    burnin_R=50,\n",
    "    seed=0\n",
    ")"
   ]
  },
  {
   "cell_type": "code",
   "execution_count": null,
   "id": "8e800c39",
   "metadata": {},
   "outputs": [],
   "source": [
    "from drnet import doubly_robust\n",
    "\n",
    "ret = {\n",
    "    'average': [],\n",
    "    'direct_effect': [],\n",
    "    'spillover_effect': [],\n",
    "    'psi_0_gamma': [],\n",
    "    'psi_zero': [],\n",
    "    \"psi_1_gamma\":[],\n",
    "}\n",
    "\n",
    "for Y, A, L in tqdm(zip(Y_chain, A_chain, L_chain)):\n",
    "    ret_i = doubly_robust(A, L, Y, adj, treatment_allocation=0.7, num_rep=1000)\n",
    "    ret['average'].append(ret_i['average'])\n",
    "    ret['direct_effect'].append(ret_i['direct_effect'])\n",
    "    ret['spillover_effect'].append(ret_i['spillover_effect'])\n",
    "    ret['psi_0_gamma'].append(ret_i['psi_0_gamma'])\n",
    "    ret['psi_zero'].append(ret_i['psi_zero'])\n",
    "    ret['psi_1_gamma'].append(ret_i['psi_1_gamma'])\n",
    "    \n",
    "print('Average effect:', np.mean(ret['average']))\n",
    "print('Direct effect:', np.mean(ret['direct_effect']))\n",
    "print('Spillover effect:', np.mean(ret['spillover_effect']))\n",
    "print('Psi_0_gamma:', np.mean(ret['psi_0_gamma']))\n",
    "print('Psi_zero:', np.mean(ret['psi_zero']))\n",
    "print('Psi_1_gamma:', np.mean(ret['psi_1_gamma']))"
   ]
  },
  {
   "cell_type": "code",
   "execution_count": null,
   "id": "35782baa",
   "metadata": {},
   "outputs": [],
   "source": []
  }
 ],
 "metadata": {
  "kernelspec": {
   "display_name": "my_env",
   "language": "python",
   "name": "python3"
  },
  "language_info": {
   "codemirror_mode": {
    "name": "ipython",
    "version": 3
   },
   "file_extension": ".py",
   "mimetype": "text/x-python",
   "name": "python",
   "nbconvert_exporter": "python",
   "pygments_lexer": "ipython3",
   "version": "3.11.11"
  }
 },
 "nbformat": 4,
 "nbformat_minor": 5
}
