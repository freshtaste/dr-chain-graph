{
 "cells": [
  {
   "cell_type": "code",
   "execution_count": 1,
   "id": "37e311ff",
   "metadata": {},
   "outputs": [
    {
     "name": "stderr",
     "output_type": "stream",
     "text": [
      "100%|██████████| 520/520 [00:43<00:00, 12.00it/s]\n"
     ]
    }
   ],
   "source": [
    "from dgp import *\n",
    "\n",
    "# 1. Simulate or load data\n",
    "adj = get_graph(800, 1, 2, seed=1)\n",
    "\n",
    "tau = np.array([-1.0, 0.50, -0.50])       # shape (3,)\n",
    "rho = np.array([[0,0.1,0.2],\n",
    "                [0.1,0,0.1],\n",
    "                [0.2,0.1,0]])      # shape (3, 3), with 0s on the diagonal\n",
    "nu = np.array([0.1,0,0,0.1,0,0,0.1,0,0]).reshape(3,3)       # shape (3, 3)\n",
    "gamma = np.array([-1.00,0.50,0.10,0.20,0.05,0.25,-0.08,0.30])     # shape (8,)\n",
    "beta = np.array([-0.30,-0.60,-0.20,-0.20,-0.05,-0.10,-0.01,0.40,0.01,0.20])     # shape (10,)\n",
    "\n",
    "Y_chain, A_chain, L_chain = sample_network_chain(adj, tau, rho, nu, gamma, beta, R=500,\n",
    "    burnin_R=20, seed=0)\n",
    "\n",
    "Y_chain = Y_chain[::5]\n",
    "A_chain = A_chain[::5]\n",
    "L_chain = L_chain[::5]"
   ]
  },
  {
   "cell_type": "code",
   "execution_count": 2,
   "id": "3daba179",
   "metadata": {},
   "outputs": [
    {
     "data": {
      "text/plain": [
       "{'average': 0.31335625,\n",
       " 'direct_effect': -0.14082500000000003,\n",
       " 'spillover_effect': -0.05294999999999994,\n",
       " 'psi_1_gamma': 0.27003750000000004,\n",
       " 'psi_0_gamma': 0.4108625000000001,\n",
       " 'psi_zero': 0.4638125}"
      ]
     },
     "execution_count": 2,
     "metadata": {},
     "output_type": "execute_result"
    }
   ],
   "source": [
    "from agcEffect import *\n",
    "\n",
    "agc_effect(\n",
    "    adj,\n",
    "    tau, rho, nu, beta,\n",
    "    treatment_allocation=0.7,\n",
    "    R=200,\n",
    "    burnin_R=50,\n",
    "    seed=0\n",
    ")"
   ]
  },
  {
   "cell_type": "code",
   "execution_count": 2,
   "id": "a3971dd4",
   "metadata": {},
   "outputs": [
    {
     "name": "stdout",
     "output_type": "stream",
     "text": [
      "Multiprocessing <function run_dr at 0x113be3b00> in 4 tasks, with 4 processes...\n",
      "psi_zero: [0.45918527516549057]\n",
      "beta_hat: 0.44340675182171835\n",
      "psi_0_gamma: 0.3453576425609083\n",
      "psi_1_gamma: 0.28825276671437267\n",
      "average: 0.32156774425344076\n",
      "direct_effect: -0.05710487584653562\n",
      "spillover_effect: -0.11382763260458229\n",
      "psi_zero: [0.5290945749573126]\n",
      "beta_hat: 0.5000284312872242\n",
      "psi_0_gamma: 0.4389755408295023\n",
      "psi_1_gamma: 0.2907492632449398\n",
      "average: 0.32902880209270713\n",
      "direct_effect: -0.14822627758456247\n",
      "spillover_effect: -0.0901190341278103\n",
      "psi_zero: [0.49376299749670016]\n",
      "beta_hat: 0.4826423855355928\n",
      "psi_0_gamma: 0.4824938308029724\n",
      "psi_1_gamma: 0.28861991368706197\n",
      "average: 0.34889882062360694\n",
      "direct_effect: -0.19387391711591045\n",
      "spillover_effect: -0.011269166693727739\n",
      "psi_zero: [0.4497551721892136]\n",
      "beta_hat: 0.45633995627287427\n",
      "psi_0_gamma: 0.4627720244846745\n",
      "psi_1_gamma: 0.2584716882472991\n",
      "average: 0.32097566857525683\n",
      "direct_effect: -0.20430033623737542\n",
      "spillover_effect: 0.013016852295460901\n",
      "Multiprocessing finished.\n"
     ]
    }
   ],
   "source": [
    "from utils import run_pll\n",
    "from run_pll import run_dr\n",
    "\n",
    "args = [{'Y_chain': Y_chain,\n",
    "         'A_chain': A_chain,\n",
    "         'L_chain': L_chain,\n",
    "         'adj': adj,\n",
    "         'i': i} for i in range(len(Y_chain[:4]))]\n",
    "n_cpu = 4\n",
    "res_list = run_pll(run_dr, args, processes=n_cpu)\n",
    "res_list_array = np.array(res_list)\n"
   ]
  },
  {
   "cell_type": "code",
   "execution_count": 5,
   "id": "aca3e92f",
   "metadata": {},
   "outputs": [
    {
     "name": "stdout",
     "output_type": "stream",
     "text": [
      "average: 0.33012 ± 0.01130\n",
      "direct_effect: -0.15088 ± 0.05810\n",
      "spillover_effect: -0.05055 ± 0.05281\n",
      "psi_0_gamma: 0.43240 ± 0.05256\n",
      "psi_zero: 0.48295 ± 0.03128\n",
      "psi_1_gamma: 0.28152 ± 0.01334\n"
     ]
    }
   ],
   "source": [
    "from run_pll import column_names\n",
    "\n",
    "ret_mean = res_list_array.mean(axis=0)\n",
    "ret_std = res_list_array.std(axis=0)\n",
    "for i in range(len(column_names)):\n",
    "    print(f\"{column_names[i]}: {ret_mean[i]:.5f} ± {ret_std[i]:.5f}\")"
   ]
  },
  {
   "cell_type": "code",
   "execution_count": 3,
   "id": "794c9558",
   "metadata": {},
   "outputs": [
    {
     "name": "stderr",
     "output_type": "stream",
     "text": [
      "1it [00:18, 18.30s/it]"
     ]
    },
    {
     "name": "stdout",
     "output_type": "stream",
     "text": [
      "psi_zero: [0.5290945749573126]\n",
      "beta_hat: 0.5000284312872242\n",
      "psi_0_gamma: 0.4389755408295023\n",
      "psi_1_gamma: 0.2907492632449398\n",
      "average: 0.32902880209270713\n",
      "direct_effect: -0.14822627758456247\n",
      "spillover_effect: -0.0901190341278103\n"
     ]
    },
    {
     "name": "stderr",
     "output_type": "stream",
     "text": [
      "2it [00:37, 18.57s/it]"
     ]
    },
    {
     "name": "stdout",
     "output_type": "stream",
     "text": [
      "psi_zero: [0.45918527516549057]\n",
      "beta_hat: 0.44340675182171835\n",
      "psi_0_gamma: 0.3453576425609083\n",
      "psi_1_gamma: 0.28825276671437267\n",
      "average: 0.32156774425344076\n",
      "direct_effect: -0.05710487584653562\n",
      "spillover_effect: -0.11382763260458229\n"
     ]
    },
    {
     "name": "stderr",
     "output_type": "stream",
     "text": [
      "3it [00:55, 18.51s/it]"
     ]
    },
    {
     "name": "stdout",
     "output_type": "stream",
     "text": [
      "psi_zero: [0.49376299749670016]\n",
      "beta_hat: 0.4826423855355928\n",
      "psi_0_gamma: 0.4824938308029724\n",
      "psi_1_gamma: 0.28861991368706197\n",
      "average: 0.34889882062360694\n",
      "direct_effect: -0.19387391711591045\n",
      "spillover_effect: -0.011269166693727739\n"
     ]
    },
    {
     "name": "stderr",
     "output_type": "stream",
     "text": [
      "4it [01:13, 18.38s/it]"
     ]
    },
    {
     "name": "stdout",
     "output_type": "stream",
     "text": [
      "psi_zero: [0.4497551721892136]\n",
      "beta_hat: 0.45633995627287427\n",
      "psi_0_gamma: 0.4627720244846745\n",
      "psi_1_gamma: 0.2584716882472991\n",
      "average: 0.32097566857525683\n",
      "direct_effect: -0.20430033623737542\n",
      "spillover_effect: 0.013016852295460901\n"
     ]
    },
    {
     "name": "stderr",
     "output_type": "stream",
     "text": [
      "5it [01:32, 18.60s/it]"
     ]
    },
    {
     "name": "stdout",
     "output_type": "stream",
     "text": [
      "psi_zero: [0.4405914699085936]\n",
      "beta_hat: 0.43571569210630784\n",
      "psi_0_gamma: 0.3918936647863597\n",
      "psi_1_gamma: 0.3102274772829247\n",
      "average: 0.33182642553945024\n",
      "direct_effect: -0.08166618750343496\n",
      "spillover_effect: -0.04869780512223393\n"
     ]
    },
    {
     "name": "stderr",
     "output_type": "stream",
     "text": [
      "6it [01:51, 18.58s/it]"
     ]
    },
    {
     "name": "stdout",
     "output_type": "stream",
     "text": [
      "psi_zero: [0.5019868477497493]\n",
      "beta_hat: 0.46758998452300615\n",
      "psi_0_gamma: 0.4035696340471022\n",
      "psi_1_gamma: 0.2633900469406328\n",
      "average: 0.3042758297276049\n",
      "direct_effect: -0.14017958710646944\n",
      "spillover_effect: -0.09841721370264711\n"
     ]
    },
    {
     "name": "stderr",
     "output_type": "stream",
     "text": [
      "7it [02:09, 18.36s/it]"
     ]
    },
    {
     "name": "stdout",
     "output_type": "stream",
     "text": [
      "psi_zero: [0.45051164832559415]\n",
      "beta_hat: 0.4562787607532949\n",
      "psi_0_gamma: 0.4609091163142466\n",
      "psi_1_gamma: 0.3119634101195952\n",
      "average: 0.3523451017022474\n",
      "direct_effect: -0.14894570619465136\n",
      "spillover_effect: 0.010397467988652431\n"
     ]
    },
    {
     "name": "stderr",
     "output_type": "stream",
     "text": [
      "8it [02:28, 18.80s/it]"
     ]
    },
    {
     "name": "stdout",
     "output_type": "stream",
     "text": [
      "psi_zero: [0.4898314029065594]\n",
      "beta_hat: 0.47515645092425407\n",
      "psi_0_gamma: 0.4155626400043718\n",
      "psi_1_gamma: 0.25047668555099817\n",
      "average: 0.30209016440248293\n",
      "direct_effect: -0.16508595445337365\n",
      "spillover_effect: -0.07426876290218759\n"
     ]
    },
    {
     "name": "stderr",
     "output_type": "stream",
     "text": [
      "9it [02:47, 18.85s/it]"
     ]
    },
    {
     "name": "stdout",
     "output_type": "stream",
     "text": [
      "psi_zero: [0.42316124630638413]\n",
      "beta_hat: 0.4405309631554178\n",
      "psi_0_gamma: 0.4307190744387878\n",
      "psi_1_gamma: 0.23735586567454572\n",
      "average: 0.2886512949706784\n",
      "direct_effect: -0.1933632087642421\n",
      "spillover_effect: 0.007557828132403688\n"
     ]
    },
    {
     "name": "stderr",
     "output_type": "stream",
     "text": [
      "10it [03:06, 18.87s/it]"
     ]
    },
    {
     "name": "stdout",
     "output_type": "stream",
     "text": [
      "psi_zero: [0.4581107403134095]\n",
      "beta_hat: 0.4703005495318099\n",
      "psi_0_gamma: 0.4655004996772578\n",
      "psi_1_gamma: 0.28105652772747164\n",
      "average: 0.3401060968033512\n",
      "direct_effect: -0.18444397194978618\n",
      "spillover_effect: 0.007389759363848336\n"
     ]
    },
    {
     "name": "stderr",
     "output_type": "stream",
     "text": [
      "11it [03:25, 18.89s/it]"
     ]
    },
    {
     "name": "stdout",
     "output_type": "stream",
     "text": [
      "psi_zero: [0.3718138874218853]\n",
      "beta_hat: 0.4061807195089082\n",
      "psi_0_gamma: 0.45543454316763426\n",
      "psi_1_gamma: 0.31411093224121134\n",
      "average: 0.3399262292638767\n",
      "direct_effect: -0.14132361092642293\n",
      "spillover_effect: 0.08362065574574895\n"
     ]
    },
    {
     "name": "stderr",
     "output_type": "stream",
     "text": [
      "12it [03:44, 19.01s/it]"
     ]
    },
    {
     "name": "stdout",
     "output_type": "stream",
     "text": [
      "psi_zero: [0.4412020012100239]\n",
      "beta_hat: 0.43292508653096556\n",
      "psi_0_gamma: 0.3970689892459853\n",
      "psi_1_gamma: 0.3126712764336825\n",
      "average: 0.33823610968030177\n",
      "direct_effect: -0.08439771281230285\n",
      "spillover_effect: -0.04413301196403857\n"
     ]
    },
    {
     "name": "stderr",
     "output_type": "stream",
     "text": [
      "13it [04:06, 19.75s/it]"
     ]
    },
    {
     "name": "stdout",
     "output_type": "stream",
     "text": [
      "psi_zero: [0.44336855314100077]\n",
      "beta_hat: 0.4267934678468314\n",
      "psi_0_gamma: 0.37686688784902755\n",
      "psi_1_gamma: 0.2541419781746574\n",
      "average: 0.29415521094524166\n",
      "direct_effect: -0.12272490967437016\n",
      "spillover_effect: -0.06650166529197321\n"
     ]
    },
    {
     "name": "stderr",
     "output_type": "stream",
     "text": [
      "13it [04:06, 19.00s/it]\n"
     ]
    },
    {
     "ename": "KeyboardInterrupt",
     "evalue": "",
     "output_type": "error",
     "traceback": [
      "\u001b[0;31m---------------------------------------------------------------------------\u001b[0m",
      "\u001b[0;31mKeyboardInterrupt\u001b[0m                         Traceback (most recent call last)",
      "Cell \u001b[0;32mIn[3], line 13\u001b[0m\n\u001b[1;32m      3\u001b[0m ret \u001b[38;5;241m=\u001b[39m {\n\u001b[1;32m      4\u001b[0m     \u001b[38;5;124m'\u001b[39m\u001b[38;5;124maverage\u001b[39m\u001b[38;5;124m'\u001b[39m: [],\n\u001b[1;32m      5\u001b[0m     \u001b[38;5;124m'\u001b[39m\u001b[38;5;124mdirect_effect\u001b[39m\u001b[38;5;124m'\u001b[39m: [],\n\u001b[0;32m   (...)\u001b[0m\n\u001b[1;32m      9\u001b[0m     \u001b[38;5;124m\"\u001b[39m\u001b[38;5;124mpsi_1_gamma\u001b[39m\u001b[38;5;124m\"\u001b[39m:[],\n\u001b[1;32m     10\u001b[0m }\n\u001b[1;32m     12\u001b[0m \u001b[38;5;28;01mfor\u001b[39;00m Y, A, L \u001b[38;5;129;01min\u001b[39;00m tqdm(\u001b[38;5;28mzip\u001b[39m(Y_chain, A_chain, L_chain)):\n\u001b[0;32m---> 13\u001b[0m     ret_i \u001b[38;5;241m=\u001b[39m \u001b[43mdoubly_robust\u001b[49m\u001b[43m(\u001b[49m\u001b[43mA\u001b[49m\u001b[43m,\u001b[49m\u001b[43m \u001b[49m\u001b[43mL\u001b[49m\u001b[43m,\u001b[49m\u001b[43m \u001b[49m\u001b[43mY\u001b[49m\u001b[43m,\u001b[49m\u001b[43m \u001b[49m\u001b[43madj\u001b[49m\u001b[43m,\u001b[49m\u001b[43m \u001b[49m\u001b[43mtreatment_allocation\u001b[49m\u001b[38;5;241;43m=\u001b[39;49m\u001b[38;5;241;43m0.7\u001b[39;49m\u001b[43m,\u001b[49m\u001b[43m \u001b[49m\u001b[43mnum_rep\u001b[49m\u001b[38;5;241;43m=\u001b[39;49m\u001b[38;5;241;43m1000\u001b[39;49m\u001b[43m)\u001b[49m\n\u001b[1;32m     14\u001b[0m     ret[\u001b[38;5;124m'\u001b[39m\u001b[38;5;124maverage\u001b[39m\u001b[38;5;124m'\u001b[39m]\u001b[38;5;241m.\u001b[39mappend(ret_i[\u001b[38;5;124m'\u001b[39m\u001b[38;5;124maverage\u001b[39m\u001b[38;5;124m'\u001b[39m])\n\u001b[1;32m     15\u001b[0m     ret[\u001b[38;5;124m'\u001b[39m\u001b[38;5;124mdirect_effect\u001b[39m\u001b[38;5;124m'\u001b[39m]\u001b[38;5;241m.\u001b[39mappend(ret_i[\u001b[38;5;124m'\u001b[39m\u001b[38;5;124mdirect_effect\u001b[39m\u001b[38;5;124m'\u001b[39m])\n",
      "File \u001b[0;32m~/Desktop/causal inference/dr-chain-graph/dr-chain-graph/drnet.py:159\u001b[0m, in \u001b[0;36mdoubly_robust\u001b[0;34m(A, L, Y, adj_matrix, treatment_allocation, num_rep, seed)\u001b[0m\n\u001b[1;32m    155\u001b[0m L_nb \u001b[38;5;241m=\u001b[39m get_neighbor_summary(L, adj_matrix)\n\u001b[1;32m    156\u001b[0m GL \u001b[38;5;241m=\u001b[39m gamma[\u001b[38;5;241m0\u001b[39m] \u001b[38;5;241m+\u001b[39m L\u001b[38;5;241m.\u001b[39mdot(np\u001b[38;5;241m.\u001b[39marray([gamma[\u001b[38;5;241m1\u001b[39m], gamma[\u001b[38;5;241m3\u001b[39m], gamma[\u001b[38;5;241m5\u001b[39m]])) \\\n\u001b[1;32m    157\u001b[0m     \u001b[38;5;241m+\u001b[39m L_nb\u001b[38;5;241m.\u001b[39mdot(np\u001b[38;5;241m.\u001b[39marray([gamma[\u001b[38;5;241m2\u001b[39m], gamma[\u001b[38;5;241m4\u001b[39m], gamma[\u001b[38;5;241m6\u001b[39m]]))\n\u001b[0;32m--> 159\u001b[0m denominator \u001b[38;5;241m=\u001b[39m \u001b[43mget_norm_constant\u001b[49m\u001b[43m(\u001b[49m\u001b[43mA\u001b[49m\u001b[43m,\u001b[49m\u001b[43m \u001b[49m\u001b[43mGL\u001b[49m\u001b[43m,\u001b[49m\u001b[43m \u001b[49m\u001b[43mneighbours\u001b[49m\u001b[43m,\u001b[49m\u001b[43m \u001b[49m\u001b[43mgamma\u001b[49m\u001b[43m,\u001b[49m\u001b[43m \u001b[49m\u001b[43madj_matrix\u001b[49m\u001b[43m)\u001b[49m\n\u001b[1;32m    161\u001b[0m \u001b[38;5;66;03m# compute the influence function\u001b[39;00m\n\u001b[1;32m    162\u001b[0m a_mat \u001b[38;5;241m=\u001b[39m np\u001b[38;5;241m.\u001b[39mrandom\u001b[38;5;241m.\u001b[39mbinomial(\u001b[38;5;241m1\u001b[39m, treatment_allocation, size\u001b[38;5;241m=\u001b[39m(Y\u001b[38;5;241m.\u001b[39mshape[\u001b[38;5;241m0\u001b[39m], num_rep))\n",
      "File \u001b[0;32m~/Desktop/causal inference/dr-chain-graph/dr-chain-graph/drnet.py:129\u001b[0m, in \u001b[0;36mget_norm_constant\u001b[0;34m(A, GL, neighbours, gamma, adj_matrix, n_rep)\u001b[0m\n\u001b[1;32m    127\u001b[0m     mat_n_out \u001b[38;5;241m=\u001b[39m np\u001b[38;5;241m.\u001b[39meinsum(\u001b[38;5;124m'\u001b[39m\u001b[38;5;124mik,j->ijk\u001b[39m\u001b[38;5;124m'\u001b[39m, vec_n, vec_n_out)\n\u001b[1;32m    128\u001b[0m     adj_max_n_out \u001b[38;5;241m=\u001b[39m adj_matrix[ni, :][:, nout]\n\u001b[0;32m--> 129\u001b[0m     aa_out[i] \u001b[38;5;241m=\u001b[39m \u001b[43m(\u001b[49m\u001b[43mmat_n_out\u001b[49m\u001b[43m \u001b[49m\u001b[38;5;241;43m*\u001b[39;49m\u001b[43m \u001b[49m\u001b[43madj_max_n_out\u001b[49m\u001b[43m[\u001b[49m\u001b[43m:\u001b[49m\u001b[43m,\u001b[49m\u001b[43m \u001b[49m\u001b[43m:\u001b[49m\u001b[43m,\u001b[49m\u001b[43m \u001b[49m\u001b[38;5;28;43;01mNone\u001b[39;49;00m\u001b[43m]\u001b[49m\u001b[43m)\u001b[49m\u001b[38;5;241;43m.\u001b[39;49m\u001b[43msum\u001b[49m\u001b[43m(\u001b[49m\u001b[43maxis\u001b[49m\u001b[38;5;241;43m=\u001b[39;49m\u001b[43m(\u001b[49m\u001b[38;5;241;43m0\u001b[39;49m\u001b[43m,\u001b[49m\u001b[43m \u001b[49m\u001b[38;5;241;43m1\u001b[39;49m\u001b[43m)\u001b[49m\u001b[43m)\u001b[49m\n\u001b[1;32m    131\u001b[0m denominator \u001b[38;5;241m=\u001b[39m np\u001b[38;5;241m.\u001b[39mexp(GL_neighbour \u001b[38;5;241m+\u001b[39m gamma[\u001b[38;5;241m7\u001b[39m]\u001b[38;5;241m*\u001b[39maa_n \u001b[38;5;241m+\u001b[39m gamma[\u001b[38;5;241m7\u001b[39m]\u001b[38;5;241m*\u001b[39maa_out)\n\u001b[1;32m    133\u001b[0m \u001b[38;5;66;03m# approximate the sum in the denominator\u001b[39;00m\n",
      "File \u001b[0;32m/opt/anaconda3/envs/my_env/lib/python3.11/site-packages/numpy/core/_methods.py:49\u001b[0m, in \u001b[0;36m_sum\u001b[0;34m(a, axis, dtype, out, keepdims, initial, where)\u001b[0m\n\u001b[1;32m     47\u001b[0m \u001b[38;5;28;01mdef\u001b[39;00m\u001b[38;5;250m \u001b[39m\u001b[38;5;21m_sum\u001b[39m(a, axis\u001b[38;5;241m=\u001b[39m\u001b[38;5;28;01mNone\u001b[39;00m, dtype\u001b[38;5;241m=\u001b[39m\u001b[38;5;28;01mNone\u001b[39;00m, out\u001b[38;5;241m=\u001b[39m\u001b[38;5;28;01mNone\u001b[39;00m, keepdims\u001b[38;5;241m=\u001b[39m\u001b[38;5;28;01mFalse\u001b[39;00m,\n\u001b[1;32m     48\u001b[0m          initial\u001b[38;5;241m=\u001b[39m_NoValue, where\u001b[38;5;241m=\u001b[39m\u001b[38;5;28;01mTrue\u001b[39;00m):\n\u001b[0;32m---> 49\u001b[0m     \u001b[38;5;28;01mreturn\u001b[39;00m umr_sum(a, axis, dtype, out, keepdims, initial, where)\n",
      "\u001b[0;31mKeyboardInterrupt\u001b[0m: "
     ]
    }
   ],
   "source": [
    "from drnet import doubly_robust\n",
    "\n",
    "ret = {\n",
    "    'average': [],\n",
    "    'direct_effect': [],\n",
    "    'spillover_effect': [],\n",
    "    'psi_0_gamma': [],\n",
    "    'psi_zero': [],\n",
    "    \"psi_1_gamma\":[],\n",
    "}\n",
    "\n",
    "for Y, A, L in tqdm(zip(Y_chain, A_chain, L_chain)):\n",
    "    ret_i = doubly_robust(A, L, Y, adj, treatment_allocation=0.7, num_rep=1000)\n",
    "    ret['average'].append(ret_i['average'])\n",
    "    ret['direct_effect'].append(ret_i['direct_effect'])\n",
    "    ret['spillover_effect'].append(ret_i['spillover_effect'])\n",
    "    ret['psi_0_gamma'].append(ret_i['psi_0_gamma'])\n",
    "    ret['psi_zero'].append(ret_i['psi_zero'])\n",
    "    ret['psi_1_gamma'].append(ret_i['psi_1_gamma'])\n",
    "    \n",
    "print('Average effect:', np.mean(ret['average']))\n",
    "print('Direct effect:', np.mean(ret['direct_effect']))\n",
    "print('Spillover effect:', np.mean(ret['spillover_effect']))\n",
    "print('Psi_0_gamma:', np.mean(ret['psi_0_gamma']))\n",
    "print('Psi_zero:', np.mean(ret['psi_zero']))\n",
    "print('Psi_1_gamma:', np.mean(ret['psi_1_gamma']))"
   ]
  },
  {
   "cell_type": "code",
   "execution_count": null,
   "id": "b4a7c306",
   "metadata": {},
   "outputs": [],
   "source": []
  },
  {
   "cell_type": "markdown",
   "id": "1e5c092d",
   "metadata": {},
   "source": [
    "## Dense network"
   ]
  },
  {
   "cell_type": "code",
   "execution_count": null,
   "id": "7606762d",
   "metadata": {},
   "outputs": [],
   "source": [
    "from dgp import *\n",
    "\n",
    "# 1. Simulate or load data\n",
    "adj = get_graph(2000, 8, 10, seed=1)\n",
    "\n",
    "tau = np.array([-1.0, 0.50, -0.50])       # shape (3,)\n",
    "rho = np.array([[0,0.1,0.2],\n",
    "                [0.1,0,0.1],\n",
    "                [0.2,0.1,0]])      # shape (3, 3), with 0s on the diagonal\n",
    "nu = np.array([0.1,0,0,0.1,0,0,0.1,0,0]).reshape(3,3)       # shape (3, 3)\n",
    "gamma = np.array([-1.00,0.50,0.10,0.20,0.05,0.25,-0.08,0.30])     # shape (8,)\n",
    "beta = np.array([-0.30,-0.60,-0.20,-0.20,-0.05,-0.10,-0.01,0.40,0.01,0.20])     # shape (10,)\n",
    "\n",
    "Y_chain, A_chain, L_chain = sample_network_chain(adj, tau, rho, nu, gamma, beta, R=500,\n",
    "    burnin_R=20, seed=0)\n",
    "\n",
    "Y_chain = Y_chain[::5]\n",
    "A_chain = A_chain[::5]\n",
    "L_chain = L_chain[::5]"
   ]
  },
  {
   "cell_type": "code",
   "execution_count": null,
   "id": "275593fe",
   "metadata": {},
   "outputs": [],
   "source": [
    "from agcEffect import *\n",
    "\n",
    "agc_effect(\n",
    "    adj,\n",
    "    tau, rho, nu, beta,\n",
    "    treatment_allocation=0.7,\n",
    "    R=200,\n",
    "    burnin_R=50,\n",
    "    seed=0\n",
    ")"
   ]
  },
  {
   "cell_type": "code",
   "execution_count": null,
   "id": "8e800c39",
   "metadata": {},
   "outputs": [],
   "source": [
    "from drnet import doubly_robust\n",
    "\n",
    "ret = {\n",
    "    'average': [],\n",
    "    'direct_effect': [],\n",
    "    'spillover_effect': [],\n",
    "    'psi_0_gamma': [],\n",
    "    'psi_zero': [],\n",
    "    \"psi_1_gamma\":[],\n",
    "}\n",
    "\n",
    "for Y, A, L in tqdm(zip(Y_chain, A_chain, L_chain)):\n",
    "    ret_i = doubly_robust(A, L, Y, adj, treatment_allocation=0.7, num_rep=1000)\n",
    "    ret['average'].append(ret_i['average'])\n",
    "    ret['direct_effect'].append(ret_i['direct_effect'])\n",
    "    ret['spillover_effect'].append(ret_i['spillover_effect'])\n",
    "    ret['psi_0_gamma'].append(ret_i['psi_0_gamma'])\n",
    "    ret['psi_zero'].append(ret_i['psi_zero'])\n",
    "    ret['psi_1_gamma'].append(ret_i['psi_1_gamma'])\n",
    "    \n",
    "print('Average effect:', np.mean(ret['average']))\n",
    "print('Direct effect:', np.mean(ret['direct_effect']))\n",
    "print('Spillover effect:', np.mean(ret['spillover_effect']))\n",
    "print('Psi_0_gamma:', np.mean(ret['psi_0_gamma']))\n",
    "print('Psi_zero:', np.mean(ret['psi_zero']))\n",
    "print('Psi_1_gamma:', np.mean(ret['psi_1_gamma']))"
   ]
  },
  {
   "cell_type": "code",
   "execution_count": null,
   "id": "35782baa",
   "metadata": {},
   "outputs": [],
   "source": []
  }
 ],
 "metadata": {
  "kernelspec": {
   "display_name": "my_env",
   "language": "python",
   "name": "python3"
  },
  "language_info": {
   "codemirror_mode": {
    "name": "ipython",
    "version": 3
   },
   "file_extension": ".py",
   "mimetype": "text/x-python",
   "name": "python",
   "nbconvert_exporter": "python",
   "pygments_lexer": "ipython3",
   "version": "3.11.11"
  }
 },
 "nbformat": 4,
 "nbformat_minor": 5
}
