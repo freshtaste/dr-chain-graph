{
 "cells": [
  {
   "cell_type": "code",
   "execution_count": 92,
   "id": "f7ff5b64",
   "metadata": {},
   "outputs": [],
   "source": [
    "num_sample = 500\n",
    "num_burn = 200\n",
    "sample_size = 800\n",
    "n_cpu = 100\n",
    "\n",
    "min_degree = 1\n",
    "max_degree = 4"
   ]
  },
  {
   "cell_type": "code",
   "execution_count": 93,
   "id": "56d2560c",
   "metadata": {},
   "outputs": [
    {
     "name": "stdout",
     "output_type": "stream",
     "text": [
      "1 4\n"
     ]
    },
    {
     "data": {
      "text/plain": [
       "(-0.021176363765848714,\n",
       " 0.41631250000000003,\n",
       " 0.6272375,\n",
       " 0.34178288653114913,\n",
       " 0.19798254982088362)"
      ]
     },
     "execution_count": 93,
     "metadata": {},
     "output_type": "execute_result"
    }
   ],
   "source": [
    "from dgp import sample_network_chain, get_graph, sample_Y1, sample_Y2, agcEffect\n",
    "import numpy as np\n",
    "\n",
    "# 1. Simulate or load data\n",
    "adj1 = get_graph(sample_size, min_degree, max_degree, seed=1)\n",
    "print(adj1.sum(axis=1).min(), adj1.sum(axis=1).max())\n",
    "\n",
    "tau = np.array([-1.0, 0.50, -0.50])       # shape (3,)\n",
    "rho = np.array([[0,0.1,0.2],\n",
    "                [0.1,0,0.1],\n",
    "                [0.2,0.1,0]])      # shape (3, 3), with 0s on the diagonal\n",
    "nu = np.array([0.1,0,0,0.1,0,0,0.1,0,0]).reshape(3,3)       # shape (3, 3)\n",
    "gamma = np.array([-1,2,0.1,-2,0.1,2,0.1,0.1])    # shape (8,)   \n",
    "beta = np.array([-1*min_degree,-2*min_degree,2,2,0.1,-1,0.1,2,0.1,0])  # shape (10,)\n",
    "\n",
    "Y_chain, A_chain, L_chain = sample_network_chain(adj1, tau, rho, nu, gamma, beta, R=num_sample,\n",
    "    burnin_R=num_burn, seed=0, sample_Y_func=sample_Y1, Atype=('gen', 0.7))\n",
    "\n",
    "Y_chain = Y_chain[::5]\n",
    "A_chain = A_chain[::5]\n",
    "L_chain = L_chain[::5]\n",
    "\n",
    "dir, dir2, dir3, dir4 = [], [], [], []\n",
    "for i in range(Y_chain.shape[0]):\n",
    "    Y = Y_chain[i]\n",
    "    A = A_chain[i]\n",
    "    L = L_chain[i]\n",
    "    dir.append(np.mean(np.mean(Y[A==1]) - Y[A==0]))\n",
    "    dir2.append(np.mean(A))\n",
    "    dir3.append(np.mean(A[L[:,0]==1]) - np.mean(A[L[:,0]==0]))\n",
    "    dir4.append(np.mean(Y[L[:,0]==1]) - np.mean(Y[L[:,0]==0]))\n",
    "\n",
    "np.mean(dir), np.mean(dir2), np.mean(Y_chain), np.mean(dir3), np.mean(dir4)"
   ]
  },
  {
   "cell_type": "code",
   "execution_count": 94,
   "id": "f7c02fd1",
   "metadata": {},
   "outputs": [
    {
     "data": {
      "text/plain": [
       "{'average': 0.6514624999999999,\n",
       " 'direct': -0.22871249999999987,\n",
       " 'indirect': 0.1429499999999998,\n",
       " 'spillover_effect': 0.3007124999999998,\n",
       " 'psi_1_gamma': 0.5821875,\n",
       " 'psi_0_gamma': 0.8108999999999998,\n",
       " 'psi_zero': 0.5101875}"
      ]
     },
     "execution_count": 94,
     "metadata": {},
     "output_type": "execute_result"
    }
   ],
   "source": [
    "res_truth1 = agcEffect(\n",
    "    adj1,\n",
    "    tau, rho, nu, beta,\n",
    "    treatment_allocation=0.7,\n",
    "    R=100,\n",
    "    burnin_R=100,\n",
    "    seed=0\n",
    ")\n",
    "res_truth2 = agcEffect(\n",
    "    adj1,\n",
    "    tau, rho, nu, beta,\n",
    "    treatment_allocation=0.3,\n",
    "    R=100,\n",
    "    burnin_R=100,\n",
    "    seed=0\n",
    ")\n",
    "\n",
    "ground_truth1 = {}\n",
    "ground_truth1['average'] = res_truth1['average']\n",
    "ground_truth1['direct'] = res_truth1['direct_effect']\n",
    "ground_truth1['indirect'] = res_truth1['psi_0_gamma'] - res_truth2['psi_0_gamma']\n",
    "ground_truth1['spillover_effect'] = res_truth1['spillover_effect']\n",
    "ground_truth1['psi_1_gamma'] = res_truth1['psi_1_gamma']\n",
    "ground_truth1['psi_0_gamma'] = res_truth1['psi_0_gamma']\n",
    "ground_truth1['psi_zero'] = res_truth1['psi_zero']\n",
    "\n",
    "ground_truth1"
   ]
  },
  {
   "cell_type": "code",
   "execution_count": 95,
   "id": "170a707f-6e2a-4cb2-ad3b-3084af51ede1",
   "metadata": {},
   "outputs": [
    {
     "name": "stdout",
     "output_type": "stream",
     "text": [
      "Multiprocessing <function run_dr_em_raw at 0x7f4c8f9cc720> in 100 tasks, with 100 processes...\n",
      "Multiprocessing finished.\n",
      "Multiprocessing <function run_dr_em_raw at 0x7f4c8f9cc720> in 100 tasks, with 100 processes...\n",
      "Multiprocessing finished.\n"
     ]
    },
    {
     "name": "stderr",
     "output_type": "stream",
     "text": [
      "100%|██████████| 100/100 [00:06<00:00, 16.44it/s]\n"
     ]
    },
    {
     "data": {
      "text/plain": [
       "{'columns': ['average',\n",
       "  'direct',\n",
       "  'indirect',\n",
       "  'spillover_effect',\n",
       "  'psi_1_gamma',\n",
       "  'psi_0_gamma',\n",
       "  'psi_zero'],\n",
       " 'coverage_rate': array([0.92, 0.95, 0.92, 0.91, 0.92, 0.94, 0.91]),\n",
       " 'bias': array([-0.00717862, -0.02206337,  0.00918291,  0.02385599, -0.01313638,\n",
       "         0.00892699, -0.01492901]),\n",
       " 'mse': array([0.00331698, 0.00873615, 0.0024492 , 0.00864149, 0.006847  ,\n",
       "        0.00116539, 0.0080453 ]),\n",
       " 'var': array([0.00326545, 0.00824935, 0.00236487, 0.00807238, 0.00667443,\n",
       "        0.0010857 , 0.00782242]),\n",
       " 'ci_length': array([0.20851508, 0.3221672 , 0.2055737 , 0.34014656, 0.28891793,\n",
       "        0.12492953, 0.35424751]),\n",
       " 'true_effect': array([ 0.6514625, -0.2287125,  0.14295  ,  0.3007125,  0.5821875,\n",
       "         0.8109   ,  0.5101875])}"
      ]
     },
     "execution_count": 95,
     "metadata": {},
     "output_type": "execute_result"
    }
   ],
   "source": [
    "from utils import *\n",
    "from run_pll import run_dr_em_raw\n",
    "\n",
    "treat_p = 0.7\n",
    "mispec = 'outcome'\n",
    "args = [{'Y_chain': Y_chain,\n",
    "         'A_chain': A_chain,\n",
    "         'L_chain': L_chain,\n",
    "         'adj': adj1,\n",
    "         'i': i,\n",
    "         'treatment_allocation': treat_p,\n",
    "         'mispec': mispec} for i in range(len(Y_chain))]\n",
    "\n",
    "res_list_dr = run_pll(run_dr_em_raw, args, processes=n_cpu)\n",
    "res_list_array_dr = np.array(res_list_dr)\n",
    "results1 = res_list_array_dr.copy()\n",
    "\n",
    "delete_all_files_in_folder(f'run/run_dr_em_raw')\n",
    "\n",
    "from utils import run_pll\n",
    "from run_pll import run_dr_em_raw\n",
    "\n",
    "treat_p = 0.3\n",
    "args = [{'Y_chain': Y_chain,\n",
    "         'A_chain': A_chain,\n",
    "         'L_chain': L_chain,\n",
    "         'adj': adj1,\n",
    "         'i': i,\n",
    "         'treatment_allocation': treat_p,\n",
    "         'mispec': mispec} for i in range(len(Y_chain))]\n",
    "\n",
    "res_list_dr = run_pll(run_dr_em_raw, args, processes=n_cpu)\n",
    "res_list_array_dr = np.array(res_list_dr)\n",
    "results2 = res_list_array_dr.copy()\n",
    "\n",
    "delete_all_files_in_folder(f'run/run_dr_em_raw')\n",
    "\n",
    "compute_stats(results1, results2, ground_truth1, adj1)"
   ]
  },
  {
   "cell_type": "markdown",
   "id": "c2fc55bf",
   "metadata": {},
   "source": [
    "## Compare with AUTOG"
   ]
  },
  {
   "cell_type": "code",
   "execution_count": 96,
   "id": "c253d126",
   "metadata": {},
   "outputs": [
    {
     "name": "stdout",
     "output_type": "stream",
     "text": [
      "[1 1 1 1 1 1 0 1 1 1 1 0 1 1 1 1 1 1 1 1]\n",
      "Multiprocessing <function run_autognet_raw at 0x7f4c8f9cc7c0> in 100 tasks, with 100 processes...\n",
      "Multiprocessing finished.\n",
      "[1 1 1 1 1 1 0 1 1 1 1 0 1 1 1 1 1 1 1 1]\n",
      "Multiprocessing <function run_autognet_raw at 0x7f4c8f9cc7c0> in 100 tasks, with 100 processes...\n",
      "Multiprocessing finished.\n"
     ]
    },
    {
     "data": {
      "text/plain": [
       "{'columns': ['average',\n",
       "  'direct_effect',\n",
       "  'indirect',\n",
       "  'spillover_effect',\n",
       "  'psi_1_gamma',\n",
       "  'psi_0_gamma',\n",
       "  'psi_zero'],\n",
       " 'bias': array([ 0.0786545 ,  0.1822705 ,  0.18683575,  0.09720175,  0.1335365 ,\n",
       "        -0.048734  , -0.14593575]),\n",
       " 'mse': array([0.00650164, 0.03396602, 0.03652899, 0.01057727, 0.01841993,\n",
       "        0.00260644, 0.02254668]),\n",
       " 'var': array([0.00031511, 0.00074348, 0.00162139, 0.00112909, 0.00058793,\n",
       "        0.00023143, 0.00124944]),\n",
       " 'ground_truth': array([ 0.6514625, -0.2287125,  0.14295  ,  0.3007125])}"
      ]
     },
     "execution_count": 96,
     "metadata": {},
     "output_type": "execute_result"
    }
   ],
   "source": [
    "from run_pll import run_autognet_raw\n",
    "\n",
    "mispec = 'outcome'\n",
    "\n",
    "if mispec == 'outcome':\n",
    "    np.random.seed(0)\n",
    "    L_chain_noise = np.random.binomial(n=1, p=0.2, size=L_chain.shape)\n",
    "\n",
    "    treat_p = 0.7\n",
    "    args = [{'Y_chain': Y_chain,\n",
    "            'A_chain': A_chain,\n",
    "            'L_chain': L_chain_noise,\n",
    "            'adj': adj1,\n",
    "            'i': i,\n",
    "            'treatment_allocation': treat_p} for i in range(len(Y_chain))]\n",
    "\n",
    "    print(Y_chain[10,:20])\n",
    "\n",
    "    res_list_dr = run_pll(run_autognet_raw, args, processes=n_cpu)\n",
    "    res_list_array_dr = np.array(res_list_dr)\n",
    "    results1 = res_list_array_dr.copy()\n",
    "    \n",
    "    delete_all_files_in_folder(f'run/run_autog_raw')\n",
    "\n",
    "\n",
    "    treat_p = 0.3\n",
    "    args = [{'Y_chain': Y_chain,\n",
    "            'A_chain': A_chain,\n",
    "            'L_chain': L_chain,\n",
    "            'adj': adj1,\n",
    "            'i': i,\n",
    "            'treatment_allocation': treat_p} for i in range(len(Y_chain))]\n",
    "\n",
    "    print(Y_chain[10,:20])\n",
    "\n",
    "    res_list_dr = run_pll(run_autognet_raw, args, processes=n_cpu)\n",
    "    res_list_array_dr = np.array(res_list_dr)\n",
    "    results2 = res_list_array_dr.copy()\n",
    "    \n",
    "    delete_all_files_in_folder(f'run/run_autog_raw')\n",
    "\n",
    "\n",
    "compute_stats_ag(results1, results2, ground_truth1)"
   ]
  },
  {
   "cell_type": "markdown",
   "id": "390d634f",
   "metadata": {},
   "source": [
    "'bias': array([-0.00717862, -0.02206337,  0.00918291,  0.02385599, -0.01313638,\n",
    "         0.00892699, -0.01492901]),\n",
    " 'mse': array([0.00331698, 0.00873615, 0.0024492 , 0.00864149, 0.006847  ,\n",
    "        0.00116539, 0.0080453 ]),"
   ]
  },
  {
   "cell_type": "code",
   "execution_count": null,
   "id": "fa245f8d",
   "metadata": {},
   "outputs": [],
   "source": []
  },
  {
   "cell_type": "code",
   "execution_count": 97,
   "id": "2d1ec76d-43df-4d65-9506-06a148eed5a5",
   "metadata": {},
   "outputs": [
    {
     "name": "stdout",
     "output_type": "stream",
     "text": [
      "Multiprocessing <function run_dr_em_raw at 0x7f4c8f9cc720> in 100 tasks, with 100 processes...\n",
      "Multiprocessing finished.\n",
      "Multiprocessing <function run_dr_em_raw at 0x7f4c8f9cc720> in 100 tasks, with 100 processes...\n",
      "Multiprocessing finished.\n"
     ]
    },
    {
     "name": "stderr",
     "output_type": "stream",
     "text": [
      "100%|██████████| 100/100 [00:06<00:00, 16.42it/s]\n"
     ]
    },
    {
     "data": {
      "text/plain": [
       "{'columns': ['average',\n",
       "  'direct',\n",
       "  'indirect',\n",
       "  'spillover_effect',\n",
       "  'psi_1_gamma',\n",
       "  'psi_0_gamma',\n",
       "  'psi_zero'],\n",
       " 'coverage_rate': array([0.92, 0.93, 0.97, 0.94, 0.9 , 0.91, 0.95]),\n",
       " 'bias': array([-0.00432278, -0.00823515,  0.00152035,  0.0025803 , -0.00613208,\n",
       "         0.00210307, -0.00047722]),\n",
       " 'mse': array([0.00258915, 0.00682003, 0.00173371, 0.00386034, 0.00527241,\n",
       "        0.00108464, 0.00347572]),\n",
       " 'var': array([0.00257046, 0.00675222, 0.0017314 , 0.00385368, 0.0052348 ,\n",
       "        0.00108022, 0.00347549]),\n",
       " 'ci_length': array([0.16701138, 0.25484955, 0.14867103, 0.22670438, 0.22816921,\n",
       "        0.10317431, 0.22941625]),\n",
       " 'true_effect': array([ 0.6514625, -0.2287125,  0.14295  ,  0.3007125,  0.5821875,\n",
       "         0.8109   ,  0.5101875])}"
      ]
     },
     "execution_count": 97,
     "metadata": {},
     "output_type": "execute_result"
    }
   ],
   "source": [
    "from utils import *\n",
    "from run_pll import run_dr_em_raw\n",
    "\n",
    "treat_p = 0.7\n",
    "mispec = None\n",
    "args = [{'Y_chain': Y_chain,\n",
    "         'A_chain': A_chain,\n",
    "         'L_chain': L_chain,\n",
    "         'adj': adj1,\n",
    "         'i': i,\n",
    "         'treatment_allocation': treat_p,\n",
    "         'mispec': mispec} for i in range(len(Y_chain))]\n",
    "\n",
    "res_list_dr = run_pll(run_dr_em_raw, args, processes=n_cpu)\n",
    "res_list_array_dr = np.array(res_list_dr)\n",
    "results1 = res_list_array_dr.copy()\n",
    "\n",
    "delete_all_files_in_folder(f'run/run_dr_em_raw')\n",
    "\n",
    "from utils import run_pll\n",
    "from run_pll import run_dr_em_raw\n",
    "\n",
    "treat_p = 0.3\n",
    "args = [{'Y_chain': Y_chain,\n",
    "         'A_chain': A_chain,\n",
    "         'L_chain': L_chain,\n",
    "         'adj': adj1,\n",
    "         'i': i,\n",
    "         'treatment_allocation': treat_p,\n",
    "         'mispec': mispec} for i in range(len(Y_chain))]\n",
    "\n",
    "res_list_dr = run_pll(run_dr_em_raw, args, processes=n_cpu)\n",
    "res_list_array_dr = np.array(res_list_dr)\n",
    "results2 = res_list_array_dr.copy()\n",
    "\n",
    "delete_all_files_in_folder(f'run/run_dr_em_raw')\n",
    "\n",
    "compute_stats(results1, results2, ground_truth1, adj1)"
   ]
  },
  {
   "cell_type": "markdown",
   "id": "56e049fb-abad-44a0-af69-cdd754d7f3ec",
   "metadata": {},
   "source": [
    "'columns': ['average',\n",
    "  'direct',\n",
    "  'indirect',\n",
    "  'spillover_effect',\n",
    "  'psi_1_gamma',\n",
    "  'psi_0_gamma',\n",
    "  'psi_zero'],\n",
    " 'coverage_rate': array([0.96, 1.  , 0.92, 0.92, 0.97, 0.85, 0.88]),\n",
    " 'bias': array([ 2.31398247e-05,  7.83431262e-03, -2.28271532e-03, -1.75841679e-02,\n",
    "         3.59336098e-05, -7.79837901e-03,  9.78578890e-03]),\n",
    " 'mse': array([0.00176229, 0.00346415, 0.00497262, 0.03678627, 0.00315528,\n",
    "        0.00095473, 0.03662267]),\n",
    " 'var': array([0.00176229, 0.00340277, 0.00496741, 0.03647707, 0.00315528,\n",
    "        0.00089392, 0.03652691]),\n",
    " 'ci_length': array([0.16035535, 0.25128148, 0.20171466, 0.55201123, 0.22136661,\n",
    "        0.10689214, 0.54127235]),\n",
    " 'true_effect': array([ 0.36545  ,  0.41975  , -0.1044375, -0.231575 ,  0.4937125,\n",
    "         0.0739625,  0.3055375])}"
   ]
  },
  {
   "cell_type": "code",
   "execution_count": null,
   "id": "987024df-34af-46dd-92b7-2af8cca23d05",
   "metadata": {},
   "outputs": [],
   "source": []
  },
  {
   "cell_type": "code",
   "execution_count": null,
   "id": "7714fc4e-a14f-42f9-8ca4-19b93a4a313d",
   "metadata": {},
   "outputs": [],
   "source": []
  }
 ],
 "metadata": {
  "kernelspec": {
   "display_name": "Python 3 (ipykernel)",
   "language": "python",
   "name": "python3"
  },
  "language_info": {
   "codemirror_mode": {
    "name": "ipython",
    "version": 3
   },
   "file_extension": ".py",
   "mimetype": "text/x-python",
   "name": "python",
   "nbconvert_exporter": "python",
   "pygments_lexer": "ipython3",
   "version": "3.12.9"
  }
 },
 "nbformat": 4,
 "nbformat_minor": 5
}
