{
 "cells": [
  {
   "cell_type": "code",
   "execution_count": 1,
   "id": "f7ff5b64",
   "metadata": {},
   "outputs": [],
   "source": [
    "num_sample = 5000\n",
    "num_burn = 2000\n",
    "sample_size = 800\n",
    "n_cpu = 10\n",
    "\n",
    "min_degree = 1\n",
    "max_degree = 2"
   ]
  },
  {
   "cell_type": "code",
   "execution_count": 2,
   "id": "56d2560c",
   "metadata": {},
   "outputs": [
    {
     "name": "stdout",
     "output_type": "stream",
     "text": [
      "1 2\n"
     ]
    },
    {
     "name": "stderr",
     "output_type": "stream",
     "text": [
      "100%|██████████| 7000/7000 [00:18<00:00, 382.90it/s]\n"
     ]
    },
    {
     "data": {
      "text/plain": [
       "(0.6017424278172585,\n",
       " 0.41514124999999996,\n",
       " 0.53805,\n",
       " 0.34363739382484965,\n",
       " 0.36536884422186733)"
      ]
     },
     "execution_count": 2,
     "metadata": {},
     "output_type": "execute_result"
    }
   ],
   "source": [
    "from dgp import sample_network_chain, get_graph, sample_Y1, sample_Y2, agcEffect\n",
    "import numpy as np\n",
    "\n",
    "# 1. Simulate or load data\n",
    "adj1 = get_graph(sample_size, min_degree, max_degree, seed=1)\n",
    "print(adj1.sum(axis=1).min(), adj1.sum(axis=1).max())\n",
    "\n",
    "tau = np.array([-1.0, 0.50, -0.50])       # shape (3,)\n",
    "rho = np.array([[0,0.1,0.2],\n",
    "                [0.1,0,0.1],\n",
    "                [0.2,0.1,0]])      # shape (3, 3), with 0s on the diagonal\n",
    "nu = np.array([0.1,0,0,0.1,0,0,0.1,0,0]).reshape(3,3)       # shape (3, 3)\n",
    "gamma = np.array([-1,2,0.1,-2,0.1,2,0.1,0.1])    # shape (8,)   \n",
    "beta = np.array([-1*min_degree,2,0.1,2,0.1,-2,0.1,2,0.1,0.1])\n",
    "\n",
    "Y_chain, A_chain, L_chain = sample_network_chain(adj1, tau, rho, nu, gamma, beta, R=num_sample,\n",
    "    burnin_R=num_burn, seed=0, sample_Y_func=sample_Y1, Atype=('gen', 0.7))\n",
    "\n",
    "Y_chain = Y_chain[::5]\n",
    "A_chain = A_chain[::5]\n",
    "L_chain = L_chain[::5]\n",
    "\n",
    "dir, dir2, dir3, dir4 = [], [], [], []\n",
    "for i in range(Y_chain.shape[0]):\n",
    "    Y = Y_chain[i]\n",
    "    A = A_chain[i]\n",
    "    L = L_chain[i]\n",
    "    dir.append(np.mean(np.mean(Y[A==1]) - Y[A==0]))\n",
    "    dir2.append(np.mean(A))\n",
    "    dir3.append(np.mean(A[L[:,0]==1]) - np.mean(A[L[:,0]==0]))\n",
    "    dir4.append(np.mean(Y[L[:,0]==1]) - np.mean(Y[L[:,0]==0]))\n",
    "\n",
    "np.mean(dir), np.mean(dir2), np.mean(Y_chain), np.mean(dir3), np.mean(dir4)"
   ]
  },
  {
   "cell_type": "code",
   "execution_count": 3,
   "id": "f7c02fd1",
   "metadata": {},
   "outputs": [
    {
     "name": "stderr",
     "output_type": "stream",
     "text": [
      "100%|██████████| 200/200 [00:00<00:00, 501.56it/s]\n",
      "100%|██████████| 200/200 [00:00<00:00, 569.41it/s]\n",
      "100%|██████████| 200/200 [00:00<00:00, 568.91it/s]\n",
      "100%|██████████| 200/200 [00:00<00:00, 568.02it/s]\n",
      "100%|██████████| 200/200 [00:00<00:00, 572.67it/s]\n",
      "100%|██████████| 200/200 [00:00<00:00, 577.65it/s]\n",
      "100%|██████████| 200/200 [00:00<00:00, 566.60it/s]\n",
      "100%|██████████| 200/200 [00:00<00:00, 567.13it/s]\n"
     ]
    },
    {
     "data": {
      "text/plain": [
       "{'average': 0.6596249999999999,\n",
       " 'direct': 0.3172,\n",
       " 'indirect': 0.01352500000000001,\n",
       " 'spillover_effect': 0.023562500000000042,\n",
       " 'psi_1_gamma': 0.7563,\n",
       " 'psi_0_gamma': 0.4391,\n",
       " 'psi_zero': 0.41553749999999995}"
      ]
     },
     "execution_count": 3,
     "metadata": {},
     "output_type": "execute_result"
    }
   ],
   "source": [
    "res_truth1 = agcEffect(\n",
    "    adj1,\n",
    "    tau, rho, nu, beta,\n",
    "    treatment_allocation=0.7,\n",
    "    R=100,\n",
    "    burnin_R=100,\n",
    "    seed=0\n",
    ")\n",
    "res_truth2 = agcEffect(\n",
    "    adj1,\n",
    "    tau, rho, nu, beta,\n",
    "    treatment_allocation=0.3,\n",
    "    R=100,\n",
    "    burnin_R=100,\n",
    "    seed=0\n",
    ")\n",
    "\n",
    "ground_truth1 = {}\n",
    "ground_truth1['average'] = res_truth1['average']\n",
    "ground_truth1['direct'] = res_truth1['direct_effect']\n",
    "ground_truth1['indirect'] = res_truth1['psi_0_gamma'] - res_truth2['psi_0_gamma']\n",
    "ground_truth1['spillover_effect'] = res_truth1['spillover_effect']\n",
    "ground_truth1['psi_1_gamma'] = res_truth1['psi_1_gamma']\n",
    "ground_truth1['psi_0_gamma'] = res_truth1['psi_0_gamma']\n",
    "ground_truth1['psi_zero'] = res_truth1['psi_zero']\n",
    "\n",
    "ground_truth1"
   ]
  },
  {
   "cell_type": "code",
   "execution_count": 4,
   "id": "6e40787d",
   "metadata": {},
   "outputs": [
    {
     "name": "stdout",
     "output_type": "stream",
     "text": [
      "Multiprocessing <function run_dr_em_raw at 0x124b0cdc0> in 1000 tasks, with 10 processes...\n",
      "Multiprocessing finished.\n",
      "Multiprocessing <function run_dr_em_raw at 0x124b0cdc0> in 1000 tasks, with 10 processes...\n",
      "Multiprocessing finished.\n"
     ]
    },
    {
     "name": "stderr",
     "output_type": "stream",
     "text": [
      "100%|██████████| 1000/1000 [00:35<00:00, 28.41it/s]\n"
     ]
    },
    {
     "data": {
      "text/plain": [
       "{'columns': ['average',\n",
       "  'direct',\n",
       "  'indirect',\n",
       "  'spillover_effect',\n",
       "  'psi_1_gamma',\n",
       "  'psi_0_gamma',\n",
       "  'psi_zero'],\n",
       " 'coverage_rate': array([0.888, 0.871, 0.934, 0.949, 0.822, 0.906, 0.899]),\n",
       " 'bias': array([ 0.00871759,  0.02836992, -0.00681863, -0.0073431 ,  0.01571357,\n",
       "        -0.01265636, -0.00531326]),\n",
       " 'mse': array([0.00344561, 0.01041435, 0.00458686, 0.01228491, 0.0059519 ,\n",
       "        0.00480724, 0.00817444]),\n",
       " 'var': array([0.00336961, 0.0096095 , 0.00454037, 0.01223099, 0.00570499,\n",
       "        0.00464706, 0.00814621]),\n",
       " 'ci_length': array([0.21866086, 0.41270422, 0.25512268, 0.43274621, 0.28362896,\n",
       "        0.2717543 , 0.35370916]),\n",
       " 'true_effect': array([0.659625 , 0.3172   , 0.013525 , 0.0235625, 0.7563   , 0.4391   ,\n",
       "        0.4155375])}"
      ]
     },
     "execution_count": 4,
     "metadata": {},
     "output_type": "execute_result"
    }
   ],
   "source": [
    "from utils import run_pll, delete_all_files_in_folder\n",
    "from run_pll import run_dr_em_raw\n",
    "\n",
    "treat_p = 0.7\n",
    "mispec = 'outcome'\n",
    "args = [{'Y_chain': Y_chain,\n",
    "         'A_chain': A_chain,\n",
    "         'L_chain': L_chain,\n",
    "         'adj': adj1,\n",
    "         'i': i,\n",
    "         'treatment_allocation': treat_p,\n",
    "         'mispec': mispec} for i in range(len(Y_chain))]\n",
    "\n",
    "res_list_dr = run_pll(run_dr_em_raw, args, processes=n_cpu)\n",
    "res_list_array_dr = np.array(res_list_dr)\n",
    "# save results\n",
    "np.save(f'run/sim_results/sim_dr_em_raw_{sample_size}_{min_degree}_{max_degree}_{treat_p}.npy', res_list_array_dr)\n",
    "\n",
    "delete_all_files_in_folder(f'run/run_dr_em_raw')\n",
    "\n",
    "from utils import run_pll\n",
    "from run_pll import run_dr_em_raw\n",
    "\n",
    "treat_p = 0.3\n",
    "args = [{'Y_chain': Y_chain,\n",
    "         'A_chain': A_chain,\n",
    "         'L_chain': L_chain,\n",
    "         'adj': adj1,\n",
    "         'i': i,\n",
    "         'treatment_allocation': treat_p,\n",
    "         'mispec': mispec} for i in range(len(Y_chain))]\n",
    "\n",
    "res_list_dr = run_pll(run_dr_em_raw, args, processes=n_cpu)\n",
    "res_list_array_dr = np.array(res_list_dr)\n",
    "# save results\n",
    "np.save(f'run/sim_results/sim_dr_em_raw_{sample_size}_{min_degree}_{max_degree}_{treat_p}.npy', res_list_array_dr)\n",
    "\n",
    "delete_all_files_in_folder(f'run/run_dr_em_raw')\n",
    "\n",
    "# read results\n",
    "import numpy as np\n",
    "from utils import *\n",
    "\n",
    "\n",
    "results1 = np.load(f'run/sim_results/sim_dr_em_raw_{sample_size}_{min_degree}_{max_degree}_{0.7}.npy', allow_pickle=True)\n",
    "results2 = np.load(f'run/sim_results/sim_dr_em_raw_{sample_size}_{min_degree}_{max_degree}_{0.3}.npy', allow_pickle=True)\n",
    "\n",
    "compute_stats(results1, results2, ground_truth1, adj1)"
   ]
  },
  {
   "cell_type": "code",
   "execution_count": 5,
   "id": "86a36a76",
   "metadata": {},
   "outputs": [
    {
     "name": "stderr",
     "output_type": "stream",
     "text": [
      "  0%|          | 0/1000 [00:00<?, ?it/s]"
     ]
    },
    {
     "name": "stderr",
     "output_type": "stream",
     "text": [
      "100%|██████████| 1000/1000 [00:04<00:00, 205.85it/s]"
     ]
    },
    {
     "name": "stdout",
     "output_type": "stream",
     "text": [
      "3.3022874017199437 3.2150750634161227 2.6956908813639773\n"
     ]
    },
    {
     "name": "stderr",
     "output_type": "stream",
     "text": [
      "\n"
     ]
    }
   ],
   "source": [
    "from tqdm import tqdm\n",
    "from drnet import compute_avg_effects_std_from_raw\n",
    "\n",
    "results1 = np.load(f'run/sim_results/sim_dr_em_raw_{sample_size}_{min_degree}_{max_degree}_{0.7}.npy', allow_pickle=True)\n",
    "\n",
    "var = []\n",
    "var_sim = []\n",
    "est = []\n",
    "idx = 0\n",
    "for i in tqdm(range(Y_chain.shape[0])):\n",
    "    avg_effects, se_hac = compute_avg_effects_std_from_raw(results1[i,:,idx],adj1,h=2)\n",
    "    var.append(se_hac**2*sample_size)\n",
    "    var_sim.append(np.var(results1[i,:,idx]))\n",
    "    est.append(avg_effects)\n",
    "\n",
    "var_true = np.var(est)\n",
    "print(np.mean(var), np.mean(var_sim), var_true*sample_size)"
   ]
  },
  {
   "cell_type": "code",
   "execution_count": null,
   "id": "a5ab1edf",
   "metadata": {},
   "outputs": [],
   "source": []
  },
  {
   "cell_type": "code",
   "execution_count": null,
   "id": "96208eed",
   "metadata": {},
   "outputs": [
    {
     "name": "stdout",
     "output_type": "stream",
     "text": [
      "Multiprocessing <function run_dr_em_raw at 0x124b0cdc0> in 1000 tasks, with 10 processes...\n"
     ]
    }
   ],
   "source": [
    "from utils import run_pll, delete_all_files_in_folder\n",
    "from run_pll import run_dr_em_raw\n",
    "\n",
    "treat_p = 0.7\n",
    "mispec = None\n",
    "args = [{'Y_chain': Y_chain,\n",
    "         'A_chain': A_chain,\n",
    "         'L_chain': L_chain,\n",
    "         'adj': adj1,\n",
    "         'i': i,\n",
    "         'treatment_allocation': treat_p,\n",
    "         'mispec': mispec} for i in range(len(Y_chain))]\n",
    "\n",
    "res_list_dr = run_pll(run_dr_em_raw, args, processes=n_cpu)\n",
    "res_list_array_dr = np.array(res_list_dr)\n",
    "# save results\n",
    "np.save(f'run/sim_results/sim_dr_em_raw_{sample_size}_{min_degree}_{max_degree}_{treat_p}.npy', res_list_array_dr)\n",
    "\n",
    "delete_all_files_in_folder(f'run/run_dr_em_raw')\n",
    "\n",
    "from utils import run_pll\n",
    "from run_pll import run_dr_em_raw\n",
    "\n",
    "treat_p = 0.3\n",
    "args = [{'Y_chain': Y_chain,\n",
    "         'A_chain': A_chain,\n",
    "         'L_chain': L_chain,\n",
    "         'adj': adj1,\n",
    "         'i': i,\n",
    "         'treatment_allocation': treat_p,\n",
    "         'mispec': mispec} for i in range(len(Y_chain))]\n",
    "\n",
    "res_list_dr = run_pll(run_dr_em_raw, args, processes=n_cpu)\n",
    "res_list_array_dr = np.array(res_list_dr)\n",
    "# save results\n",
    "np.save(f'run/sim_results/sim_dr_em_raw_{sample_size}_{min_degree}_{max_degree}_{treat_p}.npy', res_list_array_dr)\n",
    "\n",
    "delete_all_files_in_folder(f'run/run_dr_em_raw')\n",
    "\n",
    "\n",
    "# read results\n",
    "import numpy as np\n",
    "from utils import *\n",
    "\n",
    "\n",
    "results1 = np.load(f'run/sim_results/sim_dr_em_raw_{sample_size}_{min_degree}_{max_degree}_{0.7}.npy', allow_pickle=True)\n",
    "results2 = np.load(f'run/sim_results/sim_dr_em_raw_{sample_size}_{min_degree}_{max_degree}_{0.3}.npy', allow_pickle=True)\n",
    "\n",
    "compute_stats(results1, results2, ground_truth1, adj1)"
   ]
  },
  {
   "cell_type": "code",
   "execution_count": null,
   "id": "78280efe",
   "metadata": {},
   "outputs": [],
   "source": []
  },
  {
   "cell_type": "markdown",
   "id": "c2fc55bf",
   "metadata": {},
   "source": [
    "## Compare with AUTOG"
   ]
  },
  {
   "cell_type": "code",
   "execution_count": null,
   "id": "c253d126",
   "metadata": {},
   "outputs": [],
   "source": [
    "from run_pll import run_autognet_raw\n",
    "\n",
    "mispec = 'outcome'\n",
    "\n",
    "if mispec == 'outcome':\n",
    "    np.random.seed(0)\n",
    "    L_chain = np.random.binomial(n=1, p=0.2, size=L_chain.shape)\n",
    "\n",
    "    treat_p = 0.7\n",
    "    args = [{'Y_chain': Y_chain,\n",
    "            'A_chain': A_chain,\n",
    "            'L_chain': L_chain,\n",
    "            'adj': adj1,\n",
    "            'i': i,\n",
    "            'treatment_allocation': treat_p} for i in range(len(Y_chain))]\n",
    "\n",
    "    res_list_dr = run_pll(run_autognet_raw, args, processes=n_cpu)\n",
    "    res_list_array_dr = np.array(res_list_dr)\n",
    "    # save results\n",
    "    np.save(f'run/sim_results/sim_ag_raw_{sample_size}_{min_degree}_{max_degree}_{treat_p}_{mispec}.npy', res_list_array_dr)\n",
    "    delete_all_files_in_folder(f'run/run_autog_raw')\n",
    "\n",
    "\n",
    "    treat_p = 0.3\n",
    "    args = [{'Y_chain': Y_chain,\n",
    "            'A_chain': A_chain,\n",
    "            'L_chain': L_chain,\n",
    "            'adj': adj1,\n",
    "            'i': i,\n",
    "            'treatment_allocation': treat_p} for i in range(len(Y_chain))]\n",
    "\n",
    "    res_list_dr = run_pll(run_autognet_raw, args, processes=n_cpu)\n",
    "    res_list_array_dr = np.array(res_list_dr)\n",
    "    # save results\n",
    "    np.save(f'run/sim_results/sim_ag_raw_{sample_size}_{min_degree}_{max_degree}_{treat_p}_{mispec}.npy', res_list_array_dr)\n",
    "    delete_all_files_in_folder(f'run/run_autog_raw')\n",
    "\n",
    "\n",
    "results1 = np.load(f'run/sim_results/sim_ag_raw_{sample_size}_{min_degree}_{max_degree}_{0.7}_{mispec}.npy')\n",
    "results2 = np.load(f'run/sim_results/sim_ag_raw_{sample_size}_{min_degree}_{max_degree}_{0.3}_{mispec}.npy')\n",
    "\n",
    "compute_stats_ag(results1, results2, ground_truth1)"
   ]
  },
  {
   "cell_type": "code",
   "execution_count": null,
   "id": "fa245f8d",
   "metadata": {},
   "outputs": [],
   "source": []
  }
 ],
 "metadata": {
  "kernelspec": {
   "display_name": "Python 3 (ipykernel)",
   "language": "python",
   "name": "python3"
  },
  "language_info": {
   "codemirror_mode": {
    "name": "ipython",
    "version": 3
   },
   "file_extension": ".py",
   "mimetype": "text/x-python",
   "name": "python",
   "nbconvert_exporter": "python",
   "pygments_lexer": "ipython3",
   "version": "3.12.9"
  }
 },
 "nbformat": 4,
 "nbformat_minor": 5
}
