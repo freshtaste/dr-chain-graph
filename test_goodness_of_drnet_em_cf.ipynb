{
 "cells": [
  {
   "cell_type": "code",
   "execution_count": 22,
   "id": "f7ff5b64",
   "metadata": {},
   "outputs": [],
   "source": [
    "num_sample = 300\n",
    "num_burn = 20\n",
    "sample_size = 800\n",
    "n_cpu = 10\n",
    "\n",
    "min_degree = 1\n",
    "max_degree = 1"
   ]
  },
  {
   "cell_type": "code",
   "execution_count": 23,
   "id": "56d2560c",
   "metadata": {},
   "outputs": [
    {
     "name": "stdout",
     "output_type": "stream",
     "text": [
      "1 9\n"
     ]
    },
    {
     "name": "stderr",
     "output_type": "stream",
     "text": [
      "100%|██████████| 320/320 [00:00<00:00, 377.05it/s]\n"
     ]
    },
    {
     "data": {
      "text/plain": [
       "(0.6088388224640909,\n",
       " 0.4185750000000001,\n",
       " 0.5322125,\n",
       " 0.34354810870108954,\n",
       " 0.370410925858805)"
      ]
     },
     "execution_count": 23,
     "metadata": {},
     "output_type": "execute_result"
    }
   ],
   "source": [
    "from dgp import sample_network_chain, get_graph, sample_Y1, sample_Y2, agcEffect\n",
    "import numpy as np\n",
    "\n",
    "# 1. Simulate or load data\n",
    "adj1 = get_graph(sample_size, min_degree, max_degree, seed=1)\n",
    "print(adj1.sum(axis=1).min(), adj1.sum(axis=1).max())\n",
    "\n",
    "tau = np.array([-1.0, 0.50, -0.50])       # shape (3,)\n",
    "rho = np.array([[0,0.1,0.2],\n",
    "                [0.1,0,0.1],\n",
    "                [0.2,0.1,0]])      # shape (3, 3), with 0s on the diagonal\n",
    "nu = np.array([0.1,0,0,0.1,0,0,0.1,0,0]).reshape(3,3)       # shape (3, 3)\n",
    "gamma = np.array([-1,2,0.1,-2,0.1,2,0.1,0.1])    # shape (8,)   \n",
    "beta = np.array([-1,2,0.1,2,0.1,-2,0.1,2,0.1,0])\n",
    "\n",
    "Y_chain, A_chain, L_chain = sample_network_chain(adj1, tau, rho, nu, gamma, beta, R=num_sample,\n",
    "    burnin_R=num_burn, seed=0, sample_Y_func=sample_Y1, Atype=('gen', 0.7))\n",
    "\n",
    "Y_chain = Y_chain[::3]\n",
    "A_chain = A_chain[::3]\n",
    "L_chain = L_chain[::3]\n",
    "\n",
    "dir, dir2, dir3, dir4 = [], [], [], []\n",
    "for i in range(Y_chain.shape[0]):\n",
    "    Y = Y_chain[i]\n",
    "    A = A_chain[i]\n",
    "    L = L_chain[i]\n",
    "    dir.append(np.mean(np.mean(Y[A==1]) - Y[A==0]))\n",
    "    dir2.append(np.mean(A))\n",
    "    dir3.append(np.mean(A[L[:,0]==1]) - np.mean(A[L[:,0]==0]))\n",
    "    dir4.append(np.mean(Y[L[:,0]==1]) - np.mean(Y[L[:,0]==0]))\n",
    "\n",
    "np.mean(dir), np.mean(dir2), np.mean(Y_chain), np.mean(dir3), np.mean(dir4)"
   ]
  },
  {
   "cell_type": "code",
   "execution_count": 24,
   "id": "f7c02fd1",
   "metadata": {},
   "outputs": [
    {
     "name": "stderr",
     "output_type": "stream",
     "text": [
      "100%|██████████| 200/200 [00:00<00:00, 590.77it/s]\n",
      "100%|██████████| 200/200 [00:00<00:00, 599.50it/s]\n",
      "100%|██████████| 200/200 [00:00<00:00, 598.08it/s]\n",
      "100%|██████████| 200/200 [00:00<00:00, 597.18it/s]\n",
      "100%|██████████| 200/200 [00:00<00:00, 587.64it/s]\n",
      "100%|██████████| 200/200 [00:00<00:00, 585.29it/s]\n",
      "100%|██████████| 200/200 [00:00<00:00, 593.62it/s]\n",
      "100%|██████████| 200/200 [00:00<00:00, 593.33it/s]\n"
     ]
    },
    {
     "data": {
      "text/plain": [
       "{'average': 0.6392625000000001,\n",
       " 'direct': 0.30823750000000005,\n",
       " 'indirect': 0.011837499999999945,\n",
       " 'spillover_effect': 0.02166250000000014,\n",
       " 'psi_1_gamma': 0.7344250000000001,\n",
       " 'psi_0_gamma': 0.42618750000000005,\n",
       " 'psi_zero': 0.4045249999999999}"
      ]
     },
     "execution_count": 24,
     "metadata": {},
     "output_type": "execute_result"
    }
   ],
   "source": [
    "res_truth1 = agcEffect(\n",
    "    adj1,\n",
    "    tau, rho, nu, beta,\n",
    "    treatment_allocation=0.7,\n",
    "    R=100,\n",
    "    burnin_R=100,\n",
    "    seed=0\n",
    ")\n",
    "res_truth2 = agcEffect(\n",
    "    adj1,\n",
    "    tau, rho, nu, beta,\n",
    "    treatment_allocation=0.3,\n",
    "    R=100,\n",
    "    burnin_R=100,\n",
    "    seed=0\n",
    ")\n",
    "\n",
    "ground_truth1 = {}\n",
    "ground_truth1['average'] = res_truth1['average']\n",
    "ground_truth1['direct'] = res_truth1['direct_effect']\n",
    "ground_truth1['indirect'] = res_truth1['psi_0_gamma'] - res_truth2['psi_0_gamma']\n",
    "ground_truth1['spillover_effect'] = res_truth1['spillover_effect']\n",
    "ground_truth1['psi_1_gamma'] = res_truth1['psi_1_gamma']\n",
    "ground_truth1['psi_0_gamma'] = res_truth1['psi_0_gamma']\n",
    "ground_truth1['psi_zero'] = res_truth1['psi_zero']\n",
    "\n",
    "ground_truth1"
   ]
  },
  {
   "cell_type": "code",
   "execution_count": 25,
   "id": "6e40787d",
   "metadata": {},
   "outputs": [
    {
     "name": "stdout",
     "output_type": "stream",
     "text": [
      "Multiprocessing <function run_dr_em_raw at 0x30cb68ee0> in 100 tasks, with 10 processes...\n"
     ]
    },
    {
     "name": "stderr",
     "output_type": "stream",
     "text": [
      "/Users/ljzljz/Documents/DR/dr-chain-graph/drnet_em.py:184: RuntimeWarning: divide by zero encountered in divide\n",
      "  psi_vec[:,a,g] = beta_hat + I / pi * (Y - beta_hat)\n",
      "/Users/ljzljz/Documents/DR/dr-chain-graph/drnet_em.py:184: RuntimeWarning: divide by zero encountered in divide\n",
      "  psi_vec[:,a,g] = beta_hat + I / pi * (Y - beta_hat)\n",
      "/Users/ljzljz/Documents/DR/dr-chain-graph/drnet_em.py:184: RuntimeWarning: divide by zero encountered in divide\n",
      "  psi_vec[:,a,g] = beta_hat + I / pi * (Y - beta_hat)\n",
      "/Users/ljzljz/Documents/DR/dr-chain-graph/drnet_em.py:184: RuntimeWarning: divide by zero encountered in divide\n",
      "  psi_vec[:,a,g] = beta_hat + I / pi * (Y - beta_hat)\n",
      "/Users/ljzljz/Documents/DR/dr-chain-graph/drnet_em.py:184: RuntimeWarning: invalid value encountered in multiply\n",
      "  psi_vec[:,a,g] = beta_hat + I / pi * (Y - beta_hat)\n",
      "/Users/ljzljz/Documents/DR/dr-chain-graph/drnet_em.py:184: RuntimeWarning: divide by zero encountered in divide\n",
      "  psi_vec[:,a,g] = beta_hat + I / pi * (Y - beta_hat)\n",
      "/Users/ljzljz/Documents/DR/dr-chain-graph/drnet_em.py:184: RuntimeWarning: divide by zero encountered in divide\n",
      "  psi_vec[:,a,g] = beta_hat + I / pi * (Y - beta_hat)\n",
      "/Users/ljzljz/Documents/DR/dr-chain-graph/drnet_em.py:184: RuntimeWarning: divide by zero encountered in divide\n",
      "  psi_vec[:,a,g] = beta_hat + I / pi * (Y - beta_hat)\n",
      "/Users/ljzljz/Documents/DR/dr-chain-graph/drnet_em.py:184: RuntimeWarning: divide by zero encountered in divide\n",
      "  psi_vec[:,a,g] = beta_hat + I / pi * (Y - beta_hat)\n",
      "/Users/ljzljz/Documents/DR/dr-chain-graph/drnet_em.py:184: RuntimeWarning: invalid value encountered in multiply\n",
      "  psi_vec[:,a,g] = beta_hat + I / pi * (Y - beta_hat)\n",
      "/Users/ljzljz/Documents/DR/dr-chain-graph/drnet_em.py:184: RuntimeWarning: divide by zero encountered in divide\n",
      "  psi_vec[:,a,g] = beta_hat + I / pi * (Y - beta_hat)\n",
      "/Users/ljzljz/Documents/DR/dr-chain-graph/drnet_em.py:184: RuntimeWarning: divide by zero encountered in divide\n",
      "  psi_vec[:,a,g] = beta_hat + I / pi * (Y - beta_hat)\n",
      "/Users/ljzljz/Documents/DR/dr-chain-graph/drnet_em.py:184: RuntimeWarning: invalid value encountered in multiply\n",
      "  psi_vec[:,a,g] = beta_hat + I / pi * (Y - beta_hat)\n",
      "/Users/ljzljz/Documents/DR/dr-chain-graph/drnet_em.py:184: RuntimeWarning: divide by zero encountered in divide\n",
      "  psi_vec[:,a,g] = beta_hat + I / pi * (Y - beta_hat)\n",
      "/Users/ljzljz/Documents/DR/dr-chain-graph/drnet_em.py:184: RuntimeWarning: invalid value encountered in multiply\n",
      "  psi_vec[:,a,g] = beta_hat + I / pi * (Y - beta_hat)\n",
      "/Users/ljzljz/Documents/DR/dr-chain-graph/drnet_em.py:184: RuntimeWarning: divide by zero encountered in divide\n",
      "  psi_vec[:,a,g] = beta_hat + I / pi * (Y - beta_hat)\n",
      "/Users/ljzljz/Documents/DR/dr-chain-graph/drnet_em.py:184: RuntimeWarning: invalid value encountered in multiply\n",
      "  psi_vec[:,a,g] = beta_hat + I / pi * (Y - beta_hat)\n",
      "/Users/ljzljz/Documents/DR/dr-chain-graph/drnet_em.py:184: RuntimeWarning: divide by zero encountered in divide\n",
      "  psi_vec[:,a,g] = beta_hat + I / pi * (Y - beta_hat)\n",
      "/Users/ljzljz/Documents/DR/dr-chain-graph/drnet_em.py:184: RuntimeWarning: divide by zero encountered in divide\n",
      "  psi_vec[:,a,g] = beta_hat + I / pi * (Y - beta_hat)\n",
      "/Users/ljzljz/Documents/DR/dr-chain-graph/drnet_em.py:184: RuntimeWarning: divide by zero encountered in divide\n",
      "  psi_vec[:,a,g] = beta_hat + I / pi * (Y - beta_hat)\n",
      "/Users/ljzljz/Documents/DR/dr-chain-graph/drnet_em.py:184: RuntimeWarning: divide by zero encountered in divide\n",
      "  psi_vec[:,a,g] = beta_hat + I / pi * (Y - beta_hat)\n",
      "/Users/ljzljz/Documents/DR/dr-chain-graph/drnet_em.py:184: RuntimeWarning: divide by zero encountered in divide\n",
      "  psi_vec[:,a,g] = beta_hat + I / pi * (Y - beta_hat)\n",
      "/Users/ljzljz/Documents/DR/dr-chain-graph/drnet_em.py:184: RuntimeWarning: invalid value encountered in multiply\n",
      "  psi_vec[:,a,g] = beta_hat + I / pi * (Y - beta_hat)\n",
      "/Users/ljzljz/Documents/DR/dr-chain-graph/drnet_em.py:184: RuntimeWarning: divide by zero encountered in divide\n",
      "  psi_vec[:,a,g] = beta_hat + I / pi * (Y - beta_hat)\n",
      "/Users/ljzljz/Documents/DR/dr-chain-graph/drnet_em.py:184: RuntimeWarning: invalid value encountered in multiply\n",
      "  psi_vec[:,a,g] = beta_hat + I / pi * (Y - beta_hat)\n",
      "/Users/ljzljz/Documents/DR/dr-chain-graph/drnet_em.py:184: RuntimeWarning: divide by zero encountered in divide\n",
      "  psi_vec[:,a,g] = beta_hat + I / pi * (Y - beta_hat)\n",
      "/Users/ljzljz/Documents/DR/dr-chain-graph/drnet_em.py:184: RuntimeWarning: divide by zero encountered in divide\n",
      "  psi_vec[:,a,g] = beta_hat + I / pi * (Y - beta_hat)\n",
      "/Users/ljzljz/Documents/DR/dr-chain-graph/drnet_em.py:184: RuntimeWarning: divide by zero encountered in divide\n",
      "  psi_vec[:,a,g] = beta_hat + I / pi * (Y - beta_hat)\n",
      "/Users/ljzljz/Documents/DR/dr-chain-graph/drnet_em.py:184: RuntimeWarning: divide by zero encountered in divide\n",
      "  psi_vec[:,a,g] = beta_hat + I / pi * (Y - beta_hat)\n",
      "/Users/ljzljz/Documents/DR/dr-chain-graph/drnet_em.py:184: RuntimeWarning: invalid value encountered in multiply\n",
      "  psi_vec[:,a,g] = beta_hat + I / pi * (Y - beta_hat)\n",
      "/Users/ljzljz/Documents/DR/dr-chain-graph/drnet_em.py:184: RuntimeWarning: divide by zero encountered in divide\n",
      "  psi_vec[:,a,g] = beta_hat + I / pi * (Y - beta_hat)\n",
      "/Users/ljzljz/Documents/DR/dr-chain-graph/drnet_em.py:184: RuntimeWarning: divide by zero encountered in divide\n",
      "  psi_vec[:,a,g] = beta_hat + I / pi * (Y - beta_hat)\n",
      "/Users/ljzljz/Documents/DR/dr-chain-graph/drnet_em.py:184: RuntimeWarning: divide by zero encountered in divide\n",
      "  psi_vec[:,a,g] = beta_hat + I / pi * (Y - beta_hat)\n",
      "/Users/ljzljz/Documents/DR/dr-chain-graph/drnet_em.py:184: RuntimeWarning: invalid value encountered in multiply\n",
      "  psi_vec[:,a,g] = beta_hat + I / pi * (Y - beta_hat)\n",
      "/Users/ljzljz/Documents/DR/dr-chain-graph/drnet_em.py:184: RuntimeWarning: divide by zero encountered in divide\n",
      "  psi_vec[:,a,g] = beta_hat + I / pi * (Y - beta_hat)\n",
      "/Users/ljzljz/Documents/DR/dr-chain-graph/drnet_em.py:184: RuntimeWarning: divide by zero encountered in divide\n",
      "  psi_vec[:,a,g] = beta_hat + I / pi * (Y - beta_hat)\n",
      "/Users/ljzljz/Documents/DR/dr-chain-graph/drnet_em.py:184: RuntimeWarning: divide by zero encountered in divide\n",
      "  psi_vec[:,a,g] = beta_hat + I / pi * (Y - beta_hat)\n"
     ]
    },
    {
     "name": "stdout",
     "output_type": "stream",
     "text": [
      "Multiprocessing finished.\n"
     ]
    }
   ],
   "source": [
    "from utils import run_pll\n",
    "from run_pll import run_dr_em_raw\n",
    "\n",
    "treat_p = 0.7\n",
    "args = [{'Y_chain': Y_chain,\n",
    "         'A_chain': A_chain,\n",
    "         'L_chain': L_chain,\n",
    "         'adj': adj1,\n",
    "         'i': i,\n",
    "         'treatment_allocation': treat_p,\n",
    "         'mispec': None} for i in range(len(Y_chain))]\n",
    "\n",
    "res_list_dr = run_pll(run_dr_em_raw, args, processes=n_cpu)\n",
    "res_list_array_dr = np.array(res_list_dr)\n",
    "# save results\n",
    "np.save(f'run/sim_results/sim_dr_em_raw_{sample_size}_{min_degree}_{max_degree}_{treat_p}.npy', res_list_array_dr)"
   ]
  },
  {
   "cell_type": "code",
   "execution_count": 26,
   "id": "951db25c",
   "metadata": {},
   "outputs": [
    {
     "name": "stdout",
     "output_type": "stream",
     "text": [
      "Multiprocessing <function run_dr_em_raw at 0x30cb68ee0> in 100 tasks, with 10 processes...\n"
     ]
    },
    {
     "name": "stderr",
     "output_type": "stream",
     "text": [
      "/Users/ljzljz/Documents/DR/dr-chain-graph/drnet_em.py:184: RuntimeWarning: divide by zero encountered in divide\n",
      "  psi_vec[:,a,g] = beta_hat + I / pi * (Y - beta_hat)\n",
      "/Users/ljzljz/Documents/DR/dr-chain-graph/drnet_em.py:184: RuntimeWarning: divide by zero encountered in divide\n",
      "  psi_vec[:,a,g] = beta_hat + I / pi * (Y - beta_hat)\n",
      "/Users/ljzljz/Documents/DR/dr-chain-graph/drnet_em.py:184: RuntimeWarning: divide by zero encountered in divide\n",
      "  psi_vec[:,a,g] = beta_hat + I / pi * (Y - beta_hat)\n",
      "/Users/ljzljz/Documents/DR/dr-chain-graph/drnet_em.py:184: RuntimeWarning: divide by zero encountered in divide\n",
      "  psi_vec[:,a,g] = beta_hat + I / pi * (Y - beta_hat)\n",
      "/Users/ljzljz/Documents/DR/dr-chain-graph/drnet_em.py:184: RuntimeWarning: invalid value encountered in multiply\n",
      "  psi_vec[:,a,g] = beta_hat + I / pi * (Y - beta_hat)\n",
      "/Users/ljzljz/Documents/DR/dr-chain-graph/drnet_em.py:184: RuntimeWarning: divide by zero encountered in divide\n",
      "  psi_vec[:,a,g] = beta_hat + I / pi * (Y - beta_hat)\n",
      "/Users/ljzljz/Documents/DR/dr-chain-graph/drnet_em.py:184: RuntimeWarning: divide by zero encountered in divide\n",
      "  psi_vec[:,a,g] = beta_hat + I / pi * (Y - beta_hat)\n",
      "/Users/ljzljz/Documents/DR/dr-chain-graph/drnet_em.py:184: RuntimeWarning: invalid value encountered in multiply\n",
      "  psi_vec[:,a,g] = beta_hat + I / pi * (Y - beta_hat)\n",
      "/Users/ljzljz/Documents/DR/dr-chain-graph/drnet_em.py:184: RuntimeWarning: divide by zero encountered in divide\n",
      "  psi_vec[:,a,g] = beta_hat + I / pi * (Y - beta_hat)\n",
      "/Users/ljzljz/Documents/DR/dr-chain-graph/drnet_em.py:184: RuntimeWarning: divide by zero encountered in divide\n",
      "  psi_vec[:,a,g] = beta_hat + I / pi * (Y - beta_hat)\n",
      "/Users/ljzljz/Documents/DR/dr-chain-graph/drnet_em.py:184: RuntimeWarning: invalid value encountered in multiply\n",
      "  psi_vec[:,a,g] = beta_hat + I / pi * (Y - beta_hat)\n",
      "/Users/ljzljz/Documents/DR/dr-chain-graph/drnet_em.py:184: RuntimeWarning: divide by zero encountered in divide\n",
      "  psi_vec[:,a,g] = beta_hat + I / pi * (Y - beta_hat)\n",
      "/Users/ljzljz/Documents/DR/dr-chain-graph/drnet_em.py:184: RuntimeWarning: invalid value encountered in multiply\n",
      "  psi_vec[:,a,g] = beta_hat + I / pi * (Y - beta_hat)\n",
      "/Users/ljzljz/Documents/DR/dr-chain-graph/drnet_em.py:184: RuntimeWarning: divide by zero encountered in divide\n",
      "  psi_vec[:,a,g] = beta_hat + I / pi * (Y - beta_hat)\n",
      "/Users/ljzljz/Documents/DR/dr-chain-graph/drnet_em.py:184: RuntimeWarning: invalid value encountered in multiply\n",
      "  psi_vec[:,a,g] = beta_hat + I / pi * (Y - beta_hat)\n"
     ]
    },
    {
     "name": "stdout",
     "output_type": "stream",
     "text": [
      "Multiprocessing finished.\n"
     ]
    }
   ],
   "source": [
    "from utils import run_pll\n",
    "from run_pll import run_dr_em_raw\n",
    "\n",
    "treat_p = 0.3\n",
    "args = [{'Y_chain': Y_chain,\n",
    "         'A_chain': A_chain,\n",
    "         'L_chain': L_chain,\n",
    "         'adj': adj1,\n",
    "         'i': i,\n",
    "         'treatment_allocation': treat_p,\n",
    "         'mispec': None} for i in range(len(Y_chain))]\n",
    "\n",
    "res_list_dr = run_pll(run_dr_em_raw, args, processes=n_cpu)\n",
    "res_list_array_dr = np.array(res_list_dr)\n",
    "# save results\n",
    "np.save(f'run/sim_results/sim_dr_em_raw_{sample_size}_{min_degree}_{max_degree}_{treat_p}.npy', res_list_array_dr)"
   ]
  },
  {
   "cell_type": "code",
   "execution_count": 27,
   "id": "6ab8ac02",
   "metadata": {},
   "outputs": [
    {
     "name": "stderr",
     "output_type": "stream",
     "text": [
      "  3%|▎         | 3/100 [00:00<00:05, 18.32it/s]/Users/ljzljz/Documents/DR/dr-chain-graph/utils.py:55: RuntimeWarning: invalid value encountered in subtract\n",
      "  res_spillover = res_list_array_dr1[i,:,cols_raw.index('psi_0_gamma')] - res_list_array_dr1[i,:,cols_raw.index('psi_zero')]\n",
      "/Users/ljzljz/Documents/DR/dr-chain-graph/drnet.py:305: RuntimeWarning: invalid value encountered in subtract\n",
      "  g = psi_vec - avg_effects\n",
      "/Users/ljzljz/Documents/DR/dr-chain-graph/drnet.py:316: RuntimeWarning: invalid value encountered in double_scalars\n",
      "  hac_var += weight * g[i] * g[j]\n",
      " 12%|█▏        | 12/100 [00:00<00:03, 22.43it/s]/opt/anaconda3/envs/ljz/lib/python3.10/site-packages/numpy/core/_methods.py:180: RuntimeWarning: invalid value encountered in reduce\n",
      "  ret = umr_sum(arr, axis, dtype, out, keepdims, where=where)\n",
      "100%|██████████| 100/100 [00:07<00:00, 13.05it/s]\n"
     ]
    },
    {
     "data": {
      "text/plain": [
       "{'columns': ['average',\n",
       "  'direct',\n",
       "  'indirect',\n",
       "  'spillover_effect',\n",
       "  'psi_1_gamma',\n",
       "  'psi_0_gamma',\n",
       "  'psi_zero'],\n",
       " 'coverage_rate': array([0.68, 0.72, 0.62, 0.63, 0.8 , 0.81, 0.75]),\n",
       " 'bias': array([nan, nan, nan, nan, nan, nan, nan]),\n",
       " 'mse': array([nan, nan, nan, nan, nan, nan, nan]),\n",
       " 'var': array([nan, nan, nan, nan, nan, nan, nan]),\n",
       " 'ci_length': array([nan, nan, nan, nan, nan, nan, nan]),\n",
       " 'true_effect': array([0.6392625, 0.3082375, 0.0118375, 0.0216625, 0.734425 , 0.4261875,\n",
       "        0.404525 ])}"
      ]
     },
     "execution_count": 27,
     "metadata": {},
     "output_type": "execute_result"
    }
   ],
   "source": [
    "# read results\n",
    "import numpy as np\n",
    "from utils import *\n",
    "\n",
    "\n",
    "results1 = np.load(f'run/sim_results/sim_dr_em_raw_{sample_size}_{min_degree}_{max_degree}_{0.7}.npy', allow_pickle=True)\n",
    "results2 = np.load(f'run/sim_results/sim_dr_em_raw_{sample_size}_{min_degree}_{max_degree}_{0.3}.npy', allow_pickle=True)\n",
    "\n",
    "compute_stats(results1, results2, ground_truth1, adj1)"
   ]
  },
  {
   "cell_type": "code",
   "execution_count": 28,
   "id": "86a36a76",
   "metadata": {},
   "outputs": [
    {
     "name": "stderr",
     "output_type": "stream",
     "text": [
      "  0%|          | 0/100 [00:00<?, ?it/s]/opt/anaconda3/envs/ljz/lib/python3.10/site-packages/numpy/core/_methods.py:233: RuntimeWarning: invalid value encountered in subtract\n",
      "  x = asanyarray(arr - arrmean)\n",
      "100%|██████████| 100/100 [00:01<00:00, 57.39it/s]"
     ]
    },
    {
     "name": "stdout",
     "output_type": "stream",
     "text": [
      "nan nan nan\n"
     ]
    },
    {
     "name": "stderr",
     "output_type": "stream",
     "text": [
      "\n"
     ]
    }
   ],
   "source": [
    "from tqdm import tqdm\n",
    "from drnet import compute_avg_effects_std_from_raw\n",
    "\n",
    "results1 = np.load(f'run/sim_results/sim_dr_em_raw_{sample_size}_{min_degree}_{max_degree}_{0.7}.npy', allow_pickle=True)\n",
    "\n",
    "var = []\n",
    "var_sim = []\n",
    "est = []\n",
    "idx = 3\n",
    "for i in tqdm(range(Y_chain.shape[0])):\n",
    "    avg_effects, se_hac = compute_avg_effects_std_from_raw(results1[i,:,idx],adj1,h=3)\n",
    "    var.append(se_hac**2*sample_size)\n",
    "    var_sim.append(np.var(results1[i,:,idx]))\n",
    "    est.append(avg_effects)\n",
    "\n",
    "var_true = np.var(est)\n",
    "print(np.mean(var), np.mean(var_sim), var_true*sample_size)"
   ]
  },
  {
   "cell_type": "code",
   "execution_count": null,
   "id": "c78d2eeb",
   "metadata": {},
   "outputs": [],
   "source": []
  }
 ],
 "metadata": {
  "kernelspec": {
   "display_name": "ljz",
   "language": "python",
   "name": "python3"
  },
  "language_info": {
   "codemirror_mode": {
    "name": "ipython",
    "version": 3
   },
   "file_extension": ".py",
   "mimetype": "text/x-python",
   "name": "python",
   "nbconvert_exporter": "python",
   "pygments_lexer": "ipython3",
   "version": "3.10.14"
  }
 },
 "nbformat": 4,
 "nbformat_minor": 5
}
