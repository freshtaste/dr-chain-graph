{
 "cells": [
  {
   "cell_type": "code",
   "execution_count": 52,
   "id": "f7ff5b64",
   "metadata": {},
   "outputs": [],
   "source": [
    "num_sample = 300\n",
    "num_burn = 20\n",
    "sample_size = 800\n",
    "n_cpu = 10\n",
    "\n",
    "min_degree = 1\n",
    "max_degree = 1"
   ]
  },
  {
   "cell_type": "code",
   "execution_count": 53,
   "id": "56d2560c",
   "metadata": {},
   "outputs": [
    {
     "name": "stdout",
     "output_type": "stream",
     "text": [
      "1 9\n"
     ]
    },
    {
     "name": "stderr",
     "output_type": "stream",
     "text": [
      "100%|██████████| 320/320 [00:01<00:00, 313.34it/s]\n"
     ]
    },
    {
     "data": {
      "text/plain": [
       "(0.6279311431977952,\n",
       " 0.35402500000000003,\n",
       " 0.4556375,\n",
       " 0.33663945218091595,\n",
       " 0.380307566673866)"
      ]
     },
     "execution_count": 53,
     "metadata": {},
     "output_type": "execute_result"
    }
   ],
   "source": [
    "from dgp import sample_network_chain, get_graph, sample_Y1, sample_Y2, agcEffect\n",
    "import numpy as np\n",
    "\n",
    "# 1. Simulate or load data\n",
    "adj1 = get_graph(sample_size, min_degree, max_degree, seed=1)\n",
    "print(adj1.sum(axis=1).min(), adj1.sum(axis=1).max())\n",
    "adj1 = np.zeros_like(adj1)\n",
    "\n",
    "tau = np.array([-1.0, 0.50, -0.50])       # shape (3,)\n",
    "rho = np.array([[0,0.1,0.2],\n",
    "                [0.1,0,0.1],\n",
    "                [0.2,0.1,0]])      # shape (3, 3), with 0s on the diagonal\n",
    "nu = np.array([0.1,0,0,0.1,0,0,0.1,0,0]).reshape(3,3)       # shape (3, 3)\n",
    "gamma = np.array([-1,2,0.1,-2,0.1,2,0.1,0.1])    # shape (8,)   \n",
    "beta = np.array([-1,2,0.1,2,0.1,-2,0.1,2,0.1,0.1])\n",
    "\n",
    "Y_chain, A_chain, L_chain = sample_network_chain(adj1, tau, rho, nu, gamma, beta, R=num_sample,\n",
    "    burnin_R=num_burn, seed=0, sample_Y_func=sample_Y1, Atype=('gen', 0.7))\n",
    "\n",
    "Y_chain = Y_chain[::3]\n",
    "A_chain = A_chain[::3]\n",
    "L_chain = L_chain[::3]\n",
    "\n",
    "dir, dir2, dir3, dir4 = [], [], [], []\n",
    "for i in range(Y_chain.shape[0]):\n",
    "    Y = Y_chain[i]\n",
    "    A = A_chain[i]\n",
    "    L = L_chain[i]\n",
    "    dir.append(np.mean(np.mean(Y[A==1]) - Y[A==0]))\n",
    "    dir2.append(np.mean(A))\n",
    "    dir3.append(np.mean(A[L[:,0]==1]) - np.mean(A[L[:,0]==0]))\n",
    "    dir4.append(np.mean(Y[L[:,0]==1]) - np.mean(Y[L[:,0]==0]))\n",
    "\n",
    "np.mean(dir), np.mean(dir2), np.mean(Y_chain), np.mean(dir3), np.mean(dir4)"
   ]
  },
  {
   "cell_type": "code",
   "execution_count": 3,
   "id": "f7c02fd1",
   "metadata": {},
   "outputs": [
    {
     "name": "stderr",
     "output_type": "stream",
     "text": [
      "100%|██████████| 200/200 [00:00<00:00, 513.19it/s]\n",
      "100%|██████████| 200/200 [00:00<00:00, 512.38it/s]\n",
      "100%|██████████| 200/200 [00:00<00:00, 512.42it/s]\n",
      "100%|██████████| 200/200 [00:00<00:00, 510.20it/s]\n",
      "100%|██████████| 200/200 [00:00<00:00, 511.02it/s]\n",
      "100%|██████████| 200/200 [00:00<00:00, 512.11it/s]\n",
      "100%|██████████| 200/200 [00:00<00:00, 489.90it/s]\n",
      "100%|██████████| 200/200 [00:00<00:00, 513.45it/s]\n"
     ]
    },
    {
     "data": {
      "text/plain": [
       "{'average': 0.5736500000000001,\n",
       " 'direct': 0.3163625000000001,\n",
       " 'indirect': 0.0,\n",
       " 'spillover_effect': 0.0}"
      ]
     },
     "execution_count": 3,
     "metadata": {},
     "output_type": "execute_result"
    }
   ],
   "source": [
    "res_truth1 = agcEffect(\n",
    "    adj1,\n",
    "    tau, rho, nu, beta,\n",
    "    treatment_allocation=0.7,\n",
    "    R=100,\n",
    "    burnin_R=100,\n",
    "    seed=0\n",
    ")\n",
    "res_truth2 = agcEffect(\n",
    "    adj1,\n",
    "    tau, rho, nu, beta,\n",
    "    treatment_allocation=0.3,\n",
    "    R=100,\n",
    "    burnin_R=100,\n",
    "    seed=0\n",
    ")\n",
    "\n",
    "ground_truth1 = {'average': 0, 'direct': 0, 'indirect': 0, 'spillover_effect':0}\n",
    "ground_truth1['average'] = res_truth1['average']\n",
    "ground_truth1['direct'] = res_truth1['direct_effect']\n",
    "ground_truth1['indirect'] = res_truth1['psi_0_gamma'] - res_truth2['psi_0_gamma']\n",
    "ground_truth1['spillover_effect'] = res_truth1['spillover_effect']\n",
    "\n",
    "ground_truth1"
   ]
  },
  {
   "cell_type": "code",
   "execution_count": null,
   "id": "6e40787d",
   "metadata": {},
   "outputs": [
    {
     "name": "stdout",
     "output_type": "stream",
     "text": [
      "Multiprocessing <function run_dr_raw at 0x16ca9cc10> in 100 tasks, with 10 processes...\n"
     ]
    }
   ],
   "source": [
    "from utils import run_pll\n",
    "from run_pll import run_dr_raw\n",
    "\n",
    "treat_p = 0.7\n",
    "args = [{'Y_chain': Y_chain,\n",
    "         'A_chain': A_chain,\n",
    "         'L_chain': L_chain,\n",
    "         'adj': adj1,\n",
    "         'i': i,\n",
    "         'treatment_allocation': treat_p,\n",
    "         'psi_0_gamma_only': False,\n",
    "         'mispec': None} for i in range(len(Y_chain))]\n",
    "\n",
    "res_list_dr = run_pll(run_dr_raw, args, processes=n_cpu)\n",
    "res_list_array_dr = np.array(res_list_dr)\n",
    "# save results\n",
    "np.save(f'run/sim_results/sim_dr_raw_{sample_size}_{min_degree}_{max_degree}_{treat_p}.npy', res_list_array_dr)"
   ]
  },
  {
   "cell_type": "code",
   "execution_count": null,
   "id": "951db25c",
   "metadata": {},
   "outputs": [
    {
     "name": "stdout",
     "output_type": "stream",
     "text": [
      "Multiprocessing <function run_dr_raw at 0x16ca9cc10> in 100 tasks, with 10 processes...\n",
      "Multiprocessing finished.\n"
     ]
    }
   ],
   "source": [
    "from utils import run_pll\n",
    "from run_pll import run_dr_raw\n",
    "\n",
    "treat_p = 0.3\n",
    "args = [{'Y_chain': Y_chain,\n",
    "         'A_chain': A_chain,\n",
    "         'L_chain': L_chain,\n",
    "         'adj': adj1,\n",
    "         'i': i,\n",
    "         'treatment_allocation': treat_p,\n",
    "         'psi_0_gamma_only': False,\n",
    "         'mispec': None} for i in range(len(Y_chain))]\n",
    "\n",
    "res_list_dr = run_pll(run_dr_raw, args, processes=n_cpu)\n",
    "res_list_array_dr = np.array(res_list_dr)\n",
    "# save results\n",
    "np.save(f'run/sim_results/sim_dr_raw_{sample_size}_{min_degree}_{max_degree}_{treat_p}.npy', res_list_array_dr)"
   ]
  },
  {
   "cell_type": "code",
   "execution_count": 69,
   "id": "6ab8ac02",
   "metadata": {},
   "outputs": [
    {
     "name": "stderr",
     "output_type": "stream",
     "text": [
      "100%|██████████| 100/100 [00:00<00:00, 108.82it/s]"
     ]
    },
    {
     "name": "stdout",
     "output_type": "stream",
     "text": [
      "{'coverage_rate': array([0.98, 1.  , 0.81, 0.92]), 'bias': array([1.00758628e-02, 9.90288224e-03, 1.38777878e-18, 3.69149156e-19]), 'mse': array([1.43989105e-03, 3.06791058e-03, 1.11202985e-03, 1.61219596e-34]), 'var': array([1.33836804e-03, 2.96984351e-03, 1.11202985e-03, 1.61083325e-34]), 'ci_length': array([1.59436716e-01, 3.02531787e-01, 2.02314502e-01, 4.29150666e-17]), 'true_effect': array([0.57365  , 0.3163625, 0.       , 0.       ])}\n"
     ]
    },
    {
     "name": "stderr",
     "output_type": "stream",
     "text": [
      "\n"
     ]
    }
   ],
   "source": [
    "# read results\n",
    "import numpy as np\n",
    "from utils import *\n",
    "\n",
    "\n",
    "results1 = np.load(f'run/sim_results/sim_dr_raw_{sample_size}_{min_degree}_{max_degree}_{0.7}.npy', allow_pickle=True)\n",
    "results2 = np.load(f'run/sim_results/sim_dr_raw_{sample_size}_{min_degree}_{max_degree}_{0.3}.npy', allow_pickle=True)\n",
    "\n",
    "print(compute_stats(results1, results2, ground_truth1, adj1))"
   ]
  },
  {
   "cell_type": "code",
   "execution_count": 70,
   "id": "86a36a76",
   "metadata": {},
   "outputs": [
    {
     "name": "stderr",
     "output_type": "stream",
     "text": [
      "100%|██████████| 100/100 [00:00<00:00, 396.26it/s]"
     ]
    },
    {
     "name": "stdout",
     "output_type": "stream",
     "text": [
      "1.6614075077797679 1.6614075077797665 0.4940068376608691\n"
     ]
    },
    {
     "name": "stderr",
     "output_type": "stream",
     "text": [
      "\n"
     ]
    }
   ],
   "source": [
    "from tqdm import tqdm\n",
    "from drnet import compute_avg_effects_std_from_raw\n",
    "\n",
    "results1 = np.load(f'run/sim_results/sim_dr_raw_{sample_size}_{min_degree}_{max_degree}_{0.7}.npy', allow_pickle=True)\n",
    "\n",
    "var = []\n",
    "var_sim = []\n",
    "est = []\n",
    "idx = 3\n",
    "for i in tqdm(range(Y_chain.shape[0])):\n",
    "    avg_effects, se_hac = compute_avg_effects_std_from_raw(results1[i,:,idx],adj1,h=3)\n",
    "    var.append(se_hac**2*sample_size)\n",
    "    var_sim.append(np.var(results1[i,:,idx]))\n",
    "    est.append(avg_effects)\n",
    "\n",
    "var_true = np.var(est)\n",
    "print(np.mean(var), np.mean(var_sim), var_true*sample_size)"
   ]
  },
  {
   "cell_type": "code",
   "execution_count": null,
   "id": "c78d2eeb",
   "metadata": {},
   "outputs": [],
   "source": []
  }
 ],
 "metadata": {
  "kernelspec": {
   "display_name": "ljz",
   "language": "python",
   "name": "python3"
  },
  "language_info": {
   "codemirror_mode": {
    "name": "ipython",
    "version": 3
   },
   "file_extension": ".py",
   "mimetype": "text/x-python",
   "name": "python",
   "nbconvert_exporter": "python",
   "pygments_lexer": "ipython3",
   "version": "3.10.14"
  }
 },
 "nbformat": 4,
 "nbformat_minor": 5
}
