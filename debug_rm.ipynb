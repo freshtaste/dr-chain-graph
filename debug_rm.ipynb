{
 "cells": [
  {
   "cell_type": "code",
   "execution_count": 15,
   "id": "5a2e3310",
   "metadata": {},
   "outputs": [
    {
     "name": "stdout",
     "output_type": "stream",
     "text": [
      "1 1\n"
     ]
    },
    {
     "name": "stderr",
     "output_type": "stream",
     "text": [
      "100%|██████████| 320/320 [00:14<00:00, 22.42it/s]\n"
     ]
    },
    {
     "data": {
      "text/plain": [
       "(0.626430863757238,\n",
       " 0.3835124999999999,\n",
       " 0.476475,\n",
       " 0.3409563607062833,\n",
       " 0.37728303309835154)"
      ]
     },
     "execution_count": 15,
     "metadata": {},
     "output_type": "execute_result"
    }
   ],
   "source": [
    "num_sample = 300\n",
    "num_burn = 20\n",
    "sample_size = 800\n",
    "n_cpu = 10\n",
    "\n",
    "min_degree = 1\n",
    "max_degree = 1\n",
    "\n",
    "from dgp import sample_network_chain, sample_Y1, get_graph, sample_Y2, agcEffect\n",
    "import numpy as np\n",
    "\n",
    "# # 1. Simulate or load data\n",
    "def get_graph(N, min_degree=2, max_degree=5, seed=0):\n",
    "    \"\"\"\n",
    "    Generate a symmetric adjacency matrix of an undirected graph where each node has:\n",
    "      - at least `min_degree` neighbors\n",
    "      - at most `max_degree` neighbors\n",
    "    \"\"\"\n",
    "    np.random.seed(seed)\n",
    "    adj_matrix = np.zeros((N, N), dtype=int)\n",
    "    degree = np.zeros(N, dtype=int)\n",
    "    degrees = np.random.randint(min_degree, max_degree + 1, size=N)\n",
    "\n",
    "    # Candidate edges (i < j to avoid duplicates in symmetric matrix)\n",
    "    candidates = [(i, j) for i in range(N) for j in range(i + 1, N)]\n",
    "    np.random.shuffle(candidates)\n",
    "\n",
    "    for (i, j) in candidates:\n",
    "        if degree[i] < degrees[i] and degree[j] < degrees[j]:\n",
    "            adj_matrix[i, j] = 1\n",
    "            adj_matrix[j, i] = 1\n",
    "            degree[i] += 1\n",
    "            degree[j] += 1\n",
    "\n",
    "    # Fix nodes with degree < min_degree by connecting to random nodes\n",
    "    for i in range(N):\n",
    "        while degree[i] < degrees[i]:\n",
    "            # Potential new connections: not self, not already connected, target degree < max\n",
    "            possible = [j for j in range(N)\n",
    "                        if j != i and adj_matrix[i, j] == 0 and degree[j] < max_degree]\n",
    "            if not possible:\n",
    "                break  # cannot fix further due to global constraints\n",
    "            j = np.random.choice(possible)\n",
    "            adj_matrix[i, j] = 1\n",
    "            adj_matrix[j, i] = 1\n",
    "            degree[i] += 1\n",
    "            degree[j] += 1\n",
    "\n",
    "    return adj_matrix\n",
    "\n",
    "\n",
    "adj = get_graph(sample_size, min_degree, max_degree, seed=1)\n",
    "print(adj.sum(axis=1).min(), adj.sum(axis=1).max())\n",
    "\n",
    "tau = np.array([-1.0, 0.50, -0.50])       # shape (3,)\n",
    "rho = np.array([[0,0.1,0.2],\n",
    "                [0.1,0,0.1],\n",
    "                [0.2,0.1,0]])      # shape (3, 3), with 0s on the diagonal\n",
    "nu = np.array([0.1,0,0,0.1,0,0,0.1,0,0]).reshape(3,3)       # shape (3, 3)\n",
    "gamma = np.array([-1,2,0.1,-2,0.1,2,0.1,0.1])    # shape (8,)   \n",
    "beta = np.array([-1*min_degree,2,-0.2,2,0.1,-2,0.1,2,0.1,0])  # shape (10,)\n",
    "\n",
    "Y_chain, A_chain, L_chain = sample_network_chain(adj, tau, rho, nu, gamma, beta, R=num_sample,\n",
    "    burnin_R=num_burn, seed=0, sample_Y_func=sample_Y1, Atype=('gen', 0.7))\n",
    "\n",
    "Y_chain = Y_chain[::3]\n",
    "A_chain = A_chain[::3]\n",
    "L_chain = L_chain[::3]\n",
    "\n",
    "dir, dir2, dir3, dir4 = [], [], [], []\n",
    "for i in range(Y_chain.shape[0]):\n",
    "    Y = Y_chain[i]\n",
    "    A = A_chain[i]\n",
    "    L = L_chain[i]\n",
    "    dir.append(np.mean(np.mean(Y[A==1]) - Y[A==0]))\n",
    "    dir2.append(np.mean(A))\n",
    "    dir3.append(np.mean(A[L[:,0]==1]) - np.mean(A[L[:,0]==0]))\n",
    "    dir4.append(np.mean(Y[L[:,0]==1]) - np.mean(Y[L[:,0]==0]))\n",
    "\n",
    "np.mean(dir), np.mean(dir2), np.mean(Y_chain), np.mean(dir3), np.mean(dir4)"
   ]
  },
  {
   "cell_type": "code",
   "execution_count": 16,
   "id": "9f47007b",
   "metadata": {},
   "outputs": [],
   "source": [
    "from drnet_em import *\n",
    "\n",
    "idx = 0\n",
    "ret_em = doubly_robust_em(A_chain[idx], L_chain[idx], Y_chain[idx], adj, return_raw=True)"
   ]
  },
  {
   "cell_type": "code",
   "execution_count": 17,
   "id": "2bc9ccc8",
   "metadata": {},
   "outputs": [],
   "source": [
    "from drnet import *\n",
    "\n",
    "idx = 0\n",
    "ret_dr = doubly_robust(A_chain[idx], L_chain[idx], Y_chain[idx], adj, return_raw=True)"
   ]
  },
  {
   "cell_type": "code",
   "execution_count": 18,
   "id": "6291d53e",
   "metadata": {},
   "outputs": [
    {
     "data": {
      "text/plain": [
       "dict_keys(['psi_gamma', 'psi_zero', 'psi_1_gamma', 'psi_0_gamma'])"
      ]
     },
     "execution_count": 18,
     "metadata": {},
     "output_type": "execute_result"
    }
   ],
   "source": [
    "ret_dr.keys()"
   ]
  },
  {
   "cell_type": "code",
   "execution_count": 19,
   "id": "3799c325",
   "metadata": {},
   "outputs": [
    {
     "data": {
      "text/plain": [
       "(0.6047936155424195,\n",
       " 1.4539741716302226,\n",
       " '|',\n",
       " 0.6001210287326834,\n",
       " 1.4448836388187571)"
      ]
     },
     "execution_count": 19,
     "metadata": {},
     "output_type": "execute_result"
    }
   ],
   "source": [
    "key = 'psi_gamma'\n",
    "ret_em[key].mean(), ret_em[key].std(), '|', ret_dr[key].mean(), ret_dr[key].std()"
   ]
  },
  {
   "cell_type": "code",
   "execution_count": 20,
   "id": "bcfd2a37",
   "metadata": {},
   "outputs": [
    {
     "data": {
      "text/plain": [
       "(0.7281734142241624,\n",
       " 1.9663221915185491,\n",
       " '|',\n",
       " 0.7270518742728167,\n",
       " 1.9765832019004503)"
      ]
     },
     "execution_count": 20,
     "metadata": {},
     "output_type": "execute_result"
    }
   ],
   "source": [
    "key = 'psi_1_gamma'\n",
    "ret_em[key].mean(), ret_em[key].std(), '|', ret_dr[key].mean(), ret_dr[key].std()"
   ]
  },
  {
   "cell_type": "code",
   "execution_count": 21,
   "id": "d24ab3c5",
   "metadata": {},
   "outputs": [
    {
     "data": {
      "text/plain": [
       "(0.31690741861835287,\n",
       " 1.5020230250032185,\n",
       " '|',\n",
       " 0.31584878011131606,\n",
       " 1.5115915879487773)"
      ]
     },
     "execution_count": 21,
     "metadata": {},
     "output_type": "execute_result"
    }
   ],
   "source": [
    "key = 'psi_0_gamma'\n",
    "ret_em[key].mean(), ret_em[key].std(), '|', ret_dr[key].mean(), ret_dr[key].std()"
   ]
  },
  {
   "cell_type": "code",
   "execution_count": 22,
   "id": "93b8e4ed",
   "metadata": {},
   "outputs": [
    {
     "data": {
      "text/plain": [
       "(0.3577799702921217,\n",
       " 1.1408136634433637,\n",
       " '|',\n",
       " 0.3577799702921217,\n",
       " 1.1408136634433637)"
      ]
     },
     "execution_count": 22,
     "metadata": {},
     "output_type": "execute_result"
    }
   ],
   "source": [
    "key = 'psi_zero'\n",
    "ret_em[key].mean(), ret_em[key].std(), '|', ret_dr[key].mean(), ret_dr[key].std()"
   ]
  },
  {
   "cell_type": "code",
   "execution_count": null,
   "id": "638f5b29",
   "metadata": {},
   "outputs": [],
   "source": []
  },
  {
   "cell_type": "code",
   "execution_count": 4,
   "id": "22bd0214",
   "metadata": {},
   "outputs": [],
   "source": [
    "from drnet_em import *\n",
    "\n",
    "def get_numerator_pi_em(a_mat, A, GL, neighbours, neighbours_2hop, gamma, adj_matrix):\n",
    "    N = adj_matrix.shape[0]\n",
    "    num_rep = a_mat.shape[1]\n",
    "    \n",
    "    max_neighbours = adj_matrix.sum(axis=1).max()\n",
    "    numerator = np.zeros((N, 2, max_neighbours+1))\n",
    "    for i in range(N):\n",
    "        ni = [i]+neighbours[i]\n",
    "        vec_n = a_mat[ni].copy()\n",
    "        \n",
    "        # compute outter product\n",
    "        for a in [0, 1]:\n",
    "            vec_n[0] = a\n",
    "            mat_n = np.einsum('ik,jk->ijk', vec_n, vec_n)\n",
    "            adj_max_n = adj_matrix[ni, :][:, ni]\n",
    "            aa_n_i = (mat_n * adj_max_n[:, :, None]).sum(axis=(0, 1))/2\n",
    "            \n",
    "            nout = neighbours_2hop[i]\n",
    "            vec_n_out = A[nout] # 790 by 1\n",
    "            mat_n_out = np.einsum('ik,j->ijk', vec_n, vec_n_out)\n",
    "            adj_max_n_out = adj_matrix[ni, :][:, nout]\n",
    "            aa_out_i = (mat_n_out * adj_max_n_out[:, :, None]).sum(axis=(0, 1))\n",
    "            \n",
    "            GL_neighbour_i = GL[ni].dot(vec_n)\n",
    "            num_vec_i = np.exp(GL_neighbour_i + gamma[7]*aa_n_i + gamma[7]*aa_out_i)\n",
    "            \n",
    "            num_neighbours = len(neighbours[i])\n",
    "            vec_treated_neighbours = vec_n[1:].sum(axis=0)\n",
    "            for g in range(num_neighbours+1):\n",
    "                # average over reps with num_neigh==g\n",
    "                numerator[i, a, g] = np.sum(num_vec_i[vec_treated_neighbours==g])/num_rep*(2**num_neighbours)\n",
    "    return numerator\n",
    "\n",
    "def get_numerator_pi_em_new(a_mat_dict, A, GL, neighbours, neighbours_2hop, gamma, adj_matrix):\n",
    "    N = adj_matrix.shape[0]\n",
    "    \n",
    "    max_neighbours = adj_matrix.sum(axis=1).max()\n",
    "    numerator = np.zeros((N, 2, max_neighbours+1))\n",
    "    for i in range(N):\n",
    "        ni = [i]+neighbours[i]\n",
    "        a_mat = a_mat_dict[len(neighbours[i])]\n",
    "        vec_n = np.zeros((len(ni), a_mat.shape[1]))\n",
    "        vec_n[1:, :] = a_mat.copy()\n",
    "        \n",
    "        # compute outter product\n",
    "        for a in [0, 1]:\n",
    "            vec_n[0] = a\n",
    "            mat_n = np.einsum('ik,jk->ijk', vec_n, vec_n)\n",
    "            adj_max_n = adj_matrix[ni, :][:, ni]\n",
    "            aa_n_i = (mat_n * adj_max_n[:, :, None]).sum(axis=(0, 1))/2\n",
    "            \n",
    "            nout = neighbours_2hop[i]\n",
    "            vec_n_out = A[nout] # 790 by 1\n",
    "            mat_n_out = np.einsum('ik,j->ijk', vec_n, vec_n_out)\n",
    "            adj_max_n_out = adj_matrix[ni, :][:, nout]\n",
    "            aa_out_i = (mat_n_out * adj_max_n_out[:, :, None]).sum(axis=(0, 1))\n",
    "            \n",
    "            GL_neighbour_i = GL[ni].dot(vec_n)\n",
    "            num_vec_i = np.exp(GL_neighbour_i + gamma[7]*aa_n_i + gamma[7]*aa_out_i)\n",
    "            \n",
    "            num_neighbours = len(neighbours[i])\n",
    "            vec_treated_neighbours = vec_n[1:].sum(axis=0)\n",
    "            for g in range(num_neighbours+1):\n",
    "                # average over reps with num_neigh==g\n",
    "                numerator[i, a, g] = np.sum(num_vec_i[vec_treated_neighbours==g])\n",
    "    return numerator\n",
    "\n",
    "def doubly_robust_em(A, L, Y, adj_matrix, treatment_allocation=0.7, num_rep=2000, seed=1, return_raw=False,\n",
    "                  mispec=None):\n",
    "    np.random.seed(seed)\n",
    "    \n",
    "    # fit models\n",
    "    L_a, L_y = L.copy(), L.copy()\n",
    "    if mispec == 'outcome':\n",
    "        L_y = np.random.binomial(1, 0.5, size=L_y.shape)\n",
    "    elif mispec == 'treatment':\n",
    "        L_a = np.random.binomial(1, 0.5, size=L_a.shape)\n",
    "    X_y = build_design_matrix_Y(A, L_y, Y, adj_matrix)\n",
    "    model_y = fit_logistic_model(X_y, Y)\n",
    "    X_a = build_design_matrix_A(L_a, A, adj_matrix)\n",
    "    model_a = fit_logistic_model(X_a, A)\n",
    "    \n",
    "    # compute pi\n",
    "    gamma = np.concatenate([model_a.intercept_, model_a.coef_.flatten()])\n",
    "    N = adj_matrix.shape[0]\n",
    "    neighbours, neighbours_2hop = get_2hop_neighbors(adj_matrix)\n",
    "    L_nb = get_neighbor_summary(L_a, adj_matrix)\n",
    "    GL = gamma[0] + L.dot(np.array([gamma[1], gamma[3], gamma[5]])) \\\n",
    "        + L_nb.dot(np.array([gamma[2], gamma[4], gamma[6]]))\n",
    "        \n",
    "    denominator = get_norm_constant_new(A, GL, neighbours, neighbours_2hop, gamma, adj_matrix)\n",
    "    print(denominator)\n",
    "    \n",
    "    # compute the influence function\n",
    "    #a_mat = np.random.binomial(1, 0.5, size=(Y.shape[0], num_rep))\n",
    "    a_mat_dict = generate_all_binary_vectors(adj_matrix.sum(axis=1).max())\n",
    "    numerator_vec = get_numerator_pi_em_new(a_mat_dict, A, GL, neighbours, neighbours_2hop, gamma, adj_matrix)\n",
    "    pi_vec = numerator_vec / denominator[:, None, None] # N by 2 by max_neighbours\n",
    "\n",
    "    beta_hat_vec = np.zeros(pi_vec.shape)\n",
    "    for a in [0, 1]:\n",
    "        for g in range(pi_vec.shape[2]):\n",
    "            X_y_eval = X_y.copy()\n",
    "            X_y_eval[:, 0] = a\n",
    "            X_y_eval[:, 1] = g\n",
    "            beta_hat_vec[:, a, g] = model_y.predict_proba(X_y_eval)[:, 1]\n",
    "\n",
    "    A_nb = get_neighbor_summary(A.reshape(-1, 1), adj_matrix).flatten()\n",
    "    print(((A == 0) & (A_nb == 0)).sum(), Y[(A == 0) & (A_nb == 0)])\n",
    "    psi_vec = np.zeros(pi_vec.shape)\n",
    "    for a in [0, 1]:\n",
    "        for g in range(pi_vec.shape[2]):\n",
    "            I = ((A == a) & (A_nb == g)).astype(int)\n",
    "            pi = pi_vec[:, a, g].copy()\n",
    "            pi[I==0] = 1\n",
    "            beta_hat = beta_hat_vec[:, a, g].copy() * 0\n",
    "            psi_vec[:,a,g] = beta_hat + I / pi * (Y - beta_hat)\n",
    "\n",
    "    # compute all 1\n",
    "    prob_allocation_vec = np.zeros((N, pi_vec.shape[2]))\n",
    "    for i in range(N):\n",
    "        num_neighbours = len(neighbours[i])\n",
    "        prob_allocation_vec[i,:num_neighbours+1] = np.array([binom.pmf(k, num_neighbours, treatment_allocation) \n",
    "                                             for k in range(num_neighbours+1)])\n",
    "\n",
    "    psi_gamma, psi_1_gamma, psi_0_gamma, psi_zero = np.zeros(N), np.zeros(N), np.zeros(N), np.zeros(N)\n",
    "    psi_1_gamma = (psi_vec[:, 1, :]*prob_allocation_vec).sum(axis=1)\n",
    "    psi_0_gamma = (psi_vec[:, 0, :]*prob_allocation_vec).sum(axis=1)\n",
    "    psi_zero = psi_vec[:,0,0]\n",
    "    psi_gamma = treatment_allocation * psi_1_gamma + (1-treatment_allocation) * psi_0_gamma\n",
    "\n",
    "    if return_raw:\n",
    "        return {\n",
    "            'psi_gamma': psi_gamma,\n",
    "            'psi_zero': psi_zero,\n",
    "            'psi_1_gamma': psi_1_gamma,\n",
    "            'psi_0_gamma': psi_0_gamma,\n",
    "        }\n",
    "\n",
    "    # Compute effects\n",
    "    avg_psi_gamma = np.mean(psi_gamma)\n",
    "    direct_effect = np.mean(psi_1_gamma) - np.mean(psi_0_gamma)\n",
    "    spillover_effect = np.mean(psi_0_gamma) - np.mean(psi_zero)\n",
    "\n",
    "    return {\n",
    "        \"average\": avg_psi_gamma,\n",
    "        \"direct_effect\": direct_effect,\n",
    "        \"spillover_effect\": spillover_effect,\n",
    "        \"psi_1_gamma\": np.mean(psi_1_gamma),\n",
    "        \"psi_0_gamma\": np.mean(psi_0_gamma),\n",
    "        \"psi_zero\": np.mean(psi_zero),\n",
    "    }"
   ]
  },
  {
   "cell_type": "code",
   "execution_count": 5,
   "id": "74d41ac4",
   "metadata": {},
   "outputs": [],
   "source": [
    "from drnet import *\n",
    "\n",
    "def doubly_robust(A, L, Y, adj_matrix, treatment_allocation=0.7, num_rep=1000, seed=1, return_raw=False, psi_0_gamma_only=False,\n",
    "                  mispec=None):\n",
    "    np.random.seed(seed)\n",
    "    \n",
    "    # fit models\n",
    "    L_a, L_y = L.copy(), L.copy()\n",
    "    if mispec == 'outcome':\n",
    "        L_y = np.random.binomial(1, 0.5, size=L_y.shape)\n",
    "    elif mispec == 'treatment':\n",
    "        L_a = np.random.binomial(1, 0.5, size=L_a.shape)\n",
    "    X_y = build_design_matrix_Y(A, L_y, Y, adj_matrix)\n",
    "    model_y = fit_logistic_model(X_y, Y)\n",
    "    X_a = build_design_matrix_A(L_a, A, adj_matrix)\n",
    "    model_a = fit_logistic_model(X_a, A)\n",
    "    \n",
    "    # compute pi\n",
    "    gamma = np.concatenate([model_a.intercept_, model_a.coef_.flatten()])\n",
    "    N = adj_matrix.shape[0]\n",
    "    neighbours, neighbours_2hop = get_2hop_neighbors(adj_matrix)\n",
    "    L_nb = get_neighbor_summary(L_a, adj_matrix)\n",
    "    GL = gamma[0] + L.dot(np.array([gamma[1], gamma[3], gamma[5]])) \\\n",
    "        + L_nb.dot(np.array([gamma[2], gamma[4], gamma[6]]))\n",
    "        \n",
    "    denominator = get_norm_constant(A, GL, neighbours, neighbours_2hop, gamma, adj_matrix)\n",
    "    \n",
    "    # compute the influence function\n",
    "    a_mat = np.random.binomial(1, treatment_allocation, size=(Y.shape[0], num_rep))\n",
    "    if psi_0_gamma_only is False:\n",
    "        numerator_vec, I = get_numerator_pi_vec(a_mat, A, GL, neighbours, neighbours_2hop, gamma, adj_matrix, Atype='all')\n",
    "        pi_vec = numerator_vec / denominator[:, None]\n",
    "        psi_gamma = np.zeros((N, num_rep))\n",
    "        for i in range(num_rep):\n",
    "            X_y_eval = build_design_matrix_Y(a_mat[:,i], L_y, Y, adj_matrix)\n",
    "            beta_hat = compute_beta_probs(X_y_eval, model_y, Atype='all') * 0\n",
    "            w = I[:,i] / pi_vec[:, i]\n",
    "            #w[pi_vec[:, i]<1e-3] = 0\n",
    "            w_norm = w#/np.sum(w)*N if np.sum(w) > 0 else 0\n",
    "            psi = beta_hat + w_norm * (Y - beta_hat)\n",
    "            psi_gamma[:, i] = psi.copy()\n",
    "        \n",
    "        numerator, I = get_numerator_pi_vec(a_mat, A, GL, neighbours, neighbours_2hop, gamma, adj_matrix, Atype='ind_treat_1')\n",
    "        pi_1_vec = numerator / denominator[:, None]\n",
    "        psi_1_gamma = np.zeros((N, num_rep))\n",
    "        for i in range(num_rep):\n",
    "            X_y_eval = build_design_matrix_Y(a_mat[:,i], L_y, Y, adj_matrix)\n",
    "            beta_hat = compute_beta_probs(X_y_eval, model_y, Atype='ind_treat_1') * 0\n",
    "            w = I[:,i] / pi_1_vec[:, i]\n",
    "            #w[pi_1_vec[:, i]<1e-3] = 0\n",
    "            w_norm = w#/np.sum(w)*N if np.sum(w) > 0 else 0\n",
    "            psi = beta_hat + w_norm * (Y - beta_hat)\n",
    "            psi_1_gamma[:, i] = psi.copy()\n",
    "    else:\n",
    "        psi_gamma = np.zeros((N, num_rep))\n",
    "        psi_1_gamma = np.zeros((N, num_rep))\n",
    "    \n",
    "    numerator, I = get_numerator_pi_vec(a_mat, A, GL, neighbours, neighbours_2hop, gamma, adj_matrix, Atype='ind_treat_0')\n",
    "    pi_0_vec = numerator / denominator[:, None]\n",
    "    psi_0_gamma = np.zeros((N, num_rep))\n",
    "    for i in range(num_rep):\n",
    "        X_y_eval = build_design_matrix_Y(a_mat[:,i], L_y, Y, adj_matrix)\n",
    "        beta_hat = compute_beta_probs(X_y_eval, model_y, Atype='ind_treat_0') * 0\n",
    "        w = I[:,i] / pi_0_vec[:, i]\n",
    "        #w[pi_0_vec[:, i]<1e-3] = 0\n",
    "        w_norm = w#/np.sum(w)*N if np.sum(w) > 0 else 0\n",
    "        psi = beta_hat + w_norm * (Y - beta_hat)\n",
    "        psi_0_gamma[:, i] = psi.copy()\n",
    "    \n",
    "    if psi_0_gamma_only is False:\n",
    "        a_mat = np.zeros((Y.shape[0],1))\n",
    "        numerator, I = get_numerator_pi_vec(a_mat, A, GL, neighbours, neighbours_2hop, gamma, adj_matrix, Atype='all_0')\n",
    "        pi_zero_vec = numerator / denominator[:, None]\n",
    "        psi_zero = np.zeros((N,))\n",
    "        X_y_eval = build_design_matrix_Y(a_mat, L_y, Y, adj_matrix)\n",
    "        beta_hat = compute_beta_probs(X_y_eval, model_y, Atype='all_0') * 0\n",
    "        w = I[:,0] / pi_zero_vec[:, 0] \n",
    "        #w[pi_zero_vec[:, 0]<1e-3] = 0\n",
    "        w_norm = w#/np.sum(w)*N if np.sum(w) > 0 else 0\n",
    "        psi = beta_hat + w_norm * (Y - beta_hat)\n",
    "        psi_zero = psi.copy()\n",
    "    else:\n",
    "        psi_zero = np.zeros((N,))\n",
    "    \n",
    "    # Compute effects\n",
    "    avg_psi_gamma = np.mean(psi_gamma)\n",
    "    direct_effect = np.mean(psi_1_gamma) - np.mean(psi_0_gamma)\n",
    "    spillover_effect = np.mean(psi_0_gamma) - np.mean(psi_zero)\n",
    "\n",
    "    if return_raw:\n",
    "        return {\n",
    "            'psi_gamma': np.mean(psi_gamma, axis=1),\n",
    "            'psi_zero': psi_zero,\n",
    "            'psi_1_gamma': np.mean(psi_1_gamma, axis=1),\n",
    "            'psi_0_gamma': np.mean(psi_0_gamma, axis=1),\n",
    "        }\n",
    "\n",
    "    # print(\"psi_zero:\", psi_zero)\n",
    "    # print(\"beta_hat:\", beta_hat.mean())\n",
    "    # print(\"psi_0_gamma:\", np.mean(psi_0_gamma))\n",
    "    # print(\"psi_1_gamma:\", np.mean(psi_1_gamma))\n",
    "    # print(\"average:\", np.mean(psi_gamma))\n",
    "    # print(\"direct_effect:\", direct_effect)\n",
    "    # print(\"spillover_effect:\", spillover_effect)\n",
    "    \n",
    "    return {\n",
    "        \"average\": avg_psi_gamma,\n",
    "        \"direct_effect\": direct_effect,\n",
    "        \"spillover_effect\": spillover_effect,\n",
    "        \"psi_1_gamma\": np.mean(psi_1_gamma),\n",
    "        \"psi_0_gamma\": np.mean(psi_0_gamma),\n",
    "        \"psi_zero\": np.mean(psi_zero),\n",
    "    }"
   ]
  },
  {
   "cell_type": "code",
   "execution_count": null,
   "id": "e8c5fb39",
   "metadata": {},
   "outputs": [
    {
     "data": {
      "text/plain": [
       "{'average': 0.2709534644385706,\n",
       " 'direct_effect': 0.24466417596799514,\n",
       " 'spillover_effect': 0.09915752331446545,\n",
       " 'psi_1_gamma': 0.3438216992824606,\n",
       " 'psi_0_gamma': 0.09915752331446545,\n",
       " 'psi_zero': 0.0}"
      ]
     },
     "execution_count": 7,
     "metadata": {},
     "output_type": "execute_result"
    }
   ],
   "source": [
    "doubly_robust(A_chain[idx], L_chain[idx], Y_chain[idx], adj)"
   ]
  },
  {
   "cell_type": "code",
   "execution_count": null,
   "id": "181a6b83",
   "metadata": {},
   "outputs": [],
   "source": []
  }
 ],
 "metadata": {
  "kernelspec": {
   "display_name": "ljz",
   "language": "python",
   "name": "python3"
  },
  "language_info": {
   "codemirror_mode": {
    "name": "ipython",
    "version": 3
   },
   "file_extension": ".py",
   "mimetype": "text/x-python",
   "name": "python",
   "nbconvert_exporter": "python",
   "pygments_lexer": "ipython3",
   "version": "3.10.14"
  }
 },
 "nbformat": 4,
 "nbformat_minor": 5
}
