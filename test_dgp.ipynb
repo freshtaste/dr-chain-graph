{
 "cells": [
  {
   "cell_type": "code",
   "execution_count": 5,
   "id": "daa73c57",
   "metadata": {},
   "outputs": [],
   "source": [
    "num_sample = 300\n",
    "num_burn = 20\n",
    "sample_size = 800"
   ]
  },
  {
   "cell_type": "code",
   "execution_count": null,
   "id": "b178cd23-cec2-48f4-9e1e-b55cb4cbd509",
   "metadata": {},
   "outputs": [
    {
     "name": "stderr",
     "output_type": "stream",
     "text": [
      "100%|██████████| 320/320 [00:21<00:00, 15.20it/s]\n"
     ]
    }
   ],
   "source": [
    "from dgp import *\n",
    "\n",
    "# 1. Simulate or load data\n",
    "min_degree = 2\n",
    "max_degree = 4\n",
    "adj = get_graph(sample_size, min_degree, max_degree, seed=1)\n",
    "\n",
    "tau = np.array([-1.0, 0.50, -0.50])       # shape (3,)\n",
    "rho = np.array([[0,0.1,0.2],\n",
    "                [0.1,0,0.1],\n",
    "                [0.2,0.1,0]])      # shape (3, 3), with 0s on the diagonal\n",
    "nu = np.array([0.1,0,0,0.1,0,0,0.1,0,0]).reshape(3,3)       # shape (3, 3)\n",
    "gamma = np.array([-2.00,0.50,-0.05,0.20,0.05,0.25,-0.08,0.30])     # shape (8,)\n",
    "beta = np.array([-0.30,-0.60,-0.20,-0.20,-0.05,-0.10,-0.01,0.40,0.01,0.20])     # shape (10,)\n",
    "\n",
    "Y_chain, A_chain, L_chain = sample_network_chain(adj, tau, rho, nu, gamma, beta, R=num_sample,\n",
    "    burnin_R=num_burn, seed=0)\n",
    "\n",
    "Y_chain = Y_chain[::3]\n",
    "A_chain = A_chain[::3]\n",
    "L_chain = L_chain[::3]"
   ]
  },
  {
   "cell_type": "code",
   "execution_count": 2,
   "id": "58efecda-fa59-4db1-b75e-11b612796572",
   "metadata": {},
   "outputs": [
    {
     "data": {
      "text/plain": [
       "{'average': 0.28154999999999997,\n",
       " 'direct_effect': -0.14622500000000013,\n",
       " 'spillover_effect': -0.11177499999999996,\n",
       " 'psi_1_gamma': 0.23609999999999995,\n",
       " 'psi_0_gamma': 0.3823250000000001,\n",
       " 'psi_zero': 0.49410000000000004}"
      ]
     },
     "execution_count": 2,
     "metadata": {},
     "output_type": "execute_result"
    }
   ],
   "source": [
    "from agcEffect import *\n",
    "\n",
    "agc_effect(\n",
    "    adj,\n",
    "    tau, rho, nu, beta,\n",
    "    treatment_allocation=0.7,\n",
    "    R=50,\n",
    "    burnin_R=5,\n",
    "    seed=0\n",
    ")"
   ]
  },
  {
   "cell_type": "code",
   "execution_count": 3,
   "id": "6790c593-e36c-42a1-8e1d-eb695ad05a51",
   "metadata": {},
   "outputs": [
    {
     "data": {
      "text/plain": [
       "(-0.14233322487420697, 0.1940625)"
      ]
     },
     "execution_count": 3,
     "metadata": {},
     "output_type": "execute_result"
    }
   ],
   "source": [
    "dir, dir2 = [], []\n",
    "for i in range(Y_chain.shape[0]):\n",
    "    Y = Y_chain[i]\n",
    "    A = A_chain[i]\n",
    "    L = L_chain[i]\n",
    "    dir.append(np.mean(Y[A==1]) - np.mean(Y[A==0]))\n",
    "    dir2.append(np.mean(A))\n",
    "\n",
    "np.mean(dir), np.mean(dir2)"
   ]
  },
  {
   "cell_type": "code",
   "execution_count": 1,
   "id": "52f0c260-9f6a-4d1e-8980-482fc3d482fe",
   "metadata": {},
   "outputs": [],
   "source": [
    "n_cpu = 10"
   ]
  },
  {
   "cell_type": "code",
   "execution_count": 5,
   "id": "81834fe8-c805-46d6-943a-fbc8c35a73a0",
   "metadata": {},
   "outputs": [
    {
     "name": "stdout",
     "output_type": "stream",
     "text": [
      "Multiprocessing <function run_dr at 0x7f461ca34b80> in 100 tasks, with 100 processes...\n",
      "Multiprocessing finished.\n"
     ]
    }
   ],
   "source": [
    "from run_pll import *\n",
    "from utils import run_pll\n",
    "\n",
    "args = [{'Y_chain': Y_chain,\n",
    "         'A_chain': A_chain,\n",
    "         'L_chain': L_chain,\n",
    "         'adj': adj,\n",
    "         'i': i} for i in range(len(Y_chain))]\n",
    "\n",
    "res_list_dr = run_pll(run_dr, args, processes=n_cpu)\n",
    "res_list_array_dr = np.array(res_list_dr)"
   ]
  },
  {
   "cell_type": "code",
   "execution_count": 6,
   "id": "d7db0d9c-022a-4815-b163-17570d4c0cbe",
   "metadata": {},
   "outputs": [
    {
     "name": "stdout",
     "output_type": "stream",
     "text": [
      "average: 0.28881 ± 0.05940\n",
      "direct_effect: -0.12843 ± 0.11251\n",
      "spillover_effect: -0.10709 ± 0.08320\n",
      "psi_0_gamma: 0.37877 ± 0.07566\n",
      "psi_zero: 0.48586 ± 0.02938\n",
      "psi_1_gamma: 0.25034 ± 0.07897\n"
     ]
    }
   ],
   "source": [
    "from run_pll import column_names\n",
    "\n",
    "ret_mean_dr = res_list_array_dr.mean(axis=0)\n",
    "ret_std_dr = res_list_array_dr.std(axis=0)\n",
    "for i in range(len(column_names)):\n",
    "    print(f\"{column_names[i]}: {ret_mean_dr[i]:.5f} ± {ret_std_dr[i]:.5f}\")"
   ]
  },
  {
   "cell_type": "code",
   "execution_count": 7,
   "id": "5936ccb4-9149-4ef1-8930-2158cc0c8c88",
   "metadata": {},
   "outputs": [
    {
     "name": "stdout",
     "output_type": "stream",
     "text": [
      "Multiprocessing <function run_autognet at 0x7f46074e3a60> in 100 tasks, with 100 processes...\n",
      "Multiprocessing finished.\n"
     ]
    }
   ],
   "source": [
    "from utils import run_pll\n",
    "from run_pll import run_autognet\n",
    "\n",
    "args = [{'Y_chain': Y_chain,\n",
    "         'A_chain': A_chain,\n",
    "         'L_chain': L_chain,\n",
    "         'adj': adj,\n",
    "         'i': i} for i in range(len(Y_chain))]\n",
    "\n",
    "res_list_ag = run_pll(run_autognet, args, processes=n_cpu)\n",
    "res_list_array_ag = np.array(res_list_ag)"
   ]
  },
  {
   "cell_type": "code",
   "execution_count": 8,
   "id": "1b88d85f-d5f4-4611-87e2-c917578e0734",
   "metadata": {},
   "outputs": [
    {
     "name": "stdout",
     "output_type": "stream",
     "text": [
      "average: 0.29693 ± 0.04038\n",
      "direct_effect: -0.12625 ± 0.03741\n",
      "spillover_effect: -0.09588 ± 0.05685\n",
      "psi_0_gamma: 0.38906 ± 0.04652\n",
      "psi_zero: 0.48494 ± 0.02778\n",
      "psi_1_gamma: 0.26281 ± 0.04180\n"
     ]
    }
   ],
   "source": [
    "from run_pll import column_names\n",
    "\n",
    "ret_mean_ag = res_list_array_ag.mean(axis=0)\n",
    "ret_std_ag = res_list_array_ag.std(axis=0)\n",
    "for i in range(len(column_names)):\n",
    "    print(f\"{column_names[i]}: {ret_mean_ag[i]:.5f} ± {ret_std_ag[i]:.5f}\")"
   ]
  },
  {
   "cell_type": "code",
   "execution_count": null,
   "id": "2fd299f3-272a-40e9-97b5-db1ed6ff9bb8",
   "metadata": {},
   "outputs": [],
   "source": [
    "from run_pll import *\n",
    "from utils import run_pll\n",
    "\n",
    "args = [{'Y_chain': Y_chain,\n",
    "         'A_chain': A_chain,\n",
    "         'L_chain': L_chain,\n",
    "         'adj': adj,\n",
    "         'i': i} for i in range(len(Y_chain))]\n",
    "\n",
    "res_list_dr = run_pll(run_dr_em, args, processes=n_cpu)\n",
    "res_list_array_dr = np.array(res_list_dr)\n",
    "\n",
    "from run_pll import column_names\n",
    "\n",
    "ret_mean_dr = res_list_array_dr.mean(axis=0)\n",
    "ret_std_dr = res_list_array_dr.std(axis=0)\n",
    "for i in range(len(column_names)):\n",
    "    print(f\"{column_names[i]}: {ret_mean_dr[i]:.5f} ± {ret_std_dr[i]:.5f}\")"
   ]
  },
  {
   "cell_type": "code",
   "execution_count": null,
   "id": "485a0349-e682-4d0c-b21f-8406349e8aa0",
   "metadata": {},
   "outputs": [],
   "source": []
  },
  {
   "cell_type": "code",
   "execution_count": 9,
   "id": "35ccfa3f-4f8e-4a2a-9b3a-fef6001b4122",
   "metadata": {},
   "outputs": [
    {
     "name": "stderr",
     "output_type": "stream",
     "text": [
      "100%|██████████| 320/320 [00:23<00:00, 13.80it/s]\n"
     ]
    }
   ],
   "source": [
    "from dgp import *\n",
    "\n",
    "# 1. Simulate or load data\n",
    "min_degree = 2\n",
    "max_degree = 4\n",
    "adj = get_graph(sample_size, min_degree, max_degree, seed=1)\n",
    "\n",
    "tau = np.array([-1.0, 0.50, -0.50])       # shape (3,)\n",
    "rho = np.array([[0,0.1,0.2],\n",
    "                [0.1,0,0.1],\n",
    "                [0.2,0.1,0]])      # shape (3, 3), with 0s on the diagonal\n",
    "nu = np.array([0.1,0,0,0.1,0,0,0.1,0,0]).reshape(3,3)       # shape (3, 3)\n",
    "gamma = np.array([-2.00,0.50,-0.05,0.20,0.05,0.25,-0.08,0.30])     # shape (8,)\n",
    "beta = np.array([-0.30,-0.60,-0.20,-0.20,-0.05,-0.10,-0.01,0.40,0.01,0.20])     # shape (10,)\n",
    "\n",
    "Y_chain, A_chain, L_chain = sample_network_chain2(adj, tau, rho, nu, gamma, beta, R=num_sample,\n",
    "    burnin_R=num_burn, seed=0)\n",
    "\n",
    "Y_chain = Y_chain[::3]\n",
    "A_chain = A_chain[::3]\n",
    "L_chain = L_chain[::3]"
   ]
  },
  {
   "cell_type": "code",
   "execution_count": 10,
   "id": "ee9ddd02-1e56-4c3f-9268-dfb9b3c284ce",
   "metadata": {},
   "outputs": [
    {
     "data": {
      "text/plain": [
       "{'average': 0.285325,\n",
       " 'direct_effect': -0.04884999999999995,\n",
       " 'spillover_effect': -0.09772500000000006,\n",
       " 'psi_1_gamma': 0.27375000000000005,\n",
       " 'psi_0_gamma': 0.3226,\n",
       " 'psi_zero': 0.42032500000000006}"
      ]
     },
     "execution_count": 10,
     "metadata": {},
     "output_type": "execute_result"
    }
   ],
   "source": [
    "from agcEffect import *\n",
    "\n",
    "agc_effect2(\n",
    "    adj,\n",
    "    tau, rho, nu, beta,\n",
    "    treatment_allocation=0.7,\n",
    "    R=50,\n",
    "    burnin_R=5,\n",
    "    seed=0\n",
    ")"
   ]
  },
  {
   "cell_type": "code",
   "execution_count": 11,
   "id": "dece71c4-d8a4-470e-84b0-465423f35762",
   "metadata": {},
   "outputs": [
    {
     "data": {
      "text/plain": [
       "(-0.09679307080818747, 0.1940625)"
      ]
     },
     "execution_count": 11,
     "metadata": {},
     "output_type": "execute_result"
    }
   ],
   "source": [
    "dir, dir2 = [], []\n",
    "for i in range(Y_chain.shape[0]):\n",
    "    Y = Y_chain[i]\n",
    "    A = A_chain[i]\n",
    "    L = L_chain[i]\n",
    "    dir.append(np.mean(Y[A==1]) - np.mean(Y[A==0]))\n",
    "    dir2.append(np.mean(A))\n",
    "\n",
    "np.mean(dir), np.mean(dir2)"
   ]
  },
  {
   "cell_type": "code",
   "execution_count": 12,
   "id": "86789303-2b7b-47d9-882c-58924dccc90e",
   "metadata": {},
   "outputs": [
    {
     "name": "stdout",
     "output_type": "stream",
     "text": [
      "Multiprocessing <function run_dr at 0x7f461ca34b80> in 100 tasks, with 100 processes...\n",
      "Multiprocessing finished.\n"
     ]
    }
   ],
   "source": [
    "from run_pll import *\n",
    "from utils import run_pll\n",
    "\n",
    "args = [{'Y_chain': Y_chain,\n",
    "         'A_chain': A_chain,\n",
    "         'L_chain': L_chain,\n",
    "         'adj': adj,\n",
    "         'i': i} for i in range(len(Y_chain))]\n",
    "\n",
    "res_list_dr = run_pll(run_dr, args, processes=n_cpu)\n",
    "res_list_array_dr = np.array(res_list_dr)"
   ]
  },
  {
   "cell_type": "code",
   "execution_count": 13,
   "id": "541bed7c-caf8-457b-af84-8bb5219c294e",
   "metadata": {},
   "outputs": [
    {
     "name": "stdout",
     "output_type": "stream",
     "text": [
      "average: 0.26744 ± 0.06072\n",
      "direct_effect: -0.04394 ± 0.10966\n",
      "spillover_effect: -0.12778 ± 0.07188\n",
      "psi_0_gamma: 0.29871 ± 0.06580\n",
      "psi_zero: 0.42649 ± 0.02695\n",
      "psi_1_gamma: 0.25478 ± 0.08270\n"
     ]
    }
   ],
   "source": [
    "from run_pll import column_names\n",
    "\n",
    "ret_mean_dr = res_list_array_dr.mean(axis=0)\n",
    "ret_std_dr = res_list_array_dr.std(axis=0)\n",
    "for i in range(len(column_names)):\n",
    "    print(f\"{column_names[i]}: {ret_mean_dr[i]:.5f} ± {ret_std_dr[i]:.5f}\")"
   ]
  },
  {
   "cell_type": "code",
   "execution_count": 14,
   "id": "6550dca6-a760-413b-8ab5-779dca1f5901",
   "metadata": {},
   "outputs": [
    {
     "name": "stdout",
     "output_type": "stream",
     "text": [
      "Multiprocessing <function run_autognet at 0x7f46074e3a60> in 100 tasks, with 100 processes...\n",
      "Multiprocessing finished.\n"
     ]
    }
   ],
   "source": [
    "from utils import run_pll\n",
    "from run_pll import run_autognet\n",
    "\n",
    "args = [{'Y_chain': Y_chain,\n",
    "         'A_chain': A_chain,\n",
    "         'L_chain': L_chain,\n",
    "         'adj': adj,\n",
    "         'i': i} for i in range(len(Y_chain))]\n",
    "\n",
    "res_list_ag = run_pll(run_autognet, args, processes=n_cpu)\n",
    "res_list_array_ag = np.array(res_list_ag)"
   ]
  },
  {
   "cell_type": "code",
   "execution_count": 15,
   "id": "8e14c347-770f-40c4-84fe-e5094cc12a7c",
   "metadata": {},
   "outputs": [
    {
     "name": "stdout",
     "output_type": "stream",
     "text": [
      "average: 0.25356 ± 0.03809\n",
      "direct_effect: -0.07906 ± 0.03550\n",
      "spillover_effect: -0.10533 ± 0.05176\n",
      "psi_0_gamma: 0.31282 ± 0.04077\n",
      "psi_zero: 0.41815 ± 0.02438\n",
      "psi_1_gamma: 0.23376 ± 0.04167\n"
     ]
    }
   ],
   "source": [
    "from run_pll import column_names\n",
    "\n",
    "ret_mean_ag = res_list_array_ag.mean(axis=0)\n",
    "ret_std_ag = res_list_array_ag.std(axis=0)\n",
    "for i in range(len(column_names)):\n",
    "    print(f\"{column_names[i]}: {ret_mean_ag[i]:.5f} ± {ret_std_ag[i]:.5f}\")"
   ]
  },
  {
   "cell_type": "code",
   "execution_count": null,
   "id": "058f75a5-d863-4910-831f-d15cf3bda366",
   "metadata": {},
   "outputs": [],
   "source": [
    "from run_pll import *\n",
    "from utils import run_pll\n",
    "\n",
    "args = [{'Y_chain': Y_chain,\n",
    "         'A_chain': A_chain,\n",
    "         'L_chain': L_chain,\n",
    "         'adj': adj,\n",
    "         'i': i} for i in range(len(Y_chain))]\n",
    "\n",
    "res_list_dr = run_pll(run_dr_em, args, processes=n_cpu)\n",
    "res_list_array_dr = np.array(res_list_dr)\n",
    "\n",
    "from run_pll import column_names\n",
    "\n",
    "ret_mean_dr = res_list_array_dr.mean(axis=0)\n",
    "ret_std_dr = res_list_array_dr.std(axis=0)\n",
    "for i in range(len(column_names)):\n",
    "    print(f\"{column_names[i]}: {ret_mean_dr[i]:.5f} ± {ret_std_dr[i]:.5f}\")"
   ]
  },
  {
   "cell_type": "code",
   "execution_count": null,
   "id": "4b522a7a-3b18-4cd3-92ba-7a856e4f453d",
   "metadata": {},
   "outputs": [],
   "source": []
  },
  {
   "cell_type": "code",
   "execution_count": null,
   "id": "705b9ef7-9879-432c-803b-10688333a8b7",
   "metadata": {},
   "outputs": [],
   "source": []
  },
  {
   "cell_type": "code",
   "execution_count": 16,
   "id": "1675c38a-2aff-4670-9e73-b6def3e4a59e",
   "metadata": {},
   "outputs": [
    {
     "name": "stderr",
     "output_type": "stream",
     "text": [
      "100%|██████████| 320/320 [00:21<00:00, 15.11it/s]\n"
     ]
    }
   ],
   "source": [
    "from dgp import *\n",
    "\n",
    "# 1. Simulate or load data\n",
    "min_degree = 5\n",
    "max_degree = 7\n",
    "adj = get_graph(sample_size, min_degree, max_degree, seed=1)\n",
    "\n",
    "tau = np.array([-1.0, 0.50, -0.50])       # shape (3,)\n",
    "rho = np.array([[0,0.1,0.2],\n",
    "                [0.1,0,0.1],\n",
    "                [0.2,0.1,0]])      # shape (3, 3), with 0s on the diagonal\n",
    "nu = np.array([0.1,0,0,0.1,0,0,0.1,0,0]).reshape(3,3)       # shape (3, 3)\n",
    "gamma = np.array([-2.00,0.50,-0.05,0.20,0.05,0.25,-0.08,0.30])     # shape (8,)\n",
    "beta = np.array([-0.30,-0.60,-0.20,-0.20,-0.05,-0.10,-0.01,0.40,0.01,0.20])     # shape (10,)\n",
    "\n",
    "Y_chain, A_chain, L_chain = sample_network_chain(adj, tau, rho, nu, gamma, beta, R=num_sample,\n",
    "    burnin_R=num_burn, seed=0)\n",
    "\n",
    "Y_chain = Y_chain[::3]\n",
    "A_chain = A_chain[::3]\n",
    "L_chain = L_chain[::3]"
   ]
  },
  {
   "cell_type": "code",
   "execution_count": 17,
   "id": "1740a3b5-9454-44ce-b467-7ba14793a5f1",
   "metadata": {},
   "outputs": [
    {
     "data": {
      "text/plain": [
       "{'average': 0.21325,\n",
       " 'direct_effect': -0.13562499999999994,\n",
       " 'spillover_effect': -0.2715750000000001,\n",
       " 'psi_1_gamma': 0.17255000000000004,\n",
       " 'psi_0_gamma': 0.308175,\n",
       " 'psi_zero': 0.5797500000000001}"
      ]
     },
     "execution_count": 17,
     "metadata": {},
     "output_type": "execute_result"
    }
   ],
   "source": [
    "from agcEffect import *\n",
    "\n",
    "agc_effect(\n",
    "    adj,\n",
    "    tau, rho, nu, beta,\n",
    "    treatment_allocation=0.7,\n",
    "    R=50,\n",
    "    burnin_R=5,\n",
    "    seed=0\n",
    ")"
   ]
  },
  {
   "cell_type": "code",
   "execution_count": 18,
   "id": "689b62e8-1972-49f4-9ff2-68d5a4a656a6",
   "metadata": {},
   "outputs": [
    {
     "data": {
      "text/plain": [
       "(-0.1492641451885985, 0.22795)"
      ]
     },
     "execution_count": 18,
     "metadata": {},
     "output_type": "execute_result"
    }
   ],
   "source": [
    "dir, dir2 = [], []\n",
    "for i in range(Y_chain.shape[0]):\n",
    "    Y = Y_chain[i]\n",
    "    A = A_chain[i]\n",
    "    L = L_chain[i]\n",
    "    dir.append(np.mean(Y[A==1]) - np.mean(Y[A==0]))\n",
    "    dir2.append(np.mean(A))\n",
    "\n",
    "np.mean(dir), np.mean(dir2)"
   ]
  },
  {
   "cell_type": "code",
   "execution_count": 19,
   "id": "f12623b1-e444-4be7-b75d-701b0eb5ab57",
   "metadata": {},
   "outputs": [
    {
     "name": "stdout",
     "output_type": "stream",
     "text": [
      "Multiprocessing <function run_dr at 0x7f461ca34b80> in 100 tasks, with 100 processes...\n",
      "Multiprocessing finished.\n"
     ]
    }
   ],
   "source": [
    "from run_pll import *\n",
    "from utils import run_pll\n",
    "\n",
    "args = [{'Y_chain': Y_chain,\n",
    "         'A_chain': A_chain,\n",
    "         'L_chain': L_chain,\n",
    "         'adj': adj,\n",
    "         'i': i} for i in range(len(Y_chain))]\n",
    "\n",
    "res_list_dr = run_pll(run_dr, args, processes=n_cpu)\n",
    "res_list_array_dr = np.array(res_list_dr)"
   ]
  },
  {
   "cell_type": "code",
   "execution_count": 20,
   "id": "4814e2ca-997a-4036-9ab1-61bd3e461b02",
   "metadata": {},
   "outputs": [
    {
     "name": "stdout",
     "output_type": "stream",
     "text": [
      "average: 0.25471 ± 0.05166\n",
      "direct_effect: -0.10202 ± 0.06924\n",
      "spillover_effect: -0.20557 ± 0.07685\n",
      "psi_0_gamma: 0.32749 ± 0.06322\n",
      "psi_zero: 0.53306 ± 0.04246\n",
      "psi_1_gamma: 0.22547 ± 0.05860\n"
     ]
    }
   ],
   "source": [
    "from run_pll import column_names\n",
    "\n",
    "ret_mean_dr = res_list_array_dr.mean(axis=0)\n",
    "ret_std_dr = res_list_array_dr.std(axis=0)\n",
    "for i in range(len(column_names)):\n",
    "    print(f\"{column_names[i]}: {ret_mean_dr[i]:.5f} ± {ret_std_dr[i]:.5f}\")"
   ]
  },
  {
   "cell_type": "code",
   "execution_count": 21,
   "id": "cee28505-a071-4b76-adbf-5ea809e804d3",
   "metadata": {},
   "outputs": [
    {
     "name": "stdout",
     "output_type": "stream",
     "text": [
      "Multiprocessing <function run_autognet at 0x7f46074e3a60> in 100 tasks, with 100 processes...\n",
      "Multiprocessing finished.\n"
     ]
    }
   ],
   "source": [
    "from utils import run_pll\n",
    "from run_pll import run_autognet\n",
    "\n",
    "args = [{'Y_chain': Y_chain,\n",
    "         'A_chain': A_chain,\n",
    "         'L_chain': L_chain,\n",
    "         'adj': adj,\n",
    "         'i': i} for i in range(len(Y_chain))]\n",
    "\n",
    "res_list_ag = run_pll(run_autognet, args, processes=n_cpu)\n",
    "res_list_array_ag = np.array(res_list_ag)"
   ]
  },
  {
   "cell_type": "code",
   "execution_count": 22,
   "id": "00e9d0d6-2c5b-4df3-ac80-22391999ce9f",
   "metadata": {},
   "outputs": [
    {
     "name": "stdout",
     "output_type": "stream",
     "text": [
      "average: 0.25605 ± 0.04572\n",
      "direct_effect: -0.11442 ± 0.03628\n",
      "spillover_effect: -0.20003 ± 0.06948\n",
      "psi_0_gamma: 0.34035 ± 0.05226\n",
      "psi_zero: 0.54038 ± 0.03772\n",
      "psi_1_gamma: 0.22593 ± 0.04617\n"
     ]
    }
   ],
   "source": [
    "from run_pll import column_names\n",
    "\n",
    "ret_mean_ag = res_list_array_ag.mean(axis=0)\n",
    "ret_std_ag = res_list_array_ag.std(axis=0)\n",
    "for i in range(len(column_names)):\n",
    "    print(f\"{column_names[i]}: {ret_mean_ag[i]:.5f} ± {ret_std_ag[i]:.5f}\")"
   ]
  },
  {
   "cell_type": "code",
   "execution_count": null,
   "id": "033769d3-c8ff-4e9c-9d09-0872ed50481c",
   "metadata": {},
   "outputs": [],
   "source": [
    "from run_pll import *\n",
    "from utils import run_pll\n",
    "\n",
    "args = [{'Y_chain': Y_chain,\n",
    "         'A_chain': A_chain,\n",
    "         'L_chain': L_chain,\n",
    "         'adj': adj,\n",
    "         'i': i} for i in range(len(Y_chain))]\n",
    "\n",
    "res_list_dr = run_pll(run_dr_em, args, processes=n_cpu)\n",
    "res_list_array_dr = np.array(res_list_dr)\n",
    "\n",
    "from run_pll import column_names\n",
    "\n",
    "ret_mean_dr = res_list_array_dr.mean(axis=0)\n",
    "ret_std_dr = res_list_array_dr.std(axis=0)\n",
    "for i in range(len(column_names)):\n",
    "    print(f\"{column_names[i]}: {ret_mean_dr[i]:.5f} ± {ret_std_dr[i]:.5f}\")"
   ]
  },
  {
   "cell_type": "code",
   "execution_count": null,
   "id": "2d537eec-2cb8-4043-aeca-ae9dac210268",
   "metadata": {},
   "outputs": [],
   "source": []
  },
  {
   "cell_type": "code",
   "execution_count": 23,
   "id": "7088d47b-7d62-49ec-9bf4-b47bc0ece7be",
   "metadata": {},
   "outputs": [
    {
     "name": "stderr",
     "output_type": "stream",
     "text": [
      "100%|██████████| 320/320 [00:22<00:00, 14.47it/s]\n"
     ]
    }
   ],
   "source": [
    "from dgp import *\n",
    "\n",
    "# 1. Simulate or load data\n",
    "min_degree = 5\n",
    "max_degree = 7\n",
    "adj = get_graph(sample_size, min_degree, max_degree, seed=1)\n",
    "\n",
    "tau = np.array([-1.0, 0.50, -0.50])       # shape (3,)\n",
    "rho = np.array([[0,0.1,0.2],\n",
    "                [0.1,0,0.1],\n",
    "                [0.2,0.1,0]])      # shape (3, 3), with 0s on the diagonal\n",
    "nu = np.array([0.1,0,0,0.1,0,0,0.1,0,0]).reshape(3,3)       # shape (3, 3)\n",
    "gamma = np.array([-2.00,0.50,-0.05,0.20,0.05,0.25,-0.08,0.30])     # shape (8,)\n",
    "beta = np.array([-0.30,-0.60,-0.20,-0.20,-0.05,-0.10,-0.01,0.40,0.01,0.20])     # shape (10,)\n",
    "\n",
    "Y_chain, A_chain, L_chain = sample_network_chain2(adj, tau, rho, nu, gamma, beta, R=num_sample,\n",
    "    burnin_R=num_burn, seed=0)\n",
    "\n",
    "Y_chain = Y_chain[::3]\n",
    "A_chain = A_chain[::3]\n",
    "L_chain = L_chain[::3]"
   ]
  },
  {
   "cell_type": "code",
   "execution_count": 24,
   "id": "062b216b-ad28-4ced-bf6f-87f0a081d342",
   "metadata": {},
   "outputs": [
    {
     "data": {
      "text/plain": [
       "{'average': 0.20085,\n",
       " 'direct_effect': 0.023425,\n",
       " 'spillover_effect': -0.23290000000000005,\n",
       " 'psi_1_gamma': 0.21085,\n",
       " 'psi_0_gamma': 0.187425,\n",
       " 'psi_zero': 0.42032500000000006}"
      ]
     },
     "execution_count": 24,
     "metadata": {},
     "output_type": "execute_result"
    }
   ],
   "source": [
    "from agcEffect import *\n",
    "\n",
    "agc_effect2(\n",
    "    adj,\n",
    "    tau, rho, nu, beta,\n",
    "    treatment_allocation=0.7,\n",
    "    R=50,\n",
    "    burnin_R=5,\n",
    "    seed=0\n",
    ")"
   ]
  },
  {
   "cell_type": "code",
   "execution_count": 25,
   "id": "06614e5f-177b-46b3-92be-e561d12262a5",
   "metadata": {},
   "outputs": [
    {
     "data": {
      "text/plain": [
       "(-0.07094678917810066, 0.22795)"
      ]
     },
     "execution_count": 25,
     "metadata": {},
     "output_type": "execute_result"
    }
   ],
   "source": [
    "dir, dir2 = [], []\n",
    "for i in range(Y_chain.shape[0]):\n",
    "    Y = Y_chain[i]\n",
    "    A = A_chain[i]\n",
    "    L = L_chain[i]\n",
    "    dir.append(np.mean(Y[A==1]) - np.mean(Y[A==0]))\n",
    "    dir2.append(np.mean(A))\n",
    "\n",
    "np.mean(dir), np.mean(dir2)"
   ]
  },
  {
   "cell_type": "code",
   "execution_count": 26,
   "id": "061ac2f2-bcf0-4880-9a57-d6486c4a764d",
   "metadata": {},
   "outputs": [
    {
     "name": "stdout",
     "output_type": "stream",
     "text": [
      "Multiprocessing <function run_dr at 0x7f461ca34b80> in 100 tasks, with 100 processes...\n",
      "Multiprocessing finished.\n"
     ]
    }
   ],
   "source": [
    "from run_pll import *\n",
    "from utils import run_pll\n",
    "\n",
    "args = [{'Y_chain': Y_chain,\n",
    "         'A_chain': A_chain,\n",
    "         'L_chain': L_chain,\n",
    "         'adj': adj,\n",
    "         'i': i} for i in range(len(Y_chain))]\n",
    "\n",
    "res_list_dr = run_pll(run_dr, args, processes=n_cpu)\n",
    "res_list_array_dr = np.array(res_list_dr)"
   ]
  },
  {
   "cell_type": "code",
   "execution_count": 27,
   "id": "70994e6c-ed5e-4845-a4ec-33a8cf99c8cb",
   "metadata": {},
   "outputs": [
    {
     "name": "stdout",
     "output_type": "stream",
     "text": [
      "average: 0.16713 ± 0.04120\n",
      "direct_effect: -0.00984 ± 0.06437\n",
      "spillover_effect: -0.25202 ± 0.06887\n",
      "psi_0_gamma: 0.17532 ± 0.05089\n",
      "psi_zero: 0.42734 ± 0.04236\n",
      "psi_1_gamma: 0.16548 ± 0.04925\n"
     ]
    }
   ],
   "source": [
    "from run_pll import column_names\n",
    "\n",
    "ret_mean_dr = res_list_array_dr.mean(axis=0)\n",
    "ret_std_dr = res_list_array_dr.std(axis=0)\n",
    "for i in range(len(column_names)):\n",
    "    print(f\"{column_names[i]}: {ret_mean_dr[i]:.5f} ± {ret_std_dr[i]:.5f}\")"
   ]
  },
  {
   "cell_type": "code",
   "execution_count": 28,
   "id": "8969d909-234c-4794-bebd-d86b36788482",
   "metadata": {},
   "outputs": [
    {
     "name": "stdout",
     "output_type": "stream",
     "text": [
      "Multiprocessing <function run_autognet at 0x7f46074e3a60> in 100 tasks, with 100 processes...\n",
      "Multiprocessing finished.\n"
     ]
    }
   ],
   "source": [
    "from utils import run_pll\n",
    "from run_pll import run_autognet\n",
    "\n",
    "args = [{'Y_chain': Y_chain,\n",
    "         'A_chain': A_chain,\n",
    "         'L_chain': L_chain,\n",
    "         'adj': adj,\n",
    "         'i': i} for i in range(len(Y_chain))]\n",
    "\n",
    "res_list_ag = run_pll(run_autognet, args, processes=n_cpu)\n",
    "res_list_array_ag = np.array(res_list_ag)"
   ]
  },
  {
   "cell_type": "code",
   "execution_count": 29,
   "id": "81ca15e1-b0c0-4a7d-b4b0-84ca76ee3f21",
   "metadata": {},
   "outputs": [
    {
     "name": "stdout",
     "output_type": "stream",
     "text": [
      "average: 0.15687 ± 0.03117\n",
      "direct_effect: -0.03497 ± 0.02544\n",
      "spillover_effect: -0.22626 ± 0.06194\n",
      "psi_0_gamma: 0.18456 ± 0.03594\n",
      "psi_zero: 0.41081 ± 0.03738\n",
      "psi_1_gamma: 0.14959 ± 0.03291\n"
     ]
    }
   ],
   "source": [
    "from run_pll import column_names\n",
    "\n",
    "ret_mean_ag = res_list_array_ag.mean(axis=0)\n",
    "ret_std_ag = res_list_array_ag.std(axis=0)\n",
    "for i in range(len(column_names)):\n",
    "    print(f\"{column_names[i]}: {ret_mean_ag[i]:.5f} ± {ret_std_ag[i]:.5f}\")"
   ]
  },
  {
   "cell_type": "code",
   "execution_count": null,
   "id": "0a11dd9b-7308-48bf-9163-6007458e3709",
   "metadata": {},
   "outputs": [],
   "source": [
    "from run_pll import *\n",
    "from utils import run_pll\n",
    "\n",
    "args = [{'Y_chain': Y_chain,\n",
    "         'A_chain': A_chain,\n",
    "         'L_chain': L_chain,\n",
    "         'adj': adj,\n",
    "         'i': i} for i in range(len(Y_chain))]\n",
    "\n",
    "res_list_dr = run_pll(run_dr_em, args, processes=n_cpu)\n",
    "res_list_array_dr = np.array(res_list_dr)\n",
    "\n",
    "from run_pll import column_names\n",
    "\n",
    "ret_mean_dr = res_list_array_dr.mean(axis=0)\n",
    "ret_std_dr = res_list_array_dr.std(axis=0)\n",
    "for i in range(len(column_names)):\n",
    "    print(f\"{column_names[i]}: {ret_mean_dr[i]:.5f} ± {ret_std_dr[i]:.5f}\")"
   ]
  },
  {
   "cell_type": "code",
   "execution_count": null,
   "id": "d74efdd5-38e4-4520-8200-c6a328966e6c",
   "metadata": {},
   "outputs": [],
   "source": []
  },
  {
   "cell_type": "code",
   "execution_count": null,
   "id": "12e56800-79be-4b1d-8055-7e70842d412d",
   "metadata": {},
   "outputs": [],
   "source": []
  },
  {
   "cell_type": "code",
   "execution_count": 4,
   "id": "ad39a13c-c0ba-4ee5-9b7f-c7a919f65e6b",
   "metadata": {},
   "outputs": [
    {
     "ename": "NameError",
     "evalue": "name 'sample_size' is not defined",
     "output_type": "error",
     "traceback": [
      "\u001b[0;31m---------------------------------------------------------------------------\u001b[0m",
      "\u001b[0;31mNameError\u001b[0m                                 Traceback (most recent call last)",
      "Cell \u001b[0;32mIn[4], line 6\u001b[0m\n\u001b[1;32m      4\u001b[0m min_degree \u001b[38;5;241m=\u001b[39m \u001b[38;5;241m8\u001b[39m\n\u001b[1;32m      5\u001b[0m max_degree \u001b[38;5;241m=\u001b[39m \u001b[38;5;241m10\u001b[39m\n\u001b[0;32m----> 6\u001b[0m adj \u001b[38;5;241m=\u001b[39m get_graph(\u001b[43msample_size\u001b[49m, min_degree, max_degree, seed\u001b[38;5;241m=\u001b[39m\u001b[38;5;241m1\u001b[39m)\n\u001b[1;32m      8\u001b[0m tau \u001b[38;5;241m=\u001b[39m np\u001b[38;5;241m.\u001b[39marray([\u001b[38;5;241m-\u001b[39m\u001b[38;5;241m1.0\u001b[39m, \u001b[38;5;241m0.50\u001b[39m, \u001b[38;5;241m-\u001b[39m\u001b[38;5;241m0.50\u001b[39m])       \u001b[38;5;66;03m# shape (3,)\u001b[39;00m\n\u001b[1;32m      9\u001b[0m rho \u001b[38;5;241m=\u001b[39m np\u001b[38;5;241m.\u001b[39marray([[\u001b[38;5;241m0\u001b[39m,\u001b[38;5;241m0.1\u001b[39m,\u001b[38;5;241m0.2\u001b[39m],\n\u001b[1;32m     10\u001b[0m                 [\u001b[38;5;241m0.1\u001b[39m,\u001b[38;5;241m0\u001b[39m,\u001b[38;5;241m0.1\u001b[39m],\n\u001b[1;32m     11\u001b[0m                 [\u001b[38;5;241m0.2\u001b[39m,\u001b[38;5;241m0.1\u001b[39m,\u001b[38;5;241m0\u001b[39m]])      \u001b[38;5;66;03m# shape (3, 3), with 0s on the diagonal\u001b[39;00m\n",
      "\u001b[0;31mNameError\u001b[0m: name 'sample_size' is not defined"
     ]
    }
   ],
   "source": [
    "from dgp import *\n",
    "\n",
    "# 1. Simulate or load data\n",
    "min_degree = 8\n",
    "max_degree = 10\n",
    "adj = get_graph(sample_size, min_degree, max_degree, seed=1)\n",
    "\n",
    "tau = np.array([-1.0, 0.50, -0.50])       # shape (3,)\n",
    "rho = np.array([[0,0.1,0.2],\n",
    "                [0.1,0,0.1],\n",
    "                [0.2,0.1,0]])      # shape (3, 3), with 0s on the diagonal\n",
    "nu = np.array([0.1,0,0,0.1,0,0,0.1,0,0]).reshape(3,3)       # shape (3, 3)\n",
    "gamma = np.array([-2.00,0.50,-0.05,0.20,0.05,0.25,-0.08,0.30])     # shape (8,)\n",
    "beta = np.array([-0.30,-0.60,-0.20,-0.20,-0.05,-0.10,-0.01,0.40,0.01,0.20])     # shape (10,)\n",
    "\n",
    "Y_chain, A_chain, L_chain = sample_network_chain(adj, tau, rho, nu, gamma, beta, R=num_sample,\n",
    "    burnin_R=num_burn, seed=0)\n",
    "\n",
    "Y_chain = Y_chain[::3]\n",
    "A_chain = A_chain[::3]\n",
    "L_chain = L_chain[::3]"
   ]
  },
  {
   "cell_type": "code",
   "execution_count": 31,
   "id": "b55f72df-1ddc-4c98-832d-bee908d1aa9d",
   "metadata": {},
   "outputs": [
    {
     "data": {
      "text/plain": [
       "{'average': 0.147975,\n",
       " 'direct_effect': -0.11012500000000001,\n",
       " 'spillover_effect': -0.4613499999999998,\n",
       " 'psi_1_gamma': 0.11622500000000001,\n",
       " 'psi_0_gamma': 0.22635000000000002,\n",
       " 'psi_zero': 0.6876999999999999}"
      ]
     },
     "execution_count": 31,
     "metadata": {},
     "output_type": "execute_result"
    }
   ],
   "source": [
    "from agcEffect import *\n",
    "\n",
    "agc_effect(\n",
    "    adj,\n",
    "    tau, rho, nu, beta,\n",
    "    treatment_allocation=0.7,\n",
    "    R=50,\n",
    "    burnin_R=5,\n",
    "    seed=0\n",
    ")"
   ]
  },
  {
   "cell_type": "code",
   "execution_count": 45,
   "id": "cf8789e6-817d-4a3f-ab32-316cb2f31c8e",
   "metadata": {},
   "outputs": [
    {
     "data": {
      "text/plain": [
       "(-0.16009213116731968, 0.28511249999999994)"
      ]
     },
     "execution_count": 45,
     "metadata": {},
     "output_type": "execute_result"
    }
   ],
   "source": [
    "dir, dir2 = [], []\n",
    "for i in range(Y_chain.shape[0]):\n",
    "    Y = Y_chain[i]\n",
    "    A = A_chain[i]\n",
    "    L = L_chain[i]\n",
    "    dir.append(np.mean(Y[A==1]) - np.mean(Y[A==0]))\n",
    "    dir2.append(np.mean(A))\n",
    "\n",
    "np.mean(dir), np.mean(dir2)"
   ]
  },
  {
   "cell_type": "code",
   "execution_count": 46,
   "id": "e5b16b0d-90f7-4048-acc8-9b04d9b01c24",
   "metadata": {},
   "outputs": [
    {
     "name": "stdout",
     "output_type": "stream",
     "text": [
      "Multiprocessing <function run_dr at 0x7f461ca34b80> in 100 tasks, with 100 processes...\n",
      "Multiprocessing finished.\n"
     ]
    }
   ],
   "source": [
    "from run_pll import *\n",
    "from utils import run_pll\n",
    "\n",
    "args = [{'Y_chain': Y_chain,\n",
    "         'A_chain': A_chain,\n",
    "         'L_chain': L_chain,\n",
    "         'adj': adj,\n",
    "         'i': i} for i in range(len(Y_chain))]\n",
    "\n",
    "res_list_dr = run_pll(run_dr, args, processes=n_cpu)\n",
    "res_list_array_dr = np.array(res_list_dr)"
   ]
  },
  {
   "cell_type": "code",
   "execution_count": 47,
   "id": "baec406b-a0d0-4430-8485-0cfa2c64cb01",
   "metadata": {},
   "outputs": [
    {
     "name": "stdout",
     "output_type": "stream",
     "text": [
      "average: 0.21263 ± 0.03232\n",
      "direct_effect: -0.10111 ± 0.03613\n",
      "spillover_effect: -0.28673 ± 0.10653\n",
      "psi_0_gamma: 0.28404 ± 0.04132\n",
      "psi_zero: 0.57077 ± 0.09672\n",
      "psi_1_gamma: 0.18293 ± 0.03210\n"
     ]
    }
   ],
   "source": [
    "from run_pll import column_names\n",
    "\n",
    "ret_mean_dr = res_list_array_dr.mean(axis=0)\n",
    "ret_std_dr = res_list_array_dr.std(axis=0)\n",
    "for i in range(len(column_names)):\n",
    "    print(f\"{column_names[i]}: {ret_mean_dr[i]:.5f} ± {ret_std_dr[i]:.5f}\")"
   ]
  },
  {
   "cell_type": "code",
   "execution_count": 48,
   "id": "27d6bb5d-7d6f-4752-b89e-1dc9bb3151b1",
   "metadata": {},
   "outputs": [
    {
     "name": "stdout",
     "output_type": "stream",
     "text": [
      "Multiprocessing <function run_autognet at 0x7f46074e3a60> in 100 tasks, with 100 processes...\n",
      "Multiprocessing finished.\n"
     ]
    }
   ],
   "source": [
    "from utils import run_pll\n",
    "from run_pll import run_autognet\n",
    "\n",
    "args = [{'Y_chain': Y_chain,\n",
    "         'A_chain': A_chain,\n",
    "         'L_chain': L_chain,\n",
    "         'adj': adj,\n",
    "         'i': i} for i in range(len(Y_chain))]\n",
    "\n",
    "res_list_ag = run_pll(run_autognet, args, processes=n_cpu)\n",
    "res_list_array_ag = np.array(res_list_ag)"
   ]
  },
  {
   "cell_type": "code",
   "execution_count": 49,
   "id": "e019829e-1347-433c-9a4c-a4507b7a0326",
   "metadata": {},
   "outputs": [
    {
     "name": "stdout",
     "output_type": "stream",
     "text": [
      "average: 0.20445 ± 0.03912\n",
      "direct_effect: -0.10174 ± 0.03410\n",
      "spillover_effect: -0.29227 ± 0.08423\n",
      "psi_0_gamma: 0.27999 ± 0.04868\n",
      "psi_zero: 0.57226 ± 0.05464\n",
      "psi_1_gamma: 0.17825 ± 0.03881\n"
     ]
    }
   ],
   "source": [
    "from run_pll import column_names\n",
    "\n",
    "ret_mean_ag = res_list_array_ag.mean(axis=0)\n",
    "ret_std_ag = res_list_array_ag.std(axis=0)\n",
    "for i in range(len(column_names)):\n",
    "    print(f\"{column_names[i]}: {ret_mean_ag[i]:.5f} ± {ret_std_ag[i]:.5f}\")"
   ]
  },
  {
   "cell_type": "code",
   "execution_count": null,
   "id": "d9319df0-b178-46cc-b08e-c212e765fa26",
   "metadata": {},
   "outputs": [],
   "source": [
    "from run_pll import *\n",
    "from utils import run_pll\n",
    "\n",
    "args = [{'Y_chain': Y_chain,\n",
    "         'A_chain': A_chain,\n",
    "         'L_chain': L_chain,\n",
    "         'adj': adj,\n",
    "         'i': i} for i in range(len(Y_chain))]\n",
    "\n",
    "res_list_dr = run_pll(run_dr_em, args, processes=n_cpu)\n",
    "res_list_array_dr = np.array(res_list_dr)\n",
    "\n",
    "from run_pll import column_names\n",
    "\n",
    "ret_mean_dr = res_list_array_dr.mean(axis=0)\n",
    "ret_std_dr = res_list_array_dr.std(axis=0)\n",
    "for i in range(len(column_names)):\n",
    "    print(f\"{column_names[i]}: {ret_mean_dr[i]:.5f} ± {ret_std_dr[i]:.5f}\")"
   ]
  },
  {
   "cell_type": "code",
   "execution_count": null,
   "id": "4b23c297-c302-4381-8e01-fb64222f9c83",
   "metadata": {},
   "outputs": [],
   "source": []
  },
  {
   "cell_type": "code",
   "execution_count": 50,
   "id": "64960f3f-2f87-466a-8972-e47266071995",
   "metadata": {},
   "outputs": [
    {
     "name": "stderr",
     "output_type": "stream",
     "text": [
      "100%|██████████| 320/320 [00:23<00:00, 13.91it/s]\n"
     ]
    }
   ],
   "source": [
    "from dgp import *\n",
    "\n",
    "# 1. Simulate or load data\n",
    "min_degree = 8\n",
    "max_degree = 10\n",
    "adj = get_graph(sample_size, min_degree, max_degree, seed=1)\n",
    "\n",
    "tau = np.array([-1.0, 0.50, -0.50])       # shape (3,)\n",
    "rho = np.array([[0,0.1,0.2],\n",
    "                [0.1,0,0.1],\n",
    "                [0.2,0.1,0]])      # shape (3, 3), with 0s on the diagonal\n",
    "nu = np.array([0.1,0,0,0.1,0,0,0.1,0,0]).reshape(3,3)       # shape (3, 3)\n",
    "gamma = np.array([-2.00,0.50,-0.05,0.20,0.05,0.25,-0.08,0.30])     # shape (8,)\n",
    "beta = np.array([-0.30,-0.60,-0.20,-0.20,-0.05,-0.10,-0.01,0.40,0.01,0.20])     # shape (10,)\n",
    "\n",
    "Y_chain, A_chain, L_chain = sample_network_chain2(adj, tau, rho, nu, gamma, beta, R=num_sample,\n",
    "    burnin_R=num_burn, seed=0)\n",
    "\n",
    "Y_chain = Y_chain[::3]\n",
    "A_chain = A_chain[::3]\n",
    "L_chain = L_chain[::3]"
   ]
  },
  {
   "cell_type": "code",
   "execution_count": 51,
   "id": "9d0c5167-943a-4a87-b5a4-786b09e336f4",
   "metadata": {},
   "outputs": [
    {
     "data": {
      "text/plain": [
       "{'average': 0.11192500000000001,\n",
       " 'direct_effect': 0.04277499999999998,\n",
       " 'spillover_effect': -0.33780000000000004,\n",
       " 'psi_1_gamma': 0.1253,\n",
       " 'psi_0_gamma': 0.08252500000000002,\n",
       " 'psi_zero': 0.42032500000000006}"
      ]
     },
     "execution_count": 51,
     "metadata": {},
     "output_type": "execute_result"
    }
   ],
   "source": [
    "from agcEffect import *\n",
    "\n",
    "agc_effect2(\n",
    "    adj,\n",
    "    tau, rho, nu, beta,\n",
    "    treatment_allocation=0.7,\n",
    "    R=50,\n",
    "    burnin_R=5,\n",
    "    seed=0\n",
    ")"
   ]
  },
  {
   "cell_type": "code",
   "execution_count": 52,
   "id": "355212d1-aae6-4032-94af-f88e71c07558",
   "metadata": {},
   "outputs": [
    {
     "data": {
      "text/plain": [
       "(-0.038306885948007297, 0.28511249999999994)"
      ]
     },
     "execution_count": 52,
     "metadata": {},
     "output_type": "execute_result"
    }
   ],
   "source": [
    "dir, dir2 = [], []\n",
    "for i in range(Y_chain.shape[0]):\n",
    "    Y = Y_chain[i]\n",
    "    A = A_chain[i]\n",
    "    L = L_chain[i]\n",
    "    dir.append(np.mean(Y[A==1]) - np.mean(Y[A==0]))\n",
    "    dir2.append(np.mean(A))\n",
    "\n",
    "np.mean(dir), np.mean(dir2)"
   ]
  },
  {
   "cell_type": "code",
   "execution_count": 53,
   "id": "aec6ba18-72cc-41da-aa4f-4575ddfbf76d",
   "metadata": {},
   "outputs": [
    {
     "name": "stdout",
     "output_type": "stream",
     "text": [
      "Multiprocessing <function run_dr at 0x7f461ca34b80> in 100 tasks, with 100 processes...\n",
      "Multiprocessing finished.\n"
     ]
    }
   ],
   "source": [
    "from run_pll import *\n",
    "from utils import run_pll\n",
    "\n",
    "args = [{'Y_chain': Y_chain,\n",
    "         'A_chain': A_chain,\n",
    "         'L_chain': L_chain,\n",
    "         'adj': adj,\n",
    "         'i': i} for i in range(len(Y_chain))]\n",
    "\n",
    "res_list_dr = run_pll(run_dr, args, processes=n_cpu)\n",
    "res_list_array_dr = np.array(res_list_dr)"
   ]
  },
  {
   "cell_type": "code",
   "execution_count": 54,
   "id": "4163f935-7756-4d21-a234-fa90d000ca84",
   "metadata": {},
   "outputs": [
    {
     "name": "stdout",
     "output_type": "stream",
     "text": [
      "average: 0.08530 ± 0.02064\n",
      "direct_effect: 0.00223 ± 0.01908\n",
      "spillover_effect: -0.34108 ± 0.10829\n",
      "psi_0_gamma: 0.08421 ± 0.02053\n",
      "psi_zero: 0.42530 ± 0.09931\n",
      "psi_1_gamma: 0.08645 ± 0.02269\n"
     ]
    }
   ],
   "source": [
    "from run_pll import column_names\n",
    "\n",
    "ret_mean_dr = res_list_array_dr.mean(axis=0)\n",
    "ret_std_dr = res_list_array_dr.std(axis=0)\n",
    "for i in range(len(column_names)):\n",
    "    print(f\"{column_names[i]}: {ret_mean_dr[i]:.5f} ± {ret_std_dr[i]:.5f}\")"
   ]
  },
  {
   "cell_type": "code",
   "execution_count": 55,
   "id": "7f8b8b3a-fa1f-4ab0-9834-727187b20a13",
   "metadata": {},
   "outputs": [
    {
     "name": "stdout",
     "output_type": "stream",
     "text": [
      "Multiprocessing <function run_autognet at 0x7f46074e3a60> in 100 tasks, with 100 processes...\n",
      "Multiprocessing finished.\n"
     ]
    }
   ],
   "source": [
    "from utils import run_pll\n",
    "from run_pll import run_autognet\n",
    "\n",
    "args = [{'Y_chain': Y_chain,\n",
    "         'A_chain': A_chain,\n",
    "         'L_chain': L_chain,\n",
    "         'adj': adj,\n",
    "         'i': i} for i in range(len(Y_chain))]\n",
    "\n",
    "res_list_ag = run_pll(run_autognet, args, processes=n_cpu)\n",
    "res_list_array_ag = np.array(res_list_ag)"
   ]
  },
  {
   "cell_type": "code",
   "execution_count": 56,
   "id": "45d6564a-f2d5-4893-ac08-992d8c8d5c2b",
   "metadata": {},
   "outputs": [
    {
     "name": "stdout",
     "output_type": "stream",
     "text": [
      "average: 0.08250 ± 0.01997\n",
      "direct_effect: -0.00429 ± 0.01441\n",
      "spillover_effect: -0.30343 ± 0.07018\n",
      "psi_0_gamma: 0.08660 ± 0.02274\n",
      "psi_zero: 0.39003 ± 0.05660\n",
      "psi_1_gamma: 0.08231 ± 0.02111\n"
     ]
    }
   ],
   "source": [
    "from run_pll import column_names\n",
    "\n",
    "ret_mean_ag = res_list_array_ag.mean(axis=0)\n",
    "ret_std_ag = res_list_array_ag.std(axis=0)\n",
    "for i in range(len(column_names)):\n",
    "    print(f\"{column_names[i]}: {ret_mean_ag[i]:.5f} ± {ret_std_ag[i]:.5f}\")"
   ]
  },
  {
   "cell_type": "code",
   "execution_count": null,
   "id": "0470d644-718e-42ef-adc4-3969bd6cb698",
   "metadata": {},
   "outputs": [],
   "source": [
    "from run_pll import *\n",
    "from utils import run_pll\n",
    "\n",
    "args = [{'Y_chain': Y_chain,\n",
    "         'A_chain': A_chain,\n",
    "         'L_chain': L_chain,\n",
    "         'adj': adj,\n",
    "         'i': i} for i in range(len(Y_chain))]\n",
    "\n",
    "res_list_dr = run_pll(run_dr_em, args, processes=n_cpu)\n",
    "res_list_array_dr = np.array(res_list_dr)\n",
    "\n",
    "from run_pll import column_names\n",
    "\n",
    "ret_mean_dr = res_list_array_dr.mean(axis=0)\n",
    "ret_std_dr = res_list_array_dr.std(axis=0)\n",
    "for i in range(len(column_names)):\n",
    "    print(f\"{column_names[i]}: {ret_mean_dr[i]:.5f} ± {ret_std_dr[i]:.5f}\")"
   ]
  },
  {
   "cell_type": "code",
   "execution_count": null,
   "id": "e827a332-6ab8-4efe-93b8-accd1b8bdb5d",
   "metadata": {},
   "outputs": [],
   "source": []
  },
  {
   "cell_type": "code",
   "execution_count": null,
   "id": "13d53bb0-f543-4779-bf28-64f2942acd9f",
   "metadata": {},
   "outputs": [],
   "source": []
  }
 ],
 "metadata": {
  "kernelspec": {
   "display_name": "ljz",
   "language": "python",
   "name": "python3"
  },
  "language_info": {
   "codemirror_mode": {
    "name": "ipython",
    "version": 3
   },
   "file_extension": ".py",
   "mimetype": "text/x-python",
   "name": "python",
   "nbconvert_exporter": "python",
   "pygments_lexer": "ipython3",
   "version": "3.10.14"
  }
 },
 "nbformat": 4,
 "nbformat_minor": 5
}
