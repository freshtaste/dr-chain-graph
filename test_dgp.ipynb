{
 "cells": [
  {
   "cell_type": "code",
   "execution_count": 1,
   "id": "daa73c57",
   "metadata": {},
   "outputs": [],
   "source": [
    "num_sample = 300\n",
    "num_burn = 20\n",
    "sample_size = 800"
   ]
  },
  {
   "cell_type": "code",
   "execution_count": 2,
   "id": "b178cd23-cec2-48f4-9e1e-b55cb4cbd509",
   "metadata": {},
   "outputs": [
    {
     "name": "stderr",
     "output_type": "stream",
     "text": [
      "100%|██████████| 320/320 [00:10<00:00, 31.40it/s]\n"
     ]
    }
   ],
   "source": [
    "from dgp import *\n",
    "\n",
    "# 1. Simulate or load data\n",
    "min_degree = 1\n",
    "max_degree = 4\n",
    "adj = get_graph(sample_size, min_degree, max_degree, seed=1)\n",
    "\n",
    "tau = np.array([-1.0, 0.50, -0.50])       # shape (3,)\n",
    "rho = np.array([[0,0.1,0.2],\n",
    "                [0.1,0,0.1],\n",
    "                [0.2,0.1,0]])      # shape (3, 3), with 0s on the diagonal\n",
    "nu = np.array([0.1,0,0,0.1,0,0,0.1,0,0]).reshape(3,3)       # shape (3, 3)\n",
    "gamma = np.array([-2.00,0.50,-0.05,0.20,0.05,0.25,-0.08,0.30])     # shape (8,)\n",
    "beta = np.array([-0.30,-0.60,-0.20,-0.20,-0.05,-0.10,-0.01,0.40,0.01,0.20])     # shape (10,)\n",
    "\n",
    "Y_chain, A_chain, L_chain = sample_network_chain(adj, tau, rho, nu, gamma, beta, R=num_sample,\n",
    "    burnin_R=num_burn, seed=0)\n",
    "\n",
    "Y_chain = Y_chain[::3]\n",
    "A_chain = A_chain[::3]\n",
    "L_chain = L_chain[::3]"
   ]
  },
  {
   "cell_type": "code",
   "execution_count": 3,
   "id": "58efecda-fa59-4db1-b75e-11b612796572",
   "metadata": {},
   "outputs": [
    {
     "data": {
      "text/plain": [
       "{'average': 0.302375,\n",
       " 'direct_effect': -0.14652500000000002,\n",
       " 'spillover_effect': -0.06694999999999984,\n",
       " 'psi_1_gamma': 0.2579000000000001,\n",
       " 'psi_0_gamma': 0.4044250000000001,\n",
       " 'psi_zero': 0.47137499999999993}"
      ]
     },
     "execution_count": 3,
     "metadata": {},
     "output_type": "execute_result"
    }
   ],
   "source": [
    "from agcEffect import *\n",
    "\n",
    "agc_effect(\n",
    "    adj,\n",
    "    tau, rho, nu, beta,\n",
    "    treatment_allocation=0.7,\n",
    "    R=50,\n",
    "    burnin_R=5,\n",
    "    seed=0\n",
    ")"
   ]
  },
  {
   "cell_type": "code",
   "execution_count": 4,
   "id": "6790c593-e36c-42a1-8e1d-eb695ad05a51",
   "metadata": {},
   "outputs": [
    {
     "data": {
      "text/plain": [
       "(-0.1419511419307552, 0.18673749999999997)"
      ]
     },
     "execution_count": 4,
     "metadata": {},
     "output_type": "execute_result"
    }
   ],
   "source": [
    "dir, dir2 = [], []\n",
    "for i in range(Y_chain.shape[0]):\n",
    "    Y = Y_chain[i]\n",
    "    A = A_chain[i]\n",
    "    L = L_chain[i]\n",
    "    dir.append(np.mean(Y[A==1]) - np.mean(Y[A==0]))\n",
    "    dir2.append(np.mean(A))\n",
    "\n",
    "np.mean(dir), np.mean(dir2)"
   ]
  },
  {
   "cell_type": "code",
   "execution_count": 5,
   "id": "52f0c260-9f6a-4d1e-8980-482fc3d482fe",
   "metadata": {},
   "outputs": [],
   "source": [
    "n_cpu = 10"
   ]
  },
  {
   "cell_type": "code",
   "execution_count": 6,
   "id": "81834fe8-c805-46d6-943a-fbc8c35a73a0",
   "metadata": {},
   "outputs": [
    {
     "name": "stdout",
     "output_type": "stream",
     "text": [
      "Multiprocessing <function run_dr at 0x1134a0310> in 100 tasks, with 10 processes...\n",
      "Multiprocessing finished.\n"
     ]
    }
   ],
   "source": [
    "from run_pll import *\n",
    "from utils import run_pll\n",
    "\n",
    "args = [{'Y_chain': Y_chain,\n",
    "         'A_chain': A_chain,\n",
    "         'L_chain': L_chain,\n",
    "         'adj': adj,\n",
    "         'i': i} for i in range(len(Y_chain))]\n",
    "\n",
    "res_list_dr = run_pll(run_dr, args, processes=n_cpu)\n",
    "res_list_array_dr = np.array(res_list_dr)"
   ]
  },
  {
   "cell_type": "code",
   "execution_count": 7,
   "id": "d7db0d9c-022a-4815-b163-17570d4c0cbe",
   "metadata": {},
   "outputs": [
    {
     "name": "stdout",
     "output_type": "stream",
     "text": [
      "average: 0.31531 ± 0.05474\n",
      "direct_effect: -0.13586 ± 0.07862\n",
      "spillover_effect: -0.06052 ± 0.06265\n",
      "psi_0_gamma: 0.40984 ± 0.05887\n",
      "psi_zero: 0.47035 ± 0.02341\n",
      "psi_1_gamma: 0.27398 ± 0.06697\n"
     ]
    }
   ],
   "source": [
    "from run_pll import column_names\n",
    "\n",
    "ret_mean_dr = res_list_array_dr.mean(axis=0)\n",
    "ret_std_dr = res_list_array_dr.std(axis=0)\n",
    "for i in range(len(column_names)):\n",
    "    print(f\"{column_names[i]}: {ret_mean_dr[i]:.5f} ± {ret_std_dr[i]:.5f}\")"
   ]
  },
  {
   "cell_type": "code",
   "execution_count": 8,
   "id": "5936ccb4-9149-4ef1-8930-2158cc0c8c88",
   "metadata": {},
   "outputs": [
    {
     "name": "stdout",
     "output_type": "stream",
     "text": [
      "Multiprocessing <function run_autognet at 0x168f00ee0> in 100 tasks, with 10 processes...\n",
      "Multiprocessing finished.\n"
     ]
    }
   ],
   "source": [
    "from utils import run_pll\n",
    "from run_pll import run_autognet\n",
    "\n",
    "args = [{'Y_chain': Y_chain,\n",
    "         'A_chain': A_chain,\n",
    "         'L_chain': L_chain,\n",
    "         'adj': adj,\n",
    "         'i': i} for i in range(len(Y_chain))]\n",
    "\n",
    "res_list_ag = run_pll(run_autognet, args, processes=n_cpu)\n",
    "res_list_array_ag = np.array(res_list_ag)"
   ]
  },
  {
   "cell_type": "code",
   "execution_count": 9,
   "id": "1b88d85f-d5f4-4611-87e2-c917578e0734",
   "metadata": {},
   "outputs": [
    {
     "name": "stdout",
     "output_type": "stream",
     "text": [
      "average: 0.31235 ± 0.03757\n",
      "direct_effect: -0.13121 ± 0.03759\n",
      "spillover_effect: -0.06244 ± 0.04131\n",
      "psi_0_gamma: 0.40777 ± 0.03702\n",
      "psi_zero: 0.47021 ± 0.02322\n",
      "psi_1_gamma: 0.27656 ± 0.04194\n"
     ]
    }
   ],
   "source": [
    "from run_pll import column_names\n",
    "\n",
    "ret_mean_ag = res_list_array_ag.mean(axis=0)\n",
    "ret_std_ag = res_list_array_ag.std(axis=0)\n",
    "for i in range(len(column_names)):\n",
    "    print(f\"{column_names[i]}: {ret_mean_ag[i]:.5f} ± {ret_std_ag[i]:.5f}\")"
   ]
  },
  {
   "cell_type": "code",
   "execution_count": 10,
   "id": "2fd299f3-272a-40e9-97b5-db1ed6ff9bb8",
   "metadata": {},
   "outputs": [
    {
     "name": "stdout",
     "output_type": "stream",
     "text": [
      "Multiprocessing <function run_dr_em at 0x168f00e50> in 100 tasks, with 10 processes...\n",
      "Multiprocessing finished.\n",
      "average: 0.31137 ± 0.05317\n",
      "direct_effect: -0.13487 ± 0.07812\n",
      "spillover_effect: -0.06368 ± 0.06167\n",
      "psi_0_gamma: 0.40551 ± 0.05964\n",
      "psi_zero: 0.46919 ± 0.02494\n",
      "psi_1_gamma: 0.27064 ± 0.06766\n"
     ]
    }
   ],
   "source": [
    "from run_pll import *\n",
    "from utils import run_pll\n",
    "\n",
    "args = [{'Y_chain': Y_chain,\n",
    "         'A_chain': A_chain,\n",
    "         'L_chain': L_chain,\n",
    "         'adj': adj,\n",
    "         'i': i} for i in range(len(Y_chain))]\n",
    "\n",
    "res_list_dr = run_pll(run_dr_em, args, processes=n_cpu)\n",
    "res_list_array_dr = np.array(res_list_dr)\n",
    "\n",
    "from run_pll import column_names\n",
    "\n",
    "ret_mean_dr = res_list_array_dr.mean(axis=0)\n",
    "ret_std_dr = res_list_array_dr.std(axis=0)\n",
    "for i in range(len(column_names)):\n",
    "    print(f\"{column_names[i]}: {ret_mean_dr[i]:.5f} ± {ret_std_dr[i]:.5f}\")"
   ]
  },
  {
   "cell_type": "code",
   "execution_count": null,
   "id": "485a0349-e682-4d0c-b21f-8406349e8aa0",
   "metadata": {},
   "outputs": [],
   "source": []
  },
  {
   "cell_type": "code",
   "execution_count": 11,
   "id": "35ccfa3f-4f8e-4a2a-9b3a-fef6001b4122",
   "metadata": {},
   "outputs": [
    {
     "name": "stderr",
     "output_type": "stream",
     "text": [
      "100%|██████████| 320/320 [00:11<00:00, 27.58it/s]\n"
     ]
    }
   ],
   "source": [
    "from dgp import *\n",
    "\n",
    "# 1. Simulate or load data\n",
    "min_degree = 1\n",
    "max_degree = 4\n",
    "adj = get_graph(sample_size, min_degree, max_degree, seed=1)\n",
    "\n",
    "tau = np.array([-1.0, 0.50, -0.50])       # shape (3,)\n",
    "rho = np.array([[0,0.1,0.2],\n",
    "                [0.1,0,0.1],\n",
    "                [0.2,0.1,0]])      # shape (3, 3), with 0s on the diagonal\n",
    "nu = np.array([0.1,0,0,0.1,0,0,0.1,0,0]).reshape(3,3)       # shape (3, 3)\n",
    "gamma = np.array([-2.00,0.50,-0.05,0.20,0.05,0.25,-0.08,0.30])     # shape (8,)\n",
    "beta = np.array([-0.30,-0.60,-0.20,-0.20,-0.05,-0.10,-0.01,0.40,0.01,0.20])     # shape (10,)\n",
    "\n",
    "Y_chain, A_chain, L_chain = sample_network_chain2(adj, tau, rho, nu, gamma, beta, R=num_sample,\n",
    "    burnin_R=num_burn, seed=0)\n",
    "\n",
    "Y_chain = Y_chain[::3]\n",
    "A_chain = A_chain[::3]\n",
    "L_chain = L_chain[::3]"
   ]
  },
  {
   "cell_type": "code",
   "execution_count": 12,
   "id": "ee9ddd02-1e56-4c3f-9268-dfb9b3c284ce",
   "metadata": {},
   "outputs": [
    {
     "data": {
      "text/plain": [
       "{'average': 0.30519999999999997,\n",
       " 'direct_effect': -0.08134999999999987,\n",
       " 'spillover_effect': -0.05460000000000015,\n",
       " 'psi_1_gamma': 0.28437500000000004,\n",
       " 'psi_0_gamma': 0.3657249999999999,\n",
       " 'psi_zero': 0.42032500000000006}"
      ]
     },
     "execution_count": 12,
     "metadata": {},
     "output_type": "execute_result"
    }
   ],
   "source": [
    "from agcEffect import *\n",
    "\n",
    "agc_effect2(\n",
    "    adj,\n",
    "    tau, rho, nu, beta,\n",
    "    treatment_allocation=0.7,\n",
    "    R=50,\n",
    "    burnin_R=5,\n",
    "    seed=0\n",
    ")"
   ]
  },
  {
   "cell_type": "code",
   "execution_count": 13,
   "id": "dece71c4-d8a4-470e-84b0-465423f35762",
   "metadata": {},
   "outputs": [
    {
     "data": {
      "text/plain": [
       "(-0.10774721528057304, 0.18673749999999997)"
      ]
     },
     "execution_count": 13,
     "metadata": {},
     "output_type": "execute_result"
    }
   ],
   "source": [
    "dir, dir2 = [], []\n",
    "for i in range(Y_chain.shape[0]):\n",
    "    Y = Y_chain[i]\n",
    "    A = A_chain[i]\n",
    "    L = L_chain[i]\n",
    "    dir.append(np.mean(Y[A==1]) - np.mean(Y[A==0]))\n",
    "    dir2.append(np.mean(A))\n",
    "\n",
    "np.mean(dir), np.mean(dir2)"
   ]
  },
  {
   "cell_type": "code",
   "execution_count": 14,
   "id": "86789303-2b7b-47d9-882c-58924dccc90e",
   "metadata": {},
   "outputs": [
    {
     "name": "stdout",
     "output_type": "stream",
     "text": [
      "Multiprocessing <function run_dr at 0x1134a0310> in 100 tasks, with 10 processes...\n",
      "Multiprocessing finished.\n"
     ]
    }
   ],
   "source": [
    "from run_pll import *\n",
    "from utils import run_pll\n",
    "\n",
    "args = [{'Y_chain': Y_chain,\n",
    "         'A_chain': A_chain,\n",
    "         'L_chain': L_chain,\n",
    "         'adj': adj,\n",
    "         'i': i} for i in range(len(Y_chain))]\n",
    "\n",
    "res_list_dr = run_pll(run_dr, args, processes=n_cpu)\n",
    "res_list_array_dr = np.array(res_list_dr)"
   ]
  },
  {
   "cell_type": "code",
   "execution_count": 15,
   "id": "541bed7c-caf8-457b-af84-8bb5219c294e",
   "metadata": {},
   "outputs": [
    {
     "name": "stdout",
     "output_type": "stream",
     "text": [
      "average: 0.30471 ± 0.05112\n",
      "direct_effect: -0.06150 ± 0.08528\n",
      "spillover_effect: -0.07708 ± 0.05273\n",
      "psi_0_gamma: 0.34703 ± 0.05178\n",
      "psi_zero: 0.42411 ± 0.02234\n",
      "psi_1_gamma: 0.28552 ± 0.06831\n"
     ]
    }
   ],
   "source": [
    "from run_pll import column_names\n",
    "\n",
    "ret_mean_dr = res_list_array_dr.mean(axis=0)\n",
    "ret_std_dr = res_list_array_dr.std(axis=0)\n",
    "for i in range(len(column_names)):\n",
    "    print(f\"{column_names[i]}: {ret_mean_dr[i]:.5f} ± {ret_std_dr[i]:.5f}\")"
   ]
  },
  {
   "cell_type": "code",
   "execution_count": 16,
   "id": "6550dca6-a760-413b-8ab5-779dca1f5901",
   "metadata": {},
   "outputs": [
    {
     "name": "stdout",
     "output_type": "stream",
     "text": [
      "Multiprocessing <function run_autognet at 0x168f00ee0> in 100 tasks, with 10 processes...\n",
      "Multiprocessing finished.\n"
     ]
    }
   ],
   "source": [
    "from utils import run_pll\n",
    "from run_pll import run_autognet\n",
    "\n",
    "args = [{'Y_chain': Y_chain,\n",
    "         'A_chain': A_chain,\n",
    "         'L_chain': L_chain,\n",
    "         'adj': adj,\n",
    "         'i': i} for i in range(len(Y_chain))]\n",
    "\n",
    "res_list_ag = run_pll(run_autognet, args, processes=n_cpu)\n",
    "res_list_array_ag = np.array(res_list_ag)"
   ]
  },
  {
   "cell_type": "code",
   "execution_count": 17,
   "id": "8e14c347-770f-40c4-84fe-e5094cc12a7c",
   "metadata": {},
   "outputs": [
    {
     "name": "stdout",
     "output_type": "stream",
     "text": [
      "average: 0.28514 ± 0.03317\n",
      "direct_effect: -0.09657 ± 0.03993\n",
      "spillover_effect: -0.06310 ± 0.03839\n",
      "psi_0_gamma: 0.35635 ± 0.03598\n",
      "psi_zero: 0.41945 ± 0.02122\n",
      "psi_1_gamma: 0.25978 ± 0.03858\n"
     ]
    }
   ],
   "source": [
    "from run_pll import column_names\n",
    "\n",
    "ret_mean_ag = res_list_array_ag.mean(axis=0)\n",
    "ret_std_ag = res_list_array_ag.std(axis=0)\n",
    "for i in range(len(column_names)):\n",
    "    print(f\"{column_names[i]}: {ret_mean_ag[i]:.5f} ± {ret_std_ag[i]:.5f}\")"
   ]
  },
  {
   "cell_type": "code",
   "execution_count": 18,
   "id": "058f75a5-d863-4910-831f-d15cf3bda366",
   "metadata": {},
   "outputs": [
    {
     "name": "stdout",
     "output_type": "stream",
     "text": [
      "Multiprocessing <function run_dr_em at 0x168f00e50> in 100 tasks, with 10 processes...\n",
      "Multiprocessing finished.\n",
      "average: 0.29025 ± 0.05149\n",
      "direct_effect: -0.07452 ± 0.07347\n",
      "spillover_effect: -0.07990 ± 0.05767\n",
      "psi_0_gamma: 0.34401 ± 0.05534\n",
      "psi_zero: 0.42391 ± 0.02349\n",
      "psi_1_gamma: 0.26949 ± 0.06662\n"
     ]
    }
   ],
   "source": [
    "from run_pll import *\n",
    "from utils import run_pll\n",
    "\n",
    "args = [{'Y_chain': Y_chain,\n",
    "         'A_chain': A_chain,\n",
    "         'L_chain': L_chain,\n",
    "         'adj': adj,\n",
    "         'i': i} for i in range(len(Y_chain))]\n",
    "\n",
    "res_list_dr = run_pll(run_dr_em, args, processes=n_cpu)\n",
    "res_list_array_dr = np.array(res_list_dr)\n",
    "\n",
    "from run_pll import column_names\n",
    "\n",
    "ret_mean_dr = res_list_array_dr.mean(axis=0)\n",
    "ret_std_dr = res_list_array_dr.std(axis=0)\n",
    "for i in range(len(column_names)):\n",
    "    print(f\"{column_names[i]}: {ret_mean_dr[i]:.5f} ± {ret_std_dr[i]:.5f}\")"
   ]
  },
  {
   "cell_type": "code",
   "execution_count": null,
   "id": "4b522a7a-3b18-4cd3-92ba-7a856e4f453d",
   "metadata": {},
   "outputs": [],
   "source": []
  },
  {
   "cell_type": "code",
   "execution_count": null,
   "id": "705b9ef7-9879-432c-803b-10688333a8b7",
   "metadata": {},
   "outputs": [],
   "source": []
  },
  {
   "cell_type": "code",
   "execution_count": 19,
   "id": "1675c38a-2aff-4670-9e73-b6def3e4a59e",
   "metadata": {},
   "outputs": [
    {
     "name": "stderr",
     "output_type": "stream",
     "text": [
      "100%|██████████| 320/320 [00:10<00:00, 31.34it/s]\n"
     ]
    }
   ],
   "source": [
    "from dgp import *\n",
    "\n",
    "# 1. Simulate or load data\n",
    "min_degree = 3\n",
    "max_degree = 7\n",
    "adj = get_graph(sample_size, min_degree, max_degree, seed=1)\n",
    "\n",
    "tau = np.array([-1.0, 0.50, -0.50])       # shape (3,)\n",
    "rho = np.array([[0,0.1,0.2],\n",
    "                [0.1,0,0.1],\n",
    "                [0.2,0.1,0]])      # shape (3, 3), with 0s on the diagonal\n",
    "nu = np.array([0.1,0,0,0.1,0,0,0.1,0,0]).reshape(3,3)       # shape (3, 3)\n",
    "gamma = np.array([-2.00,0.50,-0.05,0.20,0.05,0.25,-0.08,0.30])     # shape (8,)\n",
    "beta = np.array([-0.30,-0.60,-0.20,-0.20,-0.05,-0.10,-0.01,0.40,0.01,0.20])     # shape (10,)\n",
    "\n",
    "Y_chain, A_chain, L_chain = sample_network_chain(adj, tau, rho, nu, gamma, beta, R=num_sample,\n",
    "    burnin_R=num_burn, seed=0)\n",
    "\n",
    "Y_chain = Y_chain[::3]\n",
    "A_chain = A_chain[::3]\n",
    "L_chain = L_chain[::3]"
   ]
  },
  {
   "cell_type": "code",
   "execution_count": 20,
   "id": "1740a3b5-9454-44ce-b467-7ba14793a5f1",
   "metadata": {},
   "outputs": [
    {
     "data": {
      "text/plain": [
       "{'average': 0.21535000000000004,\n",
       " 'direct_effect': -0.13037499999999994,\n",
       " 'spillover_effect': -0.27842500000000014,\n",
       " 'psi_1_gamma': 0.175575,\n",
       " 'psi_0_gamma': 0.30594999999999994,\n",
       " 'psi_zero': 0.5843750000000001}"
      ]
     },
     "execution_count": 20,
     "metadata": {},
     "output_type": "execute_result"
    }
   ],
   "source": [
    "from agcEffect import *\n",
    "\n",
    "agc_effect(\n",
    "    adj,\n",
    "    tau, rho, nu, beta,\n",
    "    treatment_allocation=0.7,\n",
    "    R=50,\n",
    "    burnin_R=5,\n",
    "    seed=0\n",
    ")"
   ]
  },
  {
   "cell_type": "code",
   "execution_count": 21,
   "id": "689b62e8-1972-49f4-9ff2-68d5a4a656a6",
   "metadata": {},
   "outputs": [
    {
     "data": {
      "text/plain": [
       "(-0.15146335014349138, 0.22922499999999998)"
      ]
     },
     "execution_count": 21,
     "metadata": {},
     "output_type": "execute_result"
    }
   ],
   "source": [
    "dir, dir2 = [], []\n",
    "for i in range(Y_chain.shape[0]):\n",
    "    Y = Y_chain[i]\n",
    "    A = A_chain[i]\n",
    "    L = L_chain[i]\n",
    "    dir.append(np.mean(Y[A==1]) - np.mean(Y[A==0]))\n",
    "    dir2.append(np.mean(A))\n",
    "\n",
    "np.mean(dir), np.mean(dir2)"
   ]
  },
  {
   "cell_type": "code",
   "execution_count": 22,
   "id": "f12623b1-e444-4be7-b75d-701b0eb5ab57",
   "metadata": {},
   "outputs": [
    {
     "name": "stdout",
     "output_type": "stream",
     "text": [
      "Multiprocessing <function run_dr at 0x1134a0310> in 100 tasks, with 10 processes...\n",
      "Multiprocessing finished.\n"
     ]
    }
   ],
   "source": [
    "from run_pll import *\n",
    "from utils import run_pll\n",
    "\n",
    "args = [{'Y_chain': Y_chain,\n",
    "         'A_chain': A_chain,\n",
    "         'L_chain': L_chain,\n",
    "         'adj': adj,\n",
    "         'i': i} for i in range(len(Y_chain))]\n",
    "\n",
    "res_list_dr = run_pll(run_dr, args, processes=n_cpu)\n",
    "res_list_array_dr = np.array(res_list_dr)"
   ]
  },
  {
   "cell_type": "code",
   "execution_count": 23,
   "id": "4814e2ca-997a-4036-9ab1-61bd3e461b02",
   "metadata": {},
   "outputs": [
    {
     "name": "stdout",
     "output_type": "stream",
     "text": [
      "average: 0.24407 ± 0.06616\n",
      "direct_effect: -0.10483 ± 0.09987\n",
      "spillover_effect: -0.22072 ± 0.10387\n",
      "psi_0_gamma: 0.31891 ± 0.08362\n",
      "psi_zero: 0.53963 ± 0.05288\n",
      "psi_1_gamma: 0.21408 ± 0.07891\n"
     ]
    }
   ],
   "source": [
    "from run_pll import column_names\n",
    "\n",
    "ret_mean_dr = res_list_array_dr.mean(axis=0)\n",
    "ret_std_dr = res_list_array_dr.std(axis=0)\n",
    "for i in range(len(column_names)):\n",
    "    print(f\"{column_names[i]}: {ret_mean_dr[i]:.5f} ± {ret_std_dr[i]:.5f}\")"
   ]
  },
  {
   "cell_type": "code",
   "execution_count": 24,
   "id": "cee28505-a071-4b76-adbf-5ea809e804d3",
   "metadata": {},
   "outputs": [
    {
     "name": "stdout",
     "output_type": "stream",
     "text": [
      "Multiprocessing <function run_autognet at 0x168f00ee0> in 100 tasks, with 10 processes...\n",
      "Multiprocessing finished.\n"
     ]
    }
   ],
   "source": [
    "from utils import run_pll\n",
    "from run_pll import run_autognet\n",
    "\n",
    "args = [{'Y_chain': Y_chain,\n",
    "         'A_chain': A_chain,\n",
    "         'L_chain': L_chain,\n",
    "         'adj': adj,\n",
    "         'i': i} for i in range(len(Y_chain))]\n",
    "\n",
    "res_list_ag = run_pll(run_autognet, args, processes=n_cpu)\n",
    "res_list_array_ag = np.array(res_list_ag)"
   ]
  },
  {
   "cell_type": "code",
   "execution_count": 25,
   "id": "00e9d0d6-2c5b-4df3-ac80-22391999ce9f",
   "metadata": {},
   "outputs": [
    {
     "name": "stdout",
     "output_type": "stream",
     "text": [
      "average: 0.25756 ± 0.03965\n",
      "direct_effect: -0.11716 ± 0.03582\n",
      "spillover_effect: -0.18727 ± 0.06593\n",
      "psi_0_gamma: 0.34404 ± 0.04654\n",
      "psi_zero: 0.53131 ± 0.03638\n",
      "psi_1_gamma: 0.22687 ± 0.04017\n"
     ]
    }
   ],
   "source": [
    "from run_pll import column_names\n",
    "\n",
    "ret_mean_ag = res_list_array_ag.mean(axis=0)\n",
    "ret_std_ag = res_list_array_ag.std(axis=0)\n",
    "for i in range(len(column_names)):\n",
    "    print(f\"{column_names[i]}: {ret_mean_ag[i]:.5f} ± {ret_std_ag[i]:.5f}\")"
   ]
  },
  {
   "cell_type": "code",
   "execution_count": 26,
   "id": "033769d3-c8ff-4e9c-9d09-0872ed50481c",
   "metadata": {},
   "outputs": [
    {
     "name": "stdout",
     "output_type": "stream",
     "text": [
      "Multiprocessing <function run_dr_em at 0x168f00e50> in 100 tasks, with 10 processes...\n",
      "Multiprocessing finished.\n",
      "average: 0.25473 ± 0.06058\n",
      "direct_effect: -0.11809 ± 0.09123\n",
      "spillover_effect: -0.20176 ± 0.09247\n",
      "psi_0_gamma: 0.33636 ± 0.06953\n",
      "psi_zero: 0.53812 ± 0.05675\n",
      "psi_1_gamma: 0.21826 ± 0.07878\n"
     ]
    }
   ],
   "source": [
    "from run_pll import *\n",
    "from utils import run_pll\n",
    "\n",
    "args = [{'Y_chain': Y_chain,\n",
    "         'A_chain': A_chain,\n",
    "         'L_chain': L_chain,\n",
    "         'adj': adj,\n",
    "         'i': i} for i in range(len(Y_chain))]\n",
    "\n",
    "res_list_dr = run_pll(run_dr_em, args, processes=n_cpu)\n",
    "res_list_array_dr = np.array(res_list_dr)\n",
    "\n",
    "from run_pll import column_names\n",
    "\n",
    "ret_mean_dr = res_list_array_dr.mean(axis=0)\n",
    "ret_std_dr = res_list_array_dr.std(axis=0)\n",
    "for i in range(len(column_names)):\n",
    "    print(f\"{column_names[i]}: {ret_mean_dr[i]:.5f} ± {ret_std_dr[i]:.5f}\")"
   ]
  },
  {
   "cell_type": "code",
   "execution_count": null,
   "id": "2d537eec-2cb8-4043-aeca-ae9dac210268",
   "metadata": {},
   "outputs": [],
   "source": []
  },
  {
   "cell_type": "code",
   "execution_count": 27,
   "id": "7088d47b-7d62-49ec-9bf4-b47bc0ece7be",
   "metadata": {},
   "outputs": [
    {
     "name": "stderr",
     "output_type": "stream",
     "text": [
      "100%|██████████| 320/320 [00:12<00:00, 25.76it/s]\n"
     ]
    }
   ],
   "source": [
    "from dgp import *\n",
    "\n",
    "# 1. Simulate or load data\n",
    "min_degree = 3\n",
    "max_degree = 7\n",
    "adj = get_graph(sample_size, min_degree, max_degree, seed=1)\n",
    "\n",
    "tau = np.array([-1.0, 0.50, -0.50])       # shape (3,)\n",
    "rho = np.array([[0,0.1,0.2],\n",
    "                [0.1,0,0.1],\n",
    "                [0.2,0.1,0]])      # shape (3, 3), with 0s on the diagonal\n",
    "nu = np.array([0.1,0,0,0.1,0,0,0.1,0,0]).reshape(3,3)       # shape (3, 3)\n",
    "gamma = np.array([-2.00,0.50,-0.05,0.20,0.05,0.25,-0.08,0.30])     # shape (8,)\n",
    "beta = np.array([-0.30,-0.60,-0.20,-0.20,-0.05,-0.10,-0.01,0.40,0.01,0.20])     # shape (10,)\n",
    "\n",
    "Y_chain, A_chain, L_chain = sample_network_chain2(adj, tau, rho, nu, gamma, beta, R=num_sample,\n",
    "    burnin_R=num_burn, seed=0)\n",
    "\n",
    "Y_chain = Y_chain[::3]\n",
    "A_chain = A_chain[::3]\n",
    "L_chain = L_chain[::3]"
   ]
  },
  {
   "cell_type": "code",
   "execution_count": 28,
   "id": "062b216b-ad28-4ced-bf6f-87f0a081d342",
   "metadata": {},
   "outputs": [
    {
     "data": {
      "text/plain": [
       "{'average': 0.20065000000000002,\n",
       " 'direct_effect': 0.019100000000000034,\n",
       " 'spillover_effect': -0.22932500000000008,\n",
       " 'psi_1_gamma': 0.2101,\n",
       " 'psi_0_gamma': 0.19099999999999998,\n",
       " 'psi_zero': 0.42032500000000006}"
      ]
     },
     "execution_count": 28,
     "metadata": {},
     "output_type": "execute_result"
    }
   ],
   "source": [
    "from agcEffect import *\n",
    "\n",
    "agc_effect2(\n",
    "    adj,\n",
    "    tau, rho, nu, beta,\n",
    "    treatment_allocation=0.7,\n",
    "    R=50,\n",
    "    burnin_R=5,\n",
    "    seed=0\n",
    ")"
   ]
  },
  {
   "cell_type": "code",
   "execution_count": 29,
   "id": "06614e5f-177b-46b3-92be-e561d12262a5",
   "metadata": {},
   "outputs": [
    {
     "data": {
      "text/plain": [
       "(-0.07165969958346469, 0.22922499999999998)"
      ]
     },
     "execution_count": 29,
     "metadata": {},
     "output_type": "execute_result"
    }
   ],
   "source": [
    "dir, dir2 = [], []\n",
    "for i in range(Y_chain.shape[0]):\n",
    "    Y = Y_chain[i]\n",
    "    A = A_chain[i]\n",
    "    L = L_chain[i]\n",
    "    dir.append(np.mean(Y[A==1]) - np.mean(Y[A==0]))\n",
    "    dir2.append(np.mean(A))\n",
    "\n",
    "np.mean(dir), np.mean(dir2)"
   ]
  },
  {
   "cell_type": "code",
   "execution_count": 30,
   "id": "061ac2f2-bcf0-4880-9a57-d6486c4a764d",
   "metadata": {},
   "outputs": [
    {
     "name": "stdout",
     "output_type": "stream",
     "text": [
      "Multiprocessing <function run_dr at 0x1134a0310> in 100 tasks, with 10 processes...\n",
      "Multiprocessing finished.\n"
     ]
    }
   ],
   "source": [
    "from run_pll import *\n",
    "from utils import run_pll\n",
    "\n",
    "args = [{'Y_chain': Y_chain,\n",
    "         'A_chain': A_chain,\n",
    "         'L_chain': L_chain,\n",
    "         'adj': adj,\n",
    "         'i': i} for i in range(len(Y_chain))]\n",
    "\n",
    "res_list_dr = run_pll(run_dr, args, processes=n_cpu)\n",
    "res_list_array_dr = np.array(res_list_dr)"
   ]
  },
  {
   "cell_type": "code",
   "execution_count": 31,
   "id": "70994e6c-ed5e-4845-a4ec-33a8cf99c8cb",
   "metadata": {},
   "outputs": [
    {
     "name": "stdout",
     "output_type": "stream",
     "text": [
      "average: 0.17747 ± 0.06160\n",
      "direct_effect: -0.00865 ± 0.08826\n",
      "spillover_effect: -0.23985 ± 0.08447\n",
      "psi_0_gamma: 0.18353 ± 0.06636\n",
      "psi_zero: 0.42338 ± 0.04567\n",
      "psi_1_gamma: 0.17488 ± 0.07852\n"
     ]
    }
   ],
   "source": [
    "from run_pll import column_names\n",
    "\n",
    "ret_mean_dr = res_list_array_dr.mean(axis=0)\n",
    "ret_std_dr = res_list_array_dr.std(axis=0)\n",
    "for i in range(len(column_names)):\n",
    "    print(f\"{column_names[i]}: {ret_mean_dr[i]:.5f} ± {ret_std_dr[i]:.5f}\")"
   ]
  },
  {
   "cell_type": "code",
   "execution_count": 32,
   "id": "8969d909-234c-4794-bebd-d86b36788482",
   "metadata": {},
   "outputs": [
    {
     "name": "stdout",
     "output_type": "stream",
     "text": [
      "Multiprocessing <function run_autognet at 0x168f00ee0> in 100 tasks, with 10 processes...\n",
      "Multiprocessing finished.\n"
     ]
    }
   ],
   "source": [
    "from utils import run_pll\n",
    "from run_pll import run_autognet\n",
    "\n",
    "args = [{'Y_chain': Y_chain,\n",
    "         'A_chain': A_chain,\n",
    "         'L_chain': L_chain,\n",
    "         'adj': adj,\n",
    "         'i': i} for i in range(len(Y_chain))]\n",
    "\n",
    "res_list_ag = run_pll(run_autognet, args, processes=n_cpu)\n",
    "res_list_array_ag = np.array(res_list_ag)"
   ]
  },
  {
   "cell_type": "code",
   "execution_count": 33,
   "id": "81ca15e1-b0c0-4a7d-b4b0-84ca76ee3f21",
   "metadata": {},
   "outputs": [
    {
     "name": "stdout",
     "output_type": "stream",
     "text": [
      "average: 0.16397 ± 0.03051\n",
      "direct_effect: -0.03655 ± 0.02509\n",
      "spillover_effect: -0.21508 ± 0.05354\n",
      "psi_0_gamma: 0.19252 ± 0.03295\n",
      "psi_zero: 0.40760 ± 0.03208\n",
      "psi_1_gamma: 0.15597 ± 0.03303\n"
     ]
    }
   ],
   "source": [
    "from run_pll import column_names\n",
    "\n",
    "ret_mean_ag = res_list_array_ag.mean(axis=0)\n",
    "ret_std_ag = res_list_array_ag.std(axis=0)\n",
    "for i in range(len(column_names)):\n",
    "    print(f\"{column_names[i]}: {ret_mean_ag[i]:.5f} ± {ret_std_ag[i]:.5f}\")"
   ]
  },
  {
   "cell_type": "code",
   "execution_count": 34,
   "id": "0a11dd9b-7308-48bf-9163-6007458e3709",
   "metadata": {},
   "outputs": [
    {
     "name": "stdout",
     "output_type": "stream",
     "text": [
      "Multiprocessing <function run_dr_em at 0x168f00e50> in 100 tasks, with 10 processes...\n",
      "Multiprocessing finished.\n",
      "average: 0.18051 ± 0.05565\n",
      "direct_effect: -0.00248 ± 0.08375\n",
      "spillover_effect: -0.23678 ± 0.08272\n",
      "psi_0_gamma: 0.18536 ± 0.05812\n",
      "psi_zero: 0.42214 ± 0.04995\n",
      "psi_1_gamma: 0.18288 ± 0.07547\n"
     ]
    }
   ],
   "source": [
    "from run_pll import *\n",
    "from utils import run_pll\n",
    "\n",
    "args = [{'Y_chain': Y_chain,\n",
    "         'A_chain': A_chain,\n",
    "         'L_chain': L_chain,\n",
    "         'adj': adj,\n",
    "         'i': i} for i in range(len(Y_chain))]\n",
    "\n",
    "res_list_dr = run_pll(run_dr_em, args, processes=n_cpu)\n",
    "res_list_array_dr = np.array(res_list_dr)\n",
    "\n",
    "from run_pll import column_names\n",
    "\n",
    "ret_mean_dr = res_list_array_dr.mean(axis=0)\n",
    "ret_std_dr = res_list_array_dr.std(axis=0)\n",
    "for i in range(len(column_names)):\n",
    "    print(f\"{column_names[i]}: {ret_mean_dr[i]:.5f} ± {ret_std_dr[i]:.5f}\")"
   ]
  },
  {
   "cell_type": "code",
   "execution_count": null,
   "id": "d74efdd5-38e4-4520-8200-c6a328966e6c",
   "metadata": {},
   "outputs": [],
   "source": []
  },
  {
   "cell_type": "code",
   "execution_count": null,
   "id": "12e56800-79be-4b1d-8055-7e70842d412d",
   "metadata": {},
   "outputs": [],
   "source": []
  },
  {
   "cell_type": "code",
   "execution_count": 35,
   "id": "ad39a13c-c0ba-4ee5-9b7f-c7a919f65e6b",
   "metadata": {},
   "outputs": [
    {
     "name": "stderr",
     "output_type": "stream",
     "text": [
      "100%|██████████| 320/320 [00:10<00:00, 29.52it/s]\n"
     ]
    }
   ],
   "source": [
    "from dgp import *\n",
    "\n",
    "# 1. Simulate or load data\n",
    "min_degree = 4\n",
    "max_degree = 10\n",
    "adj = get_graph(sample_size, min_degree, max_degree, seed=1)\n",
    "\n",
    "tau = np.array([-1.0, 0.50, -0.50])       # shape (3,)\n",
    "rho = np.array([[0,0.1,0.2],\n",
    "                [0.1,0,0.1],\n",
    "                [0.2,0.1,0]])      # shape (3, 3), with 0s on the diagonal\n",
    "nu = np.array([0.1,0,0,0.1,0,0,0.1,0,0]).reshape(3,3)       # shape (3, 3)\n",
    "gamma = np.array([-2.00,0.50,-0.05,0.20,0.05,0.25,-0.08,0.30])     # shape (8,)\n",
    "beta = np.array([-0.30,-0.60,-0.20,-0.20,-0.05,-0.10,-0.01,0.40,0.01,0.20])     # shape (10,)\n",
    "\n",
    "Y_chain, A_chain, L_chain = sample_network_chain(adj, tau, rho, nu, gamma, beta, R=num_sample,\n",
    "    burnin_R=num_burn, seed=0)\n",
    "\n",
    "Y_chain = Y_chain[::3]\n",
    "A_chain = A_chain[::3]\n",
    "L_chain = L_chain[::3]"
   ]
  },
  {
   "cell_type": "code",
   "execution_count": 36,
   "id": "b55f72df-1ddc-4c98-832d-bee908d1aa9d",
   "metadata": {},
   "outputs": [
    {
     "data": {
      "text/plain": [
       "{'average': 0.17247500000000002,\n",
       " 'direct_effect': -0.11772500000000002,\n",
       " 'spillover_effect': -0.40012499999999995,\n",
       " 'psi_1_gamma': 0.13674999999999998,\n",
       " 'psi_0_gamma': 0.254475,\n",
       " 'psi_zero': 0.6546}"
      ]
     },
     "execution_count": 36,
     "metadata": {},
     "output_type": "execute_result"
    }
   ],
   "source": [
    "from agcEffect import *\n",
    "\n",
    "agc_effect(\n",
    "    adj,\n",
    "    tau, rho, nu, beta,\n",
    "    treatment_allocation=0.7,\n",
    "    R=50,\n",
    "    burnin_R=5,\n",
    "    seed=0\n",
    ")"
   ]
  },
  {
   "cell_type": "code",
   "execution_count": 37,
   "id": "cf8789e6-817d-4a3f-ab32-316cb2f31c8e",
   "metadata": {},
   "outputs": [
    {
     "data": {
      "text/plain": [
       "(-0.1595891533015739, 0.2709375)"
      ]
     },
     "execution_count": 37,
     "metadata": {},
     "output_type": "execute_result"
    }
   ],
   "source": [
    "dir, dir2 = [], []\n",
    "for i in range(Y_chain.shape[0]):\n",
    "    Y = Y_chain[i]\n",
    "    A = A_chain[i]\n",
    "    L = L_chain[i]\n",
    "    dir.append(np.mean(Y[A==1]) - np.mean(Y[A==0]))\n",
    "    dir2.append(np.mean(A))\n",
    "\n",
    "np.mean(dir), np.mean(dir2)"
   ]
  },
  {
   "cell_type": "code",
   "execution_count": 38,
   "id": "e5b16b0d-90f7-4048-acc8-9b04d9b01c24",
   "metadata": {},
   "outputs": [
    {
     "name": "stdout",
     "output_type": "stream",
     "text": [
      "Multiprocessing <function run_dr at 0x1134a0310> in 100 tasks, with 10 processes...\n",
      "Multiprocessing finished.\n"
     ]
    }
   ],
   "source": [
    "from run_pll import *\n",
    "from utils import run_pll\n",
    "\n",
    "args = [{'Y_chain': Y_chain,\n",
    "         'A_chain': A_chain,\n",
    "         'L_chain': L_chain,\n",
    "         'adj': adj,\n",
    "         'i': i} for i in range(len(Y_chain))]\n",
    "\n",
    "res_list_dr = run_pll(run_dr, args, processes=n_cpu)\n",
    "res_list_array_dr = np.array(res_list_dr)"
   ]
  },
  {
   "cell_type": "code",
   "execution_count": 39,
   "id": "baec406b-a0d0-4430-8485-0cfa2c64cb01",
   "metadata": {},
   "outputs": [
    {
     "name": "stdout",
     "output_type": "stream",
     "text": [
      "average: 0.22475 ± 0.05756\n",
      "direct_effect: -0.08846 ± 0.09269\n",
      "spillover_effect: -0.27191 ± 0.13148\n",
      "psi_0_gamma: 0.29052 ± 0.07458\n",
      "psi_zero: 0.56243 ± 0.10574\n",
      "psi_1_gamma: 0.20206 ± 0.07084\n"
     ]
    }
   ],
   "source": [
    "from run_pll import column_names\n",
    "\n",
    "ret_mean_dr = res_list_array_dr.mean(axis=0)\n",
    "ret_std_dr = res_list_array_dr.std(axis=0)\n",
    "for i in range(len(column_names)):\n",
    "    print(f\"{column_names[i]}: {ret_mean_dr[i]:.5f} ± {ret_std_dr[i]:.5f}\")"
   ]
  },
  {
   "cell_type": "code",
   "execution_count": 40,
   "id": "27d6bb5d-7d6f-4752-b89e-1dc9bb3151b1",
   "metadata": {},
   "outputs": [
    {
     "name": "stdout",
     "output_type": "stream",
     "text": [
      "Multiprocessing <function run_autognet at 0x168f00ee0> in 100 tasks, with 10 processes...\n",
      "Multiprocessing finished.\n"
     ]
    }
   ],
   "source": [
    "from utils import run_pll\n",
    "from run_pll import run_autognet\n",
    "\n",
    "args = [{'Y_chain': Y_chain,\n",
    "         'A_chain': A_chain,\n",
    "         'L_chain': L_chain,\n",
    "         'adj': adj,\n",
    "         'i': i} for i in range(len(Y_chain))]\n",
    "\n",
    "res_list_ag = run_pll(run_autognet, args, processes=n_cpu)\n",
    "res_list_array_ag = np.array(res_list_ag)"
   ]
  },
  {
   "cell_type": "code",
   "execution_count": 41,
   "id": "e019829e-1347-433c-9a4c-a4507b7a0326",
   "metadata": {},
   "outputs": [
    {
     "name": "stdout",
     "output_type": "stream",
     "text": [
      "average: 0.22762 ± 0.04036\n",
      "direct_effect: -0.11200 ± 0.03362\n",
      "spillover_effect: -0.25423 ± 0.08455\n",
      "psi_0_gamma: 0.31099 ± 0.05131\n",
      "psi_zero: 0.56522 ± 0.04676\n",
      "psi_1_gamma: 0.19899 ± 0.03896\n"
     ]
    }
   ],
   "source": [
    "from run_pll import column_names\n",
    "\n",
    "ret_mean_ag = res_list_array_ag.mean(axis=0)\n",
    "ret_std_ag = res_list_array_ag.std(axis=0)\n",
    "for i in range(len(column_names)):\n",
    "    print(f\"{column_names[i]}: {ret_mean_ag[i]:.5f} ± {ret_std_ag[i]:.5f}\")"
   ]
  },
  {
   "cell_type": "code",
   "execution_count": 42,
   "id": "d9319df0-b178-46cc-b08e-c212e765fa26",
   "metadata": {},
   "outputs": [
    {
     "name": "stdout",
     "output_type": "stream",
     "text": [
      "Multiprocessing <function run_dr_em at 0x168f00e50> in 100 tasks, with 10 processes...\n",
      "Multiprocessing finished.\n",
      "average: 0.23603 ± 0.06889\n",
      "direct_effect: -0.07813 ± 0.10063\n",
      "spillover_effect: -0.26342 ± 0.15352\n",
      "psi_0_gamma: 0.29088 ± 0.07686\n",
      "psi_zero: 0.55430 ± 0.13864\n",
      "psi_1_gamma: 0.21276 ± 0.08844\n"
     ]
    }
   ],
   "source": [
    "from run_pll import *\n",
    "from utils import run_pll\n",
    "\n",
    "args = [{'Y_chain': Y_chain,\n",
    "         'A_chain': A_chain,\n",
    "         'L_chain': L_chain,\n",
    "         'adj': adj,\n",
    "         'i': i} for i in range(len(Y_chain))]\n",
    "\n",
    "res_list_dr = run_pll(run_dr_em, args, processes=n_cpu)\n",
    "res_list_array_dr = np.array(res_list_dr)\n",
    "\n",
    "from run_pll import column_names\n",
    "\n",
    "ret_mean_dr = res_list_array_dr.mean(axis=0)\n",
    "ret_std_dr = res_list_array_dr.std(axis=0)\n",
    "for i in range(len(column_names)):\n",
    "    print(f\"{column_names[i]}: {ret_mean_dr[i]:.5f} ± {ret_std_dr[i]:.5f}\")"
   ]
  },
  {
   "cell_type": "code",
   "execution_count": null,
   "id": "4b23c297-c302-4381-8e01-fb64222f9c83",
   "metadata": {},
   "outputs": [],
   "source": []
  },
  {
   "cell_type": "code",
   "execution_count": null,
   "id": "64960f3f-2f87-466a-8972-e47266071995",
   "metadata": {},
   "outputs": [
    {
     "name": "stderr",
     "output_type": "stream",
     "text": [
      "100%|██████████| 320/320 [00:11<00:00, 26.75it/s]\n"
     ]
    }
   ],
   "source": [
    "from dgp import *\n",
    "\n",
    "# 1. Simulate or load data\n",
    "min_degree = 4\n",
    "max_degree = 10\n",
    "adj = get_graph(sample_size, min_degree, max_degree, seed=1)\n",
    "\n",
    "tau = np.array([-1.0, 0.50, -0.50])       # shape (3,)\n",
    "rho = np.array([[0,0.1,0.2],\n",
    "                [0.1,0,0.1],\n",
    "                [0.2,0.1,0]])      # shape (3, 3), with 0s on the diagonal\n",
    "nu = np.array([0.1,0,0,0.1,0,0,0.1,0,0]).reshape(3,3)       # shape (3, 3)\n",
    "gamma = np.array([-2.00,0.50,-0.05,0.20,0.05,0.25,-0.08,0.30])     # shape (8,)\n",
    "beta = np.array([-0.30,-0.60,-0.20,-0.20,-0.05,-0.10,-0.01,0.40,0.01,0.20])     # shape (10,)\n",
    "\n",
    "Y_chain, A_chain, L_chain = sample_network_chain2(adj, tau, rho, nu, gamma, beta, R=num_sample,\n",
    "    burnin_R=num_burn, seed=0)\n",
    "\n",
    "Y_chain = Y_chain[::3]\n",
    "A_chain = A_chain[::3]\n",
    "L_chain = L_chain[::3]"
   ]
  },
  {
   "cell_type": "code",
   "execution_count": 44,
   "id": "9d0c5167-943a-4a87-b5a4-786b09e336f4",
   "metadata": {},
   "outputs": [
    {
     "data": {
      "text/plain": [
       "{'average': 0.08635,\n",
       " 'direct_effect': 0.04445,\n",
       " 'spillover_effect': -0.36242500000000005,\n",
       " 'psi_1_gamma': 0.10235000000000001,\n",
       " 'psi_0_gamma': 0.05790000000000001,\n",
       " 'psi_zero': 0.42032500000000006}"
      ]
     },
     "execution_count": 44,
     "metadata": {},
     "output_type": "execute_result"
    }
   ],
   "source": [
    "from agcEffect import *\n",
    "\n",
    "agc_effect2(\n",
    "    adj,\n",
    "    tau, rho, nu, beta,\n",
    "    treatment_allocation=0.7,\n",
    "    R=50,\n",
    "    burnin_R=5,\n",
    "    seed=0\n",
    ")"
   ]
  },
  {
   "cell_type": "code",
   "execution_count": 45,
   "id": "355212d1-aae6-4032-94af-f88e71c07558",
   "metadata": {},
   "outputs": [
    {
     "data": {
      "text/plain": [
       "(-0.028277580600158437, 0.3198625)"
      ]
     },
     "execution_count": 45,
     "metadata": {},
     "output_type": "execute_result"
    }
   ],
   "source": [
    "dir, dir2 = [], []\n",
    "for i in range(Y_chain.shape[0]):\n",
    "    Y = Y_chain[i]\n",
    "    A = A_chain[i]\n",
    "    L = L_chain[i]\n",
    "    dir.append(np.mean(Y[A==1]) - np.mean(Y[A==0]))\n",
    "    dir2.append(np.mean(A))\n",
    "\n",
    "np.mean(dir), np.mean(dir2)"
   ]
  },
  {
   "cell_type": "code",
   "execution_count": 46,
   "id": "aec6ba18-72cc-41da-aa4f-4575ddfbf76d",
   "metadata": {},
   "outputs": [
    {
     "name": "stdout",
     "output_type": "stream",
     "text": [
      "Multiprocessing <function run_dr at 0x1134a0310> in 100 tasks, with 10 processes...\n",
      "Multiprocessing finished.\n"
     ]
    }
   ],
   "source": [
    "from run_pll import *\n",
    "from utils import run_pll\n",
    "\n",
    "args = [{'Y_chain': Y_chain,\n",
    "         'A_chain': A_chain,\n",
    "         'L_chain': L_chain,\n",
    "         'adj': adj,\n",
    "         'i': i} for i in range(len(Y_chain))]\n",
    "\n",
    "res_list_dr = run_pll(run_dr, args, processes=n_cpu)\n",
    "res_list_array_dr = np.array(res_list_dr)"
   ]
  },
  {
   "cell_type": "code",
   "execution_count": 47,
   "id": "4163f935-7756-4d21-a234-fa90d000ca84",
   "metadata": {},
   "outputs": [
    {
     "name": "stdout",
     "output_type": "stream",
     "text": [
      "average: 0.06505 ± 0.02068\n",
      "direct_effect: 0.00630 ± 0.02311\n",
      "spillover_effect: -0.34308 ± 0.13873\n",
      "psi_0_gamma: 0.06120 ± 0.01881\n",
      "psi_zero: 0.40428 ± 0.13529\n",
      "psi_1_gamma: 0.06750 ± 0.02509\n"
     ]
    }
   ],
   "source": [
    "from run_pll import column_names\n",
    "\n",
    "ret_mean_dr = res_list_array_dr.mean(axis=0)\n",
    "ret_std_dr = res_list_array_dr.std(axis=0)\n",
    "for i in range(len(column_names)):\n",
    "    print(f\"{column_names[i]}: {ret_mean_dr[i]:.5f} ± {ret_std_dr[i]:.5f}\")"
   ]
  },
  {
   "cell_type": "code",
   "execution_count": 48,
   "id": "7f8b8b3a-fa1f-4ab0-9834-727187b20a13",
   "metadata": {},
   "outputs": [
    {
     "name": "stdout",
     "output_type": "stream",
     "text": [
      "Multiprocessing <function run_autognet at 0x168f00ee0> in 100 tasks, with 10 processes...\n",
      "Multiprocessing finished.\n"
     ]
    }
   ],
   "source": [
    "from utils import run_pll\n",
    "from run_pll import run_autognet\n",
    "\n",
    "args = [{'Y_chain': Y_chain,\n",
    "         'A_chain': A_chain,\n",
    "         'L_chain': L_chain,\n",
    "         'adj': adj,\n",
    "         'i': i} for i in range(len(Y_chain))]\n",
    "\n",
    "res_list_ag = run_pll(run_autognet, args, processes=n_cpu)\n",
    "res_list_array_ag = np.array(res_list_ag)"
   ]
  },
  {
   "cell_type": "code",
   "execution_count": 49,
   "id": "45d6564a-f2d5-4893-ac08-992d8c8d5c2b",
   "metadata": {},
   "outputs": [
    {
     "name": "stdout",
     "output_type": "stream",
     "text": [
      "average: 0.06390 ± 0.01846\n",
      "direct_effect: 0.00374 ± 0.01354\n",
      "spillover_effect: -0.31510 ± 0.06821\n",
      "psi_0_gamma: 0.06251 ± 0.01690\n",
      "psi_zero: 0.37761 ± 0.06109\n",
      "psi_1_gamma: 0.06625 ± 0.02152\n"
     ]
    }
   ],
   "source": [
    "from run_pll import column_names\n",
    "\n",
    "ret_mean_ag = res_list_array_ag.mean(axis=0)\n",
    "ret_std_ag = res_list_array_ag.std(axis=0)\n",
    "for i in range(len(column_names)):\n",
    "    print(f\"{column_names[i]}: {ret_mean_ag[i]:.5f} ± {ret_std_ag[i]:.5f}\")"
   ]
  },
  {
   "cell_type": "code",
   "execution_count": 50,
   "id": "0470d644-718e-42ef-adc4-3969bd6cb698",
   "metadata": {},
   "outputs": [
    {
     "name": "stdout",
     "output_type": "stream",
     "text": [
      "Multiprocessing <function run_dr_em at 0x168f00e50> in 100 tasks, with 10 processes...\n",
      "Multiprocessing finished.\n",
      "average: 0.07516 ± 0.03175\n",
      "direct_effect: 0.04005 ± 0.05249\n",
      "spillover_effect: -0.35543 ± 0.12202\n",
      "psi_0_gamma: 0.04705 ± 0.03331\n",
      "psi_zero: 0.40248 ± 0.11483\n",
      "psi_1_gamma: 0.08709 ± 0.04088\n"
     ]
    }
   ],
   "source": [
    "from run_pll import *\n",
    "from utils import run_pll\n",
    "\n",
    "args = [{'Y_chain': Y_chain,\n",
    "         'A_chain': A_chain,\n",
    "         'L_chain': L_chain,\n",
    "         'adj': adj,\n",
    "         'i': i} for i in range(len(Y_chain))]\n",
    "\n",
    "res_list_dr = run_pll(run_dr_em, args, processes=n_cpu)\n",
    "res_list_array_dr = np.array(res_list_dr)\n",
    "\n",
    "from run_pll import column_names\n",
    "\n",
    "ret_mean_dr = res_list_array_dr.mean(axis=0)\n",
    "ret_std_dr = res_list_array_dr.std(axis=0)\n",
    "for i in range(len(column_names)):\n",
    "    print(f\"{column_names[i]}: {ret_mean_dr[i]:.5f} ± {ret_std_dr[i]:.5f}\")"
   ]
  },
  {
   "cell_type": "code",
   "execution_count": null,
   "id": "e827a332-6ab8-4efe-93b8-accd1b8bdb5d",
   "metadata": {},
   "outputs": [],
   "source": []
  },
  {
   "cell_type": "code",
   "execution_count": null,
   "id": "13d53bb0-f543-4779-bf28-64f2942acd9f",
   "metadata": {},
   "outputs": [],
   "source": []
  }
 ],
 "metadata": {
  "kernelspec": {
   "display_name": "ljz",
   "language": "python",
   "name": "python3"
  },
  "language_info": {
   "codemirror_mode": {
    "name": "ipython",
    "version": 3
   },
   "file_extension": ".py",
   "mimetype": "text/x-python",
   "name": "python",
   "nbconvert_exporter": "python",
   "pygments_lexer": "ipython3",
   "version": "3.10.14"
  }
 },
 "nbformat": 4,
 "nbformat_minor": 5
}
