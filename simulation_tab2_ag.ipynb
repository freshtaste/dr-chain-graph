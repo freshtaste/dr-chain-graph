{
 "cells": [
  {
   "cell_type": "code",
   "execution_count": 1,
   "id": "eb962409",
   "metadata": {},
   "outputs": [],
   "source": [
    "num_sample = 300\n",
    "num_burn = 100\n",
    "min_degree = 1\n",
    "max_degree = 2"
   ]
  },
  {
   "cell_type": "code",
   "execution_count": 2,
   "id": "52d3606d",
   "metadata": {},
   "outputs": [
    {
     "name": "stderr",
     "output_type": "stream",
     "text": [
      "100%|██████████| 400/400 [00:13<00:00, 29.47it/s]\n"
     ]
    }
   ],
   "source": [
    "from dgp import *\n",
    "\n",
    "# 1. Simulate or load data\n",
    "sample_size = 800\n",
    "adj = get_graph(sample_size, min_degree, max_degree, seed=1)\n",
    "\n",
    "tau = np.array([-1.0, 0.50, -0.50])       # shape (3,)\n",
    "rho = np.array([[0,0.1,0.2],\n",
    "                [0.1,0,0.1],\n",
    "                [0.2,0.1,0]])      # shape (3, 3), with 0s on the diagonal\n",
    "nu = np.array([0.1,0,0,0.1,0,0,0.1,0,0]).reshape(3,3)       # shape (3, 3)\n",
    "gamma = np.array([-1.00,0.50,0.10,0.20,0.05,0.25,-0.08,0.30])     # shape (8,)\n",
    "beta = np.array([-0.30,-0.60,-0.20,-0.20,-0.05,-0.10,-0.01,0.40,0.01,0.20])     # shape (10,)\n",
    "\n",
    "Y_chain, A_chain, L_chain = sample_network_chain(adj, tau, rho, nu, gamma, beta, R=num_sample,\n",
    "    burnin_R=num_burn, seed=0)\n",
    "\n",
    "Y_chain = Y_chain[::3]\n",
    "A_chain = A_chain[::3]\n",
    "L_chain = L_chain[::3]"
   ]
  },
  {
   "cell_type": "code",
   "execution_count": 3,
   "id": "e0521c56",
   "metadata": {},
   "outputs": [],
   "source": [
    "n_cpu = 2"
   ]
  },
  {
   "cell_type": "code",
   "execution_count": 4,
   "id": "a26f2d1e",
   "metadata": {},
   "outputs": [
    {
     "data": {
      "text/plain": [
       "{'average': 0.31250625,\n",
       " 'direct': -0.13918125000000003,\n",
       " 'indirect': -0.030731249999999932,\n",
       " 'spillover_effect': -0.056718749999999984}"
      ]
     },
     "execution_count": 4,
     "metadata": {},
     "output_type": "execute_result"
    }
   ],
   "source": [
    "from agcEffect import *\n",
    "\n",
    "res_truth1 = agc_effect(\n",
    "    adj,\n",
    "    tau, rho, nu, beta,\n",
    "    treatment_allocation=0.7,\n",
    "    R=200,\n",
    "    burnin_R=50,\n",
    "    seed=0\n",
    ")\n",
    "res_truth2 = agc_effect(\n",
    "    adj,\n",
    "    tau, rho, nu, beta,\n",
    "    treatment_allocation=0.3,\n",
    "    R=200,\n",
    "    burnin_R=50,\n",
    "    seed=0\n",
    ")\n",
    "\n",
    "ground_truth1 = {'average': 0, 'direct': 0, 'indirect': 0, 'spillover_effect':0}\n",
    "ground_truth1['average'] = res_truth1['average']\n",
    "ground_truth1['direct'] = res_truth1['direct_effect']\n",
    "ground_truth1['indirect'] = res_truth1['psi_0_gamma'] - res_truth2['psi_0_gamma']\n",
    "ground_truth1['spillover_effect'] = res_truth1['spillover_effect']\n",
    "\n",
    "ground_truth1\n"
   ]
  },
  {
   "cell_type": "code",
   "execution_count": 5,
   "id": "cb6ccea2",
   "metadata": {},
   "outputs": [
    {
     "name": "stdout",
     "output_type": "stream",
     "text": [
      "Multiprocessing <function run_autognet_raw at 0x16870cc10> in 100 tasks, with 2 processes...\n",
      "Multiprocessing finished.\n"
     ]
    }
   ],
   "source": [
    "from utils import run_pll\n",
    "from run_pll import run_autognet_raw\n",
    "\n",
    "treat_p = 0.7\n",
    "args = [{'Y_chain': Y_chain,\n",
    "         'A_chain': A_chain,\n",
    "         'L_chain': L_chain,\n",
    "         'adj': adj,\n",
    "         'i': i,\n",
    "         'treatment_allocation': treat_p} for i in range(len(Y_chain))]\n",
    "\n",
    "res_list_dr = run_pll(run_autognet_raw, args, processes=n_cpu)\n",
    "res_list_array_dr = np.array(res_list_dr)\n",
    "# save results\n",
    "np.save(f'run/sim_results/sim_ag_raw_{sample_size}_{min_degree}_{max_degree}_{treat_p}.npy', res_list_array_dr)"
   ]
  },
  {
   "cell_type": "code",
   "execution_count": 6,
   "id": "46549a68",
   "metadata": {},
   "outputs": [
    {
     "name": "stdout",
     "output_type": "stream",
     "text": [
      "Multiprocessing <function run_autognet_raw at 0x16870cc10> in 100 tasks, with 2 processes...\n",
      "Multiprocessing finished.\n"
     ]
    }
   ],
   "source": [
    "from utils import run_pll\n",
    "from run_pll import run_autognet_raw\n",
    "\n",
    "\n",
    "treat_p = 0.3\n",
    "args = [{'Y_chain': Y_chain,\n",
    "         'A_chain': A_chain,\n",
    "         'L_chain': L_chain,\n",
    "         'adj': adj,\n",
    "         'i': i,\n",
    "         'treatment_allocation': treat_p} for i in range(len(Y_chain))]\n",
    "\n",
    "res_list_dr = run_pll(run_autognet_raw, args, processes=n_cpu)\n",
    "res_list_array_dr = np.array(res_list_dr)\n",
    "# save results\n",
    "np.save(f'run/sim_results/sim_ag_raw_{sample_size}_{min_degree}_{max_degree}_{treat_p}.npy', res_list_array_dr)"
   ]
  },
  {
   "cell_type": "code",
   "execution_count": 7,
   "id": "b86484dd",
   "metadata": {},
   "outputs": [
    {
     "name": "stderr",
     "output_type": "stream",
     "text": [
      "100%|██████████| 400/400 [00:03<00:00, 122.18it/s]\n"
     ]
    }
   ],
   "source": [
    "from dgp import *\n",
    "\n",
    "# 1. Simulate or load data\n",
    "sample_size = 200\n",
    "adj = get_graph(sample_size, min_degree, max_degree, seed=1)\n",
    "\n",
    "tau = np.array([-1.0, 0.50, -0.50])       # shape (3,)\n",
    "rho = np.array([[0,0.1,0.2],\n",
    "                [0.1,0,0.1],\n",
    "                [0.2,0.1,0]])      # shape (3, 3), with 0s on the diagonal\n",
    "nu = np.array([0.1,0,0,0.1,0,0,0.1,0,0]).reshape(3,3)       # shape (3, 3)\n",
    "gamma = np.array([-1.00,0.50,0.10,0.20,0.05,0.25,-0.08,0.30])     # shape (8,)\n",
    "beta = np.array([-0.30,-0.60,-0.20,-0.20,-0.05,-0.10,-0.01,0.40,0.01,0.20])     # shape (10,)\n",
    "\n",
    "Y_chain, A_chain, L_chain = sample_network_chain(adj, tau, rho, nu, gamma, beta, R=num_sample,\n",
    "    burnin_R=num_burn, seed=0)\n",
    "\n",
    "Y_chain = Y_chain[::3]\n",
    "A_chain = A_chain[::3]\n",
    "L_chain = L_chain[::3]"
   ]
  },
  {
   "cell_type": "code",
   "execution_count": 8,
   "id": "0bbc914f",
   "metadata": {},
   "outputs": [
    {
     "data": {
      "text/plain": [
       "{'average': 0.31315000000000004,\n",
       " 'direct': -0.14164999999999994,\n",
       " 'indirect': -0.03315000000000007,\n",
       " 'spillover_effect': -0.059475000000000056}"
      ]
     },
     "execution_count": 8,
     "metadata": {},
     "output_type": "execute_result"
    }
   ],
   "source": [
    "from agcEffect import *\n",
    "\n",
    "res_truth1 = agc_effect(\n",
    "    adj,\n",
    "    tau, rho, nu, beta,\n",
    "    treatment_allocation=0.7,\n",
    "    R=200,\n",
    "    burnin_R=50,\n",
    "    seed=0\n",
    ")\n",
    "res_truth2 = agc_effect(\n",
    "    adj,\n",
    "    tau, rho, nu, beta,\n",
    "    treatment_allocation=0.3,\n",
    "    R=200,\n",
    "    burnin_R=50,\n",
    "    seed=0\n",
    ")\n",
    "\n",
    "ground_truth2 = {'average': 0, 'direct': 0, 'indirect': 0, 'spillover_effect':0}\n",
    "ground_truth2['average'] = res_truth1['average']\n",
    "ground_truth2['direct'] = res_truth1['direct_effect']\n",
    "ground_truth2['indirect'] = res_truth1['psi_0_gamma'] - res_truth2['psi_0_gamma']\n",
    "ground_truth2['spillover_effect'] = res_truth1['spillover_effect']\n",
    "\n",
    "ground_truth2\n"
   ]
  },
  {
   "cell_type": "code",
   "execution_count": 9,
   "id": "14391f5f",
   "metadata": {},
   "outputs": [
    {
     "name": "stdout",
     "output_type": "stream",
     "text": [
      "Multiprocessing <function run_autognet_raw at 0x16870cc10> in 100 tasks, with 2 processes...\n",
      "Multiprocessing finished.\n"
     ]
    }
   ],
   "source": [
    "from utils import run_pll\n",
    "from run_pll import run_autognet_raw\n",
    "\n",
    "treat_p = 0.7\n",
    "args = [{'Y_chain': Y_chain,\n",
    "         'A_chain': A_chain,\n",
    "         'L_chain': L_chain,\n",
    "         'adj': adj,\n",
    "         'i': i,\n",
    "         'treatment_allocation': treat_p} for i in range(len(Y_chain))]\n",
    "\n",
    "res_list_dr = run_pll(run_autognet_raw, args, processes=n_cpu)\n",
    "res_list_array_dr = np.array(res_list_dr)\n",
    "# save results\n",
    "np.save(f'run/sim_results/sim_ag_raw_{sample_size}_{min_degree}_{max_degree}_{treat_p}.npy', res_list_array_dr)"
   ]
  },
  {
   "cell_type": "code",
   "execution_count": 10,
   "id": "9bd8d8a0",
   "metadata": {},
   "outputs": [
    {
     "name": "stdout",
     "output_type": "stream",
     "text": [
      "Multiprocessing <function run_autognet_raw at 0x16870cc10> in 100 tasks, with 2 processes...\n",
      "Multiprocessing finished.\n"
     ]
    }
   ],
   "source": [
    "from utils import run_pll\n",
    "from run_pll import run_autognet_raw\n",
    "\n",
    "treat_p = 0.3\n",
    "args = [{'Y_chain': Y_chain,\n",
    "         'A_chain': A_chain,\n",
    "         'L_chain': L_chain,\n",
    "         'adj': adj,\n",
    "         'i': i,\n",
    "         'treatment_allocation': treat_p} for i in range(len(Y_chain))]\n",
    "\n",
    "res_list_dr = run_pll(run_autognet_raw, args, processes=n_cpu)\n",
    "res_list_array_dr = np.array(res_list_dr)\n",
    "# save results\n",
    "np.save(f'run/sim_results/sim_ag_raw_{sample_size}_{min_degree}_{max_degree}_{treat_p}.npy', res_list_array_dr)"
   ]
  },
  {
   "cell_type": "code",
   "execution_count": 11,
   "id": "d9718bfd",
   "metadata": {},
   "outputs": [
    {
     "name": "stderr",
     "output_type": "stream",
     "text": [
      "100%|██████████| 400/400 [03:57<00:00,  1.68it/s]\n"
     ]
    }
   ],
   "source": [
    "from dgp import *\n",
    "\n",
    "# 1. Simulate or load data\n",
    "sample_size = 1600\n",
    "adj = get_graph(sample_size, min_degree, max_degree, seed=1)\n",
    "\n",
    "tau = np.array([-1.0, 0.50, -0.50])       # shape (3,)\n",
    "rho = np.array([[0,0.1,0.2],\n",
    "                [0.1,0,0.1],\n",
    "                [0.2,0.1,0]])      # shape (3, 3), with 0s on the diagonal\n",
    "nu = np.array([0.1,0,0,0.1,0,0,0.1,0,0]).reshape(3,3)       # shape (3, 3)\n",
    "gamma = np.array([-1.00,0.50,0.10,0.20,0.05,0.25,-0.08,0.30])     # shape (8,)\n",
    "beta = np.array([-0.30,-0.60,-0.20,-0.20,-0.05,-0.10,-0.01,0.40,0.01,0.20])     # shape (10,)\n",
    "\n",
    "Y_chain, A_chain, L_chain = sample_network_chain(adj, tau, rho, nu, gamma, beta, R=num_sample,\n",
    "    burnin_R=num_burn, seed=0)\n",
    "\n",
    "Y_chain = Y_chain[::3]\n",
    "A_chain = A_chain[::3]\n",
    "L_chain = L_chain[::3]"
   ]
  },
  {
   "cell_type": "code",
   "execution_count": 12,
   "id": "13e67ac0",
   "metadata": {},
   "outputs": [
    {
     "data": {
      "text/plain": [
       "{'average': 0.31271875,\n",
       " 'direct': -0.14137187499999998,\n",
       " 'indirect': -0.029787499999999967,\n",
       " 'spillover_effect': -0.052946875000000004}"
      ]
     },
     "execution_count": 12,
     "metadata": {},
     "output_type": "execute_result"
    }
   ],
   "source": [
    "from agcEffect import *\n",
    "\n",
    "res_truth1 = agc_effect(\n",
    "    adj,\n",
    "    tau, rho, nu, beta,\n",
    "    treatment_allocation=0.7,\n",
    "    R=200,\n",
    "    burnin_R=50,\n",
    "    seed=0\n",
    ")\n",
    "res_truth2 = agc_effect(\n",
    "    adj,\n",
    "    tau, rho, nu, beta,\n",
    "    treatment_allocation=0.3,\n",
    "    R=200,\n",
    "    burnin_R=50,\n",
    "    seed=0\n",
    ")\n",
    "\n",
    "ground_truth3 = {'average': 0, 'direct': 0, 'indirect': 0, 'spillover_effect':0}\n",
    "ground_truth3['average'] = res_truth1['average']\n",
    "ground_truth3['direct'] = res_truth1['direct_effect']\n",
    "ground_truth3['indirect'] = res_truth1['psi_0_gamma'] - res_truth2['psi_0_gamma']\n",
    "ground_truth3['spillover_effect'] = res_truth1['spillover_effect']\n",
    "\n",
    "ground_truth3\n"
   ]
  },
  {
   "cell_type": "code",
   "execution_count": 13,
   "id": "86a4d0d9",
   "metadata": {},
   "outputs": [
    {
     "name": "stdout",
     "output_type": "stream",
     "text": [
      "Multiprocessing <function run_autognet_raw at 0x16870cc10> in 100 tasks, with 2 processes...\n",
      "Multiprocessing finished.\n"
     ]
    }
   ],
   "source": [
    "from utils import run_pll\n",
    "from run_pll import run_autognet_raw\n",
    "\n",
    "treat_p = 0.7\n",
    "args = [{'Y_chain': Y_chain,\n",
    "         'A_chain': A_chain,\n",
    "         'L_chain': L_chain,\n",
    "         'adj': adj,\n",
    "         'i': i,\n",
    "         'treatment_allocation': treat_p} for i in range(len(Y_chain))]\n",
    "\n",
    "res_list_dr = run_pll(run_autognet_raw, args, processes=n_cpu)\n",
    "res_list_array_dr = np.array(res_list_dr)\n",
    "# save results\n",
    "np.save(f'run/sim_results/sim_ag_raw_{sample_size}_{min_degree}_{max_degree}_{treat_p}.npy', res_list_array_dr)"
   ]
  },
  {
   "cell_type": "code",
   "execution_count": 14,
   "id": "b3cc5521",
   "metadata": {},
   "outputs": [
    {
     "name": "stdout",
     "output_type": "stream",
     "text": [
      "Multiprocessing <function run_autognet_raw at 0x16870cc10> in 100 tasks, with 2 processes...\n",
      "Multiprocessing finished.\n"
     ]
    }
   ],
   "source": [
    "from utils import run_pll\n",
    "from run_pll import run_autognet_raw\n",
    "\n",
    "treat_p = 0.3\n",
    "args = [{'Y_chain': Y_chain,\n",
    "         'A_chain': A_chain,\n",
    "         'L_chain': L_chain,\n",
    "         'adj': adj,\n",
    "         'i': i,\n",
    "         'treatment_allocation': treat_p} for i in range(len(Y_chain))]\n",
    "\n",
    "res_list_dr = run_pll(run_autognet_raw, args, processes=n_cpu)\n",
    "res_list_array_dr = np.array(res_list_dr)\n",
    "# save results\n",
    "np.save(f'run/sim_results/sim_ag_raw_{sample_size}_{min_degree}_{max_degree}_{treat_p}.npy', res_list_array_dr)"
   ]
  },
  {
   "cell_type": "markdown",
   "id": "2acfaadd",
   "metadata": {},
   "source": [
    "## Compute bias, std and etc"
   ]
  },
  {
   "cell_type": "code",
   "execution_count": 15,
   "id": "4b3247e8",
   "metadata": {},
   "outputs": [
    {
     "name": "stdout",
     "output_type": "stream",
     "text": [
      "Bias: [-0.02601125  0.04443125 -0.02526375 -0.04125125] MSE: [0.00086403 0.00285354 0.00097315 0.00252538]\n",
      "Bias: [-0.09663   0.041325 -0.053435 -0.094715] MSE: [0.00944784 0.00192421 0.00459422 0.01101249]\n",
      "Bias: [-0.19409875  0.06124687 -0.0590825  -0.10948812] MSE: [0.03795076 0.00561631 0.01831759 0.06083584]\n"
     ]
    }
   ],
   "source": [
    "# read results\n",
    "import numpy as np\n",
    "\n",
    "results1 = np.load(f'run/sim_results/sim_ag_raw_800_2_4_0.7.npy')[[0,1,2,3,5]]\n",
    "results2 = np.load(f'run/sim_results/sim_ag_raw_800_2_4_0.3.npy')[[0,1,2,3,5]]\n",
    "results3 = np.load(f'run/sim_results/sim_ag_raw_800_5_7_0.7.npy')[[0,1,2,3,5]]\n",
    "results4 = np.load(f'run/sim_results/sim_ag_raw_800_5_7_0.3.npy')[[0,1,2,3,5]]\n",
    "results5 = np.load(f'run/sim_results/sim_ag_raw_800_8_10_0.7.npy')[[0,1,2,3,5]]\n",
    "results6 = np.load(f'run/sim_results/sim_ag_raw_800_8_10_0.3.npy')[[0,1,2,3,5]]\n",
    "\n",
    "# compute bias\n",
    "bias1 = results1.mean(axis=0)[[0,1,2]] - np.array([ground_truth1['average'], ground_truth1['direct'], ground_truth1['spillover_effect']])\n",
    "bias2 = results3.mean(axis=0)[[0,1,2]] - np.array([ground_truth2['average'], ground_truth2['direct'], ground_truth2['spillover_effect']])\n",
    "bias3 = results5.mean(axis=0)[[0,1,2]] - np.array([ground_truth3['average'], ground_truth3['direct'], ground_truth3['spillover_effect']])\n",
    "\n",
    "bias1_indirect = results1.mean(axis=0)[3] - results2.mean(axis=0)[3] - np.array([ground_truth1['indirect']])\n",
    "bias2_indirect = results3.mean(axis=0)[3] - results4.mean(axis=0)[3] - np.array([ground_truth2['indirect']])\n",
    "bias3_indirect = results5.mean(axis=0)[3] - results6.mean(axis=0)[3] - np.array([ground_truth3['indirect']])\n",
    "bias1 = np.concatenate((bias1[:2], bias1_indirect, bias1[2:]))\n",
    "bias2 = np.concatenate((bias2[:2], bias2_indirect, bias2[2:]))\n",
    "bias3 = np.concatenate((bias3[:2], bias3_indirect, bias3[2:]))\n",
    "\n",
    "# compute mse\n",
    "mse1 = results1[:,[0,1,2]] - np.array([ground_truth1['average'], ground_truth1['direct'], ground_truth1['spillover_effect']])\n",
    "mse1 = np.mean(mse1**2, axis=0)\n",
    "mse2 = results3[:,[0,1,2]] - np.array([ground_truth2['average'], ground_truth2['direct'], ground_truth2['spillover_effect']])\n",
    "mse2 = np.mean(mse2**2, axis=0)\n",
    "mse3 = results5[:,[0,1,2]] - np.array([ground_truth3['average'], ground_truth3['direct'], ground_truth3['spillover_effect']])\n",
    "mse3 = np.mean(mse3**2, axis=0)\n",
    "mse1_indirect = results1[:,3] - results2[:,3] - np.array([ground_truth1['indirect']])\n",
    "mse1_indirect = np.array([np.mean(mse1_indirect**2, axis=0)])\n",
    "mse2_indirect = results3[:,3] - results4[:,3] - np.array([ground_truth2['indirect']])\n",
    "mse2_indirect =  np.array([np.mean(mse2_indirect**2, axis=0)])\n",
    "mse3_indirect = results5[:,3] - results6[:,3] - np.array([ground_truth3['indirect']])\n",
    "mse3_indirect =  np.array([np.mean(mse3_indirect**2, axis=0)])\n",
    "mse1 = np.concatenate((mse1[:2], mse1_indirect, mse1[2:]))\n",
    "mse2 = np.concatenate((mse2[:2], mse2_indirect, mse2[2:]))\n",
    "mse3 = np.concatenate((mse3[:2], mse3_indirect, mse3[2:]))\n",
    "\n",
    "# print results\n",
    "print('Bias:', bias1, 'MSE:', mse1)\n",
    "print('Bias:', bias2, 'MSE:', mse2)\n",
    "print('Bias:', bias3, 'MSE:', mse3)"
   ]
  },
  {
   "cell_type": "code",
   "execution_count": 16,
   "id": "9641d051",
   "metadata": {},
   "outputs": [
    {
     "data": {
      "text/plain": [
       "(array([-0.02526375]), array([0.00097315]))"
      ]
     },
     "execution_count": 16,
     "metadata": {},
     "output_type": "execute_result"
    }
   ],
   "source": [
    "bias1_indirect, mse1_indirect"
   ]
  },
  {
   "cell_type": "code",
   "execution_count": 17,
   "id": "f21b45f6",
   "metadata": {},
   "outputs": [
    {
     "name": "stdout",
     "output_type": "stream",
     "text": [
      "[ 0.286495 -0.09475  -0.09797 ] [ 0.21652  -0.100325 -0.15419 ] [ 0.11862  -0.080125 -0.162435]\n"
     ]
    }
   ],
   "source": [
    "print(\n",
    "    results1.mean(axis=0)[[0,1,2]],\n",
    "    results3.mean(axis=0)[[0,1,2]],\n",
    "    results5.mean(axis=0)[[0,1,2]]\n",
    ")"
   ]
  },
  {
   "cell_type": "code",
   "execution_count": 18,
   "id": "bd812ef7",
   "metadata": {},
   "outputs": [
    {
     "data": {
      "text/plain": [
       "{'average': 0.31315000000000004,\n",
       " 'direct': -0.14164999999999994,\n",
       " 'indirect': -0.03315000000000007,\n",
       " 'spillover_effect': -0.059475000000000056}"
      ]
     },
     "execution_count": 18,
     "metadata": {},
     "output_type": "execute_result"
    }
   ],
   "source": [
    "ground_truth2"
   ]
  },
  {
   "cell_type": "code",
   "execution_count": null,
   "id": "39e3b64e",
   "metadata": {},
   "outputs": [],
   "source": []
  }
 ],
 "metadata": {
  "kernelspec": {
   "display_name": "ljz",
   "language": "python",
   "name": "python3"
  },
  "language_info": {
   "codemirror_mode": {
    "name": "ipython",
    "version": 3
   },
   "file_extension": ".py",
   "mimetype": "text/x-python",
   "name": "python",
   "nbconvert_exporter": "python",
   "pygments_lexer": "ipython3",
   "version": "3.10.14"
  }
 },
 "nbformat": 4,
 "nbformat_minor": 5
}
