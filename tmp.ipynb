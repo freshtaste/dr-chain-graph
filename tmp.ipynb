{
 "cells": [
  {
   "cell_type": "code",
   "execution_count": 2,
   "id": "5b6b13e7",
   "metadata": {},
   "outputs": [
    {
     "name": "stdout",
     "output_type": "stream",
     "text": [
      "(800,) (800,) (800, 3) 0.18875 0.70375 0.48583333333333334\n"
     ]
    }
   ],
   "source": [
    "from dgp import *\n",
    "# 1. Simulate or load data\n",
    "adj = get_graph(800, 5, 7, seed=2)\n",
    "\n",
    "tau = np.array([-1.0, 0.50, -0.50])       # shape (3,)\n",
    "rho = np.array([[0,0.1,0.2],\n",
    "                [0.1,0,0.1],\n",
    "                [0.2,0.1,0]])      # shape (3, 3), with 0s on the diagonal\n",
    "nu = np.array([0.1,0,0,0.1,0,0,0.1,0,0]).reshape(3,3)       # shape (3, 3)\n",
    "gamma = np.array([-1.00,0.50,0.10,0.20,0.05,0.25,-0.08,0.30])     # shape (8,)\n",
    "beta = np.array([-0.30,-0.60,-0.20,-0.20,-0.05,-0.10,-0.01,0.40,0.01,0.20])     # shape (10,)\n",
    "\n",
    "Y, A, L = sample_network(adj, tau, rho, nu, gamma, beta, num_iter=100000)\n",
    "print(Y.shape, A.shape, L.shape, Y.mean(), A.mean(), L.mean())"
   ]
  },
  {
   "cell_type": "code",
   "execution_count": 3,
   "id": "0a9e5cff",
   "metadata": {},
   "outputs": [
    {
     "data": {
      "text/plain": [
       "{'average': 0.21058333333333332,\n",
       " 'direct_effect': -0.13725000000000007,\n",
       " 'spillover_effect': -0.2750416666666665,\n",
       " 'psi_gamma': 0.21058333333333332,\n",
       " 'psi_1_gamma': 0.17004166666666667,\n",
       " 'psi_0_gamma': 0.30729166666666674,\n",
       " 'psi_zero': 0.5823333333333333}"
      ]
     },
     "execution_count": 3,
     "metadata": {},
     "output_type": "execute_result"
    }
   ],
   "source": [
    "from agcEffect import *\n",
    "\n",
    "agc_effect(\n",
    "    adj,\n",
    "    tau, rho, nu, beta,\n",
    "    treatment_allocation=0.7,\n",
    "    R=30,\n",
    "    burnin_R=10,\n",
    "    seed=0\n",
    ")"
   ]
  },
  {
   "cell_type": "code",
   "execution_count": 4,
   "id": "dfa2d5db",
   "metadata": {},
   "outputs": [
    {
     "name": "stdout",
     "output_type": "stream",
     "text": [
      "psi_zero: [-0.23824848612546226]\n",
      "beta_hat: 0.27624917262854787\n",
      "psi_0_gamma: 0.2989720756563319\n"
     ]
    },
    {
     "data": {
      "text/plain": [
       "{'average': 0.2118130279990736,\n",
       " 'direct_effect': -0.1392861870585199,\n",
       " 'spillover_effect': 0.5372205617817941,\n",
       " 'psi_gamma': 0.2118130279990736,\n",
       " 'psi_1_gamma': 0.159685888597812,\n",
       " 'psi_0_gamma': 0.2989720756563319,\n",
       " 'psi_zero': -0.23824848612546226}"
      ]
     },
     "execution_count": 4,
     "metadata": {},
     "output_type": "execute_result"
    }
   ],
   "source": [
    "from drnet import doubly_robust\n",
    "\n",
    "\n",
    "doubly_robust(A, L, Y, adj, treatment_allocation=0.7, num_rep=1000)"
   ]
  },
  {
   "cell_type": "code",
   "execution_count": 5,
   "id": "7423958e",
   "metadata": {},
   "outputs": [
    {
     "name": "stdout",
     "output_type": "stream",
     "text": [
      "psi_zero: 0.31675\n"
     ]
    },
    {
     "data": {
      "text/plain": [
       "{'average': 0.19679166666666661,\n",
       " 'direct_effect': -0.12279166666666666,\n",
       " 'spillover_effect': -0.03587499999999999,\n",
       " 'psi_gamma': 0.19679166666666661,\n",
       " 'psi_1_gamma': 0.15808333333333333,\n",
       " 'psi_0_gamma': 0.280875,\n",
       " 'psi_zero': 0.31675}"
      ]
     },
     "execution_count": 5,
     "metadata": {},
     "output_type": "execute_result"
    }
   ],
   "source": [
    "from autognet import evaluate_autognet_via_agc_effect\n",
    "\n",
    "evaluate_autognet_via_agc_effect(adj, Y, A, L, treatment_allocation=0.7, R=30, burnin=10, seed=2)"
   ]
  },
  {
   "cell_type": "code",
   "execution_count": 6,
   "id": "db36a700",
   "metadata": {},
   "outputs": [
    {
     "name": "stdout",
     "output_type": "stream",
     "text": [
      "1.6.1\n"
     ]
    }
   ],
   "source": [
    "# check sklearn version\n",
    "import sklearn\n",
    "print(sklearn.__version__)"
   ]
  },
  {
   "cell_type": "code",
   "execution_count": null,
   "id": "c90e9b08",
   "metadata": {},
   "outputs": [],
   "source": []
  }
 ],
 "metadata": {
  "kernelspec": {
   "display_name": "my_env",
   "language": "python",
   "name": "python3"
  },
  "language_info": {
   "codemirror_mode": {
    "name": "ipython",
    "version": 3
   },
   "file_extension": ".py",
   "mimetype": "text/x-python",
   "name": "python",
   "nbconvert_exporter": "python",
   "pygments_lexer": "ipython3",
   "version": "3.11.11"
  }
 },
 "nbformat": 4,
 "nbformat_minor": 5
}
