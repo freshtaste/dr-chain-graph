{
 "cells": [
  {
   "cell_type": "code",
   "execution_count": 1,
   "id": "5b6b13e7",
   "metadata": {},
   "outputs": [
    {
     "name": "stdout",
     "output_type": "stream",
     "text": [
      "(2000,) (2000,) (2000, 3) 0.0925 0.8905 0.5228333333333334\n"
     ]
    }
   ],
   "source": [
    "from dgp import *\n",
    "# 1. Simulate or load data\n",
    "adj = get_graph(2000, 8, 10, seed=2)\n",
    "\n",
    "tau = np.array([-1.0, 0.50, -0.50])       # shape (3,)\n",
    "rho = np.array([[0,0.1,0.2],\n",
    "                [0.1,0,0.1],\n",
    "                [0.2,0.1,0]])      # shape (3, 3), with 0s on the diagonal\n",
    "nu = np.array([0.1,0,0,0.1,0,0,0.1,0,0]).reshape(3,3)       # shape (3, 3)\n",
    "gamma = np.array([-1.00,0.50,0.10,0.20,0.05,0.25,-0.08,0.30])     # shape (8,)\n",
    "beta = np.array([-0.30,-0.60,-0.20,-0.20,-0.05,-0.10,-0.01,0.40,0.01,0.20])     # shape (10,)\n",
    "\n",
    "Y, A, L = sample_network(adj, tau, rho, nu, gamma, beta, num_iter=100000)\n",
    "print(Y.shape, A.shape, L.shape, Y.mean(), A.mean(), L.mean())"
   ]
  },
  {
   "cell_type": "code",
   "execution_count": 2,
   "id": "0a9e5cff",
   "metadata": {},
   "outputs": [
    {
     "data": {
      "text/plain": [
       "{'average': 0.14573333333333333,\n",
       " 'direct_effect': -0.1064833333333333,\n",
       " 'spillover_effect': -0.46428333333333316,\n",
       " 'psi_gamma': 0.14573333333333333,\n",
       " 'psi_1_gamma': 0.11810000000000002,\n",
       " 'psi_0_gamma': 0.22458333333333333,\n",
       " 'psi_zero': 0.6888666666666665}"
      ]
     },
     "execution_count": 2,
     "metadata": {},
     "output_type": "execute_result"
    }
   ],
   "source": [
    "from agcEffect import *\n",
    "\n",
    "agc_effect(\n",
    "    adj,\n",
    "    tau, rho, nu, beta,\n",
    "    treatment_allocation=0.7,\n",
    "    R=30,\n",
    "    burnin_R=10,\n",
    "    seed=0\n",
    ")"
   ]
  },
  {
   "cell_type": "code",
   "execution_count": null,
   "id": "dfa2d5db",
   "metadata": {},
   "outputs": [],
   "source": [
    "from drnet import doubly_robust\n",
    "\n",
    "\n",
    "doubly_robust(A, L, Y, adj, treatment_allocation=0.7, num_rep=1000)"
   ]
  },
  {
   "cell_type": "code",
   "execution_count": null,
   "id": "7423958e",
   "metadata": {},
   "outputs": [],
   "source": [
    "from autognet import evaluate_autognet_via_agc_effect\n",
    "\n",
    "evaluate_autognet_via_agc_effect(adj, Y, A, L, treatment_allocation=0.7, R=30, burnin=10, seed=2)"
   ]
  }
 ],
 "metadata": {
  "kernelspec": {
   "display_name": "base",
   "language": "python",
   "name": "python3"
  },
  "language_info": {
   "codemirror_mode": {
    "name": "ipython",
    "version": 3
   },
   "file_extension": ".py",
   "mimetype": "text/x-python",
   "name": "python",
   "nbconvert_exporter": "python",
   "pygments_lexer": "ipython3",
   "version": "3.8.8"
  }
 },
 "nbformat": 4,
 "nbformat_minor": 5
}
