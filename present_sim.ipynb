{
 "cells": [
  {
   "cell_type": "code",
   "execution_count": 1,
   "id": "798b40a1",
   "metadata": {},
   "outputs": [],
   "source": [
    "import numpy as np\n",
    "import pickle\n",
    "\n",
    "# read pickel file\n",
    "with open('run/sim_results/res_sum_all.pkl', 'rb') as f:\n",
    "    data = pickle.load(f)"
   ]
  },
  {
   "cell_type": "code",
   "execution_count": 2,
   "id": "adc68950",
   "metadata": {},
   "outputs": [
    {
     "name": "stdout",
     "output_type": "stream",
     "text": [
      "(1, 2): \n",
      "[0.9075 0.9205 0.9415 0.9475]\n",
      "(1, 4): \n",
      "[0.966  0.959  0.941  0.9305]\n",
      "(1, 8): \n",
      "[0.9715 0.96   0.9565 0.942 ]\n",
      "(1, 10): \n",
      "[0.9745 0.9675 0.948  0.932 ]\n",
      "(2, 5): \n",
      "[0.958  0.9495 0.939  0.927 ]\n",
      "(2, 6): \n",
      "[0.97   0.9655 0.9295 0.9225]\n",
      "(2, 8): \n",
      "[0.973  0.964  0.9425 0.9195]\n",
      "(2, 10): \n",
      "[0.9815 0.973  0.9345 0.904 ]\n",
      "(3, 10): \n",
      "[0.991 0.982 0.944 0.807]\n",
      "(4, 10): \n",
      "[0.994  0.9935 0.9395 0.464 ]\n"
     ]
    }
   ],
   "source": [
    "# present coverage\n",
    "for min_degree, max_degree in [(1,2), (1,4), (1,8), (1,10),\n",
    "                               (2,5), (2,6), (2,8), (2,10),\n",
    "                               (3,10), (4,10)]:\n",
    "    \n",
    "    coverage = data[(min_degree, max_degree)][f'model[dr_em]_samplesize[800]_mdegree[{min_degree}]_maxdegree[{max_degree}_mispec[None]]']['coverage_rate']\n",
    "    print(f\"({min_degree}, {max_degree}): \")\n",
    "    print(coverage[:4])"
   ]
  },
  {
   "cell_type": "code",
   "execution_count": 3,
   "id": "734c4fb0",
   "metadata": {},
   "outputs": [],
   "source": [
    "# try different h\n",
    "import numpy as np\n",
    "from utils import *\n",
    "from utils import *\n",
    "from dgp import sample_network_chain, get_graph, sample_Y1, agcEffect\n",
    "import numpy as np\n",
    "\n",
    "\n",
    "def prepare(num_sample, num_burn, sample_size, n_cpu, min_degree, max_degree):\n",
    "    # 1. Simulate or load data\n",
    "    adj1 = get_graph(sample_size, min_degree, max_degree, seed=1)\n",
    "    print(adj1.sum(axis=1).min(), adj1.sum(axis=1).max())\n",
    "\n",
    "    tau = np.array([-1.0, 0.50, -0.50])       # shape (3,)\n",
    "    rho = np.array([[0,0.1,0.2],\n",
    "                    [0.1,0,0.1],\n",
    "                    [0.2,0.1,0]])      # shape (3, 3), with 0s on the diagonal\n",
    "    nu = np.array([0.1,0,0,0.1,0,0,0.1,0,0]).reshape(3,3)       # shape (3, 3)\n",
    "    gamma = np.array([-1,2,0.1,-2,0.1,2,0.1,0.1])    # shape (8,)   \n",
    "    beta = np.array([-1*min_degree,-2*min_degree,2,2,0.1,-1,0.1,2,0.1,0])   # shape (10,)\n",
    "\n",
    "    res_truth1 = agcEffect(\n",
    "        adj1,\n",
    "        tau, rho, nu, beta,\n",
    "        treatment_allocation=0.7,\n",
    "        R=100,\n",
    "        burnin_R=100,\n",
    "        seed=0\n",
    "    )\n",
    "    res_truth2 = agcEffect(\n",
    "        adj1,\n",
    "        tau, rho, nu, beta,\n",
    "        treatment_allocation=0.3,\n",
    "        R=100,\n",
    "        burnin_R=100,\n",
    "        seed=0\n",
    "    )\n",
    "\n",
    "    ground_truth1 = {}\n",
    "    ground_truth1['average'] = res_truth1['average']\n",
    "    ground_truth1['direct'] = res_truth1['direct_effect']\n",
    "    ground_truth1['indirect'] = res_truth1['psi_0_gamma'] - res_truth2['psi_0_gamma']\n",
    "    ground_truth1['spillover_effect'] = res_truth1['spillover_effect']\n",
    "    ground_truth1['psi_1_gamma'] = res_truth1['psi_1_gamma']\n",
    "    ground_truth1['psi_0_gamma'] = res_truth1['psi_0_gamma']\n",
    "    ground_truth1['psi_zero'] = res_truth1['psi_zero']\n",
    "\n",
    "    return adj1, None, None, None, ground_truth1\n",
    "\n",
    "num_sample = 300\n",
    "num_burn = 20\n",
    "n_cpu = 10\n",
    "\n",
    "def get_coverage(min_degree, max_degree, sample_size, h):\n",
    "    adj1, _, _, _, ground_truth1 = prepare(num_sample, num_burn, sample_size, n_cpu, min_degree, max_degree)\n",
    "\n",
    "    model = 'dr_em'\n",
    "    mispec = None\n",
    "\n",
    "    print('Processing model:', model, 'with mispecification:', mispec, f'min_max_{min_degree}_{max_degree}')\n",
    "    results1 = np.load(f'run/sim_results/sim_{model}_raw_{sample_size}_{min_degree}_{max_degree}_{0.7}_{mispec}.npy', allow_pickle=True)\n",
    "    results2 = np.load(f'run/sim_results/sim_{model}_raw_{sample_size}_{min_degree}_{max_degree}_{0.3}_{mispec}.npy', allow_pickle=True)\n",
    "\n",
    "    res_ = compute_stats(results1, results2, ground_truth1, adj1, h)\n",
    "    coverage = res_['coverage_rate']\n",
    "            \n",
    "    return coverage"
   ]
  },
  {
   "cell_type": "code",
   "execution_count": null,
   "id": "ed68ea9b",
   "metadata": {},
   "outputs": [
    {
     "name": "stdout",
     "output_type": "stream",
     "text": [
      "1 2\n",
      "Processing model: dr_em with mispecification: None min_max_1_2\n"
     ]
    },
    {
     "name": "stderr",
     "output_type": "stream",
     "text": [
      " 23%|██▎       | 461/2000 [00:16<00:57, 26.80it/s]"
     ]
    }
   ],
   "source": [
    "for min_degree, max_degree in [(1,2), (1,4), (1,8), (1,10),\n",
    "                                 (2,5), (2,6), (2,8), (2,10),\n",
    "                                 (3,10), (4,10)]:\n",
    "     sample_size = 800\n",
    "     res_sum = get_coverage(min_degree, max_degree, sample_size, 3)\n",
    "     print(res_sum)"
   ]
  },
  {
   "cell_type": "code",
   "execution_count": null,
   "id": "8944d1cf",
   "metadata": {},
   "outputs": [
    {
     "name": "stdout",
     "output_type": "stream",
     "text": [
      "(1, 2, outcome, dr_em): \n",
      "True effect: [ 0.7017625 -0.2298375  0.1784     0.3535625]\n",
      "Bias: [0.01081746 0.01605687 0.00879704 0.01324783]\n",
      "RMSE: [0.051674   0.07783484 0.03766411 0.0806457 ]\n",
      "(1, 2, outcome, ag): \n",
      "True effect: [ 0.7017625 -0.2298375  0.1784     0.3535625]\n",
      "Bias: [0.08701326 0.18736335 0.0743367  0.09265836]\n",
      "RMSE: [0.08857518 0.18931448 0.07846876 0.1011044 ]\n",
      "(2, 5, outcome, dr_em): \n",
      "True effect: [ 0.7027375 -0.3108     0.2020375  0.5181875]\n",
      "Bias: [-0.0014591  -0.00532166  0.01995111  0.06994423]\n",
      "RMSE: [0.03809644 0.05797995 0.05909992 0.20982901]\n",
      "(2, 5, outcome, ag): \n",
      "True effect: [ 0.7027375 -0.3108     0.2020375  0.5181875]\n",
      "Bias: [0.05736601 0.12139075 0.20343849 0.16366608]\n",
      "RMSE: [0.05883391 0.12334823 0.20458926 0.16887755]\n",
      "(3, 10, outcome, dr_em): \n",
      "True effect: [ 0.648875  -0.4016875  0.2073625  0.618325 ]\n",
      "Bias: [-0.00504453 -0.01943272  0.03542031  0.14936402]\n",
      "RMSE: [0.02748872 0.04764727 0.09895893 0.27443196]\n",
      "(3, 10, outcome, ag): \n",
      "True effect: [ 0.648875  -0.4016875  0.2073625  0.618325 ]\n",
      "Bias: [0.02970309 0.08491886 0.1894145  0.17781396]\n",
      "RMSE: [0.03214412 0.08787715 0.19017154 0.18162284]\n"
     ]
    }
   ],
   "source": [
    "# present mse\n",
    "\n",
    "for min_degree, max_degree in [(1,2), (2,5), (3,10)]:\n",
    "    for mispec in ['outcome']: #[None, 'outcome', 'treatment']:\n",
    "        for model in ['dr_em', 'ag']:\n",
    "            if mispec == 'treatment' and model == 'ag':\n",
    "                mispec = None\n",
    "            bias = data[(min_degree, max_degree)][f'model[{model}]_samplesize[800]_mdegree[{min_degree}]_maxdegree[{max_degree}_mispec[{mispec}]]']['bias']\n",
    "            mse = data[(min_degree, max_degree)][f'model[{model}]_samplesize[800]_mdegree[{min_degree}]_maxdegree[{max_degree}_mispec[{mispec}]]']['mse']\n",
    "            if model == 'dr_em':\n",
    "                true_value = data[(min_degree, max_degree)][f'model[{model}]_samplesize[800]_mdegree[{min_degree}]_maxdegree[{max_degree}_mispec[{mispec}]]']['true_effect']\n",
    "            else:\n",
    "                true_value = data[(min_degree, max_degree)][f'model[{model}]_samplesize[800]_mdegree[{min_degree}]_maxdegree[{max_degree}_mispec[{mispec}]]']['ground_truth']\n",
    "            print(f\"({min_degree}, {max_degree}, {mispec}, {model}): \")\n",
    "            print(\"True effect:\", true_value[:4])\n",
    "            print(\"Bias:\", bias[:4])\n",
    "            print(\"RMSE:\", np.sqrt(mse[:4]))\n"
   ]
  },
  {
   "cell_type": "code",
   "execution_count": null,
   "id": "c27a769c",
   "metadata": {},
   "outputs": [],
   "source": []
  }
 ],
 "metadata": {
  "kernelspec": {
   "display_name": "ljz",
   "language": "python",
   "name": "python3"
  },
  "language_info": {
   "codemirror_mode": {
    "name": "ipython",
    "version": 3
   },
   "file_extension": ".py",
   "mimetype": "text/x-python",
   "name": "python",
   "nbconvert_exporter": "python",
   "pygments_lexer": "ipython3",
   "version": "3.10.14"
  }
 },
 "nbformat": 4,
 "nbformat_minor": 5
}
